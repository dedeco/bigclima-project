{
 "cells": [
  {
   "cell_type": "markdown",
   "metadata": {},
   "source": [
    "<h1>Relatório: Aprendizado de máquina e reconhecimento de padrões</h1>\n",
    "<h3>Aluno: André de Sousa Araújo</h3>\n",
    "<p>Objetivo principal é estimar a ocorrências de precipações extremas.</p>\n",
    "<p>Espaço: Região HOUSTON - Texas</p>\n",
    "<p><b>Base escolhida:</b>\n",
    "This public dataset was created by the National Oceanic and Atmospheric Administration (NOAA) and includes global data obtained from the USAF Climatology Center.  This dataset covers GSOD data between 1929 and present, collected from over 9000 stations.\n",
    "</p>\n",
    "<p>Dataset Source: NOAA</p>\n",
    "\n",
    "<p>Category: Weather</p>\n",
    "\n",
    "<p>Use: This dataset is publicly available for anyone to use under the following terms provided by the Dataset Source — http://www.data.gov/privacy-policy#data_policy — and is provided \"AS IS\" without any warranty, express or implied, from Google. Google disclaims all liability for any damages, direct or indirect, resulting from the use of the dataset.</p>\n",
    "\n",
    "<p>Update Frequency: daily</p>"
   ]
  },
  {
   "cell_type": "markdown",
   "metadata": {},
   "source": [
    "<h2 style=\"color:blue;\">Importando o dataset e explorando os dados</h2>"
   ]
  },
  {
   "cell_type": "code",
   "execution_count": 2,
   "metadata": {
    "collapsed": false
   },
   "outputs": [
    {
     "data": {
      "text/html": [
       "\n",
       "          <script src=\"/static/components/requirejs/require.js\"></script>\n",
       "          <script>\n",
       "            requirejs.config({\n",
       "              paths: {\n",
       "                base: '/static/base',\n",
       "              },\n",
       "            });\n",
       "          </script>\n",
       "          "
      ],
      "text/plain": [
       "<IPython.core.display.HTML object>"
      ]
     },
     "metadata": {},
     "output_type": "display_data"
    },
    {
     "data": {
      "application/javascript": [
       "$.getScript('https://kmahelona.github.io/ipython_notebook_goodies/ipython_notebook_toc.js')"
      ],
      "text/plain": [
       "<IPython.core.display.Javascript object>"
      ]
     },
     "metadata": {},
     "output_type": "display_data"
    }
   ],
   "source": [
    "%%javascript\n",
    "$.getScript('https://kmahelona.github.io/ipython_notebook_goodies/ipython_notebook_toc.js')"
   ]
  },
  {
   "cell_type": "markdown",
   "metadata": {},
   "source": [
    "<p>Fazendo uma consulta básica para listar os campos. Eu defini aliatoriamente apenas para exibir os 10 primeiros registros com chuva acima de 1.0 polegadas sem ordenar. Apenar para ter uma ideia dos dados e atributos. Além disto, usei apenas os dados de 2017.</p>"
   ]
  },
  {
   "cell_type": "code",
   "execution_count": 3,
   "metadata": {
    "collapsed": false
   },
   "outputs": [
    {
     "data": {
      "text/html": [
       "\n",
       "          <script src=\"/static/components/requirejs/require.js\"></script>\n",
       "          <script>\n",
       "            requirejs.config({\n",
       "              paths: {\n",
       "                base: '/static/base',\n",
       "              },\n",
       "            });\n",
       "          </script>\n",
       "          "
      ],
      "text/plain": [
       "<IPython.core.display.HTML object>"
      ]
     },
     "metadata": {},
     "output_type": "display_data"
    }
   ],
   "source": [
    "import datalab.bigquery as bq\n",
    "import seaborn as sns\n",
    "import pandas as pd\n",
    "import numpy as np\n",
    "import shutil"
   ]
  },
  {
   "cell_type": "code",
   "execution_count": 4,
   "metadata": {
    "collapsed": false
   },
   "outputs": [
    {
     "data": {
      "text/html": [
       "\n",
       "          <script src=\"/static/components/requirejs/require.js\"></script>\n",
       "          <script>\n",
       "            requirejs.config({\n",
       "              paths: {\n",
       "                base: '/static/base',\n",
       "              },\n",
       "            });\n",
       "          </script>\n",
       "          "
      ],
      "text/plain": [
       "<IPython.core.display.HTML object>"
      ]
     },
     "metadata": {},
     "output_type": "display_data"
    }
   ],
   "source": [
    "%sql --module poucos_registros\n",
    "SELECT ws.name, ws.lat, ws.lon, d.year, d.mo, d.da, d.temp, d.dewp, d.slp, d.stp, d.visib, d.wdsp, d.mxpsd, d.gust, d.prcp, d.flag_prcp, d.fog, d.rain_drizzle\n",
    "FROM [bigquery-public-data:noaa_gsod.gsod2017] d\n",
    "  JOIN [bigquery-public-data:noaa_gsod.stations] ws\n",
    "  ON d.stn = ws.usaf\n",
    "  and d.wban = ws.wban\n",
    "where ws.state is not null\n",
    "and ws.country = 'US'\n",
    "and d.prcp > 1.0 and d.prcp != 99.99\n",
    "LIMIT 10"
   ]
  },
  {
   "cell_type": "code",
   "execution_count": 5,
   "metadata": {
    "collapsed": false
   },
   "outputs": [
    {
     "data": {
      "text/html": [
       "\n",
       "          <script src=\"/static/components/requirejs/require.js\"></script>\n",
       "          <script>\n",
       "            requirejs.config({\n",
       "              paths: {\n",
       "                base: '/static/base',\n",
       "              },\n",
       "            });\n",
       "          </script>\n",
       "          "
      ],
      "text/plain": [
       "<IPython.core.display.HTML object>"
      ]
     },
     "metadata": {},
     "output_type": "display_data"
    },
    {
     "data": {
      "text/html": [
       "<div>\n",
       "<table border=\"1\" class=\"dataframe\">\n",
       "  <thead>\n",
       "    <tr style=\"text-align: right;\">\n",
       "      <th></th>\n",
       "      <th>ws_name</th>\n",
       "      <th>ws_lat</th>\n",
       "      <th>ws_lon</th>\n",
       "      <th>d_year</th>\n",
       "      <th>d_mo</th>\n",
       "      <th>d_da</th>\n",
       "      <th>d_temp</th>\n",
       "      <th>d_dewp</th>\n",
       "      <th>d_slp</th>\n",
       "      <th>d_stp</th>\n",
       "      <th>d_visib</th>\n",
       "      <th>d_wdsp</th>\n",
       "      <th>d_mxpsd</th>\n",
       "      <th>d_gust</th>\n",
       "      <th>d_prcp</th>\n",
       "      <th>d_flag_prcp</th>\n",
       "      <th>d_fog</th>\n",
       "      <th>d_rain_drizzle</th>\n",
       "    </tr>\n",
       "  </thead>\n",
       "  <tbody>\n",
       "    <tr>\n",
       "      <th>0</th>\n",
       "      <td>EAST MILTON</td>\n",
       "      <td>42.212</td>\n",
       "      <td>-71.114</td>\n",
       "      <td>2017</td>\n",
       "      <td>04</td>\n",
       "      <td>01</td>\n",
       "      <td>17.5</td>\n",
       "      <td>9999.9</td>\n",
       "      <td>1012.3</td>\n",
       "      <td>9999.9</td>\n",
       "      <td>999.9</td>\n",
       "      <td>16.4</td>\n",
       "      <td>21.0</td>\n",
       "      <td>35.9</td>\n",
       "      <td>1.92</td>\n",
       "      <td>G</td>\n",
       "      <td>0</td>\n",
       "      <td>0</td>\n",
       "    </tr>\n",
       "    <tr>\n",
       "      <th>1</th>\n",
       "      <td>WATSONVILLE MUNICIPAL ARPT</td>\n",
       "      <td>36.936</td>\n",
       "      <td>-121.789</td>\n",
       "      <td>2017</td>\n",
       "      <td>04</td>\n",
       "      <td>07</td>\n",
       "      <td>54.5</td>\n",
       "      <td>9999.9</td>\n",
       "      <td>1011.6</td>\n",
       "      <td>1006.1</td>\n",
       "      <td>7.8</td>\n",
       "      <td>7.2</td>\n",
       "      <td>18.1</td>\n",
       "      <td>24.1</td>\n",
       "      <td>1.19</td>\n",
       "      <td>G</td>\n",
       "      <td>0</td>\n",
       "      <td>1</td>\n",
       "    </tr>\n",
       "    <tr>\n",
       "      <th>2</th>\n",
       "      <td>PEARSON FIELD AIRPORT</td>\n",
       "      <td>45.621</td>\n",
       "      <td>-122.657</td>\n",
       "      <td>2017</td>\n",
       "      <td>02</td>\n",
       "      <td>09</td>\n",
       "      <td>41.8</td>\n",
       "      <td>9999.9</td>\n",
       "      <td>999.1</td>\n",
       "      <td>999.1</td>\n",
       "      <td>6.1</td>\n",
       "      <td>8.4</td>\n",
       "      <td>15.0</td>\n",
       "      <td>21.0</td>\n",
       "      <td>1.29</td>\n",
       "      <td>G</td>\n",
       "      <td>0</td>\n",
       "      <td>1</td>\n",
       "    </tr>\n",
       "    <tr>\n",
       "      <th>3</th>\n",
       "      <td>HANCHEY ARMY HELIPORT (FORT R</td>\n",
       "      <td>31.350</td>\n",
       "      <td>-85.667</td>\n",
       "      <td>2017</td>\n",
       "      <td>01</td>\n",
       "      <td>03</td>\n",
       "      <td>65.6</td>\n",
       "      <td>57.6</td>\n",
       "      <td>1001.5</td>\n",
       "      <td>1001.5</td>\n",
       "      <td>8.5</td>\n",
       "      <td>4.3</td>\n",
       "      <td>14.0</td>\n",
       "      <td>22.9</td>\n",
       "      <td>1.50</td>\n",
       "      <td>G</td>\n",
       "      <td>0</td>\n",
       "      <td>1</td>\n",
       "    </tr>\n",
       "    <tr>\n",
       "      <th>4</th>\n",
       "      <td>NEW ORLEANS NAS</td>\n",
       "      <td>29.817</td>\n",
       "      <td>-90.017</td>\n",
       "      <td>2017</td>\n",
       "      <td>06</td>\n",
       "      <td>25</td>\n",
       "      <td>81.7</td>\n",
       "      <td>77.8</td>\n",
       "      <td>1019.5</td>\n",
       "      <td>1019.6</td>\n",
       "      <td>7.3</td>\n",
       "      <td>6.4</td>\n",
       "      <td>15.9</td>\n",
       "      <td>25.1</td>\n",
       "      <td>1.25</td>\n",
       "      <td>B</td>\n",
       "      <td>0</td>\n",
       "      <td>1</td>\n",
       "    </tr>\n",
       "    <tr>\n",
       "      <th>5</th>\n",
       "      <td>MAYPORT NAF</td>\n",
       "      <td>30.400</td>\n",
       "      <td>-81.417</td>\n",
       "      <td>2017</td>\n",
       "      <td>09</td>\n",
       "      <td>11</td>\n",
       "      <td>78.2</td>\n",
       "      <td>70.1</td>\n",
       "      <td>997.1</td>\n",
       "      <td>994.2</td>\n",
       "      <td>6.4</td>\n",
       "      <td>29.8</td>\n",
       "      <td>59.1</td>\n",
       "      <td>76.0</td>\n",
       "      <td>7.45</td>\n",
       "      <td>G</td>\n",
       "      <td>0</td>\n",
       "      <td>1</td>\n",
       "    </tr>\n",
       "    <tr>\n",
       "      <th>6</th>\n",
       "      <td>JACKSONVILLE</td>\n",
       "      <td>34.708</td>\n",
       "      <td>-77.440</td>\n",
       "      <td>2017</td>\n",
       "      <td>09</td>\n",
       "      <td>06</td>\n",
       "      <td>78.4</td>\n",
       "      <td>73.6</td>\n",
       "      <td>1011.5</td>\n",
       "      <td>1010.5</td>\n",
       "      <td>7.4</td>\n",
       "      <td>7.5</td>\n",
       "      <td>15.9</td>\n",
       "      <td>18.1</td>\n",
       "      <td>2.27</td>\n",
       "      <td>G</td>\n",
       "      <td>0</td>\n",
       "      <td>1</td>\n",
       "    </tr>\n",
       "    <tr>\n",
       "      <th>7</th>\n",
       "      <td>VICTORIA REGIONAL AIRPORT</td>\n",
       "      <td>28.861</td>\n",
       "      <td>-96.930</td>\n",
       "      <td>2017</td>\n",
       "      <td>08</td>\n",
       "      <td>28</td>\n",
       "      <td>73.9</td>\n",
       "      <td>71.6</td>\n",
       "      <td>1001.1</td>\n",
       "      <td>998.2</td>\n",
       "      <td>5.4</td>\n",
       "      <td>18.3</td>\n",
       "      <td>25.1</td>\n",
       "      <td>36.9</td>\n",
       "      <td>1.96</td>\n",
       "      <td>G</td>\n",
       "      <td>0</td>\n",
       "      <td>1</td>\n",
       "    </tr>\n",
       "    <tr>\n",
       "      <th>8</th>\n",
       "      <td>ELK CITY</td>\n",
       "      <td>46.144</td>\n",
       "      <td>-115.596</td>\n",
       "      <td>2017</td>\n",
       "      <td>03</td>\n",
       "      <td>09</td>\n",
       "      <td>32.0</td>\n",
       "      <td>30.4</td>\n",
       "      <td>1023.0</td>\n",
       "      <td>967.4</td>\n",
       "      <td>999.9</td>\n",
       "      <td>0.0</td>\n",
       "      <td>999.9</td>\n",
       "      <td>999.9</td>\n",
       "      <td>2.13</td>\n",
       "      <td>G</td>\n",
       "      <td>0</td>\n",
       "      <td>0</td>\n",
       "    </tr>\n",
       "    <tr>\n",
       "      <th>9</th>\n",
       "      <td>EASTERN SLOPES RGNL ARPT</td>\n",
       "      <td>43.991</td>\n",
       "      <td>-70.948</td>\n",
       "      <td>2017</td>\n",
       "      <td>10</td>\n",
       "      <td>30</td>\n",
       "      <td>56.4</td>\n",
       "      <td>51.8</td>\n",
       "      <td>999.0</td>\n",
       "      <td>981.3</td>\n",
       "      <td>7.0</td>\n",
       "      <td>11.7</td>\n",
       "      <td>25.1</td>\n",
       "      <td>36.9</td>\n",
       "      <td>1.06</td>\n",
       "      <td>G</td>\n",
       "      <td>0</td>\n",
       "      <td>1</td>\n",
       "    </tr>\n",
       "  </tbody>\n",
       "</table>\n",
       "</div>"
      ],
      "text/plain": [
       "                         ws_name  ws_lat   ws_lon d_year d_mo d_da  d_temp  \\\n",
       "0                    EAST MILTON  42.212  -71.114   2017   04   01    17.5   \n",
       "1     WATSONVILLE MUNICIPAL ARPT  36.936 -121.789   2017   04   07    54.5   \n",
       "2          PEARSON FIELD AIRPORT  45.621 -122.657   2017   02   09    41.8   \n",
       "3  HANCHEY ARMY HELIPORT (FORT R  31.350  -85.667   2017   01   03    65.6   \n",
       "4                NEW ORLEANS NAS  29.817  -90.017   2017   06   25    81.7   \n",
       "5                    MAYPORT NAF  30.400  -81.417   2017   09   11    78.2   \n",
       "6                   JACKSONVILLE  34.708  -77.440   2017   09   06    78.4   \n",
       "7      VICTORIA REGIONAL AIRPORT  28.861  -96.930   2017   08   28    73.9   \n",
       "8                       ELK CITY  46.144 -115.596   2017   03   09    32.0   \n",
       "9       EASTERN SLOPES RGNL ARPT  43.991  -70.948   2017   10   30    56.4   \n",
       "\n",
       "   d_dewp   d_slp   d_stp  d_visib d_wdsp d_mxpsd  d_gust  d_prcp d_flag_prcp  \\\n",
       "0  9999.9  1012.3  9999.9    999.9   16.4    21.0    35.9    1.92           G   \n",
       "1  9999.9  1011.6  1006.1      7.8    7.2    18.1    24.1    1.19           G   \n",
       "2  9999.9   999.1   999.1      6.1    8.4    15.0    21.0    1.29           G   \n",
       "3    57.6  1001.5  1001.5      8.5    4.3    14.0    22.9    1.50           G   \n",
       "4    77.8  1019.5  1019.6      7.3    6.4    15.9    25.1    1.25           B   \n",
       "5    70.1   997.1   994.2      6.4   29.8    59.1    76.0    7.45           G   \n",
       "6    73.6  1011.5  1010.5      7.4    7.5    15.9    18.1    2.27           G   \n",
       "7    71.6  1001.1   998.2      5.4   18.3    25.1    36.9    1.96           G   \n",
       "8    30.4  1023.0   967.4    999.9    0.0   999.9   999.9    2.13           G   \n",
       "9    51.8   999.0   981.3      7.0   11.7    25.1    36.9    1.06           G   \n",
       "\n",
       "  d_fog d_rain_drizzle  \n",
       "0     0              0  \n",
       "1     0              1  \n",
       "2     0              1  \n",
       "3     0              1  \n",
       "4     0              1  \n",
       "5     0              1  \n",
       "6     0              1  \n",
       "7     0              1  \n",
       "8     0              0  \n",
       "9     0              1  "
      ]
     },
     "execution_count": 5,
     "metadata": {},
     "output_type": "execute_result"
    }
   ],
   "source": [
    "observacoes = bq.Query(poucos_registros).to_dataframe()\n",
    "observacoes"
   ]
  },
  {
   "cell_type": "markdown",
   "metadata": {},
   "source": [
    "<p>A precipitação (prcp) <b>precipitação total</b> (chuva e / ou neve derretida) relatada durante o dia em polegadas. Por exemplo na Estação <b>HOOKS MEMORIAL AIRPT </b> choveu 10.42 polegadas quadradadas."
   ]
  },
  {
   "cell_type": "markdown",
   "metadata": {},
   "source": [
    "Uma boa prática é entender como está a distribuição dos dados e explorar. As variáveis climáticas de superficie estão relacionadas a determinadas localidades, então não faz sentindo calcular a distribuição para o Pais inteiro, ou para grandes áreas, pelo menos se o objetivo for realizar predições.\n",
    "\n",
    "Desta forma eu dividi as estações em regiões usando o critério de 10 graus de latitude e longitude."
   ]
  },
  {
   "cell_type": "code",
   "execution_count": 6,
   "metadata": {
    "collapsed": false
   },
   "outputs": [
    {
     "data": {
      "text/html": [
       "\n",
       "          <script src=\"/static/components/requirejs/require.js\"></script>\n",
       "          <script>\n",
       "            requirejs.config({\n",
       "              paths: {\n",
       "                base: '/static/base',\n",
       "              },\n",
       "            });\n",
       "          </script>\n",
       "          "
      ],
      "text/plain": [
       "<IPython.core.display.HTML object>"
      ]
     },
     "metadata": {},
     "output_type": "display_data"
    }
   ],
   "source": [
    "%sql --module buckets\n",
    "SELECT ws.name, CONCAT(STRING(INTEGER(ws.lat + 90 * 1000 /100)), '-' ,  STRING (INTEGER(ws.lon + 180 * 1000 /100))) as bucket \n",
    "  FROM  [bigquery-public-data:noaa_gsod.stations] ws\n",
    " where ws.country = 'US'\n",
    " and FLOAT(lat) > -90.0 and FLOAT(lat) < 90.0\n",
    " and FLOAT(lon) > -180.0 and FLOAT(lon) < 180.0\n",
    "order by bucket\n",
    "LIMIT 10\n"
   ]
  },
  {
   "cell_type": "code",
   "execution_count": 7,
   "metadata": {
    "collapsed": false
   },
   "outputs": [
    {
     "data": {
      "text/html": [
       "\n",
       "          <script src=\"/static/components/requirejs/require.js\"></script>\n",
       "          <script>\n",
       "            requirejs.config({\n",
       "              paths: {\n",
       "                base: '/static/base',\n",
       "              },\n",
       "            });\n",
       "          </script>\n",
       "          "
      ],
      "text/plain": [
       "<IPython.core.display.HTML object>"
      ]
     },
     "metadata": {},
     "output_type": "display_data"
    },
    {
     "data": {
      "text/html": [
       "<div>\n",
       "<table border=\"1\" class=\"dataframe\">\n",
       "  <thead>\n",
       "    <tr style=\"text-align: right;\">\n",
       "      <th></th>\n",
       "      <th>ws_name</th>\n",
       "      <th>bucket</th>\n",
       "    </tr>\n",
       "  </thead>\n",
       "  <tbody>\n",
       "    <tr>\n",
       "      <th>0</th>\n",
       "      <td>BROOKS BROOK/STP6</td>\n",
       "      <td>839-1666</td>\n",
       "    </tr>\n",
       "    <tr>\n",
       "      <th>1</th>\n",
       "      <td>BROOKS BROOK/STP6</td>\n",
       "      <td>839-1666</td>\n",
       "    </tr>\n",
       "    <tr>\n",
       "      <th>2</th>\n",
       "      <td>SHAWNEE OKLAHOMA NAS</td>\n",
       "      <td>864-1703</td>\n",
       "    </tr>\n",
       "    <tr>\n",
       "      <th>3</th>\n",
       "      <td>SAVANAH GA/HUNTER FLD</td>\n",
       "      <td>867-1718</td>\n",
       "    </tr>\n",
       "    <tr>\n",
       "      <th>4</th>\n",
       "      <td>FLORIPA  BRAZIL (109)</td>\n",
       "      <td>872-1751</td>\n",
       "    </tr>\n",
       "    <tr>\n",
       "      <th>5</th>\n",
       "      <td>DATA BUOY 32302</td>\n",
       "      <td>882-1714</td>\n",
       "    </tr>\n",
       "    <tr>\n",
       "      <th>6</th>\n",
       "      <td>SERGE-FROLOW (ILE TROMELIN)</td>\n",
       "      <td>884-1854</td>\n",
       "    </tr>\n",
       "    <tr>\n",
       "      <th>7</th>\n",
       "      <td>ENVIRONM BUOY 32301</td>\n",
       "      <td>890-1695</td>\n",
       "    </tr>\n",
       "    <tr>\n",
       "      <th>8</th>\n",
       "      <td>JARVIS ISLAND</td>\n",
       "      <td>899-1639</td>\n",
       "    </tr>\n",
       "    <tr>\n",
       "      <th>9</th>\n",
       "      <td>RUSSIAN ICE ISLAND</td>\n",
       "      <td>900-1800</td>\n",
       "    </tr>\n",
       "  </tbody>\n",
       "</table>\n",
       "</div>"
      ],
      "text/plain": [
       "                       ws_name    bucket\n",
       "0            BROOKS BROOK/STP6  839-1666\n",
       "1            BROOKS BROOK/STP6  839-1666\n",
       "2         SHAWNEE OKLAHOMA NAS  864-1703\n",
       "3        SAVANAH GA/HUNTER FLD  867-1718\n",
       "4        FLORIPA  BRAZIL (109)  872-1751\n",
       "5              DATA BUOY 32302  882-1714\n",
       "6  SERGE-FROLOW (ILE TROMELIN)  884-1854\n",
       "7          ENVIRONM BUOY 32301  890-1695\n",
       "8                JARVIS ISLAND  899-1639\n",
       "9           RUSSIAN ICE ISLAND  900-1800"
      ]
     },
     "execution_count": 7,
     "metadata": {},
     "output_type": "execute_result"
    }
   ],
   "source": [
    "buckets = bq.Query(buckets).to_dataframe()\n",
    "buckets"
   ]
  },
  {
   "cell_type": "markdown",
   "metadata": {},
   "source": [
    "<p>Selecionei a região de Houston no Texas pois teve grandes precipitações relatadas pelos jornais</p>"
   ]
  },
  {
   "cell_type": "code",
   "execution_count": 8,
   "metadata": {
    "collapsed": false
   },
   "outputs": [
    {
     "data": {
      "text/html": [
       "\n",
       "          <script src=\"/static/components/requirejs/require.js\"></script>\n",
       "          <script>\n",
       "            requirejs.config({\n",
       "              paths: {\n",
       "                base: '/static/base',\n",
       "              },\n",
       "            });\n",
       "          </script>\n",
       "          "
      ],
      "text/plain": [
       "<IPython.core.display.HTML object>"
      ]
     },
     "metadata": {},
     "output_type": "display_data"
    }
   ],
   "source": [
    "%sql --module houston\n",
    "SELECT name, lat, lon,CONCAT(STRING(INTEGER(lat + 90 * 1000 /100)), '-' ,  STRING (INTEGER(lon + 180 * 1000 /100))) as bucket\n",
    "  FROM  [bigquery-public-data:noaa_gsod.stations] \n",
    " where country = 'US'\n",
    " and FLOAT(lat) > -90.0 and FLOAT(lat) < 90.0\n",
    " and FLOAT(lon) > -180.0 and FLOAT(lon) < 180.0\n",
    " and CONCAT(STRING(INTEGER(lat + 90 * 1000 /100)), '-' ,  STRING (INTEGER(lon + 180 * 1000 /100))) = '929-1704'\n"
   ]
  },
  {
   "cell_type": "code",
   "execution_count": 9,
   "metadata": {
    "collapsed": false
   },
   "outputs": [
    {
     "data": {
      "text/html": [
       "\n",
       "          <script src=\"/static/components/requirejs/require.js\"></script>\n",
       "          <script>\n",
       "            requirejs.config({\n",
       "              paths: {\n",
       "                base: '/static/base',\n",
       "              },\n",
       "            });\n",
       "          </script>\n",
       "          "
      ],
      "text/plain": [
       "<IPython.core.display.HTML object>"
      ]
     },
     "metadata": {},
     "output_type": "display_data"
    },
    {
     "data": {
      "text/html": [
       "<div>\n",
       "<table border=\"1\" class=\"dataframe\">\n",
       "  <thead>\n",
       "    <tr style=\"text-align: right;\">\n",
       "      <th></th>\n",
       "      <th>name</th>\n",
       "      <th>lat</th>\n",
       "      <th>lon</th>\n",
       "      <th>bucket</th>\n",
       "    </tr>\n",
       "  </thead>\n",
       "  <tbody>\n",
       "    <tr>\n",
       "      <th>0</th>\n",
       "      <td>HOUSTON DUNN HELISTOP</td>\n",
       "      <td>29.717</td>\n",
       "      <td>-95.383</td>\n",
       "      <td>929-1704</td>\n",
       "    </tr>\n",
       "    <tr>\n",
       "      <th>1</th>\n",
       "      <td>HOUSTON/DUNN HELISTOP</td>\n",
       "      <td>29.717</td>\n",
       "      <td>-95.383</td>\n",
       "      <td>929-1704</td>\n",
       "    </tr>\n",
       "    <tr>\n",
       "      <th>2</th>\n",
       "      <td>HUSTON/EXECUTIVE</td>\n",
       "      <td>29.800</td>\n",
       "      <td>-95.900</td>\n",
       "      <td>929-1704</td>\n",
       "    </tr>\n",
       "    <tr>\n",
       "      <th>3</th>\n",
       "      <td>HOUSTON EXECUTIVE AIRPORT</td>\n",
       "      <td>29.800</td>\n",
       "      <td>-95.900</td>\n",
       "      <td>929-1704</td>\n",
       "    </tr>\n",
       "    <tr>\n",
       "      <th>4</th>\n",
       "      <td>HOUSTON SOUTHWEST AIRPORT</td>\n",
       "      <td>29.506</td>\n",
       "      <td>-95.477</td>\n",
       "      <td>929-1704</td>\n",
       "    </tr>\n",
       "    <tr>\n",
       "      <th>5</th>\n",
       "      <td>HOUSTON SOUTHWEST AIRPORT</td>\n",
       "      <td>29.500</td>\n",
       "      <td>-95.477</td>\n",
       "      <td>929-1704</td>\n",
       "    </tr>\n",
       "    <tr>\n",
       "      <th>6</th>\n",
       "      <td>PEARLAND RGNL</td>\n",
       "      <td>29.517</td>\n",
       "      <td>-95.250</td>\n",
       "      <td>929-1704</td>\n",
       "    </tr>\n",
       "    <tr>\n",
       "      <th>7</th>\n",
       "      <td>CLOVER FIELD AIRPORT</td>\n",
       "      <td>29.519</td>\n",
       "      <td>-95.242</td>\n",
       "      <td>929-1704</td>\n",
       "    </tr>\n",
       "    <tr>\n",
       "      <th>8</th>\n",
       "      <td>G BUSH INTERCONTINENTAL AP/HO</td>\n",
       "      <td>29.980</td>\n",
       "      <td>-95.360</td>\n",
       "      <td>929-1704</td>\n",
       "    </tr>\n",
       "    <tr>\n",
       "      <th>9</th>\n",
       "      <td>WEST HOUSTON</td>\n",
       "      <td>29.818</td>\n",
       "      <td>-95.673</td>\n",
       "      <td>929-1704</td>\n",
       "    </tr>\n",
       "    <tr>\n",
       "      <th>10</th>\n",
       "      <td>WILLIAM P HOBBY</td>\n",
       "      <td>29.638</td>\n",
       "      <td>-95.282</td>\n",
       "      <td>929-1704</td>\n",
       "    </tr>\n",
       "    <tr>\n",
       "      <th>11</th>\n",
       "      <td>WILLIAM P HOBBY</td>\n",
       "      <td>29.633</td>\n",
       "      <td>-95.267</td>\n",
       "      <td>929-1704</td>\n",
       "    </tr>\n",
       "    <tr>\n",
       "      <th>12</th>\n",
       "      <td>ELLINGTON FIELD AIRPORT</td>\n",
       "      <td>29.617</td>\n",
       "      <td>-95.167</td>\n",
       "      <td>929-1704</td>\n",
       "    </tr>\n",
       "    <tr>\n",
       "      <th>13</th>\n",
       "      <td>WILLIAM P. HOBBY AIRPORT</td>\n",
       "      <td>29.638</td>\n",
       "      <td>-95.282</td>\n",
       "      <td>929-1704</td>\n",
       "    </tr>\n",
       "    <tr>\n",
       "      <th>14</th>\n",
       "      <td>BRAZORIA COUNTY AIRPORT</td>\n",
       "      <td>29.110</td>\n",
       "      <td>-95.462</td>\n",
       "      <td>929-1704</td>\n",
       "    </tr>\n",
       "    <tr>\n",
       "      <th>15</th>\n",
       "      <td>SUGER LAND RGNL</td>\n",
       "      <td>29.617</td>\n",
       "      <td>-95.650</td>\n",
       "      <td>929-1704</td>\n",
       "    </tr>\n",
       "    <tr>\n",
       "      <th>16</th>\n",
       "      <td>SUGAR LAND REGIONAL ARPT</td>\n",
       "      <td>29.622</td>\n",
       "      <td>-95.657</td>\n",
       "      <td>929-1704</td>\n",
       "    </tr>\n",
       "    <tr>\n",
       "      <th>17</th>\n",
       "      <td>DOWNTOWN</td>\n",
       "      <td>29.767</td>\n",
       "      <td>-95.367</td>\n",
       "      <td>929-1704</td>\n",
       "    </tr>\n",
       "    <tr>\n",
       "      <th>18</th>\n",
       "      <td>HOUSTON INTERCONTINENTAL AP</td>\n",
       "      <td>29.980</td>\n",
       "      <td>-95.360</td>\n",
       "      <td>929-1704</td>\n",
       "    </tr>\n",
       "    <tr>\n",
       "      <th>19</th>\n",
       "      <td>HOUSTON WILLIAM P HOBBY AP</td>\n",
       "      <td>29.638</td>\n",
       "      <td>-95.282</td>\n",
       "      <td>929-1704</td>\n",
       "    </tr>\n",
       "    <tr>\n",
       "      <th>20</th>\n",
       "      <td>FREEPORT SUPPLEMENTARY AVIATI</td>\n",
       "      <td>29.000</td>\n",
       "      <td>-95.320</td>\n",
       "      <td>929-1704</td>\n",
       "    </tr>\n",
       "    <tr>\n",
       "      <th>21</th>\n",
       "      <td>BRAZORIA CO</td>\n",
       "      <td>29.117</td>\n",
       "      <td>-95.467</td>\n",
       "      <td>929-1704</td>\n",
       "    </tr>\n",
       "    <tr>\n",
       "      <th>22</th>\n",
       "      <td>HOUSTON/ELLINGTON</td>\n",
       "      <td>29.600</td>\n",
       "      <td>-95.167</td>\n",
       "      <td>929-1704</td>\n",
       "    </tr>\n",
       "    <tr>\n",
       "      <th>23</th>\n",
       "      <td>CLEAR LAKE</td>\n",
       "      <td>29.550</td>\n",
       "      <td>-95.067</td>\n",
       "      <td>929-1704</td>\n",
       "    </tr>\n",
       "    <tr>\n",
       "      <th>24</th>\n",
       "      <td>MANCHESTER</td>\n",
       "      <td>29.726</td>\n",
       "      <td>-95.266</td>\n",
       "      <td>929-1704</td>\n",
       "    </tr>\n",
       "  </tbody>\n",
       "</table>\n",
       "</div>"
      ],
      "text/plain": [
       "                             name     lat     lon    bucket\n",
       "0           HOUSTON DUNN HELISTOP  29.717 -95.383  929-1704\n",
       "1           HOUSTON/DUNN HELISTOP  29.717 -95.383  929-1704\n",
       "2                HUSTON/EXECUTIVE  29.800 -95.900  929-1704\n",
       "3       HOUSTON EXECUTIVE AIRPORT  29.800 -95.900  929-1704\n",
       "4       HOUSTON SOUTHWEST AIRPORT  29.506 -95.477  929-1704\n",
       "5       HOUSTON SOUTHWEST AIRPORT  29.500 -95.477  929-1704\n",
       "6                   PEARLAND RGNL  29.517 -95.250  929-1704\n",
       "7            CLOVER FIELD AIRPORT  29.519 -95.242  929-1704\n",
       "8   G BUSH INTERCONTINENTAL AP/HO  29.980 -95.360  929-1704\n",
       "9                    WEST HOUSTON  29.818 -95.673  929-1704\n",
       "10                WILLIAM P HOBBY  29.638 -95.282  929-1704\n",
       "11                WILLIAM P HOBBY  29.633 -95.267  929-1704\n",
       "12        ELLINGTON FIELD AIRPORT  29.617 -95.167  929-1704\n",
       "13       WILLIAM P. HOBBY AIRPORT  29.638 -95.282  929-1704\n",
       "14        BRAZORIA COUNTY AIRPORT  29.110 -95.462  929-1704\n",
       "15                SUGER LAND RGNL  29.617 -95.650  929-1704\n",
       "16       SUGAR LAND REGIONAL ARPT  29.622 -95.657  929-1704\n",
       "17                       DOWNTOWN  29.767 -95.367  929-1704\n",
       "18    HOUSTON INTERCONTINENTAL AP  29.980 -95.360  929-1704\n",
       "19     HOUSTON WILLIAM P HOBBY AP  29.638 -95.282  929-1704\n",
       "20  FREEPORT SUPPLEMENTARY AVIATI  29.000 -95.320  929-1704\n",
       "21                    BRAZORIA CO  29.117 -95.467  929-1704\n",
       "22              HOUSTON/ELLINGTON  29.600 -95.167  929-1704\n",
       "23                     CLEAR LAKE  29.550 -95.067  929-1704\n",
       "24                     MANCHESTER  29.726 -95.266  929-1704"
      ]
     },
     "execution_count": 9,
     "metadata": {},
     "output_type": "execute_result"
    }
   ],
   "source": [
    "regiao_houston = bq.Query(houston).to_dataframe()\n",
    "regiao_houston"
   ]
  },
  {
   "cell_type": "markdown",
   "metadata": {},
   "source": [
    "<p> Além de selecionar uma região, o clima também é sazonal. Assim selecionei o mês de Agosto/2017."
   ]
  },
  {
   "cell_type": "code",
   "execution_count": 10,
   "metadata": {
    "collapsed": false
   },
   "outputs": [
    {
     "data": {
      "text/html": [
       "\n",
       "          <script src=\"/static/components/requirejs/require.js\"></script>\n",
       "          <script>\n",
       "            requirejs.config({\n",
       "              paths: {\n",
       "                base: '/static/base',\n",
       "              },\n",
       "            });\n",
       "          </script>\n",
       "          "
      ],
      "text/plain": [
       "<IPython.core.display.HTML object>"
      ]
     },
     "metadata": {},
     "output_type": "display_data"
    }
   ],
   "source": [
    "%sql --module j_houston\n",
    "SELECT ws.name,d.da, d.mo, d.year, d.temp, d.dewp, d.slp, d.stp, d.visib, d.wdsp, d.mxpsd, d.gust, d.prcp, d.fog, d.rain_drizzle\n",
    ", d.snow_ice_pellets, d.hail, d.thunder, d.tornado_funnel_cloud FROM [bigquery-public-data:noaa_gsod.gsod2017] d\n",
    "  JOIN [bigquery-public-data:noaa_gsod.stations] ws\n",
    "  ON d.stn = ws.usaf\n",
    "    and d.wban = ws.wban\n",
    "  JOIN (SELECT usaf, wban, CONCAT(STRING(INTEGER(lat + 90 * 1000 /100)), '-' ,  STRING (INTEGER(lon + 180 * 1000 /100))) as bucket \n",
    "  FROM  [bigquery-public-data:noaa_gsod.stations] \n",
    " where country = 'US'\n",
    "    and FLOAT(lat) > -90.0 and FLOAT(lat) < 90.0\n",
    "    and FLOAT(lon) > -180.0 and FLOAT(lon) < 180.0\n",
    "    and  CONCAT(STRING(INTEGER(lat + 90 * 1000 /100)), '-' ,  STRING (INTEGER(lon + 180 * 1000 /100))) = '929-1704'\n",
    "order by bucket) b\n",
    "    on b.usaf = ws.usaf\n",
    "   and b.wban = ws.wban\n",
    "where ws.state is not null\n",
    "and ws.country = 'US'\n",
    "and INTEGER(d.mo) = 8\n",
    "order by d.year, d.mo, d.da"
   ]
  },
  {
   "cell_type": "code",
   "execution_count": 11,
   "metadata": {
    "collapsed": false
   },
   "outputs": [
    {
     "data": {
      "text/html": [
       "\n",
       "          <script src=\"/static/components/requirejs/require.js\"></script>\n",
       "          <script>\n",
       "            requirejs.config({\n",
       "              paths: {\n",
       "                base: '/static/base',\n",
       "              },\n",
       "            });\n",
       "          </script>\n",
       "          "
      ],
      "text/plain": [
       "<IPython.core.display.HTML object>"
      ]
     },
     "metadata": {},
     "output_type": "display_data"
    },
    {
     "data": {
      "text/html": [
       "<div>\n",
       "<table border=\"1\" class=\"dataframe\">\n",
       "  <thead>\n",
       "    <tr style=\"text-align: right;\">\n",
       "      <th></th>\n",
       "      <th>ws_name</th>\n",
       "      <th>d_da</th>\n",
       "      <th>d_mo</th>\n",
       "      <th>d_year</th>\n",
       "      <th>d_temp</th>\n",
       "      <th>d_dewp</th>\n",
       "      <th>d_slp</th>\n",
       "      <th>d_stp</th>\n",
       "      <th>d_visib</th>\n",
       "      <th>d_wdsp</th>\n",
       "      <th>d_mxpsd</th>\n",
       "      <th>d_gust</th>\n",
       "      <th>d_prcp</th>\n",
       "      <th>d_fog</th>\n",
       "      <th>d_rain_drizzle</th>\n",
       "      <th>d_snow_ice_pellets</th>\n",
       "      <th>d_hail</th>\n",
       "      <th>d_thunder</th>\n",
       "      <th>d_tornado_funnel_cloud</th>\n",
       "    </tr>\n",
       "  </thead>\n",
       "  <tbody>\n",
       "    <tr>\n",
       "      <th>0</th>\n",
       "      <td>CLOVER FIELD AIRPORT</td>\n",
       "      <td>01</td>\n",
       "      <td>08</td>\n",
       "      <td>2017</td>\n",
       "      <td>85.8</td>\n",
       "      <td>70.6</td>\n",
       "      <td>1015.0</td>\n",
       "      <td>1013.6</td>\n",
       "      <td>9.3</td>\n",
       "      <td>5.4</td>\n",
       "      <td>15.0</td>\n",
       "      <td>19.0</td>\n",
       "      <td>0.00</td>\n",
       "      <td>0</td>\n",
       "      <td>0</td>\n",
       "      <td>0</td>\n",
       "      <td>0</td>\n",
       "      <td>0</td>\n",
       "      <td>0</td>\n",
       "    </tr>\n",
       "    <tr>\n",
       "      <th>1</th>\n",
       "      <td>WILLIAM P. HOBBY AIRPORT</td>\n",
       "      <td>01</td>\n",
       "      <td>08</td>\n",
       "      <td>2017</td>\n",
       "      <td>86.6</td>\n",
       "      <td>70.4</td>\n",
       "      <td>1015.1</td>\n",
       "      <td>1013.1</td>\n",
       "      <td>10.0</td>\n",
       "      <td>5.9</td>\n",
       "      <td>13.0</td>\n",
       "      <td>18.1</td>\n",
       "      <td>0.00</td>\n",
       "      <td>0</td>\n",
       "      <td>1</td>\n",
       "      <td>0</td>\n",
       "      <td>0</td>\n",
       "      <td>0</td>\n",
       "      <td>0</td>\n",
       "    </tr>\n",
       "    <tr>\n",
       "      <th>2</th>\n",
       "      <td>SUGAR LAND REGIONAL ARPT</td>\n",
       "      <td>01</td>\n",
       "      <td>08</td>\n",
       "      <td>2017</td>\n",
       "      <td>83.0</td>\n",
       "      <td>70.0</td>\n",
       "      <td>1014.7</td>\n",
       "      <td>1011.7</td>\n",
       "      <td>9.9</td>\n",
       "      <td>5.0</td>\n",
       "      <td>12.0</td>\n",
       "      <td>999.9</td>\n",
       "      <td>0.00</td>\n",
       "      <td>0</td>\n",
       "      <td>1</td>\n",
       "      <td>0</td>\n",
       "      <td>0</td>\n",
       "      <td>0</td>\n",
       "      <td>0</td>\n",
       "    </tr>\n",
       "    <tr>\n",
       "      <th>3</th>\n",
       "      <td>HOUSTON EXECUTIVE AIRPORT</td>\n",
       "      <td>01</td>\n",
       "      <td>08</td>\n",
       "      <td>2017</td>\n",
       "      <td>81.8</td>\n",
       "      <td>67.4</td>\n",
       "      <td>9999.9</td>\n",
       "      <td>9999.9</td>\n",
       "      <td>9.3</td>\n",
       "      <td>5.7</td>\n",
       "      <td>20.0</td>\n",
       "      <td>27.0</td>\n",
       "      <td>99.99</td>\n",
       "      <td>0</td>\n",
       "      <td>1</td>\n",
       "      <td>0</td>\n",
       "      <td>0</td>\n",
       "      <td>0</td>\n",
       "      <td>0</td>\n",
       "    </tr>\n",
       "    <tr>\n",
       "      <th>4</th>\n",
       "      <td>BRAZORIA COUNTY AIRPORT</td>\n",
       "      <td>01</td>\n",
       "      <td>08</td>\n",
       "      <td>2017</td>\n",
       "      <td>81.7</td>\n",
       "      <td>73.7</td>\n",
       "      <td>1014.6</td>\n",
       "      <td>1013.8</td>\n",
       "      <td>9.9</td>\n",
       "      <td>5.1</td>\n",
       "      <td>9.9</td>\n",
       "      <td>999.9</td>\n",
       "      <td>0.00</td>\n",
       "      <td>0</td>\n",
       "      <td>0</td>\n",
       "      <td>0</td>\n",
       "      <td>0</td>\n",
       "      <td>0</td>\n",
       "      <td>0</td>\n",
       "    </tr>\n",
       "    <tr>\n",
       "      <th>5</th>\n",
       "      <td>G BUSH INTERCONTINENTAL AP/HO</td>\n",
       "      <td>01</td>\n",
       "      <td>08</td>\n",
       "      <td>2017</td>\n",
       "      <td>82.8</td>\n",
       "      <td>68.8</td>\n",
       "      <td>1014.9</td>\n",
       "      <td>1011.1</td>\n",
       "      <td>10.0</td>\n",
       "      <td>6.1</td>\n",
       "      <td>14.0</td>\n",
       "      <td>18.1</td>\n",
       "      <td>0.00</td>\n",
       "      <td>0</td>\n",
       "      <td>0</td>\n",
       "      <td>0</td>\n",
       "      <td>0</td>\n",
       "      <td>0</td>\n",
       "      <td>0</td>\n",
       "    </tr>\n",
       "    <tr>\n",
       "      <th>6</th>\n",
       "      <td>MANCHESTER</td>\n",
       "      <td>01</td>\n",
       "      <td>08</td>\n",
       "      <td>2017</td>\n",
       "      <td>85.8</td>\n",
       "      <td>9999.9</td>\n",
       "      <td>1014.1</td>\n",
       "      <td>9999.9</td>\n",
       "      <td>999.9</td>\n",
       "      <td>4.0</td>\n",
       "      <td>8.9</td>\n",
       "      <td>999.9</td>\n",
       "      <td>0.00</td>\n",
       "      <td>0</td>\n",
       "      <td>0</td>\n",
       "      <td>0</td>\n",
       "      <td>0</td>\n",
       "      <td>0</td>\n",
       "      <td>0</td>\n",
       "    </tr>\n",
       "    <tr>\n",
       "      <th>7</th>\n",
       "      <td>ELLINGTON FIELD AIRPORT</td>\n",
       "      <td>01</td>\n",
       "      <td>08</td>\n",
       "      <td>2017</td>\n",
       "      <td>85.6</td>\n",
       "      <td>68.4</td>\n",
       "      <td>9999.9</td>\n",
       "      <td>1014.2</td>\n",
       "      <td>10.0</td>\n",
       "      <td>5.3</td>\n",
       "      <td>13.0</td>\n",
       "      <td>999.9</td>\n",
       "      <td>0.00</td>\n",
       "      <td>0</td>\n",
       "      <td>0</td>\n",
       "      <td>0</td>\n",
       "      <td>0</td>\n",
       "      <td>0</td>\n",
       "      <td>0</td>\n",
       "    </tr>\n",
       "    <tr>\n",
       "      <th>8</th>\n",
       "      <td>HOUSTON DUNN HELISTOP</td>\n",
       "      <td>01</td>\n",
       "      <td>08</td>\n",
       "      <td>2017</td>\n",
       "      <td>85.2</td>\n",
       "      <td>67.1</td>\n",
       "      <td>9999.9</td>\n",
       "      <td>9999.9</td>\n",
       "      <td>10.0</td>\n",
       "      <td>5.9</td>\n",
       "      <td>15.0</td>\n",
       "      <td>21.0</td>\n",
       "      <td>0.00</td>\n",
       "      <td>0</td>\n",
       "      <td>0</td>\n",
       "      <td>0</td>\n",
       "      <td>0</td>\n",
       "      <td>0</td>\n",
       "      <td>0</td>\n",
       "    </tr>\n",
       "    <tr>\n",
       "      <th>9</th>\n",
       "      <td>HOUSTON SOUTHWEST AIRPORT</td>\n",
       "      <td>01</td>\n",
       "      <td>08</td>\n",
       "      <td>2017</td>\n",
       "      <td>81.3</td>\n",
       "      <td>70.3</td>\n",
       "      <td>9999.9</td>\n",
       "      <td>9999.9</td>\n",
       "      <td>10.0</td>\n",
       "      <td>3.7</td>\n",
       "      <td>11.1</td>\n",
       "      <td>17.1</td>\n",
       "      <td>0.00</td>\n",
       "      <td>0</td>\n",
       "      <td>0</td>\n",
       "      <td>0</td>\n",
       "      <td>0</td>\n",
       "      <td>0</td>\n",
       "      <td>0</td>\n",
       "    </tr>\n",
       "  </tbody>\n",
       "</table>\n",
       "</div>"
      ],
      "text/plain": [
       "                         ws_name d_da d_mo d_year  d_temp  d_dewp   d_slp  \\\n",
       "0           CLOVER FIELD AIRPORT   01   08   2017    85.8    70.6  1015.0   \n",
       "1       WILLIAM P. HOBBY AIRPORT   01   08   2017    86.6    70.4  1015.1   \n",
       "2       SUGAR LAND REGIONAL ARPT   01   08   2017    83.0    70.0  1014.7   \n",
       "3      HOUSTON EXECUTIVE AIRPORT   01   08   2017    81.8    67.4  9999.9   \n",
       "4        BRAZORIA COUNTY AIRPORT   01   08   2017    81.7    73.7  1014.6   \n",
       "5  G BUSH INTERCONTINENTAL AP/HO   01   08   2017    82.8    68.8  1014.9   \n",
       "6                     MANCHESTER   01   08   2017    85.8  9999.9  1014.1   \n",
       "7        ELLINGTON FIELD AIRPORT   01   08   2017    85.6    68.4  9999.9   \n",
       "8          HOUSTON DUNN HELISTOP   01   08   2017    85.2    67.1  9999.9   \n",
       "9      HOUSTON SOUTHWEST AIRPORT   01   08   2017    81.3    70.3  9999.9   \n",
       "\n",
       "    d_stp  d_visib d_wdsp d_mxpsd  d_gust  d_prcp d_fog d_rain_drizzle  \\\n",
       "0  1013.6      9.3    5.4    15.0    19.0    0.00     0              0   \n",
       "1  1013.1     10.0    5.9    13.0    18.1    0.00     0              1   \n",
       "2  1011.7      9.9    5.0    12.0   999.9    0.00     0              1   \n",
       "3  9999.9      9.3    5.7    20.0    27.0   99.99     0              1   \n",
       "4  1013.8      9.9    5.1     9.9   999.9    0.00     0              0   \n",
       "5  1011.1     10.0    6.1    14.0    18.1    0.00     0              0   \n",
       "6  9999.9    999.9    4.0     8.9   999.9    0.00     0              0   \n",
       "7  1014.2     10.0    5.3    13.0   999.9    0.00     0              0   \n",
       "8  9999.9     10.0    5.9    15.0    21.0    0.00     0              0   \n",
       "9  9999.9     10.0    3.7    11.1    17.1    0.00     0              0   \n",
       "\n",
       "  d_snow_ice_pellets d_hail d_thunder d_tornado_funnel_cloud  \n",
       "0                  0      0         0                      0  \n",
       "1                  0      0         0                      0  \n",
       "2                  0      0         0                      0  \n",
       "3                  0      0         0                      0  \n",
       "4                  0      0         0                      0  \n",
       "5                  0      0         0                      0  \n",
       "6                  0      0         0                      0  \n",
       "7                  0      0         0                      0  \n",
       "8                  0      0         0                      0  \n",
       "9                  0      0         0                      0  "
      ]
     },
     "execution_count": 11,
     "metadata": {},
     "output_type": "execute_result"
    }
   ],
   "source": [
    "ago = bq.Query(j_houston).to_dataframe()\n",
    "ago[:10]"
   ]
  },
  {
   "cell_type": "markdown",
   "metadata": {},
   "source": [
    "Verificando os tipo dos dados."
   ]
  },
  {
   "cell_type": "code",
   "execution_count": 12,
   "metadata": {
    "collapsed": false
   },
   "outputs": [
    {
     "data": {
      "text/html": [
       "\n",
       "          <script src=\"/static/components/requirejs/require.js\"></script>\n",
       "          <script>\n",
       "            requirejs.config({\n",
       "              paths: {\n",
       "                base: '/static/base',\n",
       "              },\n",
       "            });\n",
       "          </script>\n",
       "          "
      ],
      "text/plain": [
       "<IPython.core.display.HTML object>"
      ]
     },
     "metadata": {},
     "output_type": "display_data"
    },
    {
     "name": "stdout",
     "output_type": "stream",
     "text": [
      "<class 'pandas.core.frame.DataFrame'>\n",
      "RangeIndex: 297 entries, 0 to 296\n",
      "Data columns (total 15 columns):\n",
      "d_temp                    297 non-null float64\n",
      "d_dewp                    297 non-null float64\n",
      "d_slp                     297 non-null float64\n",
      "d_stp                     297 non-null float64\n",
      "d_visib                   297 non-null float64\n",
      "d_wdsp                    297 non-null object\n",
      "d_mxpsd                   297 non-null object\n",
      "d_gust                    297 non-null float64\n",
      "d_prcp                    297 non-null float64\n",
      "d_fog                     297 non-null object\n",
      "d_rain_drizzle            297 non-null object\n",
      "d_snow_ice_pellets        297 non-null object\n",
      "d_hail                    297 non-null object\n",
      "d_thunder                 297 non-null object\n",
      "d_tornado_funnel_cloud    297 non-null object\n",
      "dtypes: float64(7), object(8)\n",
      "memory usage: 34.9+ KB\n"
     ]
    }
   ],
   "source": [
    "ago = ago.drop(ago.columns[[0, 1, 2, 3]], axis=1)\n",
    "ago.info()  "
   ]
  },
  {
   "cell_type": "markdown",
   "metadata": {},
   "source": [
    "Convertendo tudo para númerico"
   ]
  },
  {
   "cell_type": "code",
   "execution_count": 13,
   "metadata": {
    "collapsed": false
   },
   "outputs": [
    {
     "data": {
      "text/html": [
       "\n",
       "          <script src=\"/static/components/requirejs/require.js\"></script>\n",
       "          <script>\n",
       "            requirejs.config({\n",
       "              paths: {\n",
       "                base: '/static/base',\n",
       "              },\n",
       "            });\n",
       "          </script>\n",
       "          "
      ],
      "text/plain": [
       "<IPython.core.display.HTML object>"
      ]
     },
     "metadata": {},
     "output_type": "display_data"
    },
    {
     "name": "stdout",
     "output_type": "stream",
     "text": [
      "<class 'pandas.core.frame.DataFrame'>\n",
      "RangeIndex: 297 entries, 0 to 296\n",
      "Data columns (total 15 columns):\n",
      "d_temp                    297 non-null float64\n",
      "d_dewp                    297 non-null float64\n",
      "d_slp                     297 non-null float64\n",
      "d_stp                     297 non-null float64\n",
      "d_visib                   297 non-null float64\n",
      "d_wdsp                    297 non-null float64\n",
      "d_mxpsd                   297 non-null float64\n",
      "d_gust                    297 non-null float64\n",
      "d_prcp                    297 non-null float64\n",
      "d_fog                     297 non-null int64\n",
      "d_rain_drizzle            297 non-null int64\n",
      "d_snow_ice_pellets        297 non-null int64\n",
      "d_hail                    297 non-null int64\n",
      "d_thunder                 297 non-null int64\n",
      "d_tornado_funnel_cloud    297 non-null int64\n",
      "dtypes: float64(9), int64(6)\n",
      "memory usage: 34.9 KB\n"
     ]
    }
   ],
   "source": [
    "ago = ago.apply(pd.to_numeric, errors='coerce')  \n",
    "ago.info()  "
   ]
  },
  {
   "cell_type": "markdown",
   "metadata": {},
   "source": [
    "<h2 style=\"color:blue;\">Limpeza dos dados</h2>"
   ]
  },
  {
   "cell_type": "markdown",
   "metadata": {},
   "source": [
    "Verificando a distribuição."
   ]
  },
  {
   "cell_type": "code",
   "execution_count": 14,
   "metadata": {
    "collapsed": false
   },
   "outputs": [
    {
     "data": {
      "text/html": [
       "\n",
       "          <script src=\"/static/components/requirejs/require.js\"></script>\n",
       "          <script>\n",
       "            requirejs.config({\n",
       "              paths: {\n",
       "                base: '/static/base',\n",
       "              },\n",
       "            });\n",
       "          </script>\n",
       "          "
      ],
      "text/plain": [
       "<IPython.core.display.HTML object>"
      ]
     },
     "metadata": {},
     "output_type": "display_data"
    },
    {
     "data": {
      "text/html": [
       "<div>\n",
       "<table border=\"1\" class=\"dataframe\">\n",
       "  <thead>\n",
       "    <tr style=\"text-align: right;\">\n",
       "      <th></th>\n",
       "      <th>d_temp</th>\n",
       "      <th>d_dewp</th>\n",
       "      <th>d_slp</th>\n",
       "      <th>d_stp</th>\n",
       "      <th>d_visib</th>\n",
       "      <th>d_wdsp</th>\n",
       "      <th>d_mxpsd</th>\n",
       "      <th>d_gust</th>\n",
       "      <th>d_prcp</th>\n",
       "      <th>d_fog</th>\n",
       "      <th>d_rain_drizzle</th>\n",
       "      <th>d_snow_ice_pellets</th>\n",
       "      <th>d_hail</th>\n",
       "      <th>d_thunder</th>\n",
       "      <th>d_tornado_funnel_cloud</th>\n",
       "    </tr>\n",
       "  </thead>\n",
       "  <tbody>\n",
       "    <tr>\n",
       "      <th>count</th>\n",
       "      <td>297.000000</td>\n",
       "      <td>297.000000</td>\n",
       "      <td>297.000000</td>\n",
       "      <td>297.000000</td>\n",
       "      <td>297.000000</td>\n",
       "      <td>297.000000</td>\n",
       "      <td>297.000000</td>\n",
       "      <td>297.000000</td>\n",
       "      <td>297.000000</td>\n",
       "      <td>297.000000</td>\n",
       "      <td>297.000000</td>\n",
       "      <td>297.0</td>\n",
       "      <td>297.0</td>\n",
       "      <td>297.000000</td>\n",
       "      <td>297.0</td>\n",
       "    </tr>\n",
       "    <tr>\n",
       "      <th>mean</th>\n",
       "      <td>83.034343</td>\n",
       "      <td>1143.558923</td>\n",
       "      <td>4462.587205</td>\n",
       "      <td>4400.904040</td>\n",
       "      <td>112.358923</td>\n",
       "      <td>6.330303</td>\n",
       "      <td>13.579125</td>\n",
       "      <td>437.424242</td>\n",
       "      <td>9.754680</td>\n",
       "      <td>0.053872</td>\n",
       "      <td>0.410774</td>\n",
       "      <td>0.0</td>\n",
       "      <td>0.0</td>\n",
       "      <td>0.239057</td>\n",
       "      <td>0.0</td>\n",
       "    </tr>\n",
       "    <tr>\n",
       "      <th>std</th>\n",
       "      <td>3.973625</td>\n",
       "      <td>3082.754038</td>\n",
       "      <td>4377.824998</td>\n",
       "      <td>4363.809406</td>\n",
       "      <td>303.505600</td>\n",
       "      <td>4.165052</td>\n",
       "      <td>5.598109</td>\n",
       "      <td>483.677489</td>\n",
       "      <td>28.660733</td>\n",
       "      <td>0.226146</td>\n",
       "      <td>0.492805</td>\n",
       "      <td>0.0</td>\n",
       "      <td>0.0</td>\n",
       "      <td>0.427228</td>\n",
       "      <td>0.0</td>\n",
       "    </tr>\n",
       "    <tr>\n",
       "      <th>min</th>\n",
       "      <td>71.400000</td>\n",
       "      <td>65.800000</td>\n",
       "      <td>1001.900000</td>\n",
       "      <td>1000.300000</td>\n",
       "      <td>2.000000</td>\n",
       "      <td>1.100000</td>\n",
       "      <td>5.100000</td>\n",
       "      <td>13.000000</td>\n",
       "      <td>0.000000</td>\n",
       "      <td>0.000000</td>\n",
       "      <td>0.000000</td>\n",
       "      <td>0.0</td>\n",
       "      <td>0.0</td>\n",
       "      <td>0.000000</td>\n",
       "      <td>0.0</td>\n",
       "    </tr>\n",
       "    <tr>\n",
       "      <th>25%</th>\n",
       "      <td>80.700000</td>\n",
       "      <td>73.400000</td>\n",
       "      <td>1013.300000</td>\n",
       "      <td>1011.300000</td>\n",
       "      <td>8.700000</td>\n",
       "      <td>3.700000</td>\n",
       "      <td>9.900000</td>\n",
       "      <td>19.000000</td>\n",
       "      <td>0.000000</td>\n",
       "      <td>0.000000</td>\n",
       "      <td>0.000000</td>\n",
       "      <td>0.0</td>\n",
       "      <td>0.0</td>\n",
       "      <td>0.000000</td>\n",
       "      <td>0.0</td>\n",
       "    </tr>\n",
       "    <tr>\n",
       "      <th>50%</th>\n",
       "      <td>83.500000</td>\n",
       "      <td>74.600000</td>\n",
       "      <td>1016.000000</td>\n",
       "      <td>1014.400000</td>\n",
       "      <td>9.700000</td>\n",
       "      <td>4.900000</td>\n",
       "      <td>12.000000</td>\n",
       "      <td>33.000000</td>\n",
       "      <td>0.000000</td>\n",
       "      <td>0.000000</td>\n",
       "      <td>0.000000</td>\n",
       "      <td>0.0</td>\n",
       "      <td>0.0</td>\n",
       "      <td>0.000000</td>\n",
       "      <td>0.0</td>\n",
       "    </tr>\n",
       "    <tr>\n",
       "      <th>75%</th>\n",
       "      <td>86.200000</td>\n",
       "      <td>76.200000</td>\n",
       "      <td>9999.900000</td>\n",
       "      <td>9999.900000</td>\n",
       "      <td>10.000000</td>\n",
       "      <td>7.600000</td>\n",
       "      <td>15.000000</td>\n",
       "      <td>999.900000</td>\n",
       "      <td>0.290000</td>\n",
       "      <td>0.000000</td>\n",
       "      <td>1.000000</td>\n",
       "      <td>0.0</td>\n",
       "      <td>0.0</td>\n",
       "      <td>0.000000</td>\n",
       "      <td>0.0</td>\n",
       "    </tr>\n",
       "    <tr>\n",
       "      <th>max</th>\n",
       "      <td>89.600000</td>\n",
       "      <td>9999.900000</td>\n",
       "      <td>9999.900000</td>\n",
       "      <td>9999.900000</td>\n",
       "      <td>999.900000</td>\n",
       "      <td>21.700000</td>\n",
       "      <td>38.100000</td>\n",
       "      <td>999.900000</td>\n",
       "      <td>99.990000</td>\n",
       "      <td>1.000000</td>\n",
       "      <td>1.000000</td>\n",
       "      <td>0.0</td>\n",
       "      <td>0.0</td>\n",
       "      <td>1.000000</td>\n",
       "      <td>0.0</td>\n",
       "    </tr>\n",
       "  </tbody>\n",
       "</table>\n",
       "</div>"
      ],
      "text/plain": [
       "           d_temp       d_dewp        d_slp        d_stp     d_visib  \\\n",
       "count  297.000000   297.000000   297.000000   297.000000  297.000000   \n",
       "mean    83.034343  1143.558923  4462.587205  4400.904040  112.358923   \n",
       "std      3.973625  3082.754038  4377.824998  4363.809406  303.505600   \n",
       "min     71.400000    65.800000  1001.900000  1000.300000    2.000000   \n",
       "25%     80.700000    73.400000  1013.300000  1011.300000    8.700000   \n",
       "50%     83.500000    74.600000  1016.000000  1014.400000    9.700000   \n",
       "75%     86.200000    76.200000  9999.900000  9999.900000   10.000000   \n",
       "max     89.600000  9999.900000  9999.900000  9999.900000  999.900000   \n",
       "\n",
       "           d_wdsp     d_mxpsd      d_gust      d_prcp       d_fog  \\\n",
       "count  297.000000  297.000000  297.000000  297.000000  297.000000   \n",
       "mean     6.330303   13.579125  437.424242    9.754680    0.053872   \n",
       "std      4.165052    5.598109  483.677489   28.660733    0.226146   \n",
       "min      1.100000    5.100000   13.000000    0.000000    0.000000   \n",
       "25%      3.700000    9.900000   19.000000    0.000000    0.000000   \n",
       "50%      4.900000   12.000000   33.000000    0.000000    0.000000   \n",
       "75%      7.600000   15.000000  999.900000    0.290000    0.000000   \n",
       "max     21.700000   38.100000  999.900000   99.990000    1.000000   \n",
       "\n",
       "       d_rain_drizzle  d_snow_ice_pellets  d_hail   d_thunder  \\\n",
       "count      297.000000               297.0   297.0  297.000000   \n",
       "mean         0.410774                 0.0     0.0    0.239057   \n",
       "std          0.492805                 0.0     0.0    0.427228   \n",
       "min          0.000000                 0.0     0.0    0.000000   \n",
       "25%          0.000000                 0.0     0.0    0.000000   \n",
       "50%          0.000000                 0.0     0.0    0.000000   \n",
       "75%          1.000000                 0.0     0.0    0.000000   \n",
       "max          1.000000                 0.0     0.0    1.000000   \n",
       "\n",
       "       d_tornado_funnel_cloud  \n",
       "count                   297.0  \n",
       "mean                      0.0  \n",
       "std                       0.0  \n",
       "min                       0.0  \n",
       "25%                       0.0  \n",
       "50%                       0.0  \n",
       "75%                       0.0  \n",
       "max                       0.0  "
      ]
     },
     "execution_count": 14,
     "metadata": {},
     "output_type": "execute_result"
    }
   ],
   "source": [
    "ago.describe()"
   ]
  },
  {
   "cell_type": "markdown",
   "metadata": {},
   "source": [
    "<p>Dá para notar que vários valores estão como 9999.9. Na documentação da base isto indicaria dados ausentes. Como a base possui muitos dados ausentes, com base no estudo de Dolif, G. and Nobre, C. (2012) sobre predição de precipitação extrema manteremos apenas variáveis climáticas que de acordo com o estudo tem potencial preditivo.\n",
    "\n",
    "Assim eliminaremos: Pressão ao nível do mar (slp), Visibilidade (visibility) e Nevoeiro (fog) pois não estão relacionadas relacionados na literatura.\n",
    "\n",
    "<p>*Dolif, G. and Nobre, C. (2012), Improving extreme precipitation forecasts in Rio de Janeiro, Brazil: are synoptic patterns efficient for distinguishing ordinary from heavy rainfall episodes?. Atmosph. Sci. Lett., 13: 216–222. doi:10.1002/asl.385</p>\n"
   ]
  },
  {
   "cell_type": "code",
   "execution_count": 15,
   "metadata": {
    "collapsed": false
   },
   "outputs": [
    {
     "data": {
      "text/html": [
       "\n",
       "          <script src=\"/static/components/requirejs/require.js\"></script>\n",
       "          <script>\n",
       "            requirejs.config({\n",
       "              paths: {\n",
       "                base: '/static/base',\n",
       "              },\n",
       "            });\n",
       "          </script>\n",
       "          "
      ],
      "text/plain": [
       "<IPython.core.display.HTML object>"
      ]
     },
     "metadata": {},
     "output_type": "display_data"
    },
    {
     "name": "stdout",
     "output_type": "stream",
     "text": [
      "<class 'pandas.core.frame.DataFrame'>\n",
      "RangeIndex: 297 entries, 0 to 296\n",
      "Data columns (total 12 columns):\n",
      "d_temp                    297 non-null float64\n",
      "d_dewp                    297 non-null float64\n",
      "d_stp                     297 non-null float64\n",
      "d_wdsp                    297 non-null float64\n",
      "d_mxpsd                   297 non-null float64\n",
      "d_gust                    297 non-null float64\n",
      "d_prcp                    297 non-null float64\n",
      "d_rain_drizzle            297 non-null int64\n",
      "d_snow_ice_pellets        297 non-null int64\n",
      "d_hail                    297 non-null int64\n",
      "d_thunder                 297 non-null int64\n",
      "d_tornado_funnel_cloud    297 non-null int64\n",
      "dtypes: float64(7), int64(5)\n",
      "memory usage: 27.9 KB\n"
     ]
    }
   ],
   "source": [
    "ago = ago.drop(ago.columns[[2,4,9]], axis=1)\n",
    "ago.info()  "
   ]
  },
  {
   "cell_type": "markdown",
   "metadata": {},
   "source": [
    "<p>Removendo os dados ausentes</p>"
   ]
  },
  {
   "cell_type": "code",
   "execution_count": 16,
   "metadata": {
    "collapsed": false
   },
   "outputs": [
    {
     "data": {
      "text/html": [
       "\n",
       "          <script src=\"/static/components/requirejs/require.js\"></script>\n",
       "          <script>\n",
       "            requirejs.config({\n",
       "              paths: {\n",
       "                base: '/static/base',\n",
       "              },\n",
       "            });\n",
       "          </script>\n",
       "          "
      ],
      "text/plain": [
       "<IPython.core.display.HTML object>"
      ]
     },
     "metadata": {},
     "output_type": "display_data"
    },
    {
     "data": {
      "text/html": [
       "<div>\n",
       "<table border=\"1\" class=\"dataframe\">\n",
       "  <thead>\n",
       "    <tr style=\"text-align: right;\">\n",
       "      <th></th>\n",
       "      <th>d_temp</th>\n",
       "      <th>d_dewp</th>\n",
       "      <th>d_stp</th>\n",
       "      <th>d_wdsp</th>\n",
       "      <th>d_mxpsd</th>\n",
       "      <th>d_gust</th>\n",
       "      <th>d_prcp</th>\n",
       "      <th>d_rain_drizzle</th>\n",
       "      <th>d_snow_ice_pellets</th>\n",
       "      <th>d_hail</th>\n",
       "      <th>d_thunder</th>\n",
       "      <th>d_tornado_funnel_cloud</th>\n",
       "    </tr>\n",
       "  </thead>\n",
       "  <tbody>\n",
       "    <tr>\n",
       "      <th>count</th>\n",
       "      <td>184.000000</td>\n",
       "      <td>184.000000</td>\n",
       "      <td>184.000000</td>\n",
       "      <td>184.000000</td>\n",
       "      <td>184.000000</td>\n",
       "      <td>184.000000</td>\n",
       "      <td>184.000000</td>\n",
       "      <td>184.000000</td>\n",
       "      <td>184.0</td>\n",
       "      <td>184.0</td>\n",
       "      <td>184.000000</td>\n",
       "      <td>184.0</td>\n",
       "    </tr>\n",
       "    <tr>\n",
       "      <th>mean</th>\n",
       "      <td>83.638587</td>\n",
       "      <td>74.261957</td>\n",
       "      <td>1011.285870</td>\n",
       "      <td>6.848913</td>\n",
       "      <td>14.600543</td>\n",
       "      <td>411.208152</td>\n",
       "      <td>7.420707</td>\n",
       "      <td>0.505435</td>\n",
       "      <td>0.0</td>\n",
       "      <td>0.0</td>\n",
       "      <td>0.326087</td>\n",
       "      <td>0.0</td>\n",
       "    </tr>\n",
       "    <tr>\n",
       "      <th>std</th>\n",
       "      <td>3.776774</td>\n",
       "      <td>2.486679</td>\n",
       "      <td>3.786706</td>\n",
       "      <td>4.328909</td>\n",
       "      <td>5.845483</td>\n",
       "      <td>478.752650</td>\n",
       "      <td>24.639059</td>\n",
       "      <td>0.501335</td>\n",
       "      <td>0.0</td>\n",
       "      <td>0.0</td>\n",
       "      <td>0.470059</td>\n",
       "      <td>0.0</td>\n",
       "    </tr>\n",
       "    <tr>\n",
       "      <th>min</th>\n",
       "      <td>71.600000</td>\n",
       "      <td>65.800000</td>\n",
       "      <td>1000.300000</td>\n",
       "      <td>2.100000</td>\n",
       "      <td>6.000000</td>\n",
       "      <td>13.000000</td>\n",
       "      <td>0.000000</td>\n",
       "      <td>0.000000</td>\n",
       "      <td>0.0</td>\n",
       "      <td>0.0</td>\n",
       "      <td>0.000000</td>\n",
       "      <td>0.0</td>\n",
       "    </tr>\n",
       "    <tr>\n",
       "      <th>25%</th>\n",
       "      <td>81.400000</td>\n",
       "      <td>73.500000</td>\n",
       "      <td>1009.475000</td>\n",
       "      <td>3.975000</td>\n",
       "      <td>11.100000</td>\n",
       "      <td>20.000000</td>\n",
       "      <td>0.000000</td>\n",
       "      <td>0.000000</td>\n",
       "      <td>0.0</td>\n",
       "      <td>0.0</td>\n",
       "      <td>0.000000</td>\n",
       "      <td>0.0</td>\n",
       "    </tr>\n",
       "    <tr>\n",
       "      <th>50%</th>\n",
       "      <td>84.200000</td>\n",
       "      <td>74.400000</td>\n",
       "      <td>1012.100000</td>\n",
       "      <td>5.200000</td>\n",
       "      <td>13.000000</td>\n",
       "      <td>33.500000</td>\n",
       "      <td>0.000000</td>\n",
       "      <td>1.000000</td>\n",
       "      <td>0.0</td>\n",
       "      <td>0.0</td>\n",
       "      <td>0.000000</td>\n",
       "      <td>0.0</td>\n",
       "    </tr>\n",
       "    <tr>\n",
       "      <th>75%</th>\n",
       "      <td>86.800000</td>\n",
       "      <td>75.925000</td>\n",
       "      <td>1014.100000</td>\n",
       "      <td>7.925000</td>\n",
       "      <td>15.900000</td>\n",
       "      <td>999.900000</td>\n",
       "      <td>0.655000</td>\n",
       "      <td>1.000000</td>\n",
       "      <td>0.0</td>\n",
       "      <td>0.0</td>\n",
       "      <td>1.000000</td>\n",
       "      <td>0.0</td>\n",
       "    </tr>\n",
       "    <tr>\n",
       "      <th>max</th>\n",
       "      <td>89.600000</td>\n",
       "      <td>79.200000</td>\n",
       "      <td>1016.700000</td>\n",
       "      <td>21.700000</td>\n",
       "      <td>38.100000</td>\n",
       "      <td>999.900000</td>\n",
       "      <td>99.990000</td>\n",
       "      <td>1.000000</td>\n",
       "      <td>0.0</td>\n",
       "      <td>0.0</td>\n",
       "      <td>1.000000</td>\n",
       "      <td>0.0</td>\n",
       "    </tr>\n",
       "  </tbody>\n",
       "</table>\n",
       "</div>"
      ],
      "text/plain": [
       "           d_temp      d_dewp        d_stp      d_wdsp     d_mxpsd  \\\n",
       "count  184.000000  184.000000   184.000000  184.000000  184.000000   \n",
       "mean    83.638587   74.261957  1011.285870    6.848913   14.600543   \n",
       "std      3.776774    2.486679     3.786706    4.328909    5.845483   \n",
       "min     71.600000   65.800000  1000.300000    2.100000    6.000000   \n",
       "25%     81.400000   73.500000  1009.475000    3.975000   11.100000   \n",
       "50%     84.200000   74.400000  1012.100000    5.200000   13.000000   \n",
       "75%     86.800000   75.925000  1014.100000    7.925000   15.900000   \n",
       "max     89.600000   79.200000  1016.700000   21.700000   38.100000   \n",
       "\n",
       "           d_gust      d_prcp  d_rain_drizzle  d_snow_ice_pellets  d_hail  \\\n",
       "count  184.000000  184.000000      184.000000               184.0   184.0   \n",
       "mean   411.208152    7.420707        0.505435                 0.0     0.0   \n",
       "std    478.752650   24.639059        0.501335                 0.0     0.0   \n",
       "min     13.000000    0.000000        0.000000                 0.0     0.0   \n",
       "25%     20.000000    0.000000        0.000000                 0.0     0.0   \n",
       "50%     33.500000    0.000000        1.000000                 0.0     0.0   \n",
       "75%    999.900000    0.655000        1.000000                 0.0     0.0   \n",
       "max    999.900000   99.990000        1.000000                 0.0     0.0   \n",
       "\n",
       "        d_thunder  d_tornado_funnel_cloud  \n",
       "count  184.000000                   184.0  \n",
       "mean     0.326087                     0.0  \n",
       "std      0.470059                     0.0  \n",
       "min      0.000000                     0.0  \n",
       "25%      0.000000                     0.0  \n",
       "50%      0.000000                     0.0  \n",
       "75%      1.000000                     0.0  \n",
       "max      1.000000                     0.0  "
      ]
     },
     "execution_count": 16,
     "metadata": {},
     "output_type": "execute_result"
    }
   ],
   "source": [
    "ago_limpo = ago[(ago < 9999.9000).all(axis=1)]\n",
    "ago_limpo.describe()"
   ]
  },
  {
   "cell_type": "markdown",
   "metadata": {},
   "source": [
    "Considerando que outras variáveis tem ainda 999.9 e 99.99. Vamos remover."
   ]
  },
  {
   "cell_type": "code",
   "execution_count": 17,
   "metadata": {
    "collapsed": false
   },
   "outputs": [
    {
     "data": {
      "text/html": [
       "\n",
       "          <script src=\"/static/components/requirejs/require.js\"></script>\n",
       "          <script>\n",
       "            requirejs.config({\n",
       "              paths: {\n",
       "                base: '/static/base',\n",
       "              },\n",
       "            });\n",
       "          </script>\n",
       "          "
      ],
      "text/plain": [
       "<IPython.core.display.HTML object>"
      ]
     },
     "metadata": {},
     "output_type": "display_data"
    },
    {
     "data": {
      "text/html": [
       "<div>\n",
       "<table border=\"1\" class=\"dataframe\">\n",
       "  <thead>\n",
       "    <tr style=\"text-align: right;\">\n",
       "      <th></th>\n",
       "      <th>d_temp</th>\n",
       "      <th>d_dewp</th>\n",
       "      <th>d_stp</th>\n",
       "      <th>d_wdsp</th>\n",
       "      <th>d_mxpsd</th>\n",
       "      <th>d_gust</th>\n",
       "      <th>d_prcp</th>\n",
       "      <th>d_rain_drizzle</th>\n",
       "      <th>d_snow_ice_pellets</th>\n",
       "      <th>d_hail</th>\n",
       "      <th>d_thunder</th>\n",
       "      <th>d_tornado_funnel_cloud</th>\n",
       "    </tr>\n",
       "  </thead>\n",
       "  <tbody>\n",
       "    <tr>\n",
       "      <th>count</th>\n",
       "      <td>106.000000</td>\n",
       "      <td>106.000000</td>\n",
       "      <td>106.000000</td>\n",
       "      <td>106.000000</td>\n",
       "      <td>106.000000</td>\n",
       "      <td>106.000000</td>\n",
       "      <td>106.000000</td>\n",
       "      <td>106.000000</td>\n",
       "      <td>106.0</td>\n",
       "      <td>106.0</td>\n",
       "      <td>106.000000</td>\n",
       "      <td>106.0</td>\n",
       "    </tr>\n",
       "    <tr>\n",
       "      <th>mean</th>\n",
       "      <td>83.033019</td>\n",
       "      <td>74.204717</td>\n",
       "      <td>1009.863208</td>\n",
       "      <td>8.232075</td>\n",
       "      <td>16.722642</td>\n",
       "      <td>23.743396</td>\n",
       "      <td>1.467925</td>\n",
       "      <td>0.575472</td>\n",
       "      <td>0.0</td>\n",
       "      <td>0.0</td>\n",
       "      <td>0.386792</td>\n",
       "      <td>0.0</td>\n",
       "    </tr>\n",
       "    <tr>\n",
       "      <th>std</th>\n",
       "      <td>4.060371</td>\n",
       "      <td>2.755337</td>\n",
       "      <td>3.930596</td>\n",
       "      <td>4.714406</td>\n",
       "      <td>6.085319</td>\n",
       "      <td>8.387553</td>\n",
       "      <td>3.067361</td>\n",
       "      <td>0.496619</td>\n",
       "      <td>0.0</td>\n",
       "      <td>0.0</td>\n",
       "      <td>0.489329</td>\n",
       "      <td>0.0</td>\n",
       "    </tr>\n",
       "    <tr>\n",
       "      <th>min</th>\n",
       "      <td>72.400000</td>\n",
       "      <td>65.800000</td>\n",
       "      <td>1000.300000</td>\n",
       "      <td>2.100000</td>\n",
       "      <td>8.000000</td>\n",
       "      <td>13.000000</td>\n",
       "      <td>0.000000</td>\n",
       "      <td>0.000000</td>\n",
       "      <td>0.0</td>\n",
       "      <td>0.0</td>\n",
       "      <td>0.000000</td>\n",
       "      <td>0.0</td>\n",
       "    </tr>\n",
       "    <tr>\n",
       "      <th>25%</th>\n",
       "      <td>80.425000</td>\n",
       "      <td>73.325000</td>\n",
       "      <td>1007.450000</td>\n",
       "      <td>4.550000</td>\n",
       "      <td>13.000000</td>\n",
       "      <td>18.100000</td>\n",
       "      <td>0.000000</td>\n",
       "      <td>0.000000</td>\n",
       "      <td>0.0</td>\n",
       "      <td>0.0</td>\n",
       "      <td>0.000000</td>\n",
       "      <td>0.0</td>\n",
       "    </tr>\n",
       "    <tr>\n",
       "      <th>50%</th>\n",
       "      <td>83.700000</td>\n",
       "      <td>74.500000</td>\n",
       "      <td>1010.600000</td>\n",
       "      <td>6.800000</td>\n",
       "      <td>14.500000</td>\n",
       "      <td>20.000000</td>\n",
       "      <td>0.000000</td>\n",
       "      <td>1.000000</td>\n",
       "      <td>0.0</td>\n",
       "      <td>0.0</td>\n",
       "      <td>0.000000</td>\n",
       "      <td>0.0</td>\n",
       "    </tr>\n",
       "    <tr>\n",
       "      <th>75%</th>\n",
       "      <td>86.600000</td>\n",
       "      <td>76.000000</td>\n",
       "      <td>1012.875000</td>\n",
       "      <td>10.600000</td>\n",
       "      <td>21.000000</td>\n",
       "      <td>28.675000</td>\n",
       "      <td>1.137500</td>\n",
       "      <td>1.000000</td>\n",
       "      <td>0.0</td>\n",
       "      <td>0.0</td>\n",
       "      <td>1.000000</td>\n",
       "      <td>0.0</td>\n",
       "    </tr>\n",
       "    <tr>\n",
       "      <th>max</th>\n",
       "      <td>89.600000</td>\n",
       "      <td>79.200000</td>\n",
       "      <td>1016.700000</td>\n",
       "      <td>21.700000</td>\n",
       "      <td>38.100000</td>\n",
       "      <td>49.900000</td>\n",
       "      <td>13.430000</td>\n",
       "      <td>1.000000</td>\n",
       "      <td>0.0</td>\n",
       "      <td>0.0</td>\n",
       "      <td>1.000000</td>\n",
       "      <td>0.0</td>\n",
       "    </tr>\n",
       "  </tbody>\n",
       "</table>\n",
       "</div>"
      ],
      "text/plain": [
       "           d_temp      d_dewp        d_stp      d_wdsp     d_mxpsd  \\\n",
       "count  106.000000  106.000000   106.000000  106.000000  106.000000   \n",
       "mean    83.033019   74.204717  1009.863208    8.232075   16.722642   \n",
       "std      4.060371    2.755337     3.930596    4.714406    6.085319   \n",
       "min     72.400000   65.800000  1000.300000    2.100000    8.000000   \n",
       "25%     80.425000   73.325000  1007.450000    4.550000   13.000000   \n",
       "50%     83.700000   74.500000  1010.600000    6.800000   14.500000   \n",
       "75%     86.600000   76.000000  1012.875000   10.600000   21.000000   \n",
       "max     89.600000   79.200000  1016.700000   21.700000   38.100000   \n",
       "\n",
       "           d_gust      d_prcp  d_rain_drizzle  d_snow_ice_pellets  d_hail  \\\n",
       "count  106.000000  106.000000      106.000000               106.0   106.0   \n",
       "mean    23.743396    1.467925        0.575472                 0.0     0.0   \n",
       "std      8.387553    3.067361        0.496619                 0.0     0.0   \n",
       "min     13.000000    0.000000        0.000000                 0.0     0.0   \n",
       "25%     18.100000    0.000000        0.000000                 0.0     0.0   \n",
       "50%     20.000000    0.000000        1.000000                 0.0     0.0   \n",
       "75%     28.675000    1.137500        1.000000                 0.0     0.0   \n",
       "max     49.900000   13.430000        1.000000                 0.0     0.0   \n",
       "\n",
       "        d_thunder  d_tornado_funnel_cloud  \n",
       "count  106.000000                   106.0  \n",
       "mean     0.386792                     0.0  \n",
       "std      0.489329                     0.0  \n",
       "min      0.000000                     0.0  \n",
       "25%      0.000000                     0.0  \n",
       "50%      0.000000                     0.0  \n",
       "75%      1.000000                     0.0  \n",
       "max      1.000000                     0.0  "
      ]
     },
     "execution_count": 17,
     "metadata": {},
     "output_type": "execute_result"
    }
   ],
   "source": [
    "ago_limpo = ago_limpo[ago_limpo['d_gust']< 999.9]\n",
    "ago_limpo = ago_limpo[ago_limpo['d_prcp']< 99.99]\n",
    "ago_limpo.describe()"
   ]
  },
  {
   "cell_type": "code",
   "execution_count": 18,
   "metadata": {
    "collapsed": false
   },
   "outputs": [
    {
     "data": {
      "text/html": [
       "\n",
       "          <script src=\"/static/components/requirejs/require.js\"></script>\n",
       "          <script>\n",
       "            requirejs.config({\n",
       "              paths: {\n",
       "                base: '/static/base',\n",
       "              },\n",
       "            });\n",
       "          </script>\n",
       "          "
      ],
      "text/plain": [
       "<IPython.core.display.HTML object>"
      ]
     },
     "metadata": {},
     "output_type": "display_data"
    },
    {
     "data": {
      "image/png": "[encoded data removed]",
      "text/plain": [
       "<matplotlib.figure.Figure at 0x7f659044ef10>"
      ]
     },
     "metadata": {},
     "output_type": "display_data"
    }
   ],
   "source": [
    "import matplotlib.pyplot as plt  \n",
    "%matplotlib inline\n",
    "plt.rcParams['figure.figsize'] = [14, 8]  \n",
    "ago_limpo.d_prcp.hist()  \n",
    "plt.title(u'Distribuição da precipitação - AGO 2017 - região Houston')  \n",
    "plt.xlabel(u'Precipitação (polegadas)')  \n",
    "plt.show()  "
   ]
  },
  {
   "cell_type": "markdown",
   "metadata": {},
   "source": [
    "<p>Infelizmente, nesta exploração dos dados, vimos que teremos que adotar outra técnica, pois a remoção de instâncias com variáveis com regitros ausentes irá impactar muito a quantidade de registros. </p>"
   ]
  },
  {
   "cell_type": "markdown",
   "metadata": {},
   "source": [
    "<h2 style=\"color:blue;\">Intervalo Interquartil (IIQ)</h2>"
   ]
  },
  {
   "cell_type": "markdown",
   "metadata": {},
   "source": [
    "<p>Um critério para verificar chuvas fora do padrão, seria tratar como outliers e usar o IIQ. </p>\n",
    "\n",
    "<p>\n",
    "O <b>intervalo interquartil </b> é calculado com base no cálculo de quartis, sendo o primeiro quartil (inferior), o quartil intermediário (mediana), o terceiro quartil (superior), que estão ligados ao conceito de quantil. A diferença entre o quartil superior e o quartil inferior determina a intervalo interquartil.</p>"
   ]
  },
  {
   "cell_type": "code",
   "execution_count": 19,
   "metadata": {
    "collapsed": false
   },
   "outputs": [
    {
     "data": {
      "text/html": [
       "\n",
       "          <script src=\"/static/components/requirejs/require.js\"></script>\n",
       "          <script>\n",
       "            requirejs.config({\n",
       "              paths: {\n",
       "                base: '/static/base',\n",
       "              },\n",
       "            });\n",
       "          </script>\n",
       "          "
      ],
      "text/plain": [
       "<IPython.core.display.HTML object>"
      ]
     },
     "metadata": {},
     "output_type": "display_data"
    },
    {
     "data": {
      "text/html": [
       "<div>\n",
       "<table border=\"1\" class=\"dataframe\">\n",
       "  <thead>\n",
       "    <tr style=\"text-align: right;\">\n",
       "      <th></th>\n",
       "      <th>count</th>\n",
       "      <th>mean</th>\n",
       "      <th>std</th>\n",
       "      <th>min</th>\n",
       "      <th>25%</th>\n",
       "      <th>50%</th>\n",
       "      <th>75%</th>\n",
       "      <th>max</th>\n",
       "      <th>outliers</th>\n",
       "    </tr>\n",
       "  </thead>\n",
       "  <tbody>\n",
       "    <tr>\n",
       "      <th>d_prcp</th>\n",
       "      <td>106.0</td>\n",
       "      <td>1.467925</td>\n",
       "      <td>3.067361</td>\n",
       "      <td>0.0</td>\n",
       "      <td>0.0</td>\n",
       "      <td>0.0</td>\n",
       "      <td>1.1375</td>\n",
       "      <td>13.43</td>\n",
       "      <td>True</td>\n",
       "    </tr>\n",
       "  </tbody>\n",
       "</table>\n",
       "</div>"
      ],
      "text/plain": [
       "        count      mean       std  min  25%  50%     75%    max outliers\n",
       "d_prcp  106.0  1.467925  3.067361  0.0  0.0  0.0  1.1375  13.43     True"
      ]
     },
     "execution_count": 19,
     "metadata": {},
     "output_type": "execute_result"
    }
   ],
   "source": [
    "spread = ago_limpo.describe().T\n",
    "\n",
    "IQR = spread['75%'] - spread['25%']\n",
    "\n",
    "# create an outliers column which is either 3 IQRs below the first quartile or\n",
    "# 3 IQRs above the third quartile\n",
    "spread['outliers'] = (spread['min']<(spread['25%']-(3*IQR)))|(spread['max'] > (spread['75%']+3*IQR))\n",
    "\n",
    "spread.ix[spread.outliers,]  "
   ]
  },
  {
   "cell_type": "markdown",
   "metadata": {},
   "source": [
    "<p>Como esperado, a varível precipitação (prcp) apresentou instâncias como outliers, comprovando a existência de chuvas extremas no mês de agosto de 2017.</p> "
   ]
  },
  {
   "cell_type": "markdown",
   "metadata": {},
   "source": [
    "<h2 style=\"color:blue;\">Percentil a 99% como critério de precipitação extrema</h2>"
   ]
  },
  {
   "cell_type": "markdown",
   "metadata": {},
   "source": [
    "<p>Outro critério sugerido na literatura é calcular o percential a 99% considerando o clima da localidade.</p>\n",
    "\n",
    "<p>De acordo com \"Diretrizes sobre a definição e monitoramento de clima extremo e eventos climáticos extremos\" proposta pela Organização Meteorológica Mundial, o critério mais adotado para classificar a precipitação extrema, é calcular o percentil da precipitação acumulada a 0,99 em 24 horas.</p>\n",
    "\n",
    "<p>Vamos verificar em agosto de 2016.</p>"
   ]
  },
  {
   "cell_type": "code",
   "execution_count": 20,
   "metadata": {
    "collapsed": false
   },
   "outputs": [
    {
     "data": {
      "text/html": [
       "\n",
       "          <script src=\"/static/components/requirejs/require.js\"></script>\n",
       "          <script>\n",
       "            requirejs.config({\n",
       "              paths: {\n",
       "                base: '/static/base',\n",
       "              },\n",
       "            });\n",
       "          </script>\n",
       "          "
      ],
      "text/plain": [
       "<IPython.core.display.HTML object>"
      ]
     },
     "metadata": {},
     "output_type": "display_data"
    }
   ],
   "source": [
    "%sql --module j_houston_2016\n",
    "SELECT d.prcp FROM [bigquery-public-data:noaa_gsod.gsod2016] d\n",
    "  JOIN [bigquery-public-data:noaa_gsod.stations] ws\n",
    "  ON d.stn = ws.usaf\n",
    "    and d.wban = ws.wban\n",
    "  JOIN (SELECT usaf, wban, CONCAT(STRING(INTEGER(lat + 90 * 1000 /100)), '-' ,  STRING (INTEGER(lon + 180 * 1000 /100))) as bucket \n",
    "  FROM  [bigquery-public-data:noaa_gsod.stations] \n",
    " where country = 'US'\n",
    "    and FLOAT(lat) > -90.0 and FLOAT(lat) < 90.0\n",
    "    and FLOAT(lon) > -180.0 and FLOAT(lon) < 180.0\n",
    "    and  CONCAT(STRING(INTEGER(lat + 90 * 1000 /100)), '-' ,  STRING (INTEGER(lon + 180 * 1000 /100))) = '929-1704'\n",
    "order by bucket) b\n",
    "    on b.usaf = ws.usaf\n",
    "   and b.wban = ws.wban\n",
    "where ws.state is not null\n",
    "and ws.country = 'US'\n",
    "and d.prcp < 99.99\n",
    "and INTEGER(d.mo) = 8"
   ]
  },
  {
   "cell_type": "code",
   "execution_count": 21,
   "metadata": {
    "collapsed": false
   },
   "outputs": [
    {
     "data": {
      "text/html": [
       "\n",
       "          <script src=\"/static/components/requirejs/require.js\"></script>\n",
       "          <script>\n",
       "            requirejs.config({\n",
       "              paths: {\n",
       "                base: '/static/base',\n",
       "              },\n",
       "            });\n",
       "          </script>\n",
       "          "
      ],
      "text/plain": [
       "<IPython.core.display.HTML object>"
      ]
     },
     "metadata": {},
     "output_type": "display_data"
    },
    {
     "data": {
      "image/png": "[encoded data removed]",
      "text/plain": [
       "<matplotlib.figure.Figure at 0x7f6590343d90>"
      ]
     },
     "metadata": {},
     "output_type": "display_data"
    }
   ],
   "source": [
    "ago_2016 = bq.Query(j_houston_2016).to_dataframe()\n",
    "%matplotlib inline\n",
    "plt.rcParams['figure.figsize'] = [14, 8]  \n",
    "ago_2016.d_prcp.hist()  \n",
    "plt.title(u'Distribuição da precipitação - AGO 2016 - região Houston')  \n",
    "plt.xlabel(u'Precipitação (polegadas)')  \n",
    "plt.show()  "
   ]
  },
  {
   "cell_type": "code",
   "execution_count": 22,
   "metadata": {
    "collapsed": false
   },
   "outputs": [
    {
     "data": {
      "text/html": [
       "\n",
       "          <script src=\"/static/components/requirejs/require.js\"></script>\n",
       "          <script>\n",
       "            requirejs.config({\n",
       "              paths: {\n",
       "                base: '/static/base',\n",
       "              },\n",
       "            });\n",
       "          </script>\n",
       "          "
      ],
      "text/plain": [
       "<IPython.core.display.HTML object>"
      ]
     },
     "metadata": {},
     "output_type": "display_data"
    },
    {
     "name": "stdout",
     "output_type": "stream",
     "text": [
      "1.9364\n"
     ]
    }
   ],
   "source": [
    "import numpy as np\n",
    "p = np.percentile(ago_2016['d_prcp'], 99) # return 99%th percentile\n",
    "print p"
   ]
  },
  {
   "cell_type": "markdown",
   "metadata": {},
   "source": [
    "<p>Calculando na estação passada (ano 2016), o percentil foi 1.9364 polegadas, muito próximo da literatura brasileira, 50 mm/24h.</p>\n",
    "\n",
    "<p>No estado do Rio de janeiro, usando redes neurais pesquisadores obtiveram uma acurácia de 55%, um ganho de 67% comparado com modelo predição ordinário, dados 2000 a 2010, utilizando o liminar de 50 mm/24h (Dolif Neto e Nobre, 2012).</p>"
   ]
  },
  {
   "cell_type": "code",
   "execution_count": 23,
   "metadata": {
    "collapsed": false
   },
   "outputs": [
    {
     "data": {
      "text/html": [
       "\n",
       "          <script src=\"/static/components/requirejs/require.js\"></script>\n",
       "          <script>\n",
       "            requirejs.config({\n",
       "              paths: {\n",
       "                base: '/static/base',\n",
       "              },\n",
       "            });\n",
       "          </script>\n",
       "          "
      ],
      "text/plain": [
       "<IPython.core.display.HTML object>"
      ]
     },
     "metadata": {},
     "output_type": "display_data"
    },
    {
     "data": {
      "text/plain": [
       "21"
      ]
     },
     "execution_count": 23,
     "metadata": {},
     "output_type": "execute_result"
    }
   ],
   "source": [
    "prcp_extreme = ago_limpo[ago_limpo['d_prcp']> 1.9364]\n",
    "len (prcp_extreme)"
   ]
  },
  {
   "cell_type": "markdown",
   "metadata": {},
   "source": [
    "<p> In Houston houve 21 eventos de precipitação extrema no mês de agosto 2017, considerando o critério percential a 99% em relação ao ano de 2016.</p>"
   ]
  },
  {
   "cell_type": "markdown",
   "metadata": {},
   "source": [
    "<h2 style=\"color:blue;\">Criando o dataset para treinamento e validação</h2>"
   ]
  },
  {
   "cell_type": "markdown",
   "metadata": {},
   "source": [
    "<p>Vamos selecionar para treinamento e validação os meses de agosto de 1985 até 2015 desta região.</p>"
   ]
  },
  {
   "cell_type": "code",
   "execution_count": 24,
   "metadata": {
    "collapsed": false
   },
   "outputs": [
    {
     "data": {
      "text/html": [
       "\n",
       "          <script src=\"/static/components/requirejs/require.js\"></script>\n",
       "          <script>\n",
       "            requirejs.config({\n",
       "              paths: {\n",
       "                base: '/static/base',\n",
       "              },\n",
       "            });\n",
       "          </script>\n",
       "          "
      ],
      "text/plain": [
       "<IPython.core.display.HTML object>"
      ]
     },
     "metadata": {},
     "output_type": "display_data"
    }
   ],
   "source": [
    "def create_query(year):\n",
    "  base_query = \"\"\"\n",
    "          SELECT d.stn, d.da, d.mo, d.year, d.temp, d.dewp, d.stp, d.wdsp, d.mxpsd, d.gust, d.prcp, d.rain_drizzle, d.snow_ice_pellets, d.hail, d.thunder, d.tornado_funnel_cloud \n",
    "          FROM \n",
    "            [bigquery-public-data:noaa_gsod.gsod{0}] d\n",
    "            JOIN [bigquery-public-data:noaa_gsod.stations] ws\n",
    "            ON d.stn = ws.usaf\n",
    "              and d.wban = ws.wban\n",
    "            JOIN (SELECT usaf, wban, CONCAT(STRING(INTEGER(lat + 90 * 1000 /100)), '-' ,  STRING (INTEGER(lon + 180 * 1000 /100))) as bucket \n",
    "            FROM  [bigquery-public-data:noaa_gsod.stations] \n",
    "           where country = 'US'\n",
    "              and FLOAT(lat) > -90.0 and FLOAT(lat) < 90.0\n",
    "              and FLOAT(lon) > -180.0 and FLOAT(lon) < 180.0\n",
    "              and  CONCAT(STRING(INTEGER(lat + 90 * 1000 /100)), '-' ,  STRING (INTEGER(lon + 180 * 1000 /100))) = '929-1704'\n",
    "          order by bucket) b\n",
    "              on b.usaf = ws.usaf\n",
    "             and b.wban = ws.wban\n",
    "          where ws.state is not null\n",
    "          and ws.country = 'US'\n",
    "          and INTEGER(d.mo) = 8\n",
    "          order by d.stn, d.da\n",
    "    \"\"\"\n",
    "  query = base_query.format(year)\n",
    "  return query\n",
    "\n",
    "df = pd.DataFrame([])\n",
    "\n",
    "for y in range(1985,2016):\n",
    "  r = bq.Query(create_query(y)).to_dataframe()\n",
    "  df = df.append(r)"
   ]
  },
  {
   "cell_type": "markdown",
   "metadata": {},
   "source": [
    "<h3 style=\"color:red;\">Verificando a distribuição do conjunto de treinamento e validação</h3>"
   ]
  },
  {
   "cell_type": "code",
   "execution_count": 25,
   "metadata": {
    "collapsed": false
   },
   "outputs": [
    {
     "data": {
      "text/html": [
       "\n",
       "          <script src=\"/static/components/requirejs/require.js\"></script>\n",
       "          <script>\n",
       "            requirejs.config({\n",
       "              paths: {\n",
       "                base: '/static/base',\n",
       "              },\n",
       "            });\n",
       "          </script>\n",
       "          "
      ],
      "text/plain": [
       "<IPython.core.display.HTML object>"
      ]
     },
     "metadata": {},
     "output_type": "display_data"
    },
    {
     "data": {
      "image/png": "[encoded data removed]",
      "text/plain": [
       "<matplotlib.figure.Figure at 0x7f6589bfe290>"
      ]
     },
     "metadata": {},
     "output_type": "display_data"
    }
   ],
   "source": [
    "import matplotlib.pyplot as plt  \n",
    "%matplotlib inline\n",
    "plt.rcParams['figure.figsize'] = [14, 8]  \n",
    "prcp30_limpo = df[df['d_prcp']< 99.99]\n",
    "prcp30_limpo.d_prcp.hist()  \n",
    "plt.title(u'Distribuição da precipitação - AGO 1985 a 2015 - região Houston')  \n",
    "plt.xlabel(u'Precipitação (polegadas)')  \n",
    "plt.show()  "
   ]
  },
  {
   "cell_type": "markdown",
   "metadata": {},
   "source": [
    "<h3 style=\"color:red;\">Limiar para classificar a precipitação como extrema do conjunto de treinamento e validação</h3>"
   ]
  },
  {
   "cell_type": "code",
   "execution_count": 26,
   "metadata": {
    "collapsed": false
   },
   "outputs": [
    {
     "data": {
      "text/html": [
       "\n",
       "          <script src=\"/static/components/requirejs/require.js\"></script>\n",
       "          <script>\n",
       "            requirejs.config({\n",
       "              paths: {\n",
       "                base: '/static/base',\n",
       "              },\n",
       "            });\n",
       "          </script>\n",
       "          "
      ],
      "text/plain": [
       "<IPython.core.display.HTML object>"
      ]
     },
     "metadata": {},
     "output_type": "display_data"
    },
    {
     "name": "stdout",
     "output_type": "stream",
     "text": [
      "1.6548\n"
     ]
    }
   ],
   "source": [
    "import numpy as np\n",
    "p = np.percentile(prcp30_limpo['d_prcp'], 99) # return 99%th percentile\n",
    "print p"
   ]
  },
  {
   "cell_type": "markdown",
   "metadata": {},
   "source": [
    "<p>Considerando os últimos 30 anos o limiar é 1.65 polegadas. Comparando com 2016 é limiar mais baixo, 2016 teve um agosto bem mais chuvoso e com mais eventos extremos que a média dos últimos anos</p>"
   ]
  },
  {
   "cell_type": "markdown",
   "metadata": {},
   "source": [
    "<h3 style=\"color:red;\">Medindo a quantidade de chuvas extremas no período</h3>"
   ]
  },
  {
   "cell_type": "code",
   "execution_count": 27,
   "metadata": {
    "collapsed": false
   },
   "outputs": [
    {
     "data": {
      "text/html": [
       "\n",
       "          <script src=\"/static/components/requirejs/require.js\"></script>\n",
       "          <script>\n",
       "            requirejs.config({\n",
       "              paths: {\n",
       "                base: '/static/base',\n",
       "              },\n",
       "            });\n",
       "          </script>\n",
       "          "
      ],
      "text/plain": [
       "<IPython.core.display.HTML object>"
      ]
     },
     "metadata": {},
     "output_type": "display_data"
    },
    {
     "data": {
      "image/png": "[encoded data removed]",
      "text/plain": [
       "<matplotlib.figure.Figure at 0x7f65cc0084d0>"
      ]
     },
     "metadata": {},
     "output_type": "display_data"
    }
   ],
   "source": [
    "extreme = prcp30_limpo[prcp30_limpo['d_prcp']> 1.6548] \n",
    "r = extreme.groupby(['d_year'])['d_prcp'].count()\n",
    "r.plot.bar()\n",
    "plt.title(u'Preciptações extremas - AGO 1985 a 2015 - região Houston - limiar (99%)')  \n",
    "plt.ylabel(u'Qtde')  \n",
    "plt.xlabel(u'Ano')  \n",
    "plt.show()"
   ]
  },
  {
   "cell_type": "markdown",
   "metadata": {},
   "source": [
    "<h2 style=\"color:blue;\">Feature engineering</h2>"
   ]
  },
  {
   "cell_type": "markdown",
   "metadata": {},
   "source": [
    "<p>O objetivo é realizar a previsão destes eventos usando as variáveis de 3 dias atrás. No estudo de Dolif Neto e Nobre (2012) foram extraídas variavéis também de 3 dias atrás dos fenômenos precipitações extremas. Assim vamos derivar as variáveis de 3 dias atrás antes do fenômeno. Inicialente <b>vamos derivar somente a precipitação</b>, testar e depois fazer para todas as varíaveis</p>"
   ]
  },
  {
   "cell_type": "code",
   "execution_count": 28,
   "metadata": {
    "collapsed": false
   },
   "outputs": [
    {
     "data": {
      "text/html": [
       "\n",
       "          <script src=\"/static/components/requirejs/require.js\"></script>\n",
       "          <script>\n",
       "            requirejs.config({\n",
       "              paths: {\n",
       "                base: '/static/base',\n",
       "              },\n",
       "            });\n",
       "          </script>\n",
       "          "
      ],
      "text/plain": [
       "<IPython.core.display.HTML object>"
      ]
     },
     "metadata": {},
     "output_type": "display_data"
    }
   ],
   "source": [
    "prcp30_limpo = prcp30_limpo.apply(pd.to_numeric, errors='coerce')  \n",
    "\n",
    "tmp = prcp30_limpo[['d_stn','d_da','d_mo','d_year','d_prcp']]\n",
    "tmp = tmp.sort_values(['d_year','d_stn','d_da'])\n",
    "tmp = tmp.reset_index(drop=True)"
   ]
  },
  {
   "cell_type": "code",
   "execution_count": 29,
   "metadata": {
    "collapsed": false
   },
   "outputs": [
    {
     "data": {
      "text/html": [
       "\n",
       "          <script src=\"/static/components/requirejs/require.js\"></script>\n",
       "          <script>\n",
       "            requirejs.config({\n",
       "              paths: {\n",
       "                base: '/static/base',\n",
       "              },\n",
       "            });\n",
       "          </script>\n",
       "          "
      ],
      "text/plain": [
       "<IPython.core.display.HTML object>"
      ]
     },
     "metadata": {},
     "output_type": "display_data"
    },
    {
     "data": {
      "text/html": [
       "<div>\n",
       "<table border=\"1\" class=\"dataframe\">\n",
       "  <thead>\n",
       "    <tr style=\"text-align: right;\">\n",
       "      <th></th>\n",
       "      <th>d_stn</th>\n",
       "      <th>d_da</th>\n",
       "      <th>d_mo</th>\n",
       "      <th>d_year</th>\n",
       "      <th>d_prcp</th>\n",
       "      <th>d_prcp_1</th>\n",
       "    </tr>\n",
       "  </thead>\n",
       "  <tbody>\n",
       "    <tr>\n",
       "      <th>0</th>\n",
       "      <td>722430</td>\n",
       "      <td>1</td>\n",
       "      <td>8</td>\n",
       "      <td>1985</td>\n",
       "      <td>0.00</td>\n",
       "      <td>NaN</td>\n",
       "    </tr>\n",
       "    <tr>\n",
       "      <th>1</th>\n",
       "      <td>722430</td>\n",
       "      <td>2</td>\n",
       "      <td>8</td>\n",
       "      <td>1985</td>\n",
       "      <td>0.00</td>\n",
       "      <td>0.00</td>\n",
       "    </tr>\n",
       "    <tr>\n",
       "      <th>2</th>\n",
       "      <td>722430</td>\n",
       "      <td>3</td>\n",
       "      <td>8</td>\n",
       "      <td>1985</td>\n",
       "      <td>0.22</td>\n",
       "      <td>0.00</td>\n",
       "    </tr>\n",
       "    <tr>\n",
       "      <th>3</th>\n",
       "      <td>722430</td>\n",
       "      <td>4</td>\n",
       "      <td>8</td>\n",
       "      <td>1985</td>\n",
       "      <td>0.00</td>\n",
       "      <td>0.22</td>\n",
       "    </tr>\n",
       "    <tr>\n",
       "      <th>4</th>\n",
       "      <td>722430</td>\n",
       "      <td>5</td>\n",
       "      <td>8</td>\n",
       "      <td>1985</td>\n",
       "      <td>0.00</td>\n",
       "      <td>0.00</td>\n",
       "    </tr>\n",
       "    <tr>\n",
       "      <th>5</th>\n",
       "      <td>722430</td>\n",
       "      <td>6</td>\n",
       "      <td>8</td>\n",
       "      <td>1985</td>\n",
       "      <td>0.00</td>\n",
       "      <td>0.00</td>\n",
       "    </tr>\n",
       "    <tr>\n",
       "      <th>6</th>\n",
       "      <td>722430</td>\n",
       "      <td>7</td>\n",
       "      <td>8</td>\n",
       "      <td>1985</td>\n",
       "      <td>0.00</td>\n",
       "      <td>0.00</td>\n",
       "    </tr>\n",
       "    <tr>\n",
       "      <th>7</th>\n",
       "      <td>722430</td>\n",
       "      <td>8</td>\n",
       "      <td>8</td>\n",
       "      <td>1985</td>\n",
       "      <td>0.11</td>\n",
       "      <td>0.00</td>\n",
       "    </tr>\n",
       "    <tr>\n",
       "      <th>8</th>\n",
       "      <td>722430</td>\n",
       "      <td>9</td>\n",
       "      <td>8</td>\n",
       "      <td>1985</td>\n",
       "      <td>0.01</td>\n",
       "      <td>0.11</td>\n",
       "    </tr>\n",
       "    <tr>\n",
       "      <th>9</th>\n",
       "      <td>722430</td>\n",
       "      <td>10</td>\n",
       "      <td>8</td>\n",
       "      <td>1985</td>\n",
       "      <td>0.00</td>\n",
       "      <td>0.01</td>\n",
       "    </tr>\n",
       "  </tbody>\n",
       "</table>\n",
       "</div>"
      ],
      "text/plain": [
       "    d_stn  d_da  d_mo  d_year  d_prcp  d_prcp_1\n",
       "0  722430     1     8    1985    0.00       NaN\n",
       "1  722430     2     8    1985    0.00      0.00\n",
       "2  722430     3     8    1985    0.22      0.00\n",
       "3  722430     4     8    1985    0.00      0.22\n",
       "4  722430     5     8    1985    0.00      0.00\n",
       "5  722430     6     8    1985    0.00      0.00\n",
       "6  722430     7     8    1985    0.00      0.00\n",
       "7  722430     8     8    1985    0.11      0.00\n",
       "8  722430     9     8    1985    0.01      0.11\n",
       "9  722430    10     8    1985    0.00      0.01"
      ]
     },
     "execution_count": 29,
     "metadata": {},
     "output_type": "execute_result"
    }
   ],
   "source": [
    "N = 1 #1 dia antes\n",
    "feature = 'd_prcp'\n",
    "\n",
    "nth_prior =[]\n",
    "\n",
    "# Devirando a variavel para uma lista representando a enesima valor da variavel, se for o primeiro dia não terá dia anterior.\n",
    "for y in range(1985,2016):\n",
    "  df_year = tmp[tmp['d_year']== y]\n",
    "  df_year = df_year.reset_index(drop=True)\n",
    "  rows = df_year.shape[0]\n",
    "  prior= [None]*N + [df_year[feature][i-N] for i in range(N, rows)]\n",
    "  nth_prior = nth_prior + prior\n",
    "  \n",
    "col_name = \"{}_{}\".format(feature, N)  \n",
    "tmp[col_name] = nth_prior  \n",
    "tmp[:10]   "
   ]
  },
  {
   "cell_type": "markdown",
   "metadata": {},
   "source": [
    "<p>Veja que para a estação ID 722430 no dia 4/8/1985, a precipitação do dia anterior (d_prcp_1) é exatamente o valor medido no dia 03/08/1985. Agora vamos fazer isto para todas as variaveis.</p>"
   ]
  },
  {
   "cell_type": "code",
   "execution_count": 30,
   "metadata": {
    "collapsed": false
   },
   "outputs": [
    {
     "data": {
      "text/html": [
       "\n",
       "          <script src=\"/static/components/requirejs/require.js\"></script>\n",
       "          <script>\n",
       "            requirejs.config({\n",
       "              paths: {\n",
       "                base: '/static/base',\n",
       "              },\n",
       "            });\n",
       "          </script>\n",
       "          "
      ],
      "text/plain": [
       "<IPython.core.display.HTML object>"
      ]
     },
     "metadata": {},
     "output_type": "display_data"
    },
    {
     "data": {
      "text/plain": [
       "Index([                   u'd_stn',                     u'd_da',\n",
       "                           u'd_mo',                   u'd_year',\n",
       "                         u'd_temp',                   u'd_dewp',\n",
       "                          u'd_stp',                   u'd_wdsp',\n",
       "                        u'd_mxpsd',                   u'd_gust',\n",
       "                         u'd_prcp',           u'd_rain_drizzle',\n",
       "             u'd_snow_ice_pellets',                   u'd_hail',\n",
       "                      u'd_thunder',   u'd_tornado_funnel_cloud',\n",
       "                       u'd_temp_1',                 u'd_temp_2',\n",
       "                       u'd_temp_3',                 u'd_dewp_1',\n",
       "                       u'd_dewp_2',                 u'd_dewp_3',\n",
       "                        u'd_stp_1',                  u'd_stp_2',\n",
       "                        u'd_stp_3',                 u'd_wdsp_1',\n",
       "                       u'd_wdsp_2',                 u'd_wdsp_3',\n",
       "                      u'd_mxpsd_1',                u'd_mxpsd_2',\n",
       "                      u'd_mxpsd_3',                 u'd_gust_1',\n",
       "                       u'd_gust_2',                 u'd_gust_3',\n",
       "                       u'd_prcp_1',                 u'd_prcp_2',\n",
       "                       u'd_prcp_3',         u'd_rain_drizzle_1',\n",
       "               u'd_rain_drizzle_2',         u'd_rain_drizzle_3',\n",
       "           u'd_snow_ice_pellets_1',     u'd_snow_ice_pellets_2',\n",
       "           u'd_snow_ice_pellets_3',                 u'd_hail_1',\n",
       "                       u'd_hail_2',                 u'd_hail_3',\n",
       "                    u'd_thunder_1',              u'd_thunder_2',\n",
       "                    u'd_thunder_3', u'd_tornado_funnel_cloud_1',\n",
       "       u'd_tornado_funnel_cloud_2', u'd_tornado_funnel_cloud_3'],\n",
       "      dtype='object')"
      ]
     },
     "execution_count": 30,
     "metadata": {},
     "output_type": "execute_result"
    }
   ],
   "source": [
    "def derivar_valor_anterior(df, dias, variavel):\n",
    "  N = dias\n",
    "  feature = variavel\n",
    "  tmp = df\n",
    "\n",
    "  nth_prior =[]\n",
    "\n",
    "  # Devirando a variavel para uma lista representando a enesima valor da variavel, se for o primeiro dia não terá dia anterior.\n",
    "  for y in range(1985,2016):\n",
    "    df_year = tmp[tmp['d_year']== y]\n",
    "    df_year = df_year.reset_index(drop=True)\n",
    "    rows = df_year.shape[0]\n",
    "    prior= [None]*N + [df_year[feature][i-N] for i in range(N, rows)]\n",
    "    nth_prior = nth_prior + prior\n",
    "\n",
    "  col_name = \"{}_{}\".format(feature, N)  \n",
    "  tmp[col_name] = nth_prior\n",
    "\n",
    "\n",
    "df_dev = df.apply(pd.to_numeric, errors='coerce')  \n",
    "df_dev = df_dev.sort_values(['d_year','d_stn','d_da'])\n",
    "df_dev = df_dev.reset_index(drop=True)\n",
    "  \n",
    "for var in list(df_dev):\n",
    "  if var not in ['d_stn','d_da','d_mo','d_year']:\n",
    "    for N in range(1, 4):\n",
    "      derivar_valor_anterior(df_dev,N,var)\n",
    "\n",
    "df_dev.columns "
   ]
  },
  {
   "cell_type": "markdown",
   "metadata": {},
   "source": [
    "<p>Pronto! Agora temos variaveis respectivas de 1, 2, 3 dias atrás. Exemplo: d_prcp_1, d_prcp_2, d_prcp_3 referentes a precipitação 1, 2 e 3 dias atrás respectivamente.</p>"
   ]
  },
  {
   "cell_type": "markdown",
   "metadata": {},
   "source": [
    "<h2 style=\"color:blue;\">Limpeza dos dados</h2>"
   ]
  },
  {
   "cell_type": "markdown",
   "metadata": {},
   "source": [
    "<p>Conforme dito anteriormente, existem muitos dados ausentes para algumas variáveis. Podemos excluir as instâncias, mas precisamos ver se perderíamos muitos dados</p>"
   ]
  },
  {
   "cell_type": "code",
   "execution_count": 31,
   "metadata": {
    "collapsed": false
   },
   "outputs": [
    {
     "data": {
      "text/html": [
       "\n",
       "          <script src=\"/static/components/requirejs/require.js\"></script>\n",
       "          <script>\n",
       "            requirejs.config({\n",
       "              paths: {\n",
       "                base: '/static/base',\n",
       "              },\n",
       "            });\n",
       "          </script>\n",
       "          "
      ],
      "text/plain": [
       "<IPython.core.display.HTML object>"
      ]
     },
     "metadata": {},
     "output_type": "display_data"
    },
    {
     "name": "stdout",
     "output_type": "stream",
     "text": [
      "<class 'pandas.core.frame.DataFrame'>\n",
      "RangeIndex: 5197 entries, 0 to 5196\n",
      "Data columns (total 52 columns):\n",
      "d_stn                       5197 non-null int64\n",
      "d_da                        5197 non-null int64\n",
      "d_mo                        5197 non-null int64\n",
      "d_year                      5197 non-null int64\n",
      "d_temp                      5197 non-null float64\n",
      "d_dewp                      5197 non-null float64\n",
      "d_stp                       5197 non-null float64\n",
      "d_wdsp                      5197 non-null float64\n",
      "d_mxpsd                     5197 non-null float64\n",
      "d_gust                      5197 non-null float64\n",
      "d_prcp                      5197 non-null float64\n",
      "d_rain_drizzle              5197 non-null int64\n",
      "d_snow_ice_pellets          5197 non-null int64\n",
      "d_hail                      5197 non-null int64\n",
      "d_thunder                   5197 non-null int64\n",
      "d_tornado_funnel_cloud      5197 non-null int64\n",
      "d_temp_1                    5166 non-null float64\n",
      "d_temp_2                    5135 non-null float64\n",
      "d_temp_3                    5104 non-null float64\n",
      "d_dewp_1                    5166 non-null float64\n",
      "d_dewp_2                    5135 non-null float64\n",
      "d_dewp_3                    5104 non-null float64\n",
      "d_stp_1                     5166 non-null float64\n",
      "d_stp_2                     5135 non-null float64\n",
      "d_stp_3                     5104 non-null float64\n",
      "d_wdsp_1                    5166 non-null float64\n",
      "d_wdsp_2                    5135 non-null float64\n",
      "d_wdsp_3                    5104 non-null float64\n",
      "d_mxpsd_1                   5166 non-null float64\n",
      "d_mxpsd_2                   5135 non-null float64\n",
      "d_mxpsd_3                   5104 non-null float64\n",
      "d_gust_1                    5166 non-null float64\n",
      "d_gust_2                    5135 non-null float64\n",
      "d_gust_3                    5104 non-null float64\n",
      "d_prcp_1                    5166 non-null float64\n",
      "d_prcp_2                    5135 non-null float64\n",
      "d_prcp_3                    5104 non-null float64\n",
      "d_rain_drizzle_1            5166 non-null float64\n",
      "d_rain_drizzle_2            5135 non-null float64\n",
      "d_rain_drizzle_3            5104 non-null float64\n",
      "d_snow_ice_pellets_1        5166 non-null float64\n",
      "d_snow_ice_pellets_2        5135 non-null float64\n",
      "d_snow_ice_pellets_3        5104 non-null float64\n",
      "d_hail_1                    5166 non-null float64\n",
      "d_hail_2                    5135 non-null float64\n",
      "d_hail_3                    5104 non-null float64\n",
      "d_thunder_1                 5166 non-null float64\n",
      "d_thunder_2                 5135 non-null float64\n",
      "d_thunder_3                 5104 non-null float64\n",
      "d_tornado_funnel_cloud_1    5166 non-null float64\n",
      "d_tornado_funnel_cloud_2    5135 non-null float64\n",
      "d_tornado_funnel_cloud_3    5104 non-null float64\n",
      "dtypes: float64(43), int64(9)\n",
      "memory usage: 2.1 MB\n"
     ]
    }
   ],
   "source": [
    "df_dev = df_dev.apply(pd.to_numeric, errors='coerce')  \n",
    "df_dev.info()"
   ]
  },
  {
   "cell_type": "code",
   "execution_count": 32,
   "metadata": {
    "collapsed": false
   },
   "outputs": [
    {
     "data": {
      "text/html": [
       "\n",
       "          <script src=\"/static/components/requirejs/require.js\"></script>\n",
       "          <script>\n",
       "            requirejs.config({\n",
       "              paths: {\n",
       "                base: '/static/base',\n",
       "              },\n",
       "            });\n",
       "          </script>\n",
       "          "
      ],
      "text/plain": [
       "<IPython.core.display.HTML object>"
      ]
     },
     "metadata": {},
     "output_type": "display_data"
    },
    {
     "data": {
      "text/html": [
       "<div>\n",
       "<table border=\"1\" class=\"dataframe\">\n",
       "  <thead>\n",
       "    <tr style=\"text-align: right;\">\n",
       "      <th></th>\n",
       "      <th>d_stn</th>\n",
       "      <th>d_da</th>\n",
       "      <th>d_mo</th>\n",
       "      <th>d_year</th>\n",
       "      <th>d_temp</th>\n",
       "      <th>d_dewp</th>\n",
       "      <th>d_stp</th>\n",
       "      <th>d_wdsp</th>\n",
       "      <th>d_mxpsd</th>\n",
       "      <th>d_gust</th>\n",
       "      <th>...</th>\n",
       "      <th>d_snow_ice_pellets_3</th>\n",
       "      <th>d_hail_1</th>\n",
       "      <th>d_hail_2</th>\n",
       "      <th>d_hail_3</th>\n",
       "      <th>d_thunder_1</th>\n",
       "      <th>d_thunder_2</th>\n",
       "      <th>d_thunder_3</th>\n",
       "      <th>d_tornado_funnel_cloud_1</th>\n",
       "      <th>d_tornado_funnel_cloud_2</th>\n",
       "      <th>d_tornado_funnel_cloud_3</th>\n",
       "    </tr>\n",
       "  </thead>\n",
       "  <tbody>\n",
       "    <tr>\n",
       "      <th>0</th>\n",
       "      <td>722430</td>\n",
       "      <td>1</td>\n",
       "      <td>8</td>\n",
       "      <td>1985</td>\n",
       "      <td>84.7</td>\n",
       "      <td>73.2</td>\n",
       "      <td>1012.8</td>\n",
       "      <td>5.4</td>\n",
       "      <td>9.9</td>\n",
       "      <td>999.9</td>\n",
       "      <td>...</td>\n",
       "      <td>NaN</td>\n",
       "      <td>NaN</td>\n",
       "      <td>NaN</td>\n",
       "      <td>NaN</td>\n",
       "      <td>NaN</td>\n",
       "      <td>NaN</td>\n",
       "      <td>NaN</td>\n",
       "      <td>NaN</td>\n",
       "      <td>NaN</td>\n",
       "      <td>NaN</td>\n",
       "    </tr>\n",
       "    <tr>\n",
       "      <th>1</th>\n",
       "      <td>722430</td>\n",
       "      <td>2</td>\n",
       "      <td>8</td>\n",
       "      <td>1985</td>\n",
       "      <td>86.3</td>\n",
       "      <td>73.7</td>\n",
       "      <td>1010.8</td>\n",
       "      <td>5.6</td>\n",
       "      <td>8.9</td>\n",
       "      <td>999.9</td>\n",
       "      <td>...</td>\n",
       "      <td>NaN</td>\n",
       "      <td>0.0</td>\n",
       "      <td>NaN</td>\n",
       "      <td>NaN</td>\n",
       "      <td>0.0</td>\n",
       "      <td>NaN</td>\n",
       "      <td>NaN</td>\n",
       "      <td>0.0</td>\n",
       "      <td>NaN</td>\n",
       "      <td>NaN</td>\n",
       "    </tr>\n",
       "    <tr>\n",
       "      <th>2</th>\n",
       "      <td>722430</td>\n",
       "      <td>3</td>\n",
       "      <td>8</td>\n",
       "      <td>1985</td>\n",
       "      <td>81.1</td>\n",
       "      <td>72.3</td>\n",
       "      <td>1011.2</td>\n",
       "      <td>4.0</td>\n",
       "      <td>19.0</td>\n",
       "      <td>32.1</td>\n",
       "      <td>...</td>\n",
       "      <td>NaN</td>\n",
       "      <td>0.0</td>\n",
       "      <td>0.0</td>\n",
       "      <td>NaN</td>\n",
       "      <td>0.0</td>\n",
       "      <td>0.0</td>\n",
       "      <td>NaN</td>\n",
       "      <td>0.0</td>\n",
       "      <td>0.0</td>\n",
       "      <td>NaN</td>\n",
       "    </tr>\n",
       "    <tr>\n",
       "      <th>3</th>\n",
       "      <td>722430</td>\n",
       "      <td>4</td>\n",
       "      <td>8</td>\n",
       "      <td>1985</td>\n",
       "      <td>84.8</td>\n",
       "      <td>75.3</td>\n",
       "      <td>1010.8</td>\n",
       "      <td>5.6</td>\n",
       "      <td>11.1</td>\n",
       "      <td>999.9</td>\n",
       "      <td>...</td>\n",
       "      <td>0.0</td>\n",
       "      <td>0.0</td>\n",
       "      <td>0.0</td>\n",
       "      <td>0.0</td>\n",
       "      <td>1.0</td>\n",
       "      <td>0.0</td>\n",
       "      <td>0.0</td>\n",
       "      <td>0.0</td>\n",
       "      <td>0.0</td>\n",
       "      <td>0.0</td>\n",
       "    </tr>\n",
       "    <tr>\n",
       "      <th>4</th>\n",
       "      <td>722430</td>\n",
       "      <td>5</td>\n",
       "      <td>8</td>\n",
       "      <td>1985</td>\n",
       "      <td>84.3</td>\n",
       "      <td>74.5</td>\n",
       "      <td>1011.5</td>\n",
       "      <td>5.5</td>\n",
       "      <td>8.9</td>\n",
       "      <td>999.9</td>\n",
       "      <td>...</td>\n",
       "      <td>0.0</td>\n",
       "      <td>0.0</td>\n",
       "      <td>0.0</td>\n",
       "      <td>0.0</td>\n",
       "      <td>0.0</td>\n",
       "      <td>1.0</td>\n",
       "      <td>0.0</td>\n",
       "      <td>0.0</td>\n",
       "      <td>0.0</td>\n",
       "      <td>0.0</td>\n",
       "    </tr>\n",
       "    <tr>\n",
       "      <th>5</th>\n",
       "      <td>722430</td>\n",
       "      <td>6</td>\n",
       "      <td>8</td>\n",
       "      <td>1985</td>\n",
       "      <td>84.6</td>\n",
       "      <td>73.6</td>\n",
       "      <td>1010.8</td>\n",
       "      <td>6.1</td>\n",
       "      <td>13.0</td>\n",
       "      <td>999.9</td>\n",
       "      <td>...</td>\n",
       "      <td>0.0</td>\n",
       "      <td>0.0</td>\n",
       "      <td>0.0</td>\n",
       "      <td>0.0</td>\n",
       "      <td>0.0</td>\n",
       "      <td>0.0</td>\n",
       "      <td>1.0</td>\n",
       "      <td>0.0</td>\n",
       "      <td>0.0</td>\n",
       "      <td>0.0</td>\n",
       "    </tr>\n",
       "    <tr>\n",
       "      <th>6</th>\n",
       "      <td>722430</td>\n",
       "      <td>7</td>\n",
       "      <td>8</td>\n",
       "      <td>1985</td>\n",
       "      <td>85.4</td>\n",
       "      <td>73.9</td>\n",
       "      <td>1010.3</td>\n",
       "      <td>6.4</td>\n",
       "      <td>10.1</td>\n",
       "      <td>999.9</td>\n",
       "      <td>...</td>\n",
       "      <td>0.0</td>\n",
       "      <td>0.0</td>\n",
       "      <td>0.0</td>\n",
       "      <td>0.0</td>\n",
       "      <td>0.0</td>\n",
       "      <td>0.0</td>\n",
       "      <td>0.0</td>\n",
       "      <td>0.0</td>\n",
       "      <td>0.0</td>\n",
       "      <td>0.0</td>\n",
       "    </tr>\n",
       "    <tr>\n",
       "      <th>7</th>\n",
       "      <td>722430</td>\n",
       "      <td>8</td>\n",
       "      <td>8</td>\n",
       "      <td>1985</td>\n",
       "      <td>83.0</td>\n",
       "      <td>72.8</td>\n",
       "      <td>1009.9</td>\n",
       "      <td>5.7</td>\n",
       "      <td>12.0</td>\n",
       "      <td>999.9</td>\n",
       "      <td>...</td>\n",
       "      <td>0.0</td>\n",
       "      <td>0.0</td>\n",
       "      <td>0.0</td>\n",
       "      <td>0.0</td>\n",
       "      <td>0.0</td>\n",
       "      <td>0.0</td>\n",
       "      <td>0.0</td>\n",
       "      <td>0.0</td>\n",
       "      <td>0.0</td>\n",
       "      <td>0.0</td>\n",
       "    </tr>\n",
       "    <tr>\n",
       "      <th>8</th>\n",
       "      <td>722430</td>\n",
       "      <td>9</td>\n",
       "      <td>8</td>\n",
       "      <td>1985</td>\n",
       "      <td>85.3</td>\n",
       "      <td>74.4</td>\n",
       "      <td>1010.1</td>\n",
       "      <td>6.6</td>\n",
       "      <td>11.1</td>\n",
       "      <td>999.9</td>\n",
       "      <td>...</td>\n",
       "      <td>0.0</td>\n",
       "      <td>0.0</td>\n",
       "      <td>0.0</td>\n",
       "      <td>0.0</td>\n",
       "      <td>1.0</td>\n",
       "      <td>0.0</td>\n",
       "      <td>0.0</td>\n",
       "      <td>0.0</td>\n",
       "      <td>0.0</td>\n",
       "      <td>0.0</td>\n",
       "    </tr>\n",
       "    <tr>\n",
       "      <th>9</th>\n",
       "      <td>722430</td>\n",
       "      <td>10</td>\n",
       "      <td>8</td>\n",
       "      <td>1985</td>\n",
       "      <td>85.0</td>\n",
       "      <td>73.1</td>\n",
       "      <td>1011.2</td>\n",
       "      <td>6.0</td>\n",
       "      <td>10.1</td>\n",
       "      <td>999.9</td>\n",
       "      <td>...</td>\n",
       "      <td>0.0</td>\n",
       "      <td>0.0</td>\n",
       "      <td>0.0</td>\n",
       "      <td>0.0</td>\n",
       "      <td>0.0</td>\n",
       "      <td>1.0</td>\n",
       "      <td>0.0</td>\n",
       "      <td>0.0</td>\n",
       "      <td>0.0</td>\n",
       "      <td>0.0</td>\n",
       "    </tr>\n",
       "  </tbody>\n",
       "</table>\n",
       "<p>10 rows × 52 columns</p>\n",
       "</div>"
      ],
      "text/plain": [
       "    d_stn  d_da  d_mo  d_year  d_temp  d_dewp   d_stp  d_wdsp  d_mxpsd  \\\n",
       "0  722430     1     8    1985    84.7    73.2  1012.8     5.4      9.9   \n",
       "1  722430     2     8    1985    86.3    73.7  1010.8     5.6      8.9   \n",
       "2  722430     3     8    1985    81.1    72.3  1011.2     4.0     19.0   \n",
       "3  722430     4     8    1985    84.8    75.3  1010.8     5.6     11.1   \n",
       "4  722430     5     8    1985    84.3    74.5  1011.5     5.5      8.9   \n",
       "5  722430     6     8    1985    84.6    73.6  1010.8     6.1     13.0   \n",
       "6  722430     7     8    1985    85.4    73.9  1010.3     6.4     10.1   \n",
       "7  722430     8     8    1985    83.0    72.8  1009.9     5.7     12.0   \n",
       "8  722430     9     8    1985    85.3    74.4  1010.1     6.6     11.1   \n",
       "9  722430    10     8    1985    85.0    73.1  1011.2     6.0     10.1   \n",
       "\n",
       "   d_gust            ...             d_snow_ice_pellets_3  d_hail_1  d_hail_2  \\\n",
       "0   999.9            ...                              NaN       NaN       NaN   \n",
       "1   999.9            ...                              NaN       0.0       NaN   \n",
       "2    32.1            ...                              NaN       0.0       0.0   \n",
       "3   999.9            ...                              0.0       0.0       0.0   \n",
       "4   999.9            ...                              0.0       0.0       0.0   \n",
       "5   999.9            ...                              0.0       0.0       0.0   \n",
       "6   999.9            ...                              0.0       0.0       0.0   \n",
       "7   999.9            ...                              0.0       0.0       0.0   \n",
       "8   999.9            ...                              0.0       0.0       0.0   \n",
       "9   999.9            ...                              0.0       0.0       0.0   \n",
       "\n",
       "   d_hail_3  d_thunder_1  d_thunder_2  d_thunder_3  d_tornado_funnel_cloud_1  \\\n",
       "0       NaN          NaN          NaN          NaN                       NaN   \n",
       "1       NaN          0.0          NaN          NaN                       0.0   \n",
       "2       NaN          0.0          0.0          NaN                       0.0   \n",
       "3       0.0          1.0          0.0          0.0                       0.0   \n",
       "4       0.0          0.0          1.0          0.0                       0.0   \n",
       "5       0.0          0.0          0.0          1.0                       0.0   \n",
       "6       0.0          0.0          0.0          0.0                       0.0   \n",
       "7       0.0          0.0          0.0          0.0                       0.0   \n",
       "8       0.0          1.0          0.0          0.0                       0.0   \n",
       "9       0.0          0.0          1.0          0.0                       0.0   \n",
       "\n",
       "   d_tornado_funnel_cloud_2  d_tornado_funnel_cloud_3  \n",
       "0                       NaN                       NaN  \n",
       "1                       NaN                       NaN  \n",
       "2                       0.0                       NaN  \n",
       "3                       0.0                       0.0  \n",
       "4                       0.0                       0.0  \n",
       "5                       0.0                       0.0  \n",
       "6                       0.0                       0.0  \n",
       "7                       0.0                       0.0  \n",
       "8                       0.0                       0.0  \n",
       "9                       0.0                       0.0  \n",
       "\n",
       "[10 rows x 52 columns]"
      ]
     },
     "execution_count": 32,
     "metadata": {},
     "output_type": "execute_result"
    }
   ],
   "source": [
    "df_dev[:10]"
   ]
  },
  {
   "cell_type": "markdown",
   "metadata": {},
   "source": []
  },
  {
   "cell_type": "code",
   "execution_count": 33,
   "metadata": {
    "collapsed": false
   },
   "outputs": [
    {
     "data": {
      "text/html": [
       "\n",
       "          <script src=\"/static/components/requirejs/require.js\"></script>\n",
       "          <script>\n",
       "            requirejs.config({\n",
       "              paths: {\n",
       "                base: '/static/base',\n",
       "              },\n",
       "            });\n",
       "          </script>\n",
       "          "
      ],
      "text/plain": [
       "<IPython.core.display.HTML object>"
      ]
     },
     "metadata": {},
     "output_type": "display_data"
    },
    {
     "name": "stdout",
     "output_type": "stream",
     "text": [
      "Tamanho antes da limpeza: 5197\n",
      "Tamanho depois da limpeza: 0\n"
     ]
    }
   ],
   "source": [
    "df_temp = df_dev[(df_dev < 9999.9000).all(axis=1)]\n",
    "print ('Tamanho antes da limpeza: %s' %str(len(df_dev))) \n",
    "print ('Tamanho depois da limpeza: %s' %str(len(df_temp))) "
   ]
  },
  {
   "cell_type": "markdown",
   "metadata": {},
   "source": [
    "<p>A conclusão é que todo registro tem algum dado ausente. Assim vamos verificar se tem alguma variável que apresenta maiores problemas.<p/>"
   ]
  },
  {
   "cell_type": "code",
   "execution_count": 34,
   "metadata": {
    "collapsed": false
   },
   "outputs": [
    {
     "data": {
      "text/html": [
       "\n",
       "          <script src=\"/static/components/requirejs/require.js\"></script>\n",
       "          <script>\n",
       "            requirejs.config({\n",
       "              paths: {\n",
       "                base: '/static/base',\n",
       "              },\n",
       "            });\n",
       "          </script>\n",
       "          "
      ],
      "text/plain": [
       "<IPython.core.display.HTML object>"
      ]
     },
     "metadata": {},
     "output_type": "display_data"
    },
    {
     "data": {
      "image/png": "[encoded data removed]",
      "text/plain": [
       "<matplotlib.figure.Figure at 0x7f6589547ed0>"
      ]
     },
     "metadata": {},
     "output_type": "display_data"
    }
   ],
   "source": [
    "def contabilizar_dados_ausentes(df):\n",
    "  dn = {}\n",
    "  \n",
    "  for v in df.columns:\n",
    "    df_grp = df[df[v] == 9999.9]\n",
    "    dn[v] = len(df_grp)\n",
    "\n",
    "  for v in ['d_gust','d_gust_1', 'd_gust_2', 'd_gust_3']:\n",
    "    if v in df.columns:\n",
    "      df_grp = df[df[v] == 999.9]\n",
    "      dn[v] = dn[v] + len(df_grp)\n",
    "\n",
    "  for v in ['d_prcp','d_prcp_1', 'd_prcp_2', 'd_prcp_3']:\n",
    "    if v in df.columns:\n",
    "      df_grp = df[df[v] == 99.9]\n",
    "      dn[v] = dn[v] + len(df_grp) \n",
    "    \n",
    "  pdn = pd.DataFrame(dn.items(), columns=['freatures', 'missing'])\n",
    "  pdn = pdn[pdn > 0]\n",
    "  pdn = pdn.sort_values(['missing'])\n",
    "  \n",
    "  return pdn\n",
    "\n",
    "pdn = contabilizar_dados_ausentes(df_dev)\n",
    "pdn.plot.bar(x='freatures', y='missing')\n",
    "plt.show()"
   ]
  },
  {
   "cell_type": "markdown",
   "metadata": {},
   "source": [
    "<p> As varíveis velocidade máxima do vento do dia (d_mxpsd), velocidade do fenômeno de aumento repentino do vento (d_gust), média da velocidade do vento (d_wdsp), temperatura do ponto de orvaloho (d_dewp) e pressão atmosferica (d_stp) apresentam valores nulos significativos. Sendo a variável d_gust a mais problemática.</p>\n",
    "\n",
    "<p>A decisão será remover velocidade do fenômeno de aumento repentino do vento (d_gust) e  pressão atmosferica (d_stp). E interpolar as demais utilizando algum método.</p>"
   ]
  },
  {
   "cell_type": "code",
   "execution_count": 35,
   "metadata": {
    "collapsed": false
   },
   "outputs": [
    {
     "data": {
      "text/html": [
       "\n",
       "          <script src=\"/static/components/requirejs/require.js\"></script>\n",
       "          <script>\n",
       "            requirejs.config({\n",
       "              paths: {\n",
       "                base: '/static/base',\n",
       "              },\n",
       "            });\n",
       "          </script>\n",
       "          "
      ],
      "text/plain": [
       "<IPython.core.display.HTML object>"
      ]
     },
     "metadata": {},
     "output_type": "display_data"
    },
    {
     "data": {
      "text/plain": [
       "Index([                   u'd_stn',                     u'd_da',\n",
       "                           u'd_mo',                   u'd_year',\n",
       "                         u'd_temp',                   u'd_dewp',\n",
       "                         u'd_wdsp',                  u'd_mxpsd',\n",
       "                         u'd_prcp',           u'd_rain_drizzle',\n",
       "             u'd_snow_ice_pellets',                   u'd_hail',\n",
       "                      u'd_thunder',   u'd_tornado_funnel_cloud',\n",
       "                       u'd_temp_1',                 u'd_temp_2',\n",
       "                       u'd_temp_3',                 u'd_dewp_1',\n",
       "                       u'd_dewp_2',                 u'd_dewp_3',\n",
       "                       u'd_wdsp_1',                 u'd_wdsp_2',\n",
       "                       u'd_wdsp_3',                u'd_mxpsd_1',\n",
       "                      u'd_mxpsd_2',                u'd_mxpsd_3',\n",
       "                       u'd_prcp_1',                 u'd_prcp_2',\n",
       "                       u'd_prcp_3',         u'd_rain_drizzle_1',\n",
       "               u'd_rain_drizzle_2',         u'd_rain_drizzle_3',\n",
       "           u'd_snow_ice_pellets_1',     u'd_snow_ice_pellets_2',\n",
       "           u'd_snow_ice_pellets_3',                 u'd_hail_1',\n",
       "                       u'd_hail_2',                 u'd_hail_3',\n",
       "                    u'd_thunder_1',              u'd_thunder_2',\n",
       "                    u'd_thunder_3', u'd_tornado_funnel_cloud_1',\n",
       "       u'd_tornado_funnel_cloud_2', u'd_tornado_funnel_cloud_3'],\n",
       "      dtype='object')"
      ]
     },
     "execution_count": 35,
     "metadata": {},
     "output_type": "execute_result"
    }
   ],
   "source": [
    "df_limpo = df_dev.copy(deep=True)\n",
    "\n",
    "for column in df_limpo.columns:\n",
    "    if column in ['d_gust','d_gust_1','d_gust_2','d_gust_3']:\n",
    "        df_limpo = df_limpo.drop(column, axis = 1)\n",
    "        \n",
    "for column in df_limpo.columns:\n",
    "    if column in ['d_stp','d_stp_1','d_stp_2','d_stp_3']:\n",
    "        df_limpo = df_limpo.drop(column, axis = 1)\n",
    "\n",
    "df_limpo.columns"
   ]
  },
  {
   "cell_type": "markdown",
   "metadata": {},
   "source": [
    "<p>Agora temos outras varíaveis para tratar, que ainda estão afetando muitas instâncias</p>"
   ]
  },
  {
   "cell_type": "code",
   "execution_count": 36,
   "metadata": {
    "collapsed": false
   },
   "outputs": [
    {
     "data": {
      "text/html": [
       "\n",
       "          <script src=\"/static/components/requirejs/require.js\"></script>\n",
       "          <script>\n",
       "            requirejs.config({\n",
       "              paths: {\n",
       "                base: '/static/base',\n",
       "              },\n",
       "            });\n",
       "          </script>\n",
       "          "
      ],
      "text/plain": [
       "<IPython.core.display.HTML object>"
      ]
     },
     "metadata": {},
     "output_type": "display_data"
    },
    {
     "data": {
      "image/png": "[encoded data removed]",
      "text/plain": [
       "<matplotlib.figure.Figure at 0x7f65894e92d0>"
      ]
     },
     "metadata": {},
     "output_type": "display_data"
    }
   ],
   "source": [
    "p = contabilizar_dados_ausentes(df_limpo)\n",
    "p.plot.bar(x='freatures', y='missing')\n",
    "plt.show()"
   ]
  },
  {
   "cell_type": "markdown",
   "metadata": {},
   "source": [
    "<p>Primeiramente vamos marcar os dados ausentes.</p>"
   ]
  },
  {
   "cell_type": "code",
   "execution_count": 37,
   "metadata": {
    "collapsed": false
   },
   "outputs": [
    {
     "data": {
      "text/html": [
       "\n",
       "          <script src=\"/static/components/requirejs/require.js\"></script>\n",
       "          <script>\n",
       "            requirejs.config({\n",
       "              paths: {\n",
       "                base: '/static/base',\n",
       "              },\n",
       "            });\n",
       "          </script>\n",
       "          "
      ],
      "text/plain": [
       "<IPython.core.display.HTML object>"
      ]
     },
     "metadata": {},
     "output_type": "display_data"
    },
    {
     "name": "stdout",
     "output_type": "stream",
     "text": [
      "<class 'pandas.core.frame.DataFrame'>\n",
      "RangeIndex: 5197 entries, 0 to 5196\n",
      "Data columns (total 44 columns):\n",
      "d_stn                       5197 non-null int64\n",
      "d_da                        5197 non-null int64\n",
      "d_mo                        5197 non-null int64\n",
      "d_year                      5197 non-null int64\n",
      "d_temp                      5197 non-null float64\n",
      "d_dewp                      4933 non-null float64\n",
      "d_wdsp                      5197 non-null float64\n",
      "d_mxpsd                     5197 non-null float64\n",
      "d_prcp                      5197 non-null float64\n",
      "d_rain_drizzle              5197 non-null int64\n",
      "d_snow_ice_pellets          5197 non-null int64\n",
      "d_hail                      5197 non-null int64\n",
      "d_thunder                   5197 non-null int64\n",
      "d_tornado_funnel_cloud      5197 non-null int64\n",
      "d_temp_1                    5166 non-null float64\n",
      "d_temp_2                    5135 non-null float64\n",
      "d_temp_3                    5104 non-null float64\n",
      "d_dewp_1                    4911 non-null float64\n",
      "d_dewp_2                    4889 non-null float64\n",
      "d_dewp_3                    4867 non-null float64\n",
      "d_wdsp_1                    5166 non-null float64\n",
      "d_wdsp_2                    5135 non-null float64\n",
      "d_wdsp_3                    5104 non-null float64\n",
      "d_mxpsd_1                   5166 non-null float64\n",
      "d_mxpsd_2                   5135 non-null float64\n",
      "d_mxpsd_3                   5104 non-null float64\n",
      "d_prcp_1                    5166 non-null float64\n",
      "d_prcp_2                    5135 non-null float64\n",
      "d_prcp_3                    5104 non-null float64\n",
      "d_rain_drizzle_1            5166 non-null float64\n",
      "d_rain_drizzle_2            5135 non-null float64\n",
      "d_rain_drizzle_3            5104 non-null float64\n",
      "d_snow_ice_pellets_1        5166 non-null float64\n",
      "d_snow_ice_pellets_2        5135 non-null float64\n",
      "d_snow_ice_pellets_3        5104 non-null float64\n",
      "d_hail_1                    5166 non-null float64\n",
      "d_hail_2                    5135 non-null float64\n",
      "d_hail_3                    5104 non-null float64\n",
      "d_thunder_1                 5166 non-null float64\n",
      "d_thunder_2                 5135 non-null float64\n",
      "d_thunder_3                 5104 non-null float64\n",
      "d_tornado_funnel_cloud_1    5166 non-null float64\n",
      "d_tornado_funnel_cloud_2    5135 non-null float64\n",
      "d_tornado_funnel_cloud_3    5104 non-null float64\n",
      "dtypes: float64(35), int64(9)\n",
      "memory usage: 1.7 MB\n"
     ]
    }
   ],
   "source": [
    "def marcar_dados_ausentes(df):\n",
    "  for v in df.columns:\n",
    "    df[v] = df[v].replace([9999.9],\"NaN\")\n",
    "\n",
    "marcar_dados_ausentes(df_limpo)\n",
    "\n",
    "for v in df_limpo.columns:\n",
    "  if v in ['d_prcp','d_prcp_1', 'd_prcp_2', 'd_prcp_3']:\n",
    "    df_limpo[v] = df_limpo[v].replace([99.9],\"NaN\")\n",
    "\n",
    "df_limpo = df_limpo.apply(pd.to_numeric, errors='coerce')  \n",
    "df_limpo.info()"
   ]
  },
  {
   "cell_type": "markdown",
   "metadata": {},
   "source": [
    "<p>Interpolá-los</p>"
   ]
  },
  {
   "cell_type": "markdown",
   "metadata": {},
   "source": [
    "<h2 style=\"color:blue;\">Interpolandos dados para outras variáveis: dados ausentes</h2>"
   ]
  },
  {
   "cell_type": "code",
   "execution_count": 38,
   "metadata": {
    "collapsed": false
   },
   "outputs": [
    {
     "data": {
      "text/html": [
       "\n",
       "          <script src=\"/static/components/requirejs/require.js\"></script>\n",
       "          <script>\n",
       "            requirejs.config({\n",
       "              paths: {\n",
       "                base: '/static/base',\n",
       "              },\n",
       "            });\n",
       "          </script>\n",
       "          "
      ],
      "text/plain": [
       "<IPython.core.display.HTML object>"
      ]
     },
     "metadata": {},
     "output_type": "display_data"
    },
    {
     "name": "stdout",
     "output_type": "stream",
     "text": [
      "<class 'pandas.core.frame.DataFrame'>\n",
      "RangeIndex: 5197 entries, 0 to 5196\n",
      "Data columns (total 44 columns):\n",
      "d_stn                       5197 non-null int64\n",
      "d_da                        5197 non-null int64\n",
      "d_mo                        5197 non-null int64\n",
      "d_year                      5197 non-null int64\n",
      "d_temp                      5197 non-null float64\n",
      "d_dewp                      5197 non-null float64\n",
      "d_wdsp                      5197 non-null float64\n",
      "d_mxpsd                     5197 non-null float64\n",
      "d_prcp                      5197 non-null float64\n",
      "d_rain_drizzle              5197 non-null float64\n",
      "d_snow_ice_pellets          5197 non-null float64\n",
      "d_hail                      5197 non-null float64\n",
      "d_thunder                   5197 non-null float64\n",
      "d_tornado_funnel_cloud      5197 non-null float64\n",
      "d_temp_1                    5197 non-null float64\n",
      "d_temp_2                    5197 non-null float64\n",
      "d_temp_3                    5197 non-null float64\n",
      "d_dewp_1                    5197 non-null float64\n",
      "d_dewp_2                    5197 non-null float64\n",
      "d_dewp_3                    5197 non-null float64\n",
      "d_wdsp_1                    5197 non-null float64\n",
      "d_wdsp_2                    5197 non-null float64\n",
      "d_wdsp_3                    5197 non-null float64\n",
      "d_mxpsd_1                   5197 non-null float64\n",
      "d_mxpsd_2                   5197 non-null float64\n",
      "d_mxpsd_3                   5197 non-null float64\n",
      "d_prcp_1                    5197 non-null float64\n",
      "d_prcp_2                    5197 non-null float64\n",
      "d_prcp_3                    5197 non-null float64\n",
      "d_rain_drizzle_1            5197 non-null float64\n",
      "d_rain_drizzle_2            5197 non-null float64\n",
      "d_rain_drizzle_3            5197 non-null float64\n",
      "d_snow_ice_pellets_1        5197 non-null float64\n",
      "d_snow_ice_pellets_2        5197 non-null float64\n",
      "d_snow_ice_pellets_3        5197 non-null float64\n",
      "d_hail_1                    5197 non-null float64\n",
      "d_hail_2                    5197 non-null float64\n",
      "d_hail_3                    5197 non-null float64\n",
      "d_thunder_1                 5197 non-null float64\n",
      "d_thunder_2                 5197 non-null float64\n",
      "d_thunder_3                 5197 non-null float64\n",
      "d_tornado_funnel_cloud_1    5197 non-null float64\n",
      "d_tornado_funnel_cloud_2    5197 non-null float64\n",
      "d_tornado_funnel_cloud_3    5197 non-null float64\n",
      "dtypes: float64(40), int64(4)\n",
      "memory usage: 1.7 MB\n"
     ]
    }
   ],
   "source": [
    "df_intptd = df_limpo.copy(deep=True)\n",
    "for v in df_intptd:\n",
    "  if v not in ['d_stn','d_da','d_mo','d_year']:\n",
    "    df_intptd[v] = df_intptd[v].astype(float)\n",
    "\n",
    "df_intptd = df_intptd.interpolate(method='linear', axis=0).ffill().bfill()\n",
    "df_intptd.info()"
   ]
  },
  {
   "cell_type": "code",
   "execution_count": 39,
   "metadata": {
    "collapsed": false
   },
   "outputs": [
    {
     "data": {
      "text/html": [
       "\n",
       "          <script src=\"/static/components/requirejs/require.js\"></script>\n",
       "          <script>\n",
       "            requirejs.config({\n",
       "              paths: {\n",
       "                base: '/static/base',\n",
       "              },\n",
       "            });\n",
       "          </script>\n",
       "          "
      ],
      "text/plain": [
       "<IPython.core.display.HTML object>"
      ]
     },
     "metadata": {},
     "output_type": "display_data"
    },
    {
     "data": {
      "text/html": [
       "<div>\n",
       "<table border=\"1\" class=\"dataframe\">\n",
       "  <thead>\n",
       "    <tr style=\"text-align: right;\">\n",
       "      <th></th>\n",
       "      <th>d_stn</th>\n",
       "      <th>d_da</th>\n",
       "      <th>d_mo</th>\n",
       "      <th>d_year</th>\n",
       "      <th>d_temp</th>\n",
       "      <th>d_dewp</th>\n",
       "      <th>d_wdsp</th>\n",
       "      <th>d_mxpsd</th>\n",
       "      <th>d_prcp</th>\n",
       "      <th>d_rain_drizzle</th>\n",
       "      <th>...</th>\n",
       "      <th>d_snow_ice_pellets_3</th>\n",
       "      <th>d_hail_1</th>\n",
       "      <th>d_hail_2</th>\n",
       "      <th>d_hail_3</th>\n",
       "      <th>d_thunder_1</th>\n",
       "      <th>d_thunder_2</th>\n",
       "      <th>d_thunder_3</th>\n",
       "      <th>d_tornado_funnel_cloud_1</th>\n",
       "      <th>d_tornado_funnel_cloud_2</th>\n",
       "      <th>d_tornado_funnel_cloud_3</th>\n",
       "    </tr>\n",
       "  </thead>\n",
       "  <tbody>\n",
       "    <tr>\n",
       "      <th>0</th>\n",
       "      <td>722430</td>\n",
       "      <td>1</td>\n",
       "      <td>8</td>\n",
       "      <td>1985</td>\n",
       "      <td>84.7</td>\n",
       "      <td>73.2</td>\n",
       "      <td>5.4</td>\n",
       "      <td>9.9</td>\n",
       "      <td>0.00</td>\n",
       "      <td>0.0</td>\n",
       "      <td>...</td>\n",
       "      <td>0.0</td>\n",
       "      <td>0.0</td>\n",
       "      <td>0.0</td>\n",
       "      <td>0.0</td>\n",
       "      <td>0.0</td>\n",
       "      <td>0.0</td>\n",
       "      <td>0.0</td>\n",
       "      <td>0.0</td>\n",
       "      <td>0.0</td>\n",
       "      <td>0.0</td>\n",
       "    </tr>\n",
       "    <tr>\n",
       "      <th>1</th>\n",
       "      <td>722430</td>\n",
       "      <td>2</td>\n",
       "      <td>8</td>\n",
       "      <td>1985</td>\n",
       "      <td>86.3</td>\n",
       "      <td>73.7</td>\n",
       "      <td>5.6</td>\n",
       "      <td>8.9</td>\n",
       "      <td>0.00</td>\n",
       "      <td>0.0</td>\n",
       "      <td>...</td>\n",
       "      <td>0.0</td>\n",
       "      <td>0.0</td>\n",
       "      <td>0.0</td>\n",
       "      <td>0.0</td>\n",
       "      <td>0.0</td>\n",
       "      <td>0.0</td>\n",
       "      <td>0.0</td>\n",
       "      <td>0.0</td>\n",
       "      <td>0.0</td>\n",
       "      <td>0.0</td>\n",
       "    </tr>\n",
       "    <tr>\n",
       "      <th>2</th>\n",
       "      <td>722430</td>\n",
       "      <td>3</td>\n",
       "      <td>8</td>\n",
       "      <td>1985</td>\n",
       "      <td>81.1</td>\n",
       "      <td>72.3</td>\n",
       "      <td>4.0</td>\n",
       "      <td>19.0</td>\n",
       "      <td>0.22</td>\n",
       "      <td>1.0</td>\n",
       "      <td>...</td>\n",
       "      <td>0.0</td>\n",
       "      <td>0.0</td>\n",
       "      <td>0.0</td>\n",
       "      <td>0.0</td>\n",
       "      <td>0.0</td>\n",
       "      <td>0.0</td>\n",
       "      <td>0.0</td>\n",
       "      <td>0.0</td>\n",
       "      <td>0.0</td>\n",
       "      <td>0.0</td>\n",
       "    </tr>\n",
       "    <tr>\n",
       "      <th>3</th>\n",
       "      <td>722430</td>\n",
       "      <td>4</td>\n",
       "      <td>8</td>\n",
       "      <td>1985</td>\n",
       "      <td>84.8</td>\n",
       "      <td>75.3</td>\n",
       "      <td>5.6</td>\n",
       "      <td>11.1</td>\n",
       "      <td>0.00</td>\n",
       "      <td>0.0</td>\n",
       "      <td>...</td>\n",
       "      <td>0.0</td>\n",
       "      <td>0.0</td>\n",
       "      <td>0.0</td>\n",
       "      <td>0.0</td>\n",
       "      <td>1.0</td>\n",
       "      <td>0.0</td>\n",
       "      <td>0.0</td>\n",
       "      <td>0.0</td>\n",
       "      <td>0.0</td>\n",
       "      <td>0.0</td>\n",
       "    </tr>\n",
       "    <tr>\n",
       "      <th>4</th>\n",
       "      <td>722430</td>\n",
       "      <td>5</td>\n",
       "      <td>8</td>\n",
       "      <td>1985</td>\n",
       "      <td>84.3</td>\n",
       "      <td>74.5</td>\n",
       "      <td>5.5</td>\n",
       "      <td>8.9</td>\n",
       "      <td>0.00</td>\n",
       "      <td>0.0</td>\n",
       "      <td>...</td>\n",
       "      <td>0.0</td>\n",
       "      <td>0.0</td>\n",
       "      <td>0.0</td>\n",
       "      <td>0.0</td>\n",
       "      <td>0.0</td>\n",
       "      <td>1.0</td>\n",
       "      <td>0.0</td>\n",
       "      <td>0.0</td>\n",
       "      <td>0.0</td>\n",
       "      <td>0.0</td>\n",
       "    </tr>\n",
       "    <tr>\n",
       "      <th>5</th>\n",
       "      <td>722430</td>\n",
       "      <td>6</td>\n",
       "      <td>8</td>\n",
       "      <td>1985</td>\n",
       "      <td>84.6</td>\n",
       "      <td>73.6</td>\n",
       "      <td>6.1</td>\n",
       "      <td>13.0</td>\n",
       "      <td>0.00</td>\n",
       "      <td>0.0</td>\n",
       "      <td>...</td>\n",
       "      <td>0.0</td>\n",
       "      <td>0.0</td>\n",
       "      <td>0.0</td>\n",
       "      <td>0.0</td>\n",
       "      <td>0.0</td>\n",
       "      <td>0.0</td>\n",
       "      <td>1.0</td>\n",
       "      <td>0.0</td>\n",
       "      <td>0.0</td>\n",
       "      <td>0.0</td>\n",
       "    </tr>\n",
       "    <tr>\n",
       "      <th>6</th>\n",
       "      <td>722430</td>\n",
       "      <td>7</td>\n",
       "      <td>8</td>\n",
       "      <td>1985</td>\n",
       "      <td>85.4</td>\n",
       "      <td>73.9</td>\n",
       "      <td>6.4</td>\n",
       "      <td>10.1</td>\n",
       "      <td>0.00</td>\n",
       "      <td>0.0</td>\n",
       "      <td>...</td>\n",
       "      <td>0.0</td>\n",
       "      <td>0.0</td>\n",
       "      <td>0.0</td>\n",
       "      <td>0.0</td>\n",
       "      <td>0.0</td>\n",
       "      <td>0.0</td>\n",
       "      <td>0.0</td>\n",
       "      <td>0.0</td>\n",
       "      <td>0.0</td>\n",
       "      <td>0.0</td>\n",
       "    </tr>\n",
       "    <tr>\n",
       "      <th>7</th>\n",
       "      <td>722430</td>\n",
       "      <td>8</td>\n",
       "      <td>8</td>\n",
       "      <td>1985</td>\n",
       "      <td>83.0</td>\n",
       "      <td>72.8</td>\n",
       "      <td>5.7</td>\n",
       "      <td>12.0</td>\n",
       "      <td>0.11</td>\n",
       "      <td>1.0</td>\n",
       "      <td>...</td>\n",
       "      <td>0.0</td>\n",
       "      <td>0.0</td>\n",
       "      <td>0.0</td>\n",
       "      <td>0.0</td>\n",
       "      <td>0.0</td>\n",
       "      <td>0.0</td>\n",
       "      <td>0.0</td>\n",
       "      <td>0.0</td>\n",
       "      <td>0.0</td>\n",
       "      <td>0.0</td>\n",
       "    </tr>\n",
       "    <tr>\n",
       "      <th>8</th>\n",
       "      <td>722430</td>\n",
       "      <td>9</td>\n",
       "      <td>8</td>\n",
       "      <td>1985</td>\n",
       "      <td>85.3</td>\n",
       "      <td>74.4</td>\n",
       "      <td>6.6</td>\n",
       "      <td>11.1</td>\n",
       "      <td>0.01</td>\n",
       "      <td>0.0</td>\n",
       "      <td>...</td>\n",
       "      <td>0.0</td>\n",
       "      <td>0.0</td>\n",
       "      <td>0.0</td>\n",
       "      <td>0.0</td>\n",
       "      <td>1.0</td>\n",
       "      <td>0.0</td>\n",
       "      <td>0.0</td>\n",
       "      <td>0.0</td>\n",
       "      <td>0.0</td>\n",
       "      <td>0.0</td>\n",
       "    </tr>\n",
       "    <tr>\n",
       "      <th>9</th>\n",
       "      <td>722430</td>\n",
       "      <td>10</td>\n",
       "      <td>8</td>\n",
       "      <td>1985</td>\n",
       "      <td>85.0</td>\n",
       "      <td>73.1</td>\n",
       "      <td>6.0</td>\n",
       "      <td>10.1</td>\n",
       "      <td>0.00</td>\n",
       "      <td>0.0</td>\n",
       "      <td>...</td>\n",
       "      <td>0.0</td>\n",
       "      <td>0.0</td>\n",
       "      <td>0.0</td>\n",
       "      <td>0.0</td>\n",
       "      <td>0.0</td>\n",
       "      <td>1.0</td>\n",
       "      <td>0.0</td>\n",
       "      <td>0.0</td>\n",
       "      <td>0.0</td>\n",
       "      <td>0.0</td>\n",
       "    </tr>\n",
       "  </tbody>\n",
       "</table>\n",
       "<p>10 rows × 44 columns</p>\n",
       "</div>"
      ],
      "text/plain": [
       "    d_stn  d_da  d_mo  d_year  d_temp  d_dewp  d_wdsp  d_mxpsd  d_prcp  \\\n",
       "0  722430     1     8    1985    84.7    73.2     5.4      9.9    0.00   \n",
       "1  722430     2     8    1985    86.3    73.7     5.6      8.9    0.00   \n",
       "2  722430     3     8    1985    81.1    72.3     4.0     19.0    0.22   \n",
       "3  722430     4     8    1985    84.8    75.3     5.6     11.1    0.00   \n",
       "4  722430     5     8    1985    84.3    74.5     5.5      8.9    0.00   \n",
       "5  722430     6     8    1985    84.6    73.6     6.1     13.0    0.00   \n",
       "6  722430     7     8    1985    85.4    73.9     6.4     10.1    0.00   \n",
       "7  722430     8     8    1985    83.0    72.8     5.7     12.0    0.11   \n",
       "8  722430     9     8    1985    85.3    74.4     6.6     11.1    0.01   \n",
       "9  722430    10     8    1985    85.0    73.1     6.0     10.1    0.00   \n",
       "\n",
       "   d_rain_drizzle            ...             d_snow_ice_pellets_3  d_hail_1  \\\n",
       "0             0.0            ...                              0.0       0.0   \n",
       "1             0.0            ...                              0.0       0.0   \n",
       "2             1.0            ...                              0.0       0.0   \n",
       "3             0.0            ...                              0.0       0.0   \n",
       "4             0.0            ...                              0.0       0.0   \n",
       "5             0.0            ...                              0.0       0.0   \n",
       "6             0.0            ...                              0.0       0.0   \n",
       "7             1.0            ...                              0.0       0.0   \n",
       "8             0.0            ...                              0.0       0.0   \n",
       "9             0.0            ...                              0.0       0.0   \n",
       "\n",
       "   d_hail_2  d_hail_3  d_thunder_1  d_thunder_2  d_thunder_3  \\\n",
       "0       0.0       0.0          0.0          0.0          0.0   \n",
       "1       0.0       0.0          0.0          0.0          0.0   \n",
       "2       0.0       0.0          0.0          0.0          0.0   \n",
       "3       0.0       0.0          1.0          0.0          0.0   \n",
       "4       0.0       0.0          0.0          1.0          0.0   \n",
       "5       0.0       0.0          0.0          0.0          1.0   \n",
       "6       0.0       0.0          0.0          0.0          0.0   \n",
       "7       0.0       0.0          0.0          0.0          0.0   \n",
       "8       0.0       0.0          1.0          0.0          0.0   \n",
       "9       0.0       0.0          0.0          1.0          0.0   \n",
       "\n",
       "   d_tornado_funnel_cloud_1  d_tornado_funnel_cloud_2  \\\n",
       "0                       0.0                       0.0   \n",
       "1                       0.0                       0.0   \n",
       "2                       0.0                       0.0   \n",
       "3                       0.0                       0.0   \n",
       "4                       0.0                       0.0   \n",
       "5                       0.0                       0.0   \n",
       "6                       0.0                       0.0   \n",
       "7                       0.0                       0.0   \n",
       "8                       0.0                       0.0   \n",
       "9                       0.0                       0.0   \n",
       "\n",
       "   d_tornado_funnel_cloud_3  \n",
       "0                       0.0  \n",
       "1                       0.0  \n",
       "2                       0.0  \n",
       "3                       0.0  \n",
       "4                       0.0  \n",
       "5                       0.0  \n",
       "6                       0.0  \n",
       "7                       0.0  \n",
       "8                       0.0  \n",
       "9                       0.0  \n",
       "\n",
       "[10 rows x 44 columns]"
      ]
     },
     "execution_count": 39,
     "metadata": {},
     "output_type": "execute_result"
    }
   ],
   "source": [
    "df_intptd[:10]"
   ]
  },
  {
   "cell_type": "markdown",
   "metadata": {},
   "source": [
    "<p>Adicionando um flag para indicar se a chuva é extrema ou não</p>"
   ]
  },
  {
   "cell_type": "markdown",
   "metadata": {},
   "source": [
    "<h2 style=\"color:blue;\">Adicionando o flag para indicar se a chuva é extrema ou não</h2>"
   ]
  },
  {
   "cell_type": "code",
   "execution_count": 40,
   "metadata": {
    "collapsed": false
   },
   "outputs": [
    {
     "data": {
      "text/html": [
       "\n",
       "          <script src=\"/static/components/requirejs/require.js\"></script>\n",
       "          <script>\n",
       "            requirejs.config({\n",
       "              paths: {\n",
       "                base: '/static/base',\n",
       "              },\n",
       "            });\n",
       "          </script>\n",
       "          "
      ],
      "text/plain": [
       "<IPython.core.display.HTML object>"
      ]
     },
     "metadata": {},
     "output_type": "display_data"
    },
    {
     "data": {
      "text/html": [
       "<div>\n",
       "<table border=\"1\" class=\"dataframe\">\n",
       "  <thead>\n",
       "    <tr style=\"text-align: right;\">\n",
       "      <th></th>\n",
       "      <th>d_stn</th>\n",
       "      <th>d_da</th>\n",
       "      <th>d_mo</th>\n",
       "      <th>d_year</th>\n",
       "      <th>d_temp</th>\n",
       "      <th>d_dewp</th>\n",
       "      <th>d_wdsp</th>\n",
       "      <th>d_mxpsd</th>\n",
       "      <th>d_prcp</th>\n",
       "      <th>d_rain_drizzle</th>\n",
       "      <th>...</th>\n",
       "      <th>d_hail_1</th>\n",
       "      <th>d_hail_2</th>\n",
       "      <th>d_hail_3</th>\n",
       "      <th>d_thunder_1</th>\n",
       "      <th>d_thunder_2</th>\n",
       "      <th>d_thunder_3</th>\n",
       "      <th>d_tornado_funnel_cloud_1</th>\n",
       "      <th>d_tornado_funnel_cloud_2</th>\n",
       "      <th>d_tornado_funnel_cloud_3</th>\n",
       "      <th>heavy</th>\n",
       "    </tr>\n",
       "  </thead>\n",
       "  <tbody>\n",
       "    <tr>\n",
       "      <th>0</th>\n",
       "      <td>722430</td>\n",
       "      <td>1</td>\n",
       "      <td>8</td>\n",
       "      <td>1985</td>\n",
       "      <td>84.7</td>\n",
       "      <td>73.2</td>\n",
       "      <td>5.4</td>\n",
       "      <td>9.9</td>\n",
       "      <td>0.00</td>\n",
       "      <td>0.0</td>\n",
       "      <td>...</td>\n",
       "      <td>0.0</td>\n",
       "      <td>0.0</td>\n",
       "      <td>0.0</td>\n",
       "      <td>0.0</td>\n",
       "      <td>0.0</td>\n",
       "      <td>0.0</td>\n",
       "      <td>0.0</td>\n",
       "      <td>0.0</td>\n",
       "      <td>0.0</td>\n",
       "      <td>0</td>\n",
       "    </tr>\n",
       "    <tr>\n",
       "      <th>1</th>\n",
       "      <td>722430</td>\n",
       "      <td>2</td>\n",
       "      <td>8</td>\n",
       "      <td>1985</td>\n",
       "      <td>86.3</td>\n",
       "      <td>73.7</td>\n",
       "      <td>5.6</td>\n",
       "      <td>8.9</td>\n",
       "      <td>0.00</td>\n",
       "      <td>0.0</td>\n",
       "      <td>...</td>\n",
       "      <td>0.0</td>\n",
       "      <td>0.0</td>\n",
       "      <td>0.0</td>\n",
       "      <td>0.0</td>\n",
       "      <td>0.0</td>\n",
       "      <td>0.0</td>\n",
       "      <td>0.0</td>\n",
       "      <td>0.0</td>\n",
       "      <td>0.0</td>\n",
       "      <td>0</td>\n",
       "    </tr>\n",
       "    <tr>\n",
       "      <th>2</th>\n",
       "      <td>722430</td>\n",
       "      <td>3</td>\n",
       "      <td>8</td>\n",
       "      <td>1985</td>\n",
       "      <td>81.1</td>\n",
       "      <td>72.3</td>\n",
       "      <td>4.0</td>\n",
       "      <td>19.0</td>\n",
       "      <td>0.22</td>\n",
       "      <td>1.0</td>\n",
       "      <td>...</td>\n",
       "      <td>0.0</td>\n",
       "      <td>0.0</td>\n",
       "      <td>0.0</td>\n",
       "      <td>0.0</td>\n",
       "      <td>0.0</td>\n",
       "      <td>0.0</td>\n",
       "      <td>0.0</td>\n",
       "      <td>0.0</td>\n",
       "      <td>0.0</td>\n",
       "      <td>0</td>\n",
       "    </tr>\n",
       "    <tr>\n",
       "      <th>3</th>\n",
       "      <td>722430</td>\n",
       "      <td>4</td>\n",
       "      <td>8</td>\n",
       "      <td>1985</td>\n",
       "      <td>84.8</td>\n",
       "      <td>75.3</td>\n",
       "      <td>5.6</td>\n",
       "      <td>11.1</td>\n",
       "      <td>0.00</td>\n",
       "      <td>0.0</td>\n",
       "      <td>...</td>\n",
       "      <td>0.0</td>\n",
       "      <td>0.0</td>\n",
       "      <td>0.0</td>\n",
       "      <td>1.0</td>\n",
       "      <td>0.0</td>\n",
       "      <td>0.0</td>\n",
       "      <td>0.0</td>\n",
       "      <td>0.0</td>\n",
       "      <td>0.0</td>\n",
       "      <td>0</td>\n",
       "    </tr>\n",
       "    <tr>\n",
       "      <th>4</th>\n",
       "      <td>722430</td>\n",
       "      <td>5</td>\n",
       "      <td>8</td>\n",
       "      <td>1985</td>\n",
       "      <td>84.3</td>\n",
       "      <td>74.5</td>\n",
       "      <td>5.5</td>\n",
       "      <td>8.9</td>\n",
       "      <td>0.00</td>\n",
       "      <td>0.0</td>\n",
       "      <td>...</td>\n",
       "      <td>0.0</td>\n",
       "      <td>0.0</td>\n",
       "      <td>0.0</td>\n",
       "      <td>0.0</td>\n",
       "      <td>1.0</td>\n",
       "      <td>0.0</td>\n",
       "      <td>0.0</td>\n",
       "      <td>0.0</td>\n",
       "      <td>0.0</td>\n",
       "      <td>0</td>\n",
       "    </tr>\n",
       "    <tr>\n",
       "      <th>5</th>\n",
       "      <td>722430</td>\n",
       "      <td>6</td>\n",
       "      <td>8</td>\n",
       "      <td>1985</td>\n",
       "      <td>84.6</td>\n",
       "      <td>73.6</td>\n",
       "      <td>6.1</td>\n",
       "      <td>13.0</td>\n",
       "      <td>0.00</td>\n",
       "      <td>0.0</td>\n",
       "      <td>...</td>\n",
       "      <td>0.0</td>\n",
       "      <td>0.0</td>\n",
       "      <td>0.0</td>\n",
       "      <td>0.0</td>\n",
       "      <td>0.0</td>\n",
       "      <td>1.0</td>\n",
       "      <td>0.0</td>\n",
       "      <td>0.0</td>\n",
       "      <td>0.0</td>\n",
       "      <td>0</td>\n",
       "    </tr>\n",
       "    <tr>\n",
       "      <th>6</th>\n",
       "      <td>722430</td>\n",
       "      <td>7</td>\n",
       "      <td>8</td>\n",
       "      <td>1985</td>\n",
       "      <td>85.4</td>\n",
       "      <td>73.9</td>\n",
       "      <td>6.4</td>\n",
       "      <td>10.1</td>\n",
       "      <td>0.00</td>\n",
       "      <td>0.0</td>\n",
       "      <td>...</td>\n",
       "      <td>0.0</td>\n",
       "      <td>0.0</td>\n",
       "      <td>0.0</td>\n",
       "      <td>0.0</td>\n",
       "      <td>0.0</td>\n",
       "      <td>0.0</td>\n",
       "      <td>0.0</td>\n",
       "      <td>0.0</td>\n",
       "      <td>0.0</td>\n",
       "      <td>0</td>\n",
       "    </tr>\n",
       "    <tr>\n",
       "      <th>7</th>\n",
       "      <td>722430</td>\n",
       "      <td>8</td>\n",
       "      <td>8</td>\n",
       "      <td>1985</td>\n",
       "      <td>83.0</td>\n",
       "      <td>72.8</td>\n",
       "      <td>5.7</td>\n",
       "      <td>12.0</td>\n",
       "      <td>0.11</td>\n",
       "      <td>1.0</td>\n",
       "      <td>...</td>\n",
       "      <td>0.0</td>\n",
       "      <td>0.0</td>\n",
       "      <td>0.0</td>\n",
       "      <td>0.0</td>\n",
       "      <td>0.0</td>\n",
       "      <td>0.0</td>\n",
       "      <td>0.0</td>\n",
       "      <td>0.0</td>\n",
       "      <td>0.0</td>\n",
       "      <td>0</td>\n",
       "    </tr>\n",
       "    <tr>\n",
       "      <th>8</th>\n",
       "      <td>722430</td>\n",
       "      <td>9</td>\n",
       "      <td>8</td>\n",
       "      <td>1985</td>\n",
       "      <td>85.3</td>\n",
       "      <td>74.4</td>\n",
       "      <td>6.6</td>\n",
       "      <td>11.1</td>\n",
       "      <td>0.01</td>\n",
       "      <td>0.0</td>\n",
       "      <td>...</td>\n",
       "      <td>0.0</td>\n",
       "      <td>0.0</td>\n",
       "      <td>0.0</td>\n",
       "      <td>1.0</td>\n",
       "      <td>0.0</td>\n",
       "      <td>0.0</td>\n",
       "      <td>0.0</td>\n",
       "      <td>0.0</td>\n",
       "      <td>0.0</td>\n",
       "      <td>0</td>\n",
       "    </tr>\n",
       "    <tr>\n",
       "      <th>9</th>\n",
       "      <td>722430</td>\n",
       "      <td>10</td>\n",
       "      <td>8</td>\n",
       "      <td>1985</td>\n",
       "      <td>85.0</td>\n",
       "      <td>73.1</td>\n",
       "      <td>6.0</td>\n",
       "      <td>10.1</td>\n",
       "      <td>0.00</td>\n",
       "      <td>0.0</td>\n",
       "      <td>...</td>\n",
       "      <td>0.0</td>\n",
       "      <td>0.0</td>\n",
       "      <td>0.0</td>\n",
       "      <td>0.0</td>\n",
       "      <td>1.0</td>\n",
       "      <td>0.0</td>\n",
       "      <td>0.0</td>\n",
       "      <td>0.0</td>\n",
       "      <td>0.0</td>\n",
       "      <td>0</td>\n",
       "    </tr>\n",
       "  </tbody>\n",
       "</table>\n",
       "<p>10 rows × 45 columns</p>\n",
       "</div>"
      ],
      "text/plain": [
       "    d_stn  d_da  d_mo  d_year  d_temp  d_dewp  d_wdsp  d_mxpsd  d_prcp  \\\n",
       "0  722430     1     8    1985    84.7    73.2     5.4      9.9    0.00   \n",
       "1  722430     2     8    1985    86.3    73.7     5.6      8.9    0.00   \n",
       "2  722430     3     8    1985    81.1    72.3     4.0     19.0    0.22   \n",
       "3  722430     4     8    1985    84.8    75.3     5.6     11.1    0.00   \n",
       "4  722430     5     8    1985    84.3    74.5     5.5      8.9    0.00   \n",
       "5  722430     6     8    1985    84.6    73.6     6.1     13.0    0.00   \n",
       "6  722430     7     8    1985    85.4    73.9     6.4     10.1    0.00   \n",
       "7  722430     8     8    1985    83.0    72.8     5.7     12.0    0.11   \n",
       "8  722430     9     8    1985    85.3    74.4     6.6     11.1    0.01   \n",
       "9  722430    10     8    1985    85.0    73.1     6.0     10.1    0.00   \n",
       "\n",
       "   d_rain_drizzle  ...    d_hail_1  d_hail_2  d_hail_3  d_thunder_1  \\\n",
       "0             0.0  ...         0.0       0.0       0.0          0.0   \n",
       "1             0.0  ...         0.0       0.0       0.0          0.0   \n",
       "2             1.0  ...         0.0       0.0       0.0          0.0   \n",
       "3             0.0  ...         0.0       0.0       0.0          1.0   \n",
       "4             0.0  ...         0.0       0.0       0.0          0.0   \n",
       "5             0.0  ...         0.0       0.0       0.0          0.0   \n",
       "6             0.0  ...         0.0       0.0       0.0          0.0   \n",
       "7             1.0  ...         0.0       0.0       0.0          0.0   \n",
       "8             0.0  ...         0.0       0.0       0.0          1.0   \n",
       "9             0.0  ...         0.0       0.0       0.0          0.0   \n",
       "\n",
       "   d_thunder_2  d_thunder_3  d_tornado_funnel_cloud_1  \\\n",
       "0          0.0          0.0                       0.0   \n",
       "1          0.0          0.0                       0.0   \n",
       "2          0.0          0.0                       0.0   \n",
       "3          0.0          0.0                       0.0   \n",
       "4          1.0          0.0                       0.0   \n",
       "5          0.0          1.0                       0.0   \n",
       "6          0.0          0.0                       0.0   \n",
       "7          0.0          0.0                       0.0   \n",
       "8          0.0          0.0                       0.0   \n",
       "9          1.0          0.0                       0.0   \n",
       "\n",
       "   d_tornado_funnel_cloud_2  d_tornado_funnel_cloud_3  heavy  \n",
       "0                       0.0                       0.0      0  \n",
       "1                       0.0                       0.0      0  \n",
       "2                       0.0                       0.0      0  \n",
       "3                       0.0                       0.0      0  \n",
       "4                       0.0                       0.0      0  \n",
       "5                       0.0                       0.0      0  \n",
       "6                       0.0                       0.0      0  \n",
       "7                       0.0                       0.0      0  \n",
       "8                       0.0                       0.0      0  \n",
       "9                       0.0                       0.0      0  \n",
       "\n",
       "[10 rows x 45 columns]"
      ]
     },
     "execution_count": 40,
     "metadata": {},
     "output_type": "execute_result"
    }
   ],
   "source": [
    "df_intptd['heavy'] = (df_intptd['d_prcp'] > 1.6548)\n",
    "df_intptd['heavy']  = df_intptd['heavy'].astype(object).replace({False: 0, True: 1})\n",
    "df_intptd[:10]"
   ]
  },
  {
   "cell_type": "markdown",
   "metadata": {},
   "source": [
    "<h2 style=\"color:blue;\">Pearson correlation coefficient</h2>"
   ]
  },
  {
   "cell_type": "code",
   "execution_count": 41,
   "metadata": {
    "collapsed": false
   },
   "outputs": [
    {
     "data": {
      "text/html": [
       "\n",
       "          <script src=\"/static/components/requirejs/require.js\"></script>\n",
       "          <script>\n",
       "            requirejs.config({\n",
       "              paths: {\n",
       "                base: '/static/base',\n",
       "              },\n",
       "            });\n",
       "          </script>\n",
       "          "
      ],
      "text/plain": [
       "<IPython.core.display.HTML object>"
      ]
     },
     "metadata": {},
     "output_type": "display_data"
    },
    {
     "data": {
      "text/html": [
       "<div>\n",
       "<table border=\"1\" class=\"dataframe\">\n",
       "  <thead>\n",
       "    <tr style=\"text-align: right;\">\n",
       "      <th></th>\n",
       "      <th>d_prcp</th>\n",
       "    </tr>\n",
       "  </thead>\n",
       "  <tbody>\n",
       "    <tr>\n",
       "      <th>d_temp</th>\n",
       "      <td>-0.090553</td>\n",
       "    </tr>\n",
       "    <tr>\n",
       "      <th>d_mxpsd</th>\n",
       "      <td>-0.040732</td>\n",
       "    </tr>\n",
       "    <tr>\n",
       "      <th>d_mxpsd_1</th>\n",
       "      <td>-0.031311</td>\n",
       "    </tr>\n",
       "    <tr>\n",
       "      <th>d_mxpsd_2</th>\n",
       "      <td>-0.031242</td>\n",
       "    </tr>\n",
       "    <tr>\n",
       "      <th>d_mxpsd_3</th>\n",
       "      <td>-0.025583</td>\n",
       "    </tr>\n",
       "    <tr>\n",
       "      <th>d_wdsp</th>\n",
       "      <td>-0.025145</td>\n",
       "    </tr>\n",
       "    <tr>\n",
       "      <th>d_wdsp_1</th>\n",
       "      <td>-0.024805</td>\n",
       "    </tr>\n",
       "    <tr>\n",
       "      <th>d_thunder_3</th>\n",
       "      <td>-0.020581</td>\n",
       "    </tr>\n",
       "    <tr>\n",
       "      <th>d_wdsp_2</th>\n",
       "      <td>-0.016196</td>\n",
       "    </tr>\n",
       "    <tr>\n",
       "      <th>d_temp_1</th>\n",
       "      <td>-0.013607</td>\n",
       "    </tr>\n",
       "    <tr>\n",
       "      <th>d_rain_drizzle_3</th>\n",
       "      <td>-0.013129</td>\n",
       "    </tr>\n",
       "    <tr>\n",
       "      <th>d_thunder_2</th>\n",
       "      <td>-0.011729</td>\n",
       "    </tr>\n",
       "    <tr>\n",
       "      <th>d_wdsp_3</th>\n",
       "      <td>-0.006899</td>\n",
       "    </tr>\n",
       "    <tr>\n",
       "      <th>d_tornado_funnel_cloud_3</th>\n",
       "      <td>-0.004672</td>\n",
       "    </tr>\n",
       "    <tr>\n",
       "      <th>d_tornado_funnel_cloud_2</th>\n",
       "      <td>-0.004667</td>\n",
       "    </tr>\n",
       "    <tr>\n",
       "      <th>d_tornado_funnel_cloud</th>\n",
       "      <td>-0.004654</td>\n",
       "    </tr>\n",
       "    <tr>\n",
       "      <th>d_hail_3</th>\n",
       "      <td>-0.003303</td>\n",
       "    </tr>\n",
       "    <tr>\n",
       "      <th>d_hail_2</th>\n",
       "      <td>-0.003303</td>\n",
       "    </tr>\n",
       "    <tr>\n",
       "      <th>d_hail</th>\n",
       "      <td>-0.003297</td>\n",
       "    </tr>\n",
       "    <tr>\n",
       "      <th>d_tornado_funnel_cloud_1</th>\n",
       "      <td>-0.003234</td>\n",
       "    </tr>\n",
       "    <tr>\n",
       "      <th>d_hail_1</th>\n",
       "      <td>-0.002177</td>\n",
       "    </tr>\n",
       "    <tr>\n",
       "      <th>d_rain_drizzle_2</th>\n",
       "      <td>0.002445</td>\n",
       "    </tr>\n",
       "    <tr>\n",
       "      <th>d_temp_2</th>\n",
       "      <td>0.013806</td>\n",
       "    </tr>\n",
       "    <tr>\n",
       "      <th>d_temp_3</th>\n",
       "      <td>0.029482</td>\n",
       "    </tr>\n",
       "    <tr>\n",
       "      <th>d_thunder_1</th>\n",
       "      <td>0.037245</td>\n",
       "    </tr>\n",
       "    <tr>\n",
       "      <th>d_rain_drizzle_1</th>\n",
       "      <td>0.051206</td>\n",
       "    </tr>\n",
       "    <tr>\n",
       "      <th>d_dewp_3</th>\n",
       "      <td>0.082897</td>\n",
       "    </tr>\n",
       "    <tr>\n",
       "      <th>d_dewp_2</th>\n",
       "      <td>0.085066</td>\n",
       "    </tr>\n",
       "    <tr>\n",
       "      <th>d_dewp_1</th>\n",
       "      <td>0.107383</td>\n",
       "    </tr>\n",
       "    <tr>\n",
       "      <th>d_dewp</th>\n",
       "      <td>0.134829</td>\n",
       "    </tr>\n",
       "    <tr>\n",
       "      <th>d_prcp_3</th>\n",
       "      <td>0.187317</td>\n",
       "    </tr>\n",
       "    <tr>\n",
       "      <th>d_thunder</th>\n",
       "      <td>0.206222</td>\n",
       "    </tr>\n",
       "    <tr>\n",
       "      <th>d_prcp_2</th>\n",
       "      <td>0.219292</td>\n",
       "    </tr>\n",
       "    <tr>\n",
       "      <th>d_prcp_1</th>\n",
       "      <td>0.329447</td>\n",
       "    </tr>\n",
       "    <tr>\n",
       "      <th>d_rain_drizzle</th>\n",
       "      <td>0.349867</td>\n",
       "    </tr>\n",
       "    <tr>\n",
       "      <th>heavy</th>\n",
       "      <td>0.918524</td>\n",
       "    </tr>\n",
       "    <tr>\n",
       "      <th>d_prcp</th>\n",
       "      <td>1.000000</td>\n",
       "    </tr>\n",
       "    <tr>\n",
       "      <th>d_snow_ice_pellets</th>\n",
       "      <td>NaN</td>\n",
       "    </tr>\n",
       "    <tr>\n",
       "      <th>d_snow_ice_pellets_1</th>\n",
       "      <td>NaN</td>\n",
       "    </tr>\n",
       "    <tr>\n",
       "      <th>d_snow_ice_pellets_2</th>\n",
       "      <td>NaN</td>\n",
       "    </tr>\n",
       "    <tr>\n",
       "      <th>d_snow_ice_pellets_3</th>\n",
       "      <td>NaN</td>\n",
       "    </tr>\n",
       "  </tbody>\n",
       "</table>\n",
       "</div>"
      ],
      "text/plain": [
       "                            d_prcp\n",
       "d_temp                   -0.090553\n",
       "d_mxpsd                  -0.040732\n",
       "d_mxpsd_1                -0.031311\n",
       "d_mxpsd_2                -0.031242\n",
       "d_mxpsd_3                -0.025583\n",
       "d_wdsp                   -0.025145\n",
       "d_wdsp_1                 -0.024805\n",
       "d_thunder_3              -0.020581\n",
       "d_wdsp_2                 -0.016196\n",
       "d_temp_1                 -0.013607\n",
       "d_rain_drizzle_3         -0.013129\n",
       "d_thunder_2              -0.011729\n",
       "d_wdsp_3                 -0.006899\n",
       "d_tornado_funnel_cloud_3 -0.004672\n",
       "d_tornado_funnel_cloud_2 -0.004667\n",
       "d_tornado_funnel_cloud   -0.004654\n",
       "d_hail_3                 -0.003303\n",
       "d_hail_2                 -0.003303\n",
       "d_hail                   -0.003297\n",
       "d_tornado_funnel_cloud_1 -0.003234\n",
       "d_hail_1                 -0.002177\n",
       "d_rain_drizzle_2          0.002445\n",
       "d_temp_2                  0.013806\n",
       "d_temp_3                  0.029482\n",
       "d_thunder_1               0.037245\n",
       "d_rain_drizzle_1          0.051206\n",
       "d_dewp_3                  0.082897\n",
       "d_dewp_2                  0.085066\n",
       "d_dewp_1                  0.107383\n",
       "d_dewp                    0.134829\n",
       "d_prcp_3                  0.187317\n",
       "d_thunder                 0.206222\n",
       "d_prcp_2                  0.219292\n",
       "d_prcp_1                  0.329447\n",
       "d_rain_drizzle            0.349867\n",
       "heavy                     0.918524\n",
       "d_prcp                    1.000000\n",
       "d_snow_ice_pellets             NaN\n",
       "d_snow_ice_pellets_1           NaN\n",
       "d_snow_ice_pellets_2           NaN\n",
       "d_snow_ice_pellets_3           NaN"
      ]
     },
     "execution_count": 41,
     "metadata": {},
     "output_type": "execute_result"
    }
   ],
   "source": [
    "df_corl = df_intptd.copy(deep=True)\n",
    "for v in df_corl.columns:\n",
    "  if v in ['d_stn','d_da','d_mo','d_year']:\n",
    "    df_corl = df_corl.drop(v, axis = 1)\n",
    "\n",
    "df_corl.corr()[['d_prcp']].sort_values('d_prcp')  "
   ]
  },
  {
   "cell_type": "markdown",
   "metadata": {},
   "source": [
    "<p>Nenhuma variável apresentou uma correlação alta. Assim vamos aplicar um modelo não linear.</p>"
   ]
  },
  {
   "cell_type": "markdown",
   "metadata": {},
   "source": [
    "<h2 style=\"color:blue;\">Treinamento e validação</h2>"
   ]
  },
  {
   "cell_type": "markdown",
   "metadata": {},
   "source": [
    "<p>Colocando a variável alvo na primeira posição do dataframe</p>"
   ]
  },
  {
   "cell_type": "code",
   "execution_count": 42,
   "metadata": {
    "collapsed": false
   },
   "outputs": [
    {
     "data": {
      "text/html": [
       "\n",
       "          <script src=\"/static/components/requirejs/require.js\"></script>\n",
       "          <script>\n",
       "            requirejs.config({\n",
       "              paths: {\n",
       "                base: '/static/base',\n",
       "              },\n",
       "            });\n",
       "          </script>\n",
       "          "
      ],
      "text/plain": [
       "<IPython.core.display.HTML object>"
      ]
     },
     "metadata": {},
     "output_type": "display_data"
    }
   ],
   "source": [
    "TARGET = u'd_temp'\n",
    "#TARGET = u'heavy'\n",
    "\n",
    "cols = list(df_intptd)\n",
    "cols.insert(0, cols.pop(cols.index(TARGET)))\n",
    "df_intptd = df_intptd.ix[:, cols]"
   ]
  },
  {
   "cell_type": "code",
   "execution_count": 43,
   "metadata": {
    "collapsed": false
   },
   "outputs": [
    {
     "data": {
      "text/html": [
       "\n",
       "          <script src=\"/static/components/requirejs/require.js\"></script>\n",
       "          <script>\n",
       "            requirejs.config({\n",
       "              paths: {\n",
       "                base: '/static/base',\n",
       "              },\n",
       "            });\n",
       "          </script>\n",
       "          "
      ],
      "text/plain": [
       "<IPython.core.display.HTML object>"
      ]
     },
     "metadata": {},
     "output_type": "display_data"
    }
   ],
   "source": [
    "for v in df_intptd.columns:\n",
    "  if v in ['d_stn','d_da','d_mo','d_year']:\n",
    "    df_intptd = df_intptd.drop(v, axis = 1)\n",
    "\n",
    "FEATURES = df_intptd.columns.tolist()\n",
    "FEATURES.remove(TARGET)\n",
    "\n",
    "TRAIN_SIZE = int(0.7*len(df_intptd))\n",
    "df_train = df_intptd[:TRAIN_SIZE]\n",
    "df_valid = df_intptd[TRAIN_SIZE:]"
   ]
  },
  {
   "cell_type": "code",
   "execution_count": 44,
   "metadata": {
    "collapsed": false
   },
   "outputs": [
    {
     "data": {
      "text/html": [
       "\n",
       "          <script src=\"/static/components/requirejs/require.js\"></script>\n",
       "          <script>\n",
       "            requirejs.config({\n",
       "              paths: {\n",
       "                base: '/static/base',\n",
       "              },\n",
       "            });\n",
       "          </script>\n",
       "          "
      ],
      "text/plain": [
       "<IPython.core.display.HTML object>"
      ]
     },
     "metadata": {},
     "output_type": "display_data"
    },
    {
     "name": "stdout",
     "output_type": "stream",
     "text": [
      "1.2.1\n"
     ]
    }
   ],
   "source": [
    "import tensorflow as tf\n",
    "import shutil\n",
    "\n",
    "print tf.__version__"
   ]
  },
  {
   "cell_type": "markdown",
   "metadata": {},
   "source": [
    "<h3 style=\"color:red;\">Funções para ler o dataframe para inserir no tf.constant</h3>"
   ]
  },
  {
   "cell_type": "code",
   "execution_count": 45,
   "metadata": {
    "collapsed": false
   },
   "outputs": [
    {
     "data": {
      "text/html": [
       "\n",
       "          <script src=\"/static/components/requirejs/require.js\"></script>\n",
       "          <script>\n",
       "            requirejs.config({\n",
       "              paths: {\n",
       "                base: '/static/base',\n",
       "              },\n",
       "            });\n",
       "          </script>\n",
       "          "
      ],
      "text/plain": [
       "<IPython.core.display.HTML object>"
      ]
     },
     "metadata": {},
     "output_type": "display_data"
    }
   ],
   "source": [
    "def make_input_fn(df):\n",
    "  def pandas_to_tf(pdcol):\n",
    "    # convert the pandas column values to float\n",
    "    t = tf.constant(pdcol.astype('float32').values)\n",
    "    # take the column which is of shape (N) and make it (N, 1)\n",
    "    return tf.expand_dims(t, -1)\n",
    "  \n",
    "  def input_fn():\n",
    "    # create features, columns\n",
    "    features = {k: pandas_to_tf(df[k]) for k in FEATURES}\n",
    "    labels = tf.constant(df[TARGET].values)\n",
    "    return features, labels\n",
    "  return input_fn\n",
    "  \n",
    "def make_feature_cols():\n",
    "  input_columns = [tf.contrib.layers.real_valued_column(k) for k in FEATURES]\n",
    "  return input_columns"
   ]
  },
  {
   "cell_type": "markdown",
   "metadata": {},
   "source": [
    "<h3 style=\"color:green;\">Regressão Linear</h3>"
   ]
  },
  {
   "cell_type": "code",
   "execution_count": 46,
   "metadata": {
    "collapsed": false
   },
   "outputs": [
    {
     "data": {
      "text/html": [
       "\n",
       "          <script src=\"/static/components/requirejs/require.js\"></script>\n",
       "          <script>\n",
       "            requirejs.config({\n",
       "              paths: {\n",
       "                base: '/static/base',\n",
       "              },\n",
       "            });\n",
       "          </script>\n",
       "          "
      ],
      "text/plain": [
       "<IPython.core.display.HTML object>"
      ]
     },
     "metadata": {},
     "output_type": "display_data"
    }
   ],
   "source": [
    "tf.logging.set_verbosity(tf.logging.ERROR)\n",
    "shutil.rmtree('prcp', ignore_errors=True) # start fresh each time\n",
    "model = tf.contrib.learn.LinearRegressor(feature_columns=make_feature_cols(), model_dir='prcp')\n",
    "model.fit(input_fn=make_input_fn(df_train), steps=10);"
   ]
  },
  {
   "cell_type": "code",
   "execution_count": 47,
   "metadata": {
    "collapsed": false
   },
   "outputs": [
    {
     "data": {
      "text/html": [
       "\n",
       "          <script src=\"/static/components/requirejs/require.js\"></script>\n",
       "          <script>\n",
       "            requirejs.config({\n",
       "              paths: {\n",
       "                base: '/static/base',\n",
       "              },\n",
       "            });\n",
       "          </script>\n",
       "          "
      ],
      "text/plain": [
       "<IPython.core.display.HTML object>"
      ]
     },
     "metadata": {},
     "output_type": "display_data"
    },
    {
     "name": "stdout",
     "output_type": "stream",
     "text": [
      "RMSE(Root Mean Squared Error) no conjunto de validação = 3.52427482605\n"
     ]
    }
   ],
   "source": [
    "def print_rmse(model, name, input_fn):\n",
    "  metrics = model.evaluate(input_fn=input_fn, steps=1)\n",
    "  print u'RMSE(Root Mean Squared Error) no {} = {}'.format(name, np.sqrt(metrics['loss']))\n",
    "  \n",
    "print_rmse(model, u'conjunto de validação', make_input_fn(df_valid))"
   ]
  },
  {
   "cell_type": "code",
   "execution_count": 48,
   "metadata": {
    "collapsed": false
   },
   "outputs": [
    {
     "data": {
      "text/html": [
       "\n",
       "          <script src=\"/static/components/requirejs/require.js\"></script>\n",
       "          <script>\n",
       "            requirejs.config({\n",
       "              paths: {\n",
       "                base: '/static/base',\n",
       "              },\n",
       "            });\n",
       "          </script>\n",
       "          "
      ],
      "text/plain": [
       "<IPython.core.display.HTML object>"
      ]
     },
     "metadata": {},
     "output_type": "display_data"
    }
   ],
   "source": [
    "model = tf.contrib.learn.LinearRegressor(feature_columns=make_feature_cols(), model_dir='prcp')\n",
    "preds = model.predict(input_fn=make_input_fn(df_valid))\n",
    "m = list(preds)"
   ]
  },
  {
   "cell_type": "markdown",
   "metadata": {},
   "source": [
    "<p>Comparando as predições com o conjunto de validação.</p>"
   ]
  },
  {
   "cell_type": "code",
   "execution_count": 49,
   "metadata": {
    "collapsed": false
   },
   "outputs": [
    {
     "data": {
      "text/html": [
       "\n",
       "          <script src=\"/static/components/requirejs/require.js\"></script>\n",
       "          <script>\n",
       "            requirejs.config({\n",
       "              paths: {\n",
       "                base: '/static/base',\n",
       "              },\n",
       "            });\n",
       "          </script>\n",
       "          "
      ],
      "text/plain": [
       "<IPython.core.display.HTML object>"
      ]
     },
     "metadata": {},
     "output_type": "display_data"
    },
    {
     "name": "stdout",
     "output_type": "stream",
     "text": [
      "   resultado  d_temp  d_dewp  d_wdsp  d_mxpsd  d_prcp  d_rain_drizzle  \\\n",
      "0  84.568108    86.5    73.9     6.1     12.0    0.00             0.0   \n",
      "1  84.672096    85.9    73.3     6.6     14.0    0.00             1.0   \n",
      "2  84.642212    85.2    72.3     3.1     20.0    0.00             1.0   \n",
      "3  83.826820    84.7    70.0     5.1     15.0    0.19             0.0   \n",
      "4  82.106346    85.5    64.1     7.5     14.0    0.00             0.0   \n",
      "5  80.038719    84.8    61.9     5.9     12.0    0.00             0.0   \n",
      "6  78.878571    84.3    67.2     4.8     11.1    0.00             0.0   \n",
      "7  79.640587    85.0    74.6     3.8     13.0    0.00             1.0   \n",
      "8  81.649292    83.0    76.0     3.4     18.1    0.02             1.0   \n",
      "9  83.733917    82.2    75.7     3.4      8.9    0.95             1.0   \n",
      "\n",
      "   d_snow_ice_pellets  d_hail  d_thunder  ...    d_hail_1  d_hail_2  d_hail_3  \\\n",
      "0                 0.0     0.0        0.0  ...         0.0       0.0       0.0   \n",
      "1                 0.0     0.0        1.0  ...         0.0       0.0       0.0   \n",
      "2                 0.0     0.0        1.0  ...         0.0       0.0       0.0   \n",
      "3                 0.0     0.0        0.0  ...         0.0       0.0       0.0   \n",
      "4                 0.0     0.0        0.0  ...         0.0       0.0       0.0   \n",
      "5                 0.0     0.0        0.0  ...         0.0       0.0       0.0   \n",
      "6                 0.0     0.0        0.0  ...         0.0       0.0       0.0   \n",
      "7                 0.0     0.0        0.0  ...         0.0       0.0       0.0   \n",
      "8                 0.0     0.0        1.0  ...         0.0       0.0       0.0   \n",
      "9                 0.0     0.0        1.0  ...         0.0       0.0       0.0   \n",
      "\n",
      "   d_thunder_1  d_thunder_2  d_thunder_3  d_tornado_funnel_cloud_1  \\\n",
      "0          0.0          0.0          0.0                       0.0   \n",
      "1          0.0          0.0          0.0                       0.0   \n",
      "2          1.0          0.0          0.0                       0.0   \n",
      "3          1.0          1.0          0.0                       0.0   \n",
      "4          0.0          1.0          1.0                       0.0   \n",
      "5          0.0          0.0          1.0                       0.0   \n",
      "6          0.0          0.0          0.0                       0.0   \n",
      "7          0.0          0.0          0.0                       0.0   \n",
      "8          0.0          0.0          0.0                       0.0   \n",
      "9          1.0          0.0          0.0                       0.0   \n",
      "\n",
      "   d_tornado_funnel_cloud_2  d_tornado_funnel_cloud_3  heavy  \n",
      "0                       0.0                       0.0      0  \n",
      "1                       0.0                       0.0      0  \n",
      "2                       0.0                       0.0      0  \n",
      "3                       0.0                       0.0      0  \n",
      "4                       0.0                       0.0      0  \n",
      "5                       0.0                       0.0      0  \n",
      "6                       0.0                       0.0      0  \n",
      "7                       0.0                       0.0      0  \n",
      "8                       0.0                       0.0      0  \n",
      "9                       0.0                       0.0      0  \n",
      "\n",
      "[10 rows x 42 columns]\n"
     ]
    }
   ],
   "source": [
    "df_comparar = df_valid.copy(deep=True)\n",
    "df_comparar = df_comparar.reset_index(drop=True)\n",
    "\n",
    "df_comparar['resultado'] = m\n",
    "\n",
    "cols = list(df_comparar)\n",
    "cols.insert(0, cols.pop(cols.index('resultado')))\n",
    "df_comparar = df_comparar.ix[:, cols]\n",
    "\n",
    "print df_comparar[:10]"
   ]
  },
  {
   "cell_type": "markdown",
   "metadata": {},
   "source": [
    "\n",
    "<p><b>Root Mean Square Error (RMSE)</b> is the standard deviation of the residuals (prediction errors). Residuals are a measure of how far from the regression line data points are; RMSE is a measure of how spread out these residuals are. In other words, it tells you how concentrated the data is around the line of best fit. Root mean square error is commonly used in climatology, forecasting, and regression analysis to verify experimental results.</P>"
   ]
  },
  {
   "cell_type": "markdown",
   "metadata": {},
   "source": [
    "<h3 style=\"color:green;\"> Deep Neural Network regression </h3>"
   ]
  },
  {
   "cell_type": "code",
   "execution_count": 50,
   "metadata": {
    "collapsed": false
   },
   "outputs": [
    {
     "data": {
      "text/html": [
       "\n",
       "          <script src=\"/static/components/requirejs/require.js\"></script>\n",
       "          <script>\n",
       "            requirejs.config({\n",
       "              paths: {\n",
       "                base: '/static/base',\n",
       "              },\n",
       "            });\n",
       "          </script>\n",
       "          "
      ],
      "text/plain": [
       "<IPython.core.display.HTML object>"
      ]
     },
     "metadata": {},
     "output_type": "display_data"
    },
    {
     "name": "stdout",
     "output_type": "stream",
     "text": [
      "RMSE(Root Mean Squared Error) no conjunto de validação = 8.08702850342\n"
     ]
    }
   ],
   "source": [
    "shutil.rmtree('prcp', ignore_errors=True)\n",
    "model = tf.contrib.learn.DNNRegressor(hidden_units=[32, 8, 2], feature_columns=make_feature_cols(), \n",
    "                                      optimizer=tf.train.ProximalAdagradOptimizer(learning_rate=0.3,l1_regularization_strength=0.001),\n",
    "                                      model_dir='prcp', )\n",
    "model.fit(input_fn=make_input_fn(df_train), steps=500);\n",
    "print_rmse(model, u'conjunto de validação', make_input_fn(df_valid))\n",
    "preds = model.predict(input_fn=make_input_fn(df_valid))\n",
    "m = list(preds)"
   ]
  },
  {
   "cell_type": "code",
   "execution_count": 51,
   "metadata": {
    "collapsed": false
   },
   "outputs": [
    {
     "data": {
      "text/html": [
       "\n",
       "          <script src=\"/static/components/requirejs/require.js\"></script>\n",
       "          <script>\n",
       "            requirejs.config({\n",
       "              paths: {\n",
       "                base: '/static/base',\n",
       "              },\n",
       "            });\n",
       "          </script>\n",
       "          "
      ],
      "text/plain": [
       "<IPython.core.display.HTML object>"
      ]
     },
     "metadata": {},
     "output_type": "display_data"
    },
    {
     "name": "stdout",
     "output_type": "stream",
     "text": [
      "   resultado  d_temp  d_dewp  d_wdsp  d_mxpsd  d_prcp  d_rain_drizzle  \\\n",
      "0  86.036911    86.5    73.9     6.1     12.0    0.00             0.0   \n",
      "1  85.597122    85.9    73.3     6.6     14.0    0.00             1.0   \n",
      "2  83.132156    85.2    72.3     3.1     20.0    0.00             1.0   \n",
      "3  84.695702    84.7    70.0     5.1     15.0    0.19             0.0   \n",
      "4  81.761002    85.5    64.1     7.5     14.0    0.00             0.0   \n",
      "5  82.970764    84.8    61.9     5.9     12.0    0.00             0.0   \n",
      "6  82.754623    84.3    67.2     4.8     11.1    0.00             0.0   \n",
      "7  80.684860    85.0    74.6     3.8     13.0    0.00             1.0   \n",
      "8  78.470963    83.0    76.0     3.4     18.1    0.02             1.0   \n",
      "9  82.265778    82.2    75.7     3.4      8.9    0.95             1.0   \n",
      "\n",
      "   d_snow_ice_pellets  d_hail  d_thunder  ...    d_hail_1  d_hail_2  d_hail_3  \\\n",
      "0                 0.0     0.0        0.0  ...         0.0       0.0       0.0   \n",
      "1                 0.0     0.0        1.0  ...         0.0       0.0       0.0   \n",
      "2                 0.0     0.0        1.0  ...         0.0       0.0       0.0   \n",
      "3                 0.0     0.0        0.0  ...         0.0       0.0       0.0   \n",
      "4                 0.0     0.0        0.0  ...         0.0       0.0       0.0   \n",
      "5                 0.0     0.0        0.0  ...         0.0       0.0       0.0   \n",
      "6                 0.0     0.0        0.0  ...         0.0       0.0       0.0   \n",
      "7                 0.0     0.0        0.0  ...         0.0       0.0       0.0   \n",
      "8                 0.0     0.0        1.0  ...         0.0       0.0       0.0   \n",
      "9                 0.0     0.0        1.0  ...         0.0       0.0       0.0   \n",
      "\n",
      "   d_thunder_1  d_thunder_2  d_thunder_3  d_tornado_funnel_cloud_1  \\\n",
      "0          0.0          0.0          0.0                       0.0   \n",
      "1          0.0          0.0          0.0                       0.0   \n",
      "2          1.0          0.0          0.0                       0.0   \n",
      "3          1.0          1.0          0.0                       0.0   \n",
      "4          0.0          1.0          1.0                       0.0   \n",
      "5          0.0          0.0          1.0                       0.0   \n",
      "6          0.0          0.0          0.0                       0.0   \n",
      "7          0.0          0.0          0.0                       0.0   \n",
      "8          0.0          0.0          0.0                       0.0   \n",
      "9          1.0          0.0          0.0                       0.0   \n",
      "\n",
      "   d_tornado_funnel_cloud_2  d_tornado_funnel_cloud_3  heavy  \n",
      "0                       0.0                       0.0      0  \n",
      "1                       0.0                       0.0      0  \n",
      "2                       0.0                       0.0      0  \n",
      "3                       0.0                       0.0      0  \n",
      "4                       0.0                       0.0      0  \n",
      "5                       0.0                       0.0      0  \n",
      "6                       0.0                       0.0      0  \n",
      "7                       0.0                       0.0      0  \n",
      "8                       0.0                       0.0      0  \n",
      "9                       0.0                       0.0      0  \n",
      "\n",
      "[10 rows x 42 columns]\n"
     ]
    }
   ],
   "source": [
    "df_comparar = df_valid.copy(deep=True)\n",
    "df_comparar = df_comparar.reset_index(drop=True)\n",
    "\n",
    "df_comparar['resultado'] = m\n",
    "\n",
    "cols = list(df_comparar)\n",
    "cols.insert(0, cols.pop(cols.index('resultado')))\n",
    "df_comparar = df_comparar.ix[:, cols]\n",
    "\n",
    "print df_comparar[:10]"
   ]
  },
  {
   "cell_type": "markdown",
   "metadata": {},
   "source": [
    "<h2 style=\"color:blue;\">Conclusão</h2>"
   ]
  },
  {
   "cell_type": "markdown",
   "metadata": {},
   "source": [
    "<p>Os resultados não foram bons, visto que são viciados, mas a proposta é rodar novamente mas desta vez aplicando validação cruzada. E refazer o holdout mas feito corretamente, ou seja, selecionar randomicamente. Aplicando o modelo regressão linear o <b>RMSE(Root Mean Squared Error) foi 22.68 </b> e aplicando redes neurais <b>(DNN Regressor) foi 24.66 </b>.</p>\n",
    "\n",
    "<p>Os próximos passos são fazer o balanciamento, e possivelmente discretizar a chuva extrema em intervalos ao inves de prever a precipitação em valores contínuos. E selecionar as instâncias de forma randômica.</p>\n",
    "\n"
   ]
  }
 ],
 "metadata": {
  "kernelspec": {
   "display_name": "Python 2",
   "language": "python",
   "name": "python2"
  },
  "language_info": {
   "codemirror_mode": {
    "name": "ipython",
    "version": 2
   },
   "file_extension": ".py",
   "mimetype": "text/x-python",
   "name": "python",
   "nbconvert_exporter": "python",
   "pygments_lexer": "ipython2",
   "version": "2.7.12"
  }
 },
 "nbformat": 4,
 "nbformat_minor": 2
}
