{
 "cells": [
  {
   "cell_type": "code",
   "execution_count": 1,
   "metadata": {},
   "outputs": [],
   "source": [
    "%matplotlib inline"
   ]
  },
  {
   "cell_type": "code",
   "execution_count": 2,
   "metadata": {},
   "outputs": [],
   "source": [
    "import numpy as np\n",
    "import pandas as pd\n",
    "from scipy import stats, integrate\n",
    "import matplotlib.pyplot as plt"
   ]
  },
  {
   "cell_type": "code",
   "execution_count": 3,
   "metadata": {},
   "outputs": [],
   "source": [
    "import seaborn as sns\n",
    "import shutil\n",
    "from sklearn.utils import shuffle"
   ]
  },
  {
   "cell_type": "code",
   "execution_count": 4,
   "metadata": {},
   "outputs": [
    {
     "data": {
      "image/png": "[encoded data removed]",
      "text/plain": [
       "<matplotlib.figure.Figure at 0x10fea7a90>"
      ]
     },
     "metadata": {},
     "output_type": "display_data"
    }
   ],
   "source": [
    "import seaborn as sns\n",
    "sns.palplot(sns.color_palette(\"RdBu_r\", 7))\n",
    "\n",
    "sns.set_style(\"whitegrid\")"
   ]
  },
  {
   "cell_type": "markdown",
   "metadata": {},
   "source": [
    "# Importando base de dados"
   ]
  },
  {
   "cell_type": "markdown",
   "metadata": {},
   "source": [
    "<p>Base com todos os dados do sudeste</p>"
   ]
  },
  {
   "cell_type": "code",
   "execution_count": 5,
   "metadata": {},
   "outputs": [
    {
     "name": "stdout",
     "output_type": "stream",
     "text": [
      "9779168\n"
     ]
    }
   ],
   "source": [
    "df = pd.read_csv('../data/sudeste.csv',low_memory=False)\n",
    "print len(df)"
   ]
  },
  {
   "cell_type": "markdown",
   "metadata": {},
   "source": [
    "<p>Base com todas chuvas EXTREMAS com inicio e fim de cada chuva extrema (> 50mm em 24 horas)</p>"
   ]
  },
  {
   "cell_type": "code",
   "execution_count": 6,
   "metadata": {},
   "outputs": [
    {
     "name": "stdout",
     "output_type": "stream",
     "text": [
      "31710\n"
     ]
    }
   ],
   "source": [
    "dfhr = pd.read_csv('../data/extreme_prcp_evolution.csv')\n",
    "print len(dfhr)"
   ]
  },
  {
   "cell_type": "markdown",
   "metadata": {},
   "source": [
    "<p>Subconjunto da base principal considerando o inicio e fim das chuvas extremas (> 50mm em 24 horas)</p>"
   ]
  },
  {
   "cell_type": "code",
   "execution_count": 8,
   "metadata": {},
   "outputs": [
    {
     "name": "stdout",
     "output_type": "stream",
     "text": [
      "101976\n"
     ]
    }
   ],
   "source": [
    "dfext = pd.read_csv('../data/sudeste_extreme_prcp.csv', index_col=0)\n",
    "print len(dfext)"
   ]
  },
  {
   "cell_type": "markdown",
   "metadata": {},
   "source": [
    "# Pré-processamento"
   ]
  },
  {
   "cell_type": "code",
   "execution_count": 9,
   "metadata": {},
   "outputs": [],
   "source": [
    "dfhr['pstr'] = pd.to_datetime(dfhr['pstr'])\n",
    "dfhr['pend'] = pd.to_datetime(dfhr['pend'])"
   ]
  },
  {
   "cell_type": "code",
   "execution_count": 10,
   "metadata": {},
   "outputs": [
    {
     "name": "stdout",
     "output_type": "stream",
     "text": [
      "<class 'pandas.core.frame.DataFrame'>\n",
      "RangeIndex: 31710 entries, 0 to 31709\n",
      "Data columns (total 29 columns):\n",
      "id      31710 non-null int64\n",
      "wsid    31710 non-null int64\n",
      "pstr    31710 non-null datetime64[ns]\n",
      "pend    31710 non-null datetime64[ns]\n",
      "psum    31710 non-null float64\n",
      "1       31710 non-null float64\n",
      "2       31710 non-null float64\n",
      "3       31710 non-null float64\n",
      "4       31710 non-null float64\n",
      "5       31710 non-null float64\n",
      "6       31710 non-null float64\n",
      "7       31710 non-null float64\n",
      "8       31710 non-null float64\n",
      "9       31710 non-null float64\n",
      "10      31710 non-null float64\n",
      "11      31710 non-null float64\n",
      "12      31710 non-null float64\n",
      "13      31710 non-null float64\n",
      "14      31710 non-null float64\n",
      "15      31710 non-null float64\n",
      "16      31710 non-null float64\n",
      "17      31710 non-null float64\n",
      "18      31710 non-null float64\n",
      "19      31710 non-null float64\n",
      "20      31710 non-null float64\n",
      "21      31710 non-null float64\n",
      "22      31710 non-null float64\n",
      "23      31710 non-null float64\n",
      "24      31710 non-null float64\n",
      "dtypes: datetime64[ns](2), float64(25), int64(2)\n",
      "memory usage: 7.0 MB\n"
     ]
    }
   ],
   "source": [
    "dfhr.info()"
   ]
  },
  {
   "cell_type": "code",
   "execution_count": 11,
   "metadata": {},
   "outputs": [],
   "source": [
    "df['mdct'] = pd.to_datetime(df['mdct'])\n",
    "df['date'] = pd.to_datetime(df['date'])\n",
    "\n",
    "strfld = ['wsnm','inme','city','prov']\n",
    "\n",
    "for f in strfld:\n",
    "    df[f] = df[f].astype(str)    "
   ]
  },
  {
   "cell_type": "code",
   "execution_count": 12,
   "metadata": {},
   "outputs": [],
   "source": [
    "# Campos não numericos e campos derivados\n",
    "DES= ['wsid','wsnm','elvt','lat','lon','inme','city','prov']\n",
    "INT = ['yr','mo','da','hr']\n",
    "DAT = ['mdct','date']\n",
    "DER = ['smax','smin','tmax','tmin','dmax','dmin','hmax','hmin']"
   ]
  },
  {
   "cell_type": "code",
   "execution_count": 13,
   "metadata": {},
   "outputs": [],
   "source": [
    "# dataframe apenas com os dados continuos\n",
    "dfcont = df\n",
    "for f in DES + INT + DAT:    \n",
    "    dfcont = dfcont.drop(f, 1)"
   ]
  },
  {
   "cell_type": "code",
   "execution_count": 14,
   "metadata": {},
   "outputs": [
    {
     "name": "stdout",
     "output_type": "stream",
     "text": [
      "<class 'pandas.core.frame.DataFrame'>\n",
      "RangeIndex: 9779168 entries, 0 to 9779167\n",
      "Data columns (total 17 columns):\n",
      "prcp    float64\n",
      "stp     float64\n",
      "smax    float64\n",
      "smin    float64\n",
      "gbrd    float64\n",
      "temp    float64\n",
      "tmax    float64\n",
      "tmin    float64\n",
      "dewp    float64\n",
      "dmax    float64\n",
      "dmin    float64\n",
      "hmdy    float64\n",
      "hmax    float64\n",
      "hmin    float64\n",
      "wdsp    float64\n",
      "wdct    float64\n",
      "gust    float64\n",
      "dtypes: float64(17)\n",
      "memory usage: 1.2 GB\n"
     ]
    }
   ],
   "source": [
    "dfcont.info()"
   ]
  },
  {
   "cell_type": "code",
   "execution_count": 15,
   "metadata": {},
   "outputs": [],
   "source": [
    "# dataframe com dados continuos mas sem dados derivados\n",
    "dfcsd = dfcont\n",
    "for f in DER:    \n",
    "    dfcsd = dfcsd.drop(f, 1)"
   ]
  },
  {
   "cell_type": "markdown",
   "metadata": {},
   "source": [
    "<p>Separando apenas o conjunto de precipitações extremas. Ou seja, criando um novo dataframe filtrando apenas os dados medidos no início e fim da chuva extrema </p>"
   ]
  },
  {
   "cell_type": "code",
   "execution_count": 16,
   "metadata": {},
   "outputs": [
    {
     "data": {
      "text/html": [
       "<div>\n",
       "<style scoped>\n",
       "    .dataframe tbody tr th:only-of-type {\n",
       "        vertical-align: middle;\n",
       "    }\n",
       "\n",
       "    .dataframe tbody tr th {\n",
       "        vertical-align: top;\n",
       "    }\n",
       "\n",
       "    .dataframe thead th {\n",
       "        text-align: right;\n",
       "    }\n",
       "</style>\n",
       "<table border=\"1\" class=\"dataframe\">\n",
       "  <thead>\n",
       "    <tr style=\"text-align: right;\">\n",
       "      <th></th>\n",
       "      <th>wsid</th>\n",
       "      <th>wsnm</th>\n",
       "      <th>elvt</th>\n",
       "      <th>lat</th>\n",
       "      <th>lon</th>\n",
       "      <th>inme</th>\n",
       "      <th>city</th>\n",
       "      <th>prov</th>\n",
       "      <th>mdct</th>\n",
       "      <th>date</th>\n",
       "      <th>...</th>\n",
       "      <th>tmin</th>\n",
       "      <th>dewp</th>\n",
       "      <th>dmax</th>\n",
       "      <th>dmin</th>\n",
       "      <th>hmdy</th>\n",
       "      <th>hmax</th>\n",
       "      <th>hmin</th>\n",
       "      <th>wdsp</th>\n",
       "      <th>wdct</th>\n",
       "      <th>gust</th>\n",
       "    </tr>\n",
       "  </thead>\n",
       "  <tbody>\n",
       "    <tr>\n",
       "      <th>2884</th>\n",
       "      <td>178</td>\n",
       "      <td>SÃO GONÇALO</td>\n",
       "      <td>237.0</td>\n",
       "      <td>-6.835777</td>\n",
       "      <td>-38.311583</td>\n",
       "      <td>A333</td>\n",
       "      <td>São Gonçalo</td>\n",
       "      <td>RJ</td>\n",
       "      <td>2008-03-05 04:00:00</td>\n",
       "      <td>2008-03-05 00:00:00</td>\n",
       "      <td>...</td>\n",
       "      <td>23.1</td>\n",
       "      <td>21.9</td>\n",
       "      <td>19.7</td>\n",
       "      <td>18.4</td>\n",
       "      <td>95.0</td>\n",
       "      <td>95.0</td>\n",
       "      <td>90.0</td>\n",
       "      <td>5.4</td>\n",
       "      <td>187.0</td>\n",
       "      <td>11.5</td>\n",
       "    </tr>\n",
       "    <tr>\n",
       "      <th>2885</th>\n",
       "      <td>178</td>\n",
       "      <td>SÃO GONÇALO</td>\n",
       "      <td>237.0</td>\n",
       "      <td>-6.835777</td>\n",
       "      <td>-38.311583</td>\n",
       "      <td>A333</td>\n",
       "      <td>São Gonçalo</td>\n",
       "      <td>RJ</td>\n",
       "      <td>2008-03-05 05:00:00</td>\n",
       "      <td>2008-03-05 00:00:00</td>\n",
       "      <td>...</td>\n",
       "      <td>21.0</td>\n",
       "      <td>20.6</td>\n",
       "      <td>19.6</td>\n",
       "      <td>18.8</td>\n",
       "      <td>97.0</td>\n",
       "      <td>98.0</td>\n",
       "      <td>95.0</td>\n",
       "      <td>1.3</td>\n",
       "      <td>221.0</td>\n",
       "      <td>11.5</td>\n",
       "    </tr>\n",
       "    <tr>\n",
       "      <th>2886</th>\n",
       "      <td>178</td>\n",
       "      <td>SÃO GONÇALO</td>\n",
       "      <td>237.0</td>\n",
       "      <td>-6.835777</td>\n",
       "      <td>-38.311583</td>\n",
       "      <td>A333</td>\n",
       "      <td>São Gonçalo</td>\n",
       "      <td>RJ</td>\n",
       "      <td>2008-03-05 06:00:00</td>\n",
       "      <td>2008-03-05 00:00:00</td>\n",
       "      <td>...</td>\n",
       "      <td>21.1</td>\n",
       "      <td>20.6</td>\n",
       "      <td>20.6</td>\n",
       "      <td>20.2</td>\n",
       "      <td>97.0</td>\n",
       "      <td>97.0</td>\n",
       "      <td>97.0</td>\n",
       "      <td>0.7</td>\n",
       "      <td>273.0</td>\n",
       "      <td>3.0</td>\n",
       "    </tr>\n",
       "    <tr>\n",
       "      <th>2887</th>\n",
       "      <td>178</td>\n",
       "      <td>SÃO GONÇALO</td>\n",
       "      <td>237.0</td>\n",
       "      <td>-6.835777</td>\n",
       "      <td>-38.311583</td>\n",
       "      <td>A333</td>\n",
       "      <td>São Gonçalo</td>\n",
       "      <td>RJ</td>\n",
       "      <td>2008-03-05 07:00:00</td>\n",
       "      <td>2008-03-05 00:00:00</td>\n",
       "      <td>...</td>\n",
       "      <td>21.0</td>\n",
       "      <td>20.6</td>\n",
       "      <td>20.8</td>\n",
       "      <td>20.3</td>\n",
       "      <td>97.0</td>\n",
       "      <td>97.0</td>\n",
       "      <td>97.0</td>\n",
       "      <td>1.4</td>\n",
       "      <td>128.0</td>\n",
       "      <td>2.8</td>\n",
       "    </tr>\n",
       "    <tr>\n",
       "      <th>2888</th>\n",
       "      <td>178</td>\n",
       "      <td>SÃO GONÇALO</td>\n",
       "      <td>237.0</td>\n",
       "      <td>-6.835777</td>\n",
       "      <td>-38.311583</td>\n",
       "      <td>A333</td>\n",
       "      <td>São Gonçalo</td>\n",
       "      <td>RJ</td>\n",
       "      <td>2008-03-05 08:00:00</td>\n",
       "      <td>2008-03-05 00:00:00</td>\n",
       "      <td>...</td>\n",
       "      <td>21.0</td>\n",
       "      <td>20.5</td>\n",
       "      <td>20.9</td>\n",
       "      <td>20.4</td>\n",
       "      <td>97.0</td>\n",
       "      <td>97.0</td>\n",
       "      <td>97.0</td>\n",
       "      <td>0.8</td>\n",
       "      <td>270.0</td>\n",
       "      <td>4.1</td>\n",
       "    </tr>\n",
       "  </tbody>\n",
       "</table>\n",
       "<p>5 rows × 31 columns</p>\n",
       "</div>"
      ],
      "text/plain": [
       "      wsid         wsnm   elvt       lat        lon  inme         city prov  \\\n",
       "2884   178  SÃO GONÇALO  237.0 -6.835777 -38.311583  A333  São Gonçalo   RJ   \n",
       "2885   178  SÃO GONÇALO  237.0 -6.835777 -38.311583  A333  São Gonçalo   RJ   \n",
       "2886   178  SÃO GONÇALO  237.0 -6.835777 -38.311583  A333  São Gonçalo   RJ   \n",
       "2887   178  SÃO GONÇALO  237.0 -6.835777 -38.311583  A333  São Gonçalo   RJ   \n",
       "2888   178  SÃO GONÇALO  237.0 -6.835777 -38.311583  A333  São Gonçalo   RJ   \n",
       "\n",
       "                     mdct                 date  ...   tmin  dewp  dmax  dmin  \\\n",
       "2884  2008-03-05 04:00:00  2008-03-05 00:00:00  ...   23.1  21.9  19.7  18.4   \n",
       "2885  2008-03-05 05:00:00  2008-03-05 00:00:00  ...   21.0  20.6  19.6  18.8   \n",
       "2886  2008-03-05 06:00:00  2008-03-05 00:00:00  ...   21.1  20.6  20.6  20.2   \n",
       "2887  2008-03-05 07:00:00  2008-03-05 00:00:00  ...   21.0  20.6  20.8  20.3   \n",
       "2888  2008-03-05 08:00:00  2008-03-05 00:00:00  ...   21.0  20.5  20.9  20.4   \n",
       "\n",
       "      hmdy  hmax  hmin  wdsp   wdct  gust  \n",
       "2884  95.0  95.0  90.0   5.4  187.0  11.5  \n",
       "2885  97.0  98.0  95.0   1.3  221.0  11.5  \n",
       "2886  97.0  97.0  97.0   0.7  273.0   3.0  \n",
       "2887  97.0  97.0  97.0   1.4  128.0   2.8  \n",
       "2888  97.0  97.0  97.0   0.8  270.0   4.1  \n",
       "\n",
       "[5 rows x 31 columns]"
      ]
     },
     "execution_count": 16,
     "metadata": {},
     "output_type": "execute_result"
    }
   ],
   "source": [
    "dfext.head(5)"
   ]
  },
  {
   "cell_type": "code",
   "execution_count": 17,
   "metadata": {},
   "outputs": [],
   "source": [
    "# dataframe apenas com os dados continuos (APENAS Chuvas extremas)\n",
    "order_list = ['wsid','wsnm','elvt','lat','lon','inme','city','prov','mdct','date',\\\n",
    "              'yr','mo','da','hr','prcp','stp','smax','smin','gbrd','temp','tmax','tmin',\\\n",
    "              'dewp','dmax','dmin','hmdy','hmax','hmin','wdsp','wdct','gust','peid']\n",
    "dfext = dfext.reindex(order_list, axis=1)\n",
    "dfextcont = dfext"
   ]
  },
  {
   "cell_type": "code",
   "execution_count": 18,
   "metadata": {},
   "outputs": [],
   "source": [
    "for f in DES + INT + DAT:    \n",
    "    dfextcont = dfextcont.drop(f, 1)"
   ]
  },
  {
   "cell_type": "code",
   "execution_count": 19,
   "metadata": {},
   "outputs": [
    {
     "data": {
      "text/html": [
       "<div>\n",
       "<style scoped>\n",
       "    .dataframe tbody tr th:only-of-type {\n",
       "        vertical-align: middle;\n",
       "    }\n",
       "\n",
       "    .dataframe tbody tr th {\n",
       "        vertical-align: top;\n",
       "    }\n",
       "\n",
       "    .dataframe thead th {\n",
       "        text-align: right;\n",
       "    }\n",
       "</style>\n",
       "<table border=\"1\" class=\"dataframe\">\n",
       "  <thead>\n",
       "    <tr style=\"text-align: right;\">\n",
       "      <th></th>\n",
       "      <th>prcp</th>\n",
       "      <th>stp</th>\n",
       "      <th>smax</th>\n",
       "      <th>smin</th>\n",
       "      <th>gbrd</th>\n",
       "      <th>temp</th>\n",
       "      <th>tmax</th>\n",
       "      <th>tmin</th>\n",
       "      <th>dewp</th>\n",
       "      <th>dmax</th>\n",
       "      <th>dmin</th>\n",
       "      <th>hmdy</th>\n",
       "      <th>hmax</th>\n",
       "      <th>hmin</th>\n",
       "      <th>wdsp</th>\n",
       "      <th>wdct</th>\n",
       "      <th>gust</th>\n",
       "      <th>peid</th>\n",
       "    </tr>\n",
       "  </thead>\n",
       "  <tbody>\n",
       "    <tr>\n",
       "      <th>2884</th>\n",
       "      <td>17.2</td>\n",
       "      <td>985.2</td>\n",
       "      <td>985.6</td>\n",
       "      <td>983.8</td>\n",
       "      <td>NaN</td>\n",
       "      <td>19.7</td>\n",
       "      <td>18.9</td>\n",
       "      <td>23.1</td>\n",
       "      <td>21.9</td>\n",
       "      <td>19.7</td>\n",
       "      <td>18.4</td>\n",
       "      <td>95.0</td>\n",
       "      <td>95.0</td>\n",
       "      <td>90.0</td>\n",
       "      <td>5.4</td>\n",
       "      <td>187.0</td>\n",
       "      <td>11.5</td>\n",
       "      <td>NaN</td>\n",
       "    </tr>\n",
       "    <tr>\n",
       "      <th>2885</th>\n",
       "      <td>15.4</td>\n",
       "      <td>983.8</td>\n",
       "      <td>985.1</td>\n",
       "      <td>983.7</td>\n",
       "      <td>NaN</td>\n",
       "      <td>21.0</td>\n",
       "      <td>20.6</td>\n",
       "      <td>21.0</td>\n",
       "      <td>20.6</td>\n",
       "      <td>19.6</td>\n",
       "      <td>18.8</td>\n",
       "      <td>97.0</td>\n",
       "      <td>98.0</td>\n",
       "      <td>95.0</td>\n",
       "      <td>1.3</td>\n",
       "      <td>221.0</td>\n",
       "      <td>11.5</td>\n",
       "      <td>NaN</td>\n",
       "    </tr>\n",
       "    <tr>\n",
       "      <th>2886</th>\n",
       "      <td>1.4</td>\n",
       "      <td>984.3</td>\n",
       "      <td>984.4</td>\n",
       "      <td>983.8</td>\n",
       "      <td>NaN</td>\n",
       "      <td>20.8</td>\n",
       "      <td>20.3</td>\n",
       "      <td>21.1</td>\n",
       "      <td>20.6</td>\n",
       "      <td>20.6</td>\n",
       "      <td>20.2</td>\n",
       "      <td>97.0</td>\n",
       "      <td>97.0</td>\n",
       "      <td>97.0</td>\n",
       "      <td>0.7</td>\n",
       "      <td>273.0</td>\n",
       "      <td>3.0</td>\n",
       "      <td>NaN</td>\n",
       "    </tr>\n",
       "    <tr>\n",
       "      <th>2887</th>\n",
       "      <td>3.4</td>\n",
       "      <td>984.5</td>\n",
       "      <td>984.8</td>\n",
       "      <td>984.3</td>\n",
       "      <td>NaN</td>\n",
       "      <td>20.9</td>\n",
       "      <td>20.5</td>\n",
       "      <td>21.0</td>\n",
       "      <td>20.6</td>\n",
       "      <td>20.8</td>\n",
       "      <td>20.3</td>\n",
       "      <td>97.0</td>\n",
       "      <td>97.0</td>\n",
       "      <td>97.0</td>\n",
       "      <td>1.4</td>\n",
       "      <td>128.0</td>\n",
       "      <td>2.8</td>\n",
       "      <td>NaN</td>\n",
       "    </tr>\n",
       "    <tr>\n",
       "      <th>2888</th>\n",
       "      <td>4.6</td>\n",
       "      <td>984.5</td>\n",
       "      <td>984.5</td>\n",
       "      <td>984.1</td>\n",
       "      <td>NaN</td>\n",
       "      <td>21.0</td>\n",
       "      <td>20.5</td>\n",
       "      <td>21.0</td>\n",
       "      <td>20.5</td>\n",
       "      <td>20.9</td>\n",
       "      <td>20.4</td>\n",
       "      <td>97.0</td>\n",
       "      <td>97.0</td>\n",
       "      <td>97.0</td>\n",
       "      <td>0.8</td>\n",
       "      <td>270.0</td>\n",
       "      <td>4.1</td>\n",
       "      <td>NaN</td>\n",
       "    </tr>\n",
       "  </tbody>\n",
       "</table>\n",
       "</div>"
      ],
      "text/plain": [
       "      prcp    stp   smax   smin  gbrd  temp  tmax  tmin  dewp  dmax  dmin  \\\n",
       "2884  17.2  985.2  985.6  983.8   NaN  19.7  18.9  23.1  21.9  19.7  18.4   \n",
       "2885  15.4  983.8  985.1  983.7   NaN  21.0  20.6  21.0  20.6  19.6  18.8   \n",
       "2886   1.4  984.3  984.4  983.8   NaN  20.8  20.3  21.1  20.6  20.6  20.2   \n",
       "2887   3.4  984.5  984.8  984.3   NaN  20.9  20.5  21.0  20.6  20.8  20.3   \n",
       "2888   4.6  984.5  984.5  984.1   NaN  21.0  20.5  21.0  20.5  20.9  20.4   \n",
       "\n",
       "      hmdy  hmax  hmin  wdsp   wdct  gust  peid  \n",
       "2884  95.0  95.0  90.0   5.4  187.0  11.5   NaN  \n",
       "2885  97.0  98.0  95.0   1.3  221.0  11.5   NaN  \n",
       "2886  97.0  97.0  97.0   0.7  273.0   3.0   NaN  \n",
       "2887  97.0  97.0  97.0   1.4  128.0   2.8   NaN  \n",
       "2888  97.0  97.0  97.0   0.8  270.0   4.1   NaN  "
      ]
     },
     "execution_count": 19,
     "metadata": {},
     "output_type": "execute_result"
    }
   ],
   "source": [
    "dfextcont.head(5)"
   ]
  },
  {
   "cell_type": "markdown",
   "metadata": {},
   "source": [
    "<h3>Limpeza dos dados</h3>"
   ]
  },
  {
   "cell_type": "markdown",
   "metadata": {},
   "source": [
    "<p>Vamos ver como os dados contínuos estão organizados: MÍNIMOS, MÁXIMOS, MEDIAS</p>"
   ]
  },
  {
   "cell_type": "code",
   "execution_count": 20,
   "metadata": {},
   "outputs": [
    {
     "data": {
      "text/html": [
       "<div>\n",
       "<style scoped>\n",
       "    .dataframe tbody tr th:only-of-type {\n",
       "        vertical-align: middle;\n",
       "    }\n",
       "\n",
       "    .dataframe tbody tr th {\n",
       "        vertical-align: top;\n",
       "    }\n",
       "\n",
       "    .dataframe thead th {\n",
       "        text-align: right;\n",
       "    }\n",
       "</style>\n",
       "<table border=\"1\" class=\"dataframe\">\n",
       "  <thead>\n",
       "    <tr style=\"text-align: right;\">\n",
       "      <th></th>\n",
       "      <th>prcp</th>\n",
       "      <th>stp</th>\n",
       "      <th>smax</th>\n",
       "      <th>smin</th>\n",
       "      <th>gbrd</th>\n",
       "      <th>temp</th>\n",
       "      <th>tmax</th>\n",
       "      <th>tmin</th>\n",
       "      <th>dewp</th>\n",
       "      <th>dmax</th>\n",
       "      <th>dmin</th>\n",
       "      <th>hmdy</th>\n",
       "      <th>hmax</th>\n",
       "      <th>hmin</th>\n",
       "      <th>wdsp</th>\n",
       "      <th>wdct</th>\n",
       "      <th>gust</th>\n",
       "      <th>peid</th>\n",
       "    </tr>\n",
       "  </thead>\n",
       "  <tbody>\n",
       "  </tbody>\n",
       "</table>\n",
       "</div>"
      ],
      "text/plain": [
       "Empty DataFrame\n",
       "Columns: [prcp, stp, smax, smin, gbrd, temp, tmax, tmin, dewp, dmax, dmin, hmdy, hmax, hmin, wdsp, wdct, gust, peid]\n",
       "Index: []"
      ]
     },
     "execution_count": 20,
     "metadata": {},
     "output_type": "execute_result"
    }
   ],
   "source": [
    "dfextcont.dropna(inplace=False).head(5)"
   ]
  },
  {
   "cell_type": "code",
   "execution_count": 21,
   "metadata": {},
   "outputs": [],
   "source": [
    "dfextcont = dfextcont.apply(pd.to_numeric, errors='coerce')  "
   ]
  },
  {
   "cell_type": "code",
   "execution_count": 22,
   "metadata": {},
   "outputs": [
    {
     "name": "stdout",
     "output_type": "stream",
     "text": [
      "<class 'pandas.core.frame.DataFrame'>\n",
      "Int64Index: 101976 entries, 2884 to 9774281\n",
      "Data columns (total 18 columns):\n",
      "prcp    56808 non-null float64\n",
      "stp     101976 non-null float64\n",
      "smax    101976 non-null float64\n",
      "smin    101976 non-null float64\n",
      "gbrd    59287 non-null float64\n",
      "temp    101976 non-null float64\n",
      "tmax    101976 non-null float64\n",
      "tmin    101976 non-null float64\n",
      "dewp    101975 non-null float64\n",
      "dmax    101976 non-null float64\n",
      "dmin    101976 non-null float64\n",
      "hmdy    101976 non-null float64\n",
      "hmax    101976 non-null float64\n",
      "hmin    101976 non-null float64\n",
      "wdsp    93205 non-null float64\n",
      "wdct    101976 non-null float64\n",
      "gust    99528 non-null float64\n",
      "peid    0 non-null float64\n",
      "dtypes: float64(18)\n",
      "memory usage: 14.8 MB\n"
     ]
    }
   ],
   "source": [
    "dfextcont.info()"
   ]
  },
  {
   "cell_type": "markdown",
   "metadata": {},
   "source": [
    "<p> A variável gbbr(radiação global) apresenta massivamente números nulos e não pode ser recuperada. Vamos retirar esta variável.</p>"
   ]
  },
  {
   "cell_type": "code",
   "execution_count": 23,
   "metadata": {},
   "outputs": [],
   "source": [
    "dfextcont = dfextcont.drop('gbrd', 1)\n",
    "dfcont =  dfcont.drop('gbrd',1)\n",
    "df = df.drop('gbrd',1)\n",
    "dfext = dfext.drop('gbrd',1)"
   ]
  },
  {
   "cell_type": "code",
   "execution_count": 24,
   "metadata": {},
   "outputs": [
    {
     "data": {
      "text/html": [
       "<div>\n",
       "<style scoped>\n",
       "    .dataframe tbody tr th:only-of-type {\n",
       "        vertical-align: middle;\n",
       "    }\n",
       "\n",
       "    .dataframe tbody tr th {\n",
       "        vertical-align: top;\n",
       "    }\n",
       "\n",
       "    .dataframe thead th {\n",
       "        text-align: right;\n",
       "    }\n",
       "</style>\n",
       "<table border=\"1\" class=\"dataframe\">\n",
       "  <thead>\n",
       "    <tr style=\"text-align: right;\">\n",
       "      <th></th>\n",
       "      <th>prcp</th>\n",
       "      <th>stp</th>\n",
       "      <th>smax</th>\n",
       "      <th>smin</th>\n",
       "      <th>temp</th>\n",
       "      <th>tmax</th>\n",
       "      <th>tmin</th>\n",
       "      <th>dewp</th>\n",
       "      <th>dmax</th>\n",
       "      <th>dmin</th>\n",
       "      <th>hmdy</th>\n",
       "      <th>hmax</th>\n",
       "      <th>hmin</th>\n",
       "      <th>wdsp</th>\n",
       "      <th>wdct</th>\n",
       "      <th>gust</th>\n",
       "      <th>peid</th>\n",
       "    </tr>\n",
       "  </thead>\n",
       "  <tbody>\n",
       "    <tr>\n",
       "      <th>count</th>\n",
       "      <td>56808.000000</td>\n",
       "      <td>101976.000000</td>\n",
       "      <td>101976.000000</td>\n",
       "      <td>101976.000000</td>\n",
       "      <td>101976.000000</td>\n",
       "      <td>101976.000000</td>\n",
       "      <td>101976.000000</td>\n",
       "      <td>101975.000000</td>\n",
       "      <td>101976.000000</td>\n",
       "      <td>101976.000000</td>\n",
       "      <td>101976.000000</td>\n",
       "      <td>101976.000000</td>\n",
       "      <td>101976.000000</td>\n",
       "      <td>93205.000000</td>\n",
       "      <td>101976.000000</td>\n",
       "      <td>99528.000000</td>\n",
       "      <td>0.0</td>\n",
       "    </tr>\n",
       "    <tr>\n",
       "      <th>mean</th>\n",
       "      <td>5.252317</td>\n",
       "      <td>933.216368</td>\n",
       "      <td>933.451797</td>\n",
       "      <td>932.837102</td>\n",
       "      <td>21.239686</td>\n",
       "      <td>18.875580</td>\n",
       "      <td>21.766394</td>\n",
       "      <td>19.295213</td>\n",
       "      <td>20.827403</td>\n",
       "      <td>18.491176</td>\n",
       "      <td>87.293981</td>\n",
       "      <td>89.159469</td>\n",
       "      <td>84.921001</td>\n",
       "      <td>2.039142</td>\n",
       "      <td>159.554493</td>\n",
       "      <td>5.113303</td>\n",
       "      <td>NaN</td>\n",
       "    </tr>\n",
       "    <tr>\n",
       "      <th>std</th>\n",
       "      <td>8.324581</td>\n",
       "      <td>110.373080</td>\n",
       "      <td>110.631986</td>\n",
       "      <td>110.568220</td>\n",
       "      <td>3.733459</td>\n",
       "      <td>3.590493</td>\n",
       "      <td>3.938029</td>\n",
       "      <td>3.646789</td>\n",
       "      <td>3.535545</td>\n",
       "      <td>3.557946</td>\n",
       "      <td>15.330929</td>\n",
       "      <td>14.313127</td>\n",
       "      <td>16.403762</td>\n",
       "      <td>1.608718</td>\n",
       "      <td>110.555294</td>\n",
       "      <td>3.175888</td>\n",
       "      <td>NaN</td>\n",
       "    </tr>\n",
       "    <tr>\n",
       "      <th>min</th>\n",
       "      <td>0.000000</td>\n",
       "      <td>0.000000</td>\n",
       "      <td>0.000000</td>\n",
       "      <td>0.000000</td>\n",
       "      <td>0.000000</td>\n",
       "      <td>-9.900000</td>\n",
       "      <td>0.000000</td>\n",
       "      <td>-9.900000</td>\n",
       "      <td>0.000000</td>\n",
       "      <td>-10.000000</td>\n",
       "      <td>0.000000</td>\n",
       "      <td>0.000000</td>\n",
       "      <td>0.000000</td>\n",
       "      <td>0.000000</td>\n",
       "      <td>0.000000</td>\n",
       "      <td>0.000000</td>\n",
       "      <td>NaN</td>\n",
       "    </tr>\n",
       "    <tr>\n",
       "      <th>25%</th>\n",
       "      <td>0.600000</td>\n",
       "      <td>910.200000</td>\n",
       "      <td>910.500000</td>\n",
       "      <td>909.900000</td>\n",
       "      <td>19.200000</td>\n",
       "      <td>17.800000</td>\n",
       "      <td>19.500000</td>\n",
       "      <td>18.200000</td>\n",
       "      <td>18.900000</td>\n",
       "      <td>17.400000</td>\n",
       "      <td>85.000000</td>\n",
       "      <td>89.000000</td>\n",
       "      <td>80.000000</td>\n",
       "      <td>0.900000</td>\n",
       "      <td>65.000000</td>\n",
       "      <td>2.900000</td>\n",
       "      <td>NaN</td>\n",
       "    </tr>\n",
       "    <tr>\n",
       "      <th>50%</th>\n",
       "      <td>2.200000</td>\n",
       "      <td>942.600000</td>\n",
       "      <td>942.900000</td>\n",
       "      <td>942.300000</td>\n",
       "      <td>21.200000</td>\n",
       "      <td>19.400000</td>\n",
       "      <td>21.600000</td>\n",
       "      <td>19.800000</td>\n",
       "      <td>20.800000</td>\n",
       "      <td>19.000000</td>\n",
       "      <td>93.000000</td>\n",
       "      <td>94.000000</td>\n",
       "      <td>91.000000</td>\n",
       "      <td>1.700000</td>\n",
       "      <td>137.000000</td>\n",
       "      <td>4.600000</td>\n",
       "      <td>NaN</td>\n",
       "    </tr>\n",
       "    <tr>\n",
       "      <th>75%</th>\n",
       "      <td>6.000000</td>\n",
       "      <td>976.600000</td>\n",
       "      <td>976.800000</td>\n",
       "      <td>976.200000</td>\n",
       "      <td>23.200000</td>\n",
       "      <td>20.900000</td>\n",
       "      <td>23.800000</td>\n",
       "      <td>21.300000</td>\n",
       "      <td>22.700000</td>\n",
       "      <td>20.500000</td>\n",
       "      <td>96.000000</td>\n",
       "      <td>96.000000</td>\n",
       "      <td>95.000000</td>\n",
       "      <td>2.800000</td>\n",
       "      <td>256.000000</td>\n",
       "      <td>6.700000</td>\n",
       "      <td>NaN</td>\n",
       "    </tr>\n",
       "    <tr>\n",
       "      <th>max</th>\n",
       "      <td>100.000000</td>\n",
       "      <td>1039.000000</td>\n",
       "      <td>1040.000000</td>\n",
       "      <td>1033.600000</td>\n",
       "      <td>37.400000</td>\n",
       "      <td>32.600000</td>\n",
       "      <td>40.900000</td>\n",
       "      <td>37.500000</td>\n",
       "      <td>36.800000</td>\n",
       "      <td>30.300000</td>\n",
       "      <td>100.000000</td>\n",
       "      <td>100.000000</td>\n",
       "      <td>100.000000</td>\n",
       "      <td>16.200000</td>\n",
       "      <td>360.000000</td>\n",
       "      <td>46.000000</td>\n",
       "      <td>NaN</td>\n",
       "    </tr>\n",
       "  </tbody>\n",
       "</table>\n",
       "</div>"
      ],
      "text/plain": [
       "               prcp            stp           smax           smin  \\\n",
       "count  56808.000000  101976.000000  101976.000000  101976.000000   \n",
       "mean       5.252317     933.216368     933.451797     932.837102   \n",
       "std        8.324581     110.373080     110.631986     110.568220   \n",
       "min        0.000000       0.000000       0.000000       0.000000   \n",
       "25%        0.600000     910.200000     910.500000     909.900000   \n",
       "50%        2.200000     942.600000     942.900000     942.300000   \n",
       "75%        6.000000     976.600000     976.800000     976.200000   \n",
       "max      100.000000    1039.000000    1040.000000    1033.600000   \n",
       "\n",
       "                temp           tmax           tmin           dewp  \\\n",
       "count  101976.000000  101976.000000  101976.000000  101975.000000   \n",
       "mean       21.239686      18.875580      21.766394      19.295213   \n",
       "std         3.733459       3.590493       3.938029       3.646789   \n",
       "min         0.000000      -9.900000       0.000000      -9.900000   \n",
       "25%        19.200000      17.800000      19.500000      18.200000   \n",
       "50%        21.200000      19.400000      21.600000      19.800000   \n",
       "75%        23.200000      20.900000      23.800000      21.300000   \n",
       "max        37.400000      32.600000      40.900000      37.500000   \n",
       "\n",
       "                dmax           dmin           hmdy           hmax  \\\n",
       "count  101976.000000  101976.000000  101976.000000  101976.000000   \n",
       "mean       20.827403      18.491176      87.293981      89.159469   \n",
       "std         3.535545       3.557946      15.330929      14.313127   \n",
       "min         0.000000     -10.000000       0.000000       0.000000   \n",
       "25%        18.900000      17.400000      85.000000      89.000000   \n",
       "50%        20.800000      19.000000      93.000000      94.000000   \n",
       "75%        22.700000      20.500000      96.000000      96.000000   \n",
       "max        36.800000      30.300000     100.000000     100.000000   \n",
       "\n",
       "                hmin          wdsp           wdct          gust  peid  \n",
       "count  101976.000000  93205.000000  101976.000000  99528.000000   0.0  \n",
       "mean       84.921001      2.039142     159.554493      5.113303   NaN  \n",
       "std        16.403762      1.608718     110.555294      3.175888   NaN  \n",
       "min         0.000000      0.000000       0.000000      0.000000   NaN  \n",
       "25%        80.000000      0.900000      65.000000      2.900000   NaN  \n",
       "50%        91.000000      1.700000     137.000000      4.600000   NaN  \n",
       "75%        95.000000      2.800000     256.000000      6.700000   NaN  \n",
       "max       100.000000     16.200000     360.000000     46.000000   NaN  "
      ]
     },
     "execution_count": 24,
     "metadata": {},
     "output_type": "execute_result"
    }
   ],
   "source": [
    "dfextcont.describe()"
   ]
  },
  {
   "cell_type": "markdown",
   "metadata": {},
   "source": [
    "<p>Verificando os MINIMOS, MAXIMOS, MEDIAS... A precipitação 0mm indica que não houve chuva, mas pressão 0 e humidade 0 indica que a estação falhou e são dados inválidos. Desta forma estes registro devem ser excluídos.</p>"
   ]
  },
  {
   "cell_type": "code",
   "execution_count": 25,
   "metadata": {},
   "outputs": [
    {
     "name": "stdout",
     "output_type": "stream",
     "text": [
      "<class 'pandas.core.frame.DataFrame'>\n",
      "Int64Index: 101976 entries, 2884 to 9774281\n",
      "Data columns (total 17 columns):\n",
      "prcp    56808 non-null float64\n",
      "stp     101976 non-null float64\n",
      "smax    101976 non-null float64\n",
      "smin    101976 non-null float64\n",
      "temp    101976 non-null float64\n",
      "tmax    101976 non-null float64\n",
      "tmin    101976 non-null float64\n",
      "dewp    101975 non-null float64\n",
      "dmax    101976 non-null float64\n",
      "dmin    101976 non-null float64\n",
      "hmdy    101976 non-null float64\n",
      "hmax    101976 non-null float64\n",
      "hmin    101976 non-null float64\n",
      "wdsp    93205 non-null float64\n",
      "wdct    101976 non-null float64\n",
      "gust    99528 non-null float64\n",
      "peid    0 non-null float64\n",
      "dtypes: float64(17)\n",
      "memory usage: 14.0 MB\n"
     ]
    }
   ],
   "source": [
    "dfextcont.info()"
   ]
  },
  {
   "cell_type": "markdown",
   "metadata": {},
   "source": [
    "<p>Para as precipitações nulas foi inputado 0.0 mm. Também para o vento e rajada de vento.</p>"
   ]
  },
  {
   "cell_type": "code",
   "execution_count": 26,
   "metadata": {},
   "outputs": [],
   "source": [
    "CAN_BE_NULL = ['wdsp','prcp','gust','dewp']"
   ]
  },
  {
   "cell_type": "code",
   "execution_count": 27,
   "metadata": {},
   "outputs": [],
   "source": [
    "for v in CAN_BE_NULL:\n",
    "    dfextcont[v] = dfextcont[v].fillna(0.0)\n",
    "    df[v] = df[v].fillna(0.0)\n",
    "    dfext[v] = dfext[v].fillna(0.0)\n",
    "    dfcont[v] = dfcont[v].fillna(0.0)  "
   ]
  },
  {
   "cell_type": "markdown",
   "metadata": {},
   "source": [
    "<p>Excluindo o identificador de chuva extrema</p>"
   ]
  },
  {
   "cell_type": "code",
   "execution_count": 28,
   "metadata": {},
   "outputs": [],
   "source": [
    "#dfext = dfext.drop('peid',1)\n",
    "#dfextcont = dfextcont.drop('peid',1)"
   ]
  },
  {
   "cell_type": "code",
   "execution_count": 29,
   "metadata": {},
   "outputs": [
    {
     "name": "stdout",
     "output_type": "stream",
     "text": [
      "<class 'pandas.core.frame.DataFrame'>\n",
      "Int64Index: 101976 entries, 2884 to 9774281\n",
      "Data columns (total 17 columns):\n",
      "prcp    101976 non-null float64\n",
      "stp     101976 non-null float64\n",
      "smax    101976 non-null float64\n",
      "smin    101976 non-null float64\n",
      "temp    101976 non-null float64\n",
      "tmax    101976 non-null float64\n",
      "tmin    101976 non-null float64\n",
      "dewp    101976 non-null float64\n",
      "dmax    101976 non-null float64\n",
      "dmin    101976 non-null float64\n",
      "hmdy    101976 non-null float64\n",
      "hmax    101976 non-null float64\n",
      "hmin    101976 non-null float64\n",
      "wdsp    101976 non-null float64\n",
      "wdct    101976 non-null float64\n",
      "gust    101976 non-null float64\n",
      "peid    0 non-null float64\n",
      "dtypes: float64(17)\n",
      "memory usage: 14.0 MB\n"
     ]
    }
   ],
   "source": [
    "dfextcont.info()"
   ]
  },
  {
   "cell_type": "markdown",
   "metadata": {},
   "source": [
    "<p>Para as variáveis ento Vento Velocidade (m/s), Vento, Direção(graus) e Vento, Rajada Maxima (m/s) os valores nulos foram inputados pela média. </p>"
   ]
  },
  {
   "cell_type": "code",
   "execution_count": 30,
   "metadata": {},
   "outputs": [],
   "source": [
    "MEAN = ['tmax']"
   ]
  },
  {
   "cell_type": "code",
   "execution_count": 31,
   "metadata": {},
   "outputs": [],
   "source": [
    "for v in MEAN:\n",
    "    df[v] = df[v].fillna(value=df[v].median())\n",
    "    dfext[v] = dfext[v].fillna(value=dfext[v].median())\n",
    "    dfcont[v] = dfcont[v].fillna(value=dfcont[v].median())\n",
    "    dfextcont[v] =  dfextcont[v].fillna(value=dfextcont[v].median())"
   ]
  },
  {
   "cell_type": "markdown",
   "metadata": {},
   "source": [
    "<h3>Correlação cruzada</h3>"
   ]
  },
  {
   "cell_type": "markdown",
   "metadata": {},
   "source": [
    "<p>Considerando a variável alvo não há nenhuma correlação significativa linearmente com outras variáveis. Estamos considerando todos os registros da região sudeste.</p>"
   ]
  },
  {
   "cell_type": "code",
   "execution_count": null,
   "metadata": {},
   "outputs": [],
   "source": []
  }
 ],
 "metadata": {
  "kernelspec": {
   "display_name": "Python 2",
   "language": "python",
   "name": "python2"
  },
  "language_info": {
   "codemirror_mode": {
    "name": "ipython",
    "version": 2
   },
   "file_extension": ".py",
   "mimetype": "text/x-python",
   "name": "python",
   "nbconvert_exporter": "python",
   "pygments_lexer": "ipython2",
   "version": "2.7.13"
  }
 },
 "nbformat": 4,
 "nbformat_minor": 2
}
