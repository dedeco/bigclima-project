{
 "cells": [
  {
   "cell_type": "code",
   "execution_count": 57,
   "metadata": {},
   "outputs": [
    {
     "name": "stdout",
     "output_type": "stream",
     "text": [
      "INFO:tensorflow:Using default config.\n",
      "WARNING:tensorflow:Using temporary folder as model directory: /tmp/tmpdo9ju8\n",
      "INFO:tensorflow:Using config: {'_save_checkpoints_secs': 600, '_num_ps_replicas': 0, '_keep_checkpoint_max': 5, '_task_type': None, '_is_chief': True, '_cluster_spec': <tensorflow.python.training.server_lib.ClusterSpec object at 0x7f97cc60cf50>, '_model_dir': '/tmp/tmpdo9ju8', '_save_checkpoints_steps': None, '_keep_checkpoint_every_n_hours': 10000, '_session_config': None, '_tf_random_seed': None, '_save_summary_steps': 100, '_environment': 'local', '_num_worker_replicas': 0, '_task_id': 0, '_log_step_count_steps': 100, '_tf_config': gpu_options {\n",
      "  per_process_gpu_memory_fraction: 1.0\n",
      "}\n",
      ", '_evaluation_master': '', '_master': ''}\n",
      "Trainning...\n",
      "WARNING:tensorflow:Rank of input Tensor (1) should be the same as output_rank (2) for column. Will attempt to expand dims. It is highly recommended that you resize your input, as this behavior may change.\n",
      "WARNING:tensorflow:Rank of input Tensor (1) should be the same as output_rank (2) for column. Will attempt to expand dims. It is highly recommended that you resize your input, as this behavior may change.\n",
      "INFO:tensorflow:Create CheckpointSaverHook.\n",
      "INFO:tensorflow:Saving checkpoints for 1 into /tmp/tmpdo9ju8/model.ckpt.\n",
      "INFO:tensorflow:loss = 1.86181e+08, step = 1\n",
      "INFO:tensorflow:Saving checkpoints for 2 into /tmp/tmpdo9ju8/model.ckpt.\n",
      "INFO:tensorflow:Loss for final step: 1.86166e+08.\n",
      "Validation...\n",
      "WARNING:tensorflow:Rank of input Tensor (1) should be the same as output_rank (2) for column. Will attempt to expand dims. It is highly recommended that you resize your input, as this behavior may change.\n",
      "WARNING:tensorflow:Rank of input Tensor (1) should be the same as output_rank (2) for column. Will attempt to expand dims. It is highly recommended that you resize your input, as this behavior may change.\n",
      "INFO:tensorflow:Starting evaluation at 2018-01-19-18:59:49\n",
      "INFO:tensorflow:Restoring parameters from /tmp/tmpdo9ju8/model.ckpt-2\n",
      "INFO:tensorflow:Evaluation [1/2]\n",
      "INFO:tensorflow:Evaluation [2/2]\n",
      "INFO:tensorflow:Finished evaluation at 2018-01-19-18:59:49\n",
      "INFO:tensorflow:Saving dict for global step 2: global_step = 2, loss = 1.31492e+08\n",
      "RMSE on validation dataset = 11466.9833984\n"
     ]
    }
   ],
   "source": [
    "import tensorflow as tf\n",
    "import pandas as pd\n",
    "import numpy as np\n",
    "\n",
    "def main():\n",
    "\n",
    "    data_train = pd.DataFrame({\n",
    "        \"make\": [\"Mazda\", \"Mazda\", \"Mazda\", \"Toyota\", \"Toyota\", \"Toyota\"],\n",
    "        \"years_old\": [0, 2, 5, 0, 2, 5],\n",
    "        \"price\": [20000, 12000, 8000, 18000, 11000, 8000]\n",
    "    })\n",
    "\n",
    "    data_valid = pd.DataFrame({\n",
    "        \"make\": [\"Mazda\", \"Mazda\", \"Mazda\", \"Toyota\", \"Toyota\", \"Toyota\"],\n",
    "        \"years_old\": [1, 3, 5, 1, 3, 6],\n",
    "        \"price\": [15000, 9000, 8000, 17000, 9000, 7000]\n",
    "    })  \n",
    "\n",
    "    def make_input(data):        \n",
    "        def get_inputs():\n",
    "            features = {\n",
    "                \"make\": tf.constant(data[\"make\"].values),\n",
    "                \"years_old\": tf.constant(data[\"years_old\"].values)\n",
    "            }        \n",
    "            labels = tf.constant(data[\"price\"].values)\n",
    "            return features, labels\n",
    "        return get_inputs\n",
    "    \n",
    "    def print_rmse(model, name, input_fn):\n",
    "        metrics = model.evaluate(input_fn=input_fn, steps=2)\n",
    "        print 'RMSE on {} dataset = {}'.format(name, np.sqrt(metrics['loss']))        \n",
    "       \n",
    "    sparse_column = tf.contrib.layers.sparse_column_with_hash_bucket('make', hash_bucket_size=6)\n",
    "\n",
    "    feature_columns = [\n",
    "        tf.contrib.layers.one_hot_column(sparse_column),\n",
    "        tf.contrib.layers.real_valued_column(\"years_old\")\n",
    "    ]\n",
    "\n",
    "    regressor = tf.contrib.learn.DNNRegressor(\n",
    "        feature_columns=feature_columns,\n",
    "        hidden_units=[10, 10]\n",
    "    )    \n",
    "    \n",
    "    print 'Trainning...'\n",
    "    regressor.fit(input_fn=make_input(data_train), steps=2)\n",
    "    \n",
    "    print 'Validation...'\n",
    "    print_rmse(regressor, 'validation', make_input(data_valid))    \n",
    "\n",
    "if __name__ == \"__main__\":\n",
    "    main()"
   ]
  },
  {
   "cell_type": "code",
   "execution_count": null,
   "metadata": {},
   "outputs": [],
   "source": []
  }
 ],
 "metadata": {
  "kernelspec": {
   "display_name": "Python 2",
   "language": "python",
   "name": "python2"
  },
  "language_info": {
   "codemirror_mode": {
    "name": "ipython",
    "version": 2
   },
   "file_extension": ".py",
   "mimetype": "text/x-python",
   "name": "python",
   "nbconvert_exporter": "python",
   "pygments_lexer": "ipython2",
   "version": "2.7.12"
  }
 },
 "nbformat": 4,
 "nbformat_minor": 2
}
