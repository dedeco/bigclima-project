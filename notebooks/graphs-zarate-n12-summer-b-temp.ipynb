{
 "cells": [
  {
   "cell_type": "code",
   "execution_count": 35,
   "metadata": {},
   "outputs": [],
   "source": [
    "%matplotlib inline"
   ]
  },
  {
   "cell_type": "code",
   "execution_count": 36,
   "metadata": {},
   "outputs": [],
   "source": [
    "import numpy as np\n",
    "import pandas as pd\n",
    "from scipy import stats, integrate\n",
    "import matplotlib.pyplot as plt"
   ]
  },
  {
   "cell_type": "code",
   "execution_count": 37,
   "metadata": {},
   "outputs": [],
   "source": [
    "import seaborn as sns\n",
    "import shutil\n",
    "from sklearn.utils import shuffle"
   ]
  },
  {
   "cell_type": "markdown",
   "metadata": {},
   "source": [
    "# Importando base de dados"
   ]
  },
  {
   "cell_type": "markdown",
   "metadata": {},
   "source": [
    "<p>Base com todos os dados do sudeste</p>"
   ]
  },
  {
   "cell_type": "code",
   "execution_count": 38,
   "metadata": {},
   "outputs": [
    {
     "name": "stdout",
     "output_type": "stream",
     "text": [
      "9779168\n"
     ]
    }
   ],
   "source": [
    "df = pd.read_csv('../data/sudeste.csv',low_memory=False)\n",
    "print len(df)"
   ]
  },
  {
   "cell_type": "code",
   "execution_count": 39,
   "metadata": {},
   "outputs": [
    {
     "name": "stdout",
     "output_type": "stream",
     "text": [
      "3206856\n"
     ]
    },
    {
     "data": {
      "text/html": [
       "<div>\n",
       "<style scoped>\n",
       "    .dataframe tbody tr th:only-of-type {\n",
       "        vertical-align: middle;\n",
       "    }\n",
       "\n",
       "    .dataframe tbody tr th {\n",
       "        vertical-align: top;\n",
       "    }\n",
       "\n",
       "    .dataframe thead th {\n",
       "        text-align: right;\n",
       "    }\n",
       "</style>\n",
       "<table border=\"1\" class=\"dataframe\">\n",
       "  <thead>\n",
       "    <tr style=\"text-align: right;\">\n",
       "      <th></th>\n",
       "      <th>wsid</th>\n",
       "      <th>wsnm</th>\n",
       "      <th>elvt</th>\n",
       "      <th>lat</th>\n",
       "      <th>lon</th>\n",
       "      <th>inme</th>\n",
       "      <th>city</th>\n",
       "      <th>prov</th>\n",
       "      <th>mdct</th>\n",
       "      <th>date</th>\n",
       "      <th>...</th>\n",
       "      <th>tmax</th>\n",
       "      <th>dmax</th>\n",
       "      <th>tmin</th>\n",
       "      <th>dmin</th>\n",
       "      <th>hmdy</th>\n",
       "      <th>hmax</th>\n",
       "      <th>hmin</th>\n",
       "      <th>wdsp</th>\n",
       "      <th>wdct</th>\n",
       "      <th>gust</th>\n",
       "    </tr>\n",
       "  </thead>\n",
       "  <tbody>\n",
       "    <tr>\n",
       "      <th>7330895</th>\n",
       "      <td>394</td>\n",
       "      <td>CAMPOS DO JORDÃO</td>\n",
       "      <td>1663.0</td>\n",
       "      <td>-22.750231</td>\n",
       "      <td>-45.603836</td>\n",
       "      <td>A706</td>\n",
       "      <td>Campos do Jordão</td>\n",
       "      <td>SP</td>\n",
       "      <td>2010-12-07 15:00:00</td>\n",
       "      <td>2010-12-07</td>\n",
       "      <td>...</td>\n",
       "      <td>23.8</td>\n",
       "      <td>18.4</td>\n",
       "      <td>21.7</td>\n",
       "      <td>16.3</td>\n",
       "      <td>70.0</td>\n",
       "      <td>77.0</td>\n",
       "      <td>64.0</td>\n",
       "      <td>1.8</td>\n",
       "      <td>285.0</td>\n",
       "      <td>5.4</td>\n",
       "    </tr>\n",
       "    <tr>\n",
       "      <th>3448344</th>\n",
       "      <td>340</td>\n",
       "      <td>GOVERNADOR VALADARES</td>\n",
       "      <td>198.0</td>\n",
       "      <td>-18.830354</td>\n",
       "      <td>-41.977007</td>\n",
       "      <td>A532</td>\n",
       "      <td>Governador Valadares</td>\n",
       "      <td>MG</td>\n",
       "      <td>2008-12-31 00:00:00</td>\n",
       "      <td>2008-12-31</td>\n",
       "      <td>...</td>\n",
       "      <td>25.9</td>\n",
       "      <td>21.6</td>\n",
       "      <td>24.3</td>\n",
       "      <td>20.9</td>\n",
       "      <td>78.0</td>\n",
       "      <td>83.0</td>\n",
       "      <td>75.0</td>\n",
       "      <td>1.7</td>\n",
       "      <td>348.0</td>\n",
       "      <td>2.4</td>\n",
       "    </tr>\n",
       "    <tr>\n",
       "      <th>2338905</th>\n",
       "      <td>327</td>\n",
       "      <td>CAMPINA VERDE</td>\n",
       "      <td>559.0</td>\n",
       "      <td>-19.539210</td>\n",
       "      <td>-49.518133</td>\n",
       "      <td>A519</td>\n",
       "      <td>Campina Verde</td>\n",
       "      <td>MG</td>\n",
       "      <td>2010-12-02 09:00:00</td>\n",
       "      <td>2010-12-02</td>\n",
       "      <td>...</td>\n",
       "      <td>21.8</td>\n",
       "      <td>20.4</td>\n",
       "      <td>21.7</td>\n",
       "      <td>20.3</td>\n",
       "      <td>92.0</td>\n",
       "      <td>92.0</td>\n",
       "      <td>92.0</td>\n",
       "      <td>1.5</td>\n",
       "      <td>13.0</td>\n",
       "      <td>4.0</td>\n",
       "    </tr>\n",
       "  </tbody>\n",
       "</table>\n",
       "<p>3 rows × 31 columns</p>\n",
       "</div>"
      ],
      "text/plain": [
       "         wsid                  wsnm    elvt        lat        lon  inme  \\\n",
       "7330895   394      CAMPOS DO JORDÃO  1663.0 -22.750231 -45.603836  A706   \n",
       "3448344   340  GOVERNADOR VALADARES   198.0 -18.830354 -41.977007  A532   \n",
       "2338905   327         CAMPINA VERDE   559.0 -19.539210 -49.518133  A519   \n",
       "\n",
       "                         city prov                 mdct        date  ...   \\\n",
       "7330895      Campos do Jordão   SP  2010-12-07 15:00:00  2010-12-07  ...    \n",
       "3448344  Governador Valadares   MG  2008-12-31 00:00:00  2008-12-31  ...    \n",
       "2338905         Campina Verde   MG  2010-12-02 09:00:00  2010-12-02  ...    \n",
       "\n",
       "         tmax  dmax  tmin  dmin  hmdy  hmax  hmin  wdsp   wdct  gust  \n",
       "7330895  23.8  18.4  21.7  16.3  70.0  77.0  64.0   1.8  285.0   5.4  \n",
       "3448344  25.9  21.6  24.3  20.9  78.0  83.0  75.0   1.7  348.0   2.4  \n",
       "2338905  21.8  20.4  21.7  20.3  92.0  92.0  92.0   1.5   13.0   4.0  \n",
       "\n",
       "[3 rows x 31 columns]"
      ]
     },
     "execution_count": 39,
     "metadata": {},
     "output_type": "execute_result"
    }
   ],
   "source": [
    "df = df[df['mo'].isin([1,2,3,12])] #  somente meses do verão DEZ a MAR\n",
    "print len(df)\n",
    "df.sample(3)"
   ]
  },
  {
   "cell_type": "code",
   "execution_count": 40,
   "metadata": {},
   "outputs": [],
   "source": [
    "df = df.sort_values(['wsid', 'mdct'])\n",
    "df = df.reset_index(drop=True)"
   ]
  },
  {
   "cell_type": "code",
   "execution_count": 41,
   "metadata": {},
   "outputs": [],
   "source": [
    "df = df[(df['lat'].between(-20.5,-19.0, inclusive=True)) & \n",
    "        (df['lon'].between(-44.5,-43.0, inclusive=True))] "
   ]
  },
  {
   "cell_type": "code",
   "execution_count": 42,
   "metadata": {},
   "outputs": [
    {
     "data": {
      "text/html": [
       "<div>\n",
       "<style scoped>\n",
       "    .dataframe tbody tr th:only-of-type {\n",
       "        vertical-align: middle;\n",
       "    }\n",
       "\n",
       "    .dataframe tbody tr th {\n",
       "        vertical-align: top;\n",
       "    }\n",
       "\n",
       "    .dataframe thead th {\n",
       "        text-align: right;\n",
       "    }\n",
       "</style>\n",
       "<table border=\"1\" class=\"dataframe\">\n",
       "  <thead>\n",
       "    <tr style=\"text-align: right;\">\n",
       "      <th></th>\n",
       "      <th>wsid</th>\n",
       "      <th>wsnm</th>\n",
       "      <th>elvt</th>\n",
       "      <th>lat</th>\n",
       "      <th>lon</th>\n",
       "      <th>inme</th>\n",
       "      <th>city</th>\n",
       "      <th>prov</th>\n",
       "      <th>mdct</th>\n",
       "      <th>date</th>\n",
       "      <th>...</th>\n",
       "      <th>tmax</th>\n",
       "      <th>dmax</th>\n",
       "      <th>tmin</th>\n",
       "      <th>dmin</th>\n",
       "      <th>hmdy</th>\n",
       "      <th>hmax</th>\n",
       "      <th>hmin</th>\n",
       "      <th>wdsp</th>\n",
       "      <th>wdct</th>\n",
       "      <th>gust</th>\n",
       "    </tr>\n",
       "  </thead>\n",
       "  <tbody>\n",
       "    <tr>\n",
       "      <th>1743597</th>\n",
       "      <td>363</td>\n",
       "      <td>IBIRITÈ (ROLA MOÇA)</td>\n",
       "      <td>1199.0</td>\n",
       "      <td>-20.031457</td>\n",
       "      <td>-44.011249</td>\n",
       "      <td>A555</td>\n",
       "      <td>Ibirité</td>\n",
       "      <td>MG</td>\n",
       "      <td>2012-01-05 21:00:00</td>\n",
       "      <td>2012-01-05</td>\n",
       "      <td>...</td>\n",
       "      <td>23.5</td>\n",
       "      <td>16.9</td>\n",
       "      <td>21.5</td>\n",
       "      <td>16.2</td>\n",
       "      <td>73.0</td>\n",
       "      <td>73.0</td>\n",
       "      <td>65.0</td>\n",
       "      <td>4.4</td>\n",
       "      <td>70.0</td>\n",
       "      <td>7.4</td>\n",
       "    </tr>\n",
       "    <tr>\n",
       "      <th>1799733</th>\n",
       "      <td>370</td>\n",
       "      <td>BELO HORIZONTE - CERCADINHO</td>\n",
       "      <td>1200.0</td>\n",
       "      <td>-19.980034</td>\n",
       "      <td>-43.958651</td>\n",
       "      <td>F501</td>\n",
       "      <td>Belo Horizonte</td>\n",
       "      <td>MG</td>\n",
       "      <td>2016-03-04 21:00:00</td>\n",
       "      <td>2016-03-04</td>\n",
       "      <td>...</td>\n",
       "      <td>18.7</td>\n",
       "      <td>17.7</td>\n",
       "      <td>18.2</td>\n",
       "      <td>17.0</td>\n",
       "      <td>93.0</td>\n",
       "      <td>94.0</td>\n",
       "      <td>92.0</td>\n",
       "      <td>5.3</td>\n",
       "      <td>115.0</td>\n",
       "      <td>9.1</td>\n",
       "    </tr>\n",
       "    <tr>\n",
       "      <th>1745658</th>\n",
       "      <td>363</td>\n",
       "      <td>IBIRITÈ (ROLA MOÇA)</td>\n",
       "      <td>1199.0</td>\n",
       "      <td>-20.031457</td>\n",
       "      <td>-44.011249</td>\n",
       "      <td>A555</td>\n",
       "      <td>Ibirité</td>\n",
       "      <td>MG</td>\n",
       "      <td>2012-03-31 18:00:00</td>\n",
       "      <td>2012-03-31</td>\n",
       "      <td>...</td>\n",
       "      <td>25.5</td>\n",
       "      <td>17.1</td>\n",
       "      <td>23.1</td>\n",
       "      <td>14.9</td>\n",
       "      <td>60.0</td>\n",
       "      <td>64.0</td>\n",
       "      <td>55.0</td>\n",
       "      <td>2.5</td>\n",
       "      <td>15.0</td>\n",
       "      <td>5.5</td>\n",
       "    </tr>\n",
       "    <tr>\n",
       "      <th>1216425</th>\n",
       "      <td>343</td>\n",
       "      <td>FLORESTAL</td>\n",
       "      <td>754.0</td>\n",
       "      <td>-19.885398</td>\n",
       "      <td>-44.416883</td>\n",
       "      <td>A535</td>\n",
       "      <td>Florestal</td>\n",
       "      <td>MG</td>\n",
       "      <td>2011-01-03 09:00:00</td>\n",
       "      <td>2011-01-03</td>\n",
       "      <td>...</td>\n",
       "      <td>19.3</td>\n",
       "      <td>17.9</td>\n",
       "      <td>19.3</td>\n",
       "      <td>17.8</td>\n",
       "      <td>92.0</td>\n",
       "      <td>92.0</td>\n",
       "      <td>91.0</td>\n",
       "      <td>NaN</td>\n",
       "      <td>28.0</td>\n",
       "      <td>2.2</td>\n",
       "    </tr>\n",
       "  </tbody>\n",
       "</table>\n",
       "<p>4 rows × 31 columns</p>\n",
       "</div>"
      ],
      "text/plain": [
       "         wsid                         wsnm    elvt        lat        lon  \\\n",
       "1743597   363          IBIRITÈ (ROLA MOÇA)  1199.0 -20.031457 -44.011249   \n",
       "1799733   370  BELO HORIZONTE - CERCADINHO  1200.0 -19.980034 -43.958651   \n",
       "1745658   363          IBIRITÈ (ROLA MOÇA)  1199.0 -20.031457 -44.011249   \n",
       "1216425   343                    FLORESTAL   754.0 -19.885398 -44.416883   \n",
       "\n",
       "         inme            city prov                 mdct        date  ...   \\\n",
       "1743597  A555         Ibirité   MG  2012-01-05 21:00:00  2012-01-05  ...    \n",
       "1799733  F501  Belo Horizonte   MG  2016-03-04 21:00:00  2016-03-04  ...    \n",
       "1745658  A555         Ibirité   MG  2012-03-31 18:00:00  2012-03-31  ...    \n",
       "1216425  A535       Florestal   MG  2011-01-03 09:00:00  2011-01-03  ...    \n",
       "\n",
       "         tmax  dmax  tmin  dmin  hmdy  hmax  hmin  wdsp   wdct  gust  \n",
       "1743597  23.5  16.9  21.5  16.2  73.0  73.0  65.0   4.4   70.0   7.4  \n",
       "1799733  18.7  17.7  18.2  17.0  93.0  94.0  92.0   5.3  115.0   9.1  \n",
       "1745658  25.5  17.1  23.1  14.9  60.0  64.0  55.0   2.5   15.0   5.5  \n",
       "1216425  19.3  17.9  19.3  17.8  92.0  92.0  91.0   NaN   28.0   2.2  \n",
       "\n",
       "[4 rows x 31 columns]"
      ]
     },
     "execution_count": 42,
     "metadata": {},
     "output_type": "execute_result"
    }
   ],
   "source": [
    "df.sample(4)"
   ]
  },
  {
   "cell_type": "code",
   "execution_count": 43,
   "metadata": {},
   "outputs": [
    {
     "name": "stdout",
     "output_type": "stream",
     "text": [
      "83784\n"
     ]
    }
   ],
   "source": [
    "print len(df)"
   ]
  },
  {
   "cell_type": "markdown",
   "metadata": {},
   "source": [
    "# Pré-processamento"
   ]
  },
  {
   "cell_type": "markdown",
   "metadata": {},
   "source": [
    "<h3>Dados ausentes</h3>"
   ]
  },
  {
   "cell_type": "code",
   "execution_count": 44,
   "metadata": {},
   "outputs": [],
   "source": [
    "missing_values_count = (df.isnull().sum()/len(df))*100"
   ]
  },
  {
   "cell_type": "code",
   "execution_count": 45,
   "metadata": {},
   "outputs": [
    {
     "data": {
      "text/plain": [
       "prcp    86.761195\n",
       "gbrd    41.876731\n",
       "wdsp    12.057195\n",
       "gust     5.879404\n",
       "dtype: float64"
      ]
     },
     "execution_count": 45,
     "metadata": {},
     "output_type": "execute_result"
    }
   ],
   "source": [
    "missing_values_count[missing_values_count > 0.1]"
   ]
  },
  {
   "cell_type": "markdown",
   "metadata": {},
   "source": [
    "<p> A variável gbbr(radiação global) apresenta massivamente números nulos e não pode ser recuperada. Vamos retirar esta variável.</p>"
   ]
  },
  {
   "cell_type": "code",
   "execution_count": 46,
   "metadata": {},
   "outputs": [],
   "source": [
    "df = df.drop('gbrd',1)"
   ]
  },
  {
   "cell_type": "markdown",
   "metadata": {},
   "source": [
    "<p>Para as precipitações nulas foi inputado 0.0 mm. Também para o vento e rajada de vento.</p>"
   ]
  },
  {
   "cell_type": "code",
   "execution_count": 47,
   "metadata": {},
   "outputs": [],
   "source": [
    "CAN_BE_NULL = ['wdsp','prcp','gust']"
   ]
  },
  {
   "cell_type": "code",
   "execution_count": 48,
   "metadata": {},
   "outputs": [],
   "source": [
    "for v in CAN_BE_NULL:\n",
    "    df[v] = df[v].fillna(0.0)"
   ]
  },
  {
   "cell_type": "code",
   "execution_count": 49,
   "metadata": {},
   "outputs": [
    {
     "data": {
      "text/plain": [
       "Series([], dtype: float64)"
      ]
     },
     "execution_count": 49,
     "metadata": {},
     "output_type": "execute_result"
    }
   ],
   "source": [
    "missing_values_count = (df.isnull().sum()/len(df))*100\n",
    "miss = missing_values_count[missing_values_count > 0]\n",
    "miss"
   ]
  },
  {
   "cell_type": "code",
   "execution_count": 50,
   "metadata": {},
   "outputs": [],
   "source": [
    "DES = ['wsid','wsnm','elvt','lat','lon','inme','city','prov','mdct','date','yr','mo','da','hr']"
   ]
  },
  {
   "cell_type": "code",
   "execution_count": 51,
   "metadata": {},
   "outputs": [],
   "source": [
    "V = [x for x in df.columns if x not in DES]\n",
    "#df[V].describe().T"
   ]
  },
  {
   "cell_type": "markdown",
   "metadata": {},
   "source": [
    "<p><b>PRONTO! Dados recuperados!</b> Agora vamos a etapa de limpeza</p>"
   ]
  },
  {
   "cell_type": "markdown",
   "metadata": {},
   "source": [
    "<h3>Limpeza dos dados</h3>"
   ]
  },
  {
   "cell_type": "code",
   "execution_count": 59,
   "metadata": {},
   "outputs": [],
   "source": [
    "backup_df = df.copy"
   ]
  },
  {
   "cell_type": "markdown",
   "metadata": {},
   "source": [
    "<p>Alguns campos podem ser nulos</p>"
   ]
  },
  {
   "cell_type": "code",
   "execution_count": 60,
   "metadata": {},
   "outputs": [
    {
     "data": {
      "text/plain": [
       "['stp',\n",
       " 'smax',\n",
       " 'smin',\n",
       " 'temp',\n",
       " 'dewp',\n",
       " 'tmax',\n",
       " 'dmax',\n",
       " 'tmin',\n",
       " 'dmin',\n",
       " 'hmdy',\n",
       " 'hmax',\n",
       " 'hmin',\n",
       " 'wdct']"
      ]
     },
     "execution_count": 60,
     "metadata": {},
     "output_type": "execute_result"
    }
   ],
   "source": [
    "cols = list(df.columns)\n",
    "\n",
    "COLS_BE_NULL = ['prcp','wdsp','gust'] + DES\n",
    "for v in COLS_BE_NULL:\n",
    "    if v in cols:\n",
    "        cols.remove(v)\n",
    "cols"
   ]
  },
  {
   "cell_type": "code",
   "execution_count": 61,
   "metadata": {},
   "outputs": [
    {
     "data": {
      "text/html": [
       "<div>\n",
       "<style scoped>\n",
       "    .dataframe tbody tr th:only-of-type {\n",
       "        vertical-align: middle;\n",
       "    }\n",
       "\n",
       "    .dataframe tbody tr th {\n",
       "        vertical-align: top;\n",
       "    }\n",
       "\n",
       "    .dataframe thead th {\n",
       "        text-align: right;\n",
       "    }\n",
       "</style>\n",
       "<table border=\"1\" class=\"dataframe\">\n",
       "  <thead>\n",
       "    <tr style=\"text-align: right;\">\n",
       "      <th></th>\n",
       "      <th>count</th>\n",
       "      <th>mean</th>\n",
       "      <th>std</th>\n",
       "      <th>min</th>\n",
       "      <th>25%</th>\n",
       "      <th>50%</th>\n",
       "      <th>75%</th>\n",
       "      <th>max</th>\n",
       "    </tr>\n",
       "  </thead>\n",
       "  <tbody>\n",
       "    <tr>\n",
       "      <th>prcp</th>\n",
       "      <td>80148.0</td>\n",
       "      <td>0.344595</td>\n",
       "      <td>2.054451</td>\n",
       "      <td>0.0</td>\n",
       "      <td>0.0</td>\n",
       "      <td>0.0</td>\n",
       "      <td>0.0</td>\n",
       "      <td>78.4</td>\n",
       "    </tr>\n",
       "    <tr>\n",
       "      <th>stp</th>\n",
       "      <td>80148.0</td>\n",
       "      <td>908.432228</td>\n",
       "      <td>19.787321</td>\n",
       "      <td>872.8</td>\n",
       "      <td>883.7</td>\n",
       "      <td>917.0</td>\n",
       "      <td>926.3</td>\n",
       "      <td>935.7</td>\n",
       "    </tr>\n",
       "    <tr>\n",
       "      <th>smax</th>\n",
       "      <td>80148.0</td>\n",
       "      <td>908.684077</td>\n",
       "      <td>19.800009</td>\n",
       "      <td>873.0</td>\n",
       "      <td>883.9</td>\n",
       "      <td>917.2</td>\n",
       "      <td>926.6</td>\n",
       "      <td>935.8</td>\n",
       "    </tr>\n",
       "    <tr>\n",
       "      <th>smin</th>\n",
       "      <td>80148.0</td>\n",
       "      <td>908.188080</td>\n",
       "      <td>19.782929</td>\n",
       "      <td>872.7</td>\n",
       "      <td>883.5</td>\n",
       "      <td>916.7</td>\n",
       "      <td>926.0</td>\n",
       "      <td>935.7</td>\n",
       "    </tr>\n",
       "    <tr>\n",
       "      <th>temp</th>\n",
       "      <td>80148.0</td>\n",
       "      <td>22.559571</td>\n",
       "      <td>3.661378</td>\n",
       "      <td>12.6</td>\n",
       "      <td>19.8</td>\n",
       "      <td>21.8</td>\n",
       "      <td>25.1</td>\n",
       "      <td>36.3</td>\n",
       "    </tr>\n",
       "    <tr>\n",
       "      <th>dewp</th>\n",
       "      <td>80148.0</td>\n",
       "      <td>16.989345</td>\n",
       "      <td>1.988470</td>\n",
       "      <td>5.5</td>\n",
       "      <td>15.7</td>\n",
       "      <td>17.1</td>\n",
       "      <td>18.4</td>\n",
       "      <td>23.5</td>\n",
       "    </tr>\n",
       "    <tr>\n",
       "      <th>tmax</th>\n",
       "      <td>80148.0</td>\n",
       "      <td>23.249764</td>\n",
       "      <td>3.905134</td>\n",
       "      <td>12.7</td>\n",
       "      <td>20.2</td>\n",
       "      <td>22.4</td>\n",
       "      <td>26.2</td>\n",
       "      <td>37.1</td>\n",
       "    </tr>\n",
       "    <tr>\n",
       "      <th>dmax</th>\n",
       "      <td>80148.0</td>\n",
       "      <td>17.583978</td>\n",
       "      <td>1.959501</td>\n",
       "      <td>6.7</td>\n",
       "      <td>16.3</td>\n",
       "      <td>17.7</td>\n",
       "      <td>19.0</td>\n",
       "      <td>24.1</td>\n",
       "    </tr>\n",
       "    <tr>\n",
       "      <th>tmin</th>\n",
       "      <td>80148.0</td>\n",
       "      <td>21.909932</td>\n",
       "      <td>3.400696</td>\n",
       "      <td>12.5</td>\n",
       "      <td>19.4</td>\n",
       "      <td>21.2</td>\n",
       "      <td>24.2</td>\n",
       "      <td>34.5</td>\n",
       "    </tr>\n",
       "    <tr>\n",
       "      <th>dmin</th>\n",
       "      <td>80148.0</td>\n",
       "      <td>16.428833</td>\n",
       "      <td>2.075802</td>\n",
       "      <td>4.2</td>\n",
       "      <td>15.2</td>\n",
       "      <td>16.6</td>\n",
       "      <td>17.9</td>\n",
       "      <td>22.6</td>\n",
       "    </tr>\n",
       "    <tr>\n",
       "      <th>hmdy</th>\n",
       "      <td>80148.0</td>\n",
       "      <td>73.169848</td>\n",
       "      <td>16.856114</td>\n",
       "      <td>20.0</td>\n",
       "      <td>61.0</td>\n",
       "      <td>75.0</td>\n",
       "      <td>88.0</td>\n",
       "      <td>99.0</td>\n",
       "    </tr>\n",
       "    <tr>\n",
       "      <th>hmax</th>\n",
       "      <td>80148.0</td>\n",
       "      <td>76.248016</td>\n",
       "      <td>15.583952</td>\n",
       "      <td>23.0</td>\n",
       "      <td>65.0</td>\n",
       "      <td>79.0</td>\n",
       "      <td>90.0</td>\n",
       "      <td>99.0</td>\n",
       "    </tr>\n",
       "    <tr>\n",
       "      <th>hmin</th>\n",
       "      <td>80148.0</td>\n",
       "      <td>69.962370</td>\n",
       "      <td>17.870629</td>\n",
       "      <td>13.0</td>\n",
       "      <td>56.0</td>\n",
       "      <td>72.0</td>\n",
       "      <td>86.0</td>\n",
       "      <td>99.0</td>\n",
       "    </tr>\n",
       "    <tr>\n",
       "      <th>wdsp</th>\n",
       "      <td>80148.0</td>\n",
       "      <td>2.330979</td>\n",
       "      <td>1.954461</td>\n",
       "      <td>0.0</td>\n",
       "      <td>0.8</td>\n",
       "      <td>2.0</td>\n",
       "      <td>3.3</td>\n",
       "      <td>14.3</td>\n",
       "    </tr>\n",
       "    <tr>\n",
       "      <th>wdct</th>\n",
       "      <td>80148.0</td>\n",
       "      <td>130.584419</td>\n",
       "      <td>94.736354</td>\n",
       "      <td>1.0</td>\n",
       "      <td>67.0</td>\n",
       "      <td>101.0</td>\n",
       "      <td>156.0</td>\n",
       "      <td>360.0</td>\n",
       "    </tr>\n",
       "    <tr>\n",
       "      <th>gust</th>\n",
       "      <td>80148.0</td>\n",
       "      <td>5.486338</td>\n",
       "      <td>3.254163</td>\n",
       "      <td>0.0</td>\n",
       "      <td>3.1</td>\n",
       "      <td>5.4</td>\n",
       "      <td>7.6</td>\n",
       "      <td>25.0</td>\n",
       "    </tr>\n",
       "  </tbody>\n",
       "</table>\n",
       "</div>"
      ],
      "text/plain": [
       "        count        mean        std    min    25%    50%    75%    max\n",
       "prcp  80148.0    0.344595   2.054451    0.0    0.0    0.0    0.0   78.4\n",
       "stp   80148.0  908.432228  19.787321  872.8  883.7  917.0  926.3  935.7\n",
       "smax  80148.0  908.684077  19.800009  873.0  883.9  917.2  926.6  935.8\n",
       "smin  80148.0  908.188080  19.782929  872.7  883.5  916.7  926.0  935.7\n",
       "temp  80148.0   22.559571   3.661378   12.6   19.8   21.8   25.1   36.3\n",
       "dewp  80148.0   16.989345   1.988470    5.5   15.7   17.1   18.4   23.5\n",
       "tmax  80148.0   23.249764   3.905134   12.7   20.2   22.4   26.2   37.1\n",
       "dmax  80148.0   17.583978   1.959501    6.7   16.3   17.7   19.0   24.1\n",
       "tmin  80148.0   21.909932   3.400696   12.5   19.4   21.2   24.2   34.5\n",
       "dmin  80148.0   16.428833   2.075802    4.2   15.2   16.6   17.9   22.6\n",
       "hmdy  80148.0   73.169848  16.856114   20.0   61.0   75.0   88.0   99.0\n",
       "hmax  80148.0   76.248016  15.583952   23.0   65.0   79.0   90.0   99.0\n",
       "hmin  80148.0   69.962370  17.870629   13.0   56.0   72.0   86.0   99.0\n",
       "wdsp  80148.0    2.330979   1.954461    0.0    0.8    2.0    3.3   14.3\n",
       "wdct  80148.0  130.584419  94.736354    1.0   67.0  101.0  156.0  360.0\n",
       "gust  80148.0    5.486338   3.254163    0.0    3.1    5.4    7.6   25.0"
      ]
     },
     "execution_count": 61,
     "metadata": {},
     "output_type": "execute_result"
    }
   ],
   "source": [
    "df[V].describe().T"
   ]
  },
  {
   "cell_type": "code",
   "execution_count": 62,
   "metadata": {},
   "outputs": [],
   "source": [
    "df[cols] = df[cols].replace({0.0:np.nan})"
   ]
  },
  {
   "cell_type": "code",
   "execution_count": 63,
   "metadata": {},
   "outputs": [
    {
     "name": "stdout",
     "output_type": "stream",
     "text": [
      "80148\n",
      "80148\n"
     ]
    }
   ],
   "source": [
    "print len(df)\n",
    "df  = df.dropna()\n",
    "print len(df)"
   ]
  },
  {
   "cell_type": "markdown",
   "metadata": {},
   "source": [
    "<p>Verificando os mínimos e máximos</p>"
   ]
  },
  {
   "cell_type": "code",
   "execution_count": 65,
   "metadata": {},
   "outputs": [
    {
     "name": "stdout",
     "output_type": "stream",
     "text": [
      "        count        mean        std    min    25%    50%    75%    max\n",
      "prcp  80148.0    0.344595   2.054451    0.0    0.0    0.0    0.0   78.4\n",
      "stp   80148.0  908.432228  19.787321  872.8  883.7  917.0  926.3  935.7\n",
      "smax  80148.0  908.684077  19.800009  873.0  883.9  917.2  926.6  935.8\n",
      "smin  80148.0  908.188080  19.782929  872.7  883.5  916.7  926.0  935.7\n",
      "temp  80148.0   22.559571   3.661378   12.6   19.8   21.8   25.1   36.3\n",
      "dewp  80148.0   16.989345   1.988470    5.5   15.7   17.1   18.4   23.5\n",
      "tmax  80148.0   23.249764   3.905134   12.7   20.2   22.4   26.2   37.1\n",
      "dmax  80148.0   17.583978   1.959501    6.7   16.3   17.7   19.0   24.1\n",
      "tmin  80148.0   21.909932   3.400696   12.5   19.4   21.2   24.2   34.5\n",
      "dmin  80148.0   16.428833   2.075802    4.2   15.2   16.6   17.9   22.6\n",
      "hmdy  80148.0   73.169848  16.856114   20.0   61.0   75.0   88.0   99.0\n",
      "hmax  80148.0   76.248016  15.583952   23.0   65.0   79.0   90.0   99.0\n",
      "hmin  80148.0   69.962370  17.870629   13.0   56.0   72.0   86.0   99.0\n",
      "wdsp  80148.0    2.330979   1.954461    0.0    0.8    2.0    3.3   14.3\n",
      "wdct  80148.0  130.584419  94.736354    1.0   67.0  101.0  156.0  360.0\n",
      "gust  80148.0    5.486338   3.254163    0.0    3.1    5.4    7.6   25.0\n"
     ]
    }
   ],
   "source": [
    "print x[V].describe().T"
   ]
  },
  {
   "cell_type": "markdown",
   "metadata": {},
   "source": [
    "<p>Algumas regras:</p>\n",
    "<ul>\n",
    "   <li>Max > Min: para temperatura, humidade, pressão e ponto de orvalho</li>\n",
    "   <li>Mínima para região é possivel?</li>\n",
    "   <li>Máxima para região é possivel?</li>\n",
    "</ul>"
   ]
  },
  {
   "cell_type": "markdown",
   "metadata": {},
   "source": [
    "<p>Vamos a temperatura máxima e mínima</p>"
   ]
  },
  {
   "cell_type": "code",
   "execution_count": 66,
   "metadata": {},
   "outputs": [
    {
     "name": "stdout",
     "output_type": "stream",
     "text": [
      "('tmin>tmax', Empty DataFrame\n",
      "Columns: [wsid, wsnm, elvt, lat, lon, inme, city, prov, mdct, date, yr, mo, da, hr, prcp, stp, smax, smin, temp, dewp, tmax, dmax, tmin, dmin, hmdy, hmax, hmin, wdsp, wdct, gust]\n",
      "Index: []\n",
      "\n",
      "[0 rows x 30 columns])\n",
      "('hmin>hmax', Empty DataFrame\n",
      "Columns: [wsid, wsnm, elvt, lat, lon, inme, city, prov, mdct, date, yr, mo, da, hr, prcp, stp, smax, smin, temp, dewp, tmax, dmax, tmin, dmin, hmdy, hmax, hmin, wdsp, wdct, gust]\n",
      "Index: []\n",
      "\n",
      "[0 rows x 30 columns])\n",
      "('smin>smax', Empty DataFrame\n",
      "Columns: [wsid, wsnm, elvt, lat, lon, inme, city, prov, mdct, date, yr, mo, da, hr, prcp, stp, smax, smin, temp, dewp, tmax, dmax, tmin, dmin, hmdy, hmax, hmin, wdsp, wdct, gust]\n",
      "Index: []\n",
      "\n",
      "[0 rows x 30 columns])\n",
      "('dmin>dmax', Empty DataFrame\n",
      "Columns: [wsid, wsnm, elvt, lat, lon, inme, city, prov, mdct, date, yr, mo, da, hr, prcp, stp, smax, smin, temp, dewp, tmax, dmax, tmin, dmin, hmdy, hmax, hmin, wdsp, wdct, gust]\n",
      "Index: []\n",
      "\n",
      "[0 rows x 30 columns])\n"
     ]
    }
   ],
   "source": [
    "x = df[(df['tmin'] > df['tmax'])]\n",
    "print ('tmin>tmax',x)\n",
    "x = df[(df['hmin'] > df['hmax'])]\n",
    "print ('hmin>hmax',x)\n",
    "x = df[(df['smin'] > df['smax'])]\n",
    "print ('smin>smax',x)\n",
    "x = df[(df['dmin'] > df['dmax'])]\n",
    "print ('dmin>dmax',x)"
   ]
  },
  {
   "cell_type": "markdown",
   "metadata": {},
   "source": [
    "<h4>Outliers</h4>"
   ]
  },
  {
   "cell_type": "markdown",
   "metadata": {},
   "source": [
    "<p>Usando boxplot para verificar se existem outliers</p> "
   ]
  },
  {
   "cell_type": "code",
   "execution_count": 67,
   "metadata": {},
   "outputs": [],
   "source": [
    "sns.set_style(\"whitegrid\")"
   ]
  },
  {
   "cell_type": "markdown",
   "metadata": {},
   "source": [
    "<p>Pressão atmosférica</p>"
   ]
  },
  {
   "cell_type": "code",
   "execution_count": 68,
   "metadata": {},
   "outputs": [],
   "source": [
    "sns.set(font_scale=2) \n",
    "def bp(var):\n",
    "    fig, ax = plt.subplots()\n",
    "    fig.set_size_inches(15, 8)\n",
    "    #sns.boxplot(x='prov',y=var, data=df, ax=ax)\n",
    "    ax = sns.distplot(df[var])\n",
    "    ax2 = ax.twinx()\n",
    "    sns.boxplot(x=df[var], ax=ax2)\n",
    "    ax2.set(ylim=(-.5, 10))\n",
    "    ax.set_title('Com outliers: ' + var)\n",
    "def bp_sem(var):\n",
    "    q = df[var].quantile(0.99)\n",
    "    x_filt = df[df[var] < q]\n",
    "    fig, ax = plt.subplots()\n",
    "    fig.set_size_inches(15, 8)\n",
    "    ax = sns.distplot(x_filt[var])    \n",
    "    ax.set_title('Sem outliers: ' + var)"
   ]
  },
  {
   "cell_type": "code",
   "execution_count": 69,
   "metadata": {},
   "outputs": [
    {
     "data": {
      "image/png": "[encoded data removed]",
      "text/plain": [
       "<matplotlib.figure.Figure at 0x110eb1110>"
      ]
     },
     "metadata": {},
     "output_type": "display_data"
    }
   ],
   "source": [
    "bp('stp')"
   ]
  },
  {
   "cell_type": "code",
   "execution_count": 70,
   "metadata": {},
   "outputs": [
    {
     "data": {
      "image/png": "[encoded data removed]",
      "text/plain": [
       "<matplotlib.figure.Figure at 0x11b0a6290>"
      ]
     },
     "metadata": {},
     "output_type": "display_data"
    }
   ],
   "source": [
    "bp_sem('stp')"
   ]
  },
  {
   "cell_type": "code",
   "execution_count": 71,
   "metadata": {},
   "outputs": [
    {
     "data": {
      "image/png": "[encoded data removed]",
      "text/plain": [
       "<matplotlib.figure.Figure at 0x117d9e110>"
      ]
     },
     "metadata": {},
     "output_type": "display_data"
    }
   ],
   "source": [
    "bp('temp')"
   ]
  },
  {
   "cell_type": "code",
   "execution_count": 72,
   "metadata": {},
   "outputs": [
    {
     "data": {
      "image/png": "[encoded data removed]",
      "text/plain": [
       "<matplotlib.figure.Figure at 0x117dbba10>"
      ]
     },
     "metadata": {},
     "output_type": "display_data"
    }
   ],
   "source": [
    "bp_sem('temp')"
   ]
  },
  {
   "cell_type": "code",
   "execution_count": 102,
   "metadata": {},
   "outputs": [
    {
     "data": {
      "image/png": "[encoded data removed]",
      "text/plain": [
       "<matplotlib.figure.Figure at 0x111ae9d50>"
      ]
     },
     "metadata": {},
     "output_type": "display_data"
    }
   ],
   "source": [
    "bp('wdsp')"
   ]
  },
  {
   "cell_type": "code",
   "execution_count": 73,
   "metadata": {},
   "outputs": [
    {
     "data": {
      "image/png": "[encoded data removed]",
      "text/plain": [
       "<matplotlib.figure.Figure at 0x11675d3d0>"
      ]
     },
     "metadata": {},
     "output_type": "display_data"
    }
   ],
   "source": [
    "bp_sem('wdsp')"
   ]
  },
  {
   "cell_type": "code",
   "execution_count": 74,
   "metadata": {},
   "outputs": [
    {
     "data": {
      "image/png": "[encoded data removed]",
      "text/plain": [
       "<matplotlib.figure.Figure at 0x1102d3dd0>"
      ]
     },
     "metadata": {},
     "output_type": "display_data"
    }
   ],
   "source": [
    "bp('prcp')"
   ]
  },
  {
   "cell_type": "code",
   "execution_count": 75,
   "metadata": {},
   "outputs": [
    {
     "data": {
      "image/png": "[encoded data removed]",
      "text/plain": [
       "<matplotlib.figure.Figure at 0x1102d3f50>"
      ]
     },
     "metadata": {},
     "output_type": "display_data"
    }
   ],
   "source": [
    "bp_sem('prcp')"
   ]
  },
  {
   "cell_type": "markdown",
   "metadata": {},
   "source": [
    "<h3>Derivando novas variáveis (Feature engineering)</h3>"
   ]
  },
  {
   "cell_type": "markdown",
   "metadata": {},
   "source": [
    "<p>Recuperando o backup do dataframe antes da limpeza dos nulos, pois preciso derivar as freatures primeiro.\n",
    "Assim, após a derivá-las, irei apagar os que não pode ser nulo. Esta etapa teve que ser feita de novo, por este motivo</p> "
   ]
  },
  {
   "cell_type": "code",
   "execution_count": 76,
   "metadata": {},
   "outputs": [],
   "source": [
    "dfm = backup_df() "
   ]
  },
  {
   "cell_type": "code",
   "execution_count": 77,
   "metadata": {},
   "outputs": [
    {
     "data": {
      "text/plain": [
       "80148"
      ]
     },
     "execution_count": 77,
     "metadata": {},
     "output_type": "execute_result"
    }
   ],
   "source": [
    "len(dfm)"
   ]
  },
  {
   "cell_type": "code",
   "execution_count": 78,
   "metadata": {},
   "outputs": [
    {
     "data": {
      "text/html": [
       "<div>\n",
       "<style scoped>\n",
       "    .dataframe tbody tr th:only-of-type {\n",
       "        vertical-align: middle;\n",
       "    }\n",
       "\n",
       "    .dataframe tbody tr th {\n",
       "        vertical-align: top;\n",
       "    }\n",
       "\n",
       "    .dataframe thead th {\n",
       "        text-align: right;\n",
       "    }\n",
       "</style>\n",
       "<table border=\"1\" class=\"dataframe\">\n",
       "  <thead>\n",
       "    <tr style=\"text-align: right;\">\n",
       "      <th></th>\n",
       "      <th>wsid</th>\n",
       "      <th>elvt</th>\n",
       "      <th>lat</th>\n",
       "      <th>lon</th>\n",
       "      <th>mdct</th>\n",
       "      <th>prcp</th>\n",
       "      <th>stp</th>\n",
       "      <th>smax</th>\n",
       "      <th>smin</th>\n",
       "      <th>temp</th>\n",
       "      <th>...</th>\n",
       "      <th>tmax</th>\n",
       "      <th>dmax</th>\n",
       "      <th>tmin</th>\n",
       "      <th>dmin</th>\n",
       "      <th>hmdy</th>\n",
       "      <th>hmax</th>\n",
       "      <th>hmin</th>\n",
       "      <th>wdsp</th>\n",
       "      <th>wdct</th>\n",
       "      <th>gust</th>\n",
       "    </tr>\n",
       "  </thead>\n",
       "  <tbody>\n",
       "    <tr>\n",
       "      <th>835332</th>\n",
       "      <td>329</td>\n",
       "      <td>854.0</td>\n",
       "      <td>-19.883945</td>\n",
       "      <td>-43.969397</td>\n",
       "      <td>2013-01-14 12:00:00</td>\n",
       "      <td>0.0</td>\n",
       "      <td>919.7</td>\n",
       "      <td>919.7</td>\n",
       "      <td>919.2</td>\n",
       "      <td>23.5</td>\n",
       "      <td>...</td>\n",
       "      <td>23.9</td>\n",
       "      <td>16.7</td>\n",
       "      <td>22.5</td>\n",
       "      <td>14.7</td>\n",
       "      <td>61.0</td>\n",
       "      <td>68.0</td>\n",
       "      <td>58.0</td>\n",
       "      <td>3.5</td>\n",
       "      <td>74.0</td>\n",
       "      <td>9.0</td>\n",
       "    </tr>\n",
       "    <tr>\n",
       "      <th>830550</th>\n",
       "      <td>329</td>\n",
       "      <td>854.0</td>\n",
       "      <td>-19.883945</td>\n",
       "      <td>-43.969397</td>\n",
       "      <td>2011-02-27 06:00:00</td>\n",
       "      <td>0.0</td>\n",
       "      <td>914.6</td>\n",
       "      <td>914.9</td>\n",
       "      <td>914.6</td>\n",
       "      <td>21.0</td>\n",
       "      <td>...</td>\n",
       "      <td>21.7</td>\n",
       "      <td>19.4</td>\n",
       "      <td>20.9</td>\n",
       "      <td>18.6</td>\n",
       "      <td>87.0</td>\n",
       "      <td>88.0</td>\n",
       "      <td>85.0</td>\n",
       "      <td>1.0</td>\n",
       "      <td>67.0</td>\n",
       "      <td>2.7</td>\n",
       "    </tr>\n",
       "    <tr>\n",
       "      <th>1738898</th>\n",
       "      <td>363</td>\n",
       "      <td>1199.0</td>\n",
       "      <td>-20.031457</td>\n",
       "      <td>-44.011249</td>\n",
       "      <td>2010-02-21 02:00:00</td>\n",
       "      <td>0.0</td>\n",
       "      <td>884.9</td>\n",
       "      <td>884.9</td>\n",
       "      <td>884.7</td>\n",
       "      <td>21.5</td>\n",
       "      <td>...</td>\n",
       "      <td>22.0</td>\n",
       "      <td>16.8</td>\n",
       "      <td>21.4</td>\n",
       "      <td>16.5</td>\n",
       "      <td>74.0</td>\n",
       "      <td>74.0</td>\n",
       "      <td>71.0</td>\n",
       "      <td>4.1</td>\n",
       "      <td>95.0</td>\n",
       "      <td>10.1</td>\n",
       "    </tr>\n",
       "    <tr>\n",
       "      <th>1228875</th>\n",
       "      <td>343</td>\n",
       "      <td>754.0</td>\n",
       "      <td>-19.885398</td>\n",
       "      <td>-44.416883</td>\n",
       "      <td>2015-02-06 03:00:00</td>\n",
       "      <td>0.0</td>\n",
       "      <td>926.4</td>\n",
       "      <td>926.9</td>\n",
       "      <td>926.4</td>\n",
       "      <td>19.6</td>\n",
       "      <td>...</td>\n",
       "      <td>19.8</td>\n",
       "      <td>18.7</td>\n",
       "      <td>19.6</td>\n",
       "      <td>18.3</td>\n",
       "      <td>92.0</td>\n",
       "      <td>94.0</td>\n",
       "      <td>92.0</td>\n",
       "      <td>2.6</td>\n",
       "      <td>349.0</td>\n",
       "      <td>6.0</td>\n",
       "    </tr>\n",
       "    <tr>\n",
       "      <th>1752502</th>\n",
       "      <td>363</td>\n",
       "      <td>1199.0</td>\n",
       "      <td>-20.031457</td>\n",
       "      <td>-44.011249</td>\n",
       "      <td>2015-01-12 22:00:00</td>\n",
       "      <td>0.0</td>\n",
       "      <td>883.3</td>\n",
       "      <td>883.3</td>\n",
       "      <td>883.0</td>\n",
       "      <td>25.4</td>\n",
       "      <td>...</td>\n",
       "      <td>27.3</td>\n",
       "      <td>11.7</td>\n",
       "      <td>25.0</td>\n",
       "      <td>11.0</td>\n",
       "      <td>41.0</td>\n",
       "      <td>43.0</td>\n",
       "      <td>37.0</td>\n",
       "      <td>4.6</td>\n",
       "      <td>66.0</td>\n",
       "      <td>8.5</td>\n",
       "    </tr>\n",
       "  </tbody>\n",
       "</table>\n",
       "<p>5 rows × 21 columns</p>\n",
       "</div>"
      ],
      "text/plain": [
       "         wsid    elvt        lat        lon                 mdct  prcp    stp  \\\n",
       "835332    329   854.0 -19.883945 -43.969397  2013-01-14 12:00:00   0.0  919.7   \n",
       "830550    329   854.0 -19.883945 -43.969397  2011-02-27 06:00:00   0.0  914.6   \n",
       "1738898   363  1199.0 -20.031457 -44.011249  2010-02-21 02:00:00   0.0  884.9   \n",
       "1228875   343   754.0 -19.885398 -44.416883  2015-02-06 03:00:00   0.0  926.4   \n",
       "1752502   363  1199.0 -20.031457 -44.011249  2015-01-12 22:00:00   0.0  883.3   \n",
       "\n",
       "          smax   smin  temp  ...   tmax  dmax  tmin  dmin  hmdy  hmax  hmin  \\\n",
       "835332   919.7  919.2  23.5  ...   23.9  16.7  22.5  14.7  61.0  68.0  58.0   \n",
       "830550   914.9  914.6  21.0  ...   21.7  19.4  20.9  18.6  87.0  88.0  85.0   \n",
       "1738898  884.9  884.7  21.5  ...   22.0  16.8  21.4  16.5  74.0  74.0  71.0   \n",
       "1228875  926.9  926.4  19.6  ...   19.8  18.7  19.6  18.3  92.0  94.0  92.0   \n",
       "1752502  883.3  883.0  25.4  ...   27.3  11.7  25.0  11.0  41.0  43.0  37.0   \n",
       "\n",
       "         wdsp   wdct  gust  \n",
       "835332    3.5   74.0   9.0  \n",
       "830550    1.0   67.0   2.7  \n",
       "1738898   4.1   95.0  10.1  \n",
       "1228875   2.6  349.0   6.0  \n",
       "1752502   4.6   66.0   8.5  \n",
       "\n",
       "[5 rows x 21 columns]"
      ]
     },
     "execution_count": 78,
     "metadata": {},
     "output_type": "execute_result"
    }
   ],
   "source": [
    "CLEAN = ['wsnm','inme','city','prov','date']\n",
    "REMOVE = ['yr', 'mo', 'da', 'hr']\n",
    "#REMOVE = ['wsid','yr', 'mo', 'da', 'hr']\n",
    "for v in CLEAN + REMOVE:\n",
    "    dfm = dfm.drop(v,1)\n",
    "dfm.sample(5)  "
   ]
  },
  {
   "cell_type": "code",
   "execution_count": 79,
   "metadata": {},
   "outputs": [
    {
     "name": "stdout",
     "output_type": "stream",
     "text": [
      "[329, 343, 363, 370]\n"
     ]
    }
   ],
   "source": [
    "ws = dfm['wsid'].groupby(dfm['wsid']).count()\n",
    "ws = list(ws.keys())\n",
    "print ws"
   ]
  },
  {
   "cell_type": "code",
   "execution_count": 80,
   "metadata": {},
   "outputs": [],
   "source": [
    "def df_derived_by_shift(df,lag=0,NON_DER=[]):\n",
    "    df = df.copy()\n",
    "    \n",
    "    if not lag:\n",
    "        return df\n",
    "    \n",
    "    cols ={}\n",
    "    for i in range(1,lag+1):\n",
    "        for x in list(df.columns):\n",
    "            if x not in NON_DER:\n",
    "                if not x in cols:\n",
    "                    cols[x] = ['{}_{}'.format(x, i)]\n",
    "                else:\n",
    "                    cols[x].append('{}_{}'.format(x, i))\n",
    "  \n",
    "    for k,v in cols.items():\n",
    "        columns = v\n",
    "        dfn = pd.DataFrame(data=None, columns=columns, index=df.index)    \n",
    "        i = 1\n",
    "        for c in columns:\n",
    "            dfn[c] = df[k].shift(periods=i)\n",
    "            i+=1\n",
    "        df = pd.concat([df, dfn], axis=1, join_axes=[df.index])\n",
    "        \n",
    "    return df"
   ]
  },
  {
   "cell_type": "code",
   "execution_count": 81,
   "metadata": {},
   "outputs": [],
   "source": [
    "NON_DER = ['wsid','elvt','lat', 'lon', 'yr', 'mo', 'da', 'hr']\n",
    "\n",
    "dfr = df_derived_by_shift(dfm,6,NON_DER)"
   ]
  },
  {
   "cell_type": "code",
   "execution_count": 82,
   "metadata": {},
   "outputs": [],
   "source": [
    "dfr.head(4)\n",
    "\n",
    "var = []\n",
    "cld = list(dfr.columns)\n",
    "for x in cld:\n",
    "    if len(x.split('_')) >= 2:\n",
    "        var.append((x.split('_')[0], x.split('_')[1]))"
   ]
  },
  {
   "cell_type": "code",
   "execution_count": 83,
   "metadata": {},
   "outputs": [],
   "source": [
    "cols = {}\n",
    "for v,i in var:\n",
    "    x = '{}_{}'.format(v, i)\n",
    "    if int(i) not in cols:\n",
    "        cols[int(i)] = [x]\n",
    "    else:\n",
    "        cols[int(i)].append(x)\n",
    "#print cols"
   ]
  },
  {
   "cell_type": "code",
   "execution_count": 84,
   "metadata": {},
   "outputs": [
    {
     "data": {
      "text/html": [
       "<div>\n",
       "<style scoped>\n",
       "    .dataframe tbody tr th:only-of-type {\n",
       "        vertical-align: middle;\n",
       "    }\n",
       "\n",
       "    .dataframe tbody tr th {\n",
       "        vertical-align: top;\n",
       "    }\n",
       "\n",
       "    .dataframe thead th {\n",
       "        text-align: right;\n",
       "    }\n",
       "</style>\n",
       "<table border=\"1\" class=\"dataframe\">\n",
       "  <thead>\n",
       "    <tr style=\"text-align: right;\">\n",
       "      <th></th>\n",
       "      <th>wsid</th>\n",
       "      <th>elvt</th>\n",
       "      <th>lat</th>\n",
       "      <th>lon</th>\n",
       "      <th>mdct</th>\n",
       "      <th>prcp</th>\n",
       "      <th>stp</th>\n",
       "      <th>smax</th>\n",
       "      <th>smin</th>\n",
       "      <th>temp</th>\n",
       "      <th>...</th>\n",
       "      <th>dmax_3</th>\n",
       "      <th>dmax_4</th>\n",
       "      <th>dmax_5</th>\n",
       "      <th>dmax_6</th>\n",
       "      <th>prcp_1</th>\n",
       "      <th>prcp_2</th>\n",
       "      <th>prcp_3</th>\n",
       "      <th>prcp_4</th>\n",
       "      <th>prcp_5</th>\n",
       "      <th>prcp_6</th>\n",
       "    </tr>\n",
       "  </thead>\n",
       "  <tbody>\n",
       "    <tr>\n",
       "      <th>1753678</th>\n",
       "      <td>363</td>\n",
       "      <td>1199.0</td>\n",
       "      <td>-20.031457</td>\n",
       "      <td>-44.011249</td>\n",
       "      <td>2015-03-02 22:00:00</td>\n",
       "      <td>0.0</td>\n",
       "      <td>883.1</td>\n",
       "      <td>883.2</td>\n",
       "      <td>882.8</td>\n",
       "      <td>20.7</td>\n",
       "      <td>...</td>\n",
       "      <td>16.1</td>\n",
       "      <td>16.6</td>\n",
       "      <td>16.0</td>\n",
       "      <td>16.5</td>\n",
       "      <td>0.0</td>\n",
       "      <td>0.0</td>\n",
       "      <td>0.0</td>\n",
       "      <td>0.0</td>\n",
       "      <td>0.0</td>\n",
       "      <td>0.0</td>\n",
       "    </tr>\n",
       "    <tr>\n",
       "      <th>1800187</th>\n",
       "      <td>370</td>\n",
       "      <td>1200.0</td>\n",
       "      <td>-19.980034</td>\n",
       "      <td>-43.958651</td>\n",
       "      <td>2016-03-23 19:00:00</td>\n",
       "      <td>0.2</td>\n",
       "      <td>880.7</td>\n",
       "      <td>881.0</td>\n",
       "      <td>880.5</td>\n",
       "      <td>21.4</td>\n",
       "      <td>...</td>\n",
       "      <td>18.3</td>\n",
       "      <td>18.3</td>\n",
       "      <td>18.0</td>\n",
       "      <td>17.7</td>\n",
       "      <td>1.0</td>\n",
       "      <td>0.0</td>\n",
       "      <td>0.0</td>\n",
       "      <td>0.0</td>\n",
       "      <td>0.0</td>\n",
       "      <td>0.0</td>\n",
       "    </tr>\n",
       "    <tr>\n",
       "      <th>1734215</th>\n",
       "      <td>363</td>\n",
       "      <td>1199.0</td>\n",
       "      <td>-20.031457</td>\n",
       "      <td>-44.011249</td>\n",
       "      <td>2008-12-08 23:00:00</td>\n",
       "      <td>9.0</td>\n",
       "      <td>884.8</td>\n",
       "      <td>885.6</td>\n",
       "      <td>884.7</td>\n",
       "      <td>17.3</td>\n",
       "      <td>...</td>\n",
       "      <td>15.7</td>\n",
       "      <td>15.7</td>\n",
       "      <td>16.6</td>\n",
       "      <td>15.9</td>\n",
       "      <td>13.4</td>\n",
       "      <td>0.0</td>\n",
       "      <td>0.6</td>\n",
       "      <td>0.0</td>\n",
       "      <td>0.0</td>\n",
       "      <td>0.0</td>\n",
       "    </tr>\n",
       "  </tbody>\n",
       "</table>\n",
       "<p>3 rows × 123 columns</p>\n",
       "</div>"
      ],
      "text/plain": [
       "         wsid    elvt        lat        lon                 mdct  prcp    stp  \\\n",
       "1753678   363  1199.0 -20.031457 -44.011249  2015-03-02 22:00:00   0.0  883.1   \n",
       "1800187   370  1200.0 -19.980034 -43.958651  2016-03-23 19:00:00   0.2  880.7   \n",
       "1734215   363  1199.0 -20.031457 -44.011249  2008-12-08 23:00:00   9.0  884.8   \n",
       "\n",
       "          smax   smin  temp   ...    dmax_3  dmax_4  dmax_5  dmax_6  prcp_1  \\\n",
       "1753678  883.2  882.8  20.7   ...      16.1    16.6    16.0    16.5     0.0   \n",
       "1800187  881.0  880.5  21.4   ...      18.3    18.3    18.0    17.7     1.0   \n",
       "1734215  885.6  884.7  17.3   ...      15.7    15.7    16.6    15.9    13.4   \n",
       "\n",
       "         prcp_2  prcp_3  prcp_4  prcp_5  prcp_6  \n",
       "1753678     0.0     0.0     0.0     0.0     0.0  \n",
       "1800187     0.0     0.0     0.0     0.0     0.0  \n",
       "1734215     0.0     0.6     0.0     0.0     0.0  \n",
       "\n",
       "[3 rows x 123 columns]"
      ]
     },
     "execution_count": 84,
     "metadata": {},
     "output_type": "execute_result"
    }
   ],
   "source": [
    "dfr.sample(3)"
   ]
  },
  {
   "cell_type": "code",
   "execution_count": 85,
   "metadata": {},
   "outputs": [
    {
     "data": {
      "text/plain": [
       "Index([u'wsid', u'elvt', u'lat', u'lon', u'mdct', u'prcp', u'stp', u'smax',\n",
       "       u'smin', u'temp',\n",
       "       ...\n",
       "       u'dmax_3', u'dmax_4', u'dmax_5', u'dmax_6', u'prcp_1', u'prcp_2',\n",
       "       u'prcp_3', u'prcp_4', u'prcp_5', u'prcp_6'],\n",
       "      dtype='object', length=123)"
      ]
     },
     "execution_count": 85,
     "metadata": {},
     "output_type": "execute_result"
    }
   ],
   "source": [
    "dfr.columns"
   ]
  },
  {
   "cell_type": "code",
   "execution_count": 86,
   "metadata": {},
   "outputs": [],
   "source": [
    "dfm = dfr"
   ]
  },
  {
   "cell_type": "code",
   "execution_count": 87,
   "metadata": {},
   "outputs": [
    {
     "data": {
      "text/plain": [
       "['wsid',\n",
       " 'elvt',\n",
       " 'lat',\n",
       " 'lon',\n",
       " 'mdct',\n",
       " 'prcp',\n",
       " 'stp',\n",
       " 'smax',\n",
       " 'smin',\n",
       " 'temp',\n",
       " 'dewp',\n",
       " 'tmax',\n",
       " 'dmax',\n",
       " 'tmin',\n",
       " 'dmin',\n",
       " 'hmdy',\n",
       " 'hmax',\n",
       " 'hmin',\n",
       " 'wdsp',\n",
       " 'wdct',\n",
       " 'gust',\n",
       " 'wdct_1',\n",
       " 'wdct_2',\n",
       " 'wdct_3',\n",
       " 'wdct_4',\n",
       " 'wdct_5',\n",
       " 'wdct_6',\n",
       " 'tmin_1',\n",
       " 'tmin_2',\n",
       " 'tmin_3',\n",
       " 'tmin_4',\n",
       " 'tmin_5',\n",
       " 'tmin_6',\n",
       " 'hmax_1',\n",
       " 'hmax_2',\n",
       " 'hmax_3',\n",
       " 'hmax_4',\n",
       " 'hmax_5',\n",
       " 'hmax_6',\n",
       " 'temp_1',\n",
       " 'temp_2',\n",
       " 'temp_3',\n",
       " 'temp_4',\n",
       " 'temp_5',\n",
       " 'temp_6',\n",
       " 'hmin_1',\n",
       " 'hmin_2',\n",
       " 'hmin_3',\n",
       " 'hmin_4',\n",
       " 'hmin_5',\n",
       " 'hmin_6',\n",
       " 'gust_1',\n",
       " 'gust_2',\n",
       " 'gust_3',\n",
       " 'gust_4',\n",
       " 'gust_5',\n",
       " 'gust_6',\n",
       " 'tmax_1',\n",
       " 'tmax_2',\n",
       " 'tmax_3',\n",
       " 'tmax_4',\n",
       " 'tmax_5',\n",
       " 'tmax_6',\n",
       " 'smax_1',\n",
       " 'smax_2',\n",
       " 'smax_3',\n",
       " 'smax_4',\n",
       " 'smax_5',\n",
       " 'smax_6',\n",
       " 'hmdy_1',\n",
       " 'hmdy_2',\n",
       " 'hmdy_3',\n",
       " 'hmdy_4',\n",
       " 'hmdy_5',\n",
       " 'hmdy_6',\n",
       " 'mdct_1',\n",
       " 'mdct_2',\n",
       " 'mdct_3',\n",
       " 'mdct_4',\n",
       " 'mdct_5',\n",
       " 'mdct_6',\n",
       " 'dewp_1',\n",
       " 'dewp_2',\n",
       " 'dewp_3',\n",
       " 'dewp_4',\n",
       " 'dewp_5',\n",
       " 'dewp_6',\n",
       " 'wdsp_1',\n",
       " 'wdsp_2',\n",
       " 'wdsp_3',\n",
       " 'wdsp_4',\n",
       " 'wdsp_5',\n",
       " 'wdsp_6',\n",
       " 'stp_1',\n",
       " 'stp_2',\n",
       " 'stp_3',\n",
       " 'stp_4',\n",
       " 'stp_5',\n",
       " 'stp_6',\n",
       " 'smin_1',\n",
       " 'smin_2',\n",
       " 'smin_3',\n",
       " 'smin_4',\n",
       " 'smin_5',\n",
       " 'smin_6',\n",
       " 'dmin_1',\n",
       " 'dmin_2',\n",
       " 'dmin_3',\n",
       " 'dmin_4',\n",
       " 'dmin_5',\n",
       " 'dmin_6',\n",
       " 'dmax_1',\n",
       " 'dmax_2',\n",
       " 'dmax_3',\n",
       " 'dmax_4',\n",
       " 'dmax_5',\n",
       " 'dmax_6',\n",
       " 'prcp_1',\n",
       " 'prcp_2',\n",
       " 'prcp_3',\n",
       " 'prcp_4',\n",
       " 'prcp_5',\n",
       " 'prcp_6']"
      ]
     },
     "execution_count": 87,
     "metadata": {},
     "output_type": "execute_result"
    }
   ],
   "source": [
    "list(dfm.columns)"
   ]
  },
  {
   "cell_type": "code",
   "execution_count": 88,
   "metadata": {},
   "outputs": [
    {
     "data": {
      "text/plain": [
       "80148"
      ]
     },
     "execution_count": 88,
     "metadata": {},
     "output_type": "execute_result"
    }
   ],
   "source": [
    "len(dfm)"
   ]
  },
  {
   "cell_type": "markdown",
   "metadata": {},
   "source": [
    "<h3>Preparando a base</h3>"
   ]
  },
  {
   "cell_type": "markdown",
   "metadata": {},
   "source": [
    "<p>Removendo registros que não pode ser nulos e prejudicariam o treinamento</p>"
   ]
  },
  {
   "cell_type": "code",
   "execution_count": 89,
   "metadata": {},
   "outputs": [
    {
     "data": {
      "text/plain": [
       "['stp',\n",
       " 'smax',\n",
       " 'smin',\n",
       " 'dewp',\n",
       " 'tmax',\n",
       " 'dmax',\n",
       " 'tmin',\n",
       " 'dmin',\n",
       " 'hmdy',\n",
       " 'hmax',\n",
       " 'hmin',\n",
       " 'wdct']"
      ]
     },
     "execution_count": 89,
     "metadata": {},
     "output_type": "execute_result"
    }
   ],
   "source": [
    "cols = list(df.columns)\n",
    "\n",
    "COLS_BE_NULL = ['prcp','wdsp','gust'] + DES + ['temp']\n",
    "for v in COLS_BE_NULL:\n",
    "    if v in cols:\n",
    "        cols.remove(v)\n",
    "cols"
   ]
  },
  {
   "cell_type": "code",
   "execution_count": 90,
   "metadata": {},
   "outputs": [],
   "source": [
    "dfm[cols] = dfm[cols].replace({0.0:np.nan}) "
   ]
  },
  {
   "cell_type": "code",
   "execution_count": 91,
   "metadata": {},
   "outputs": [
    {
     "name": "stdout",
     "output_type": "stream",
     "text": [
      "80148\n",
      "80142\n"
     ]
    }
   ],
   "source": [
    "print len(dfm)\n",
    "dfm  = dfm.dropna()\n",
    "print len(dfm)"
   ]
  },
  {
   "cell_type": "code",
   "execution_count": 92,
   "metadata": {},
   "outputs": [],
   "source": [
    "dfm = dfm.reset_index(drop=True)"
   ]
  },
  {
   "cell_type": "code",
   "execution_count": 93,
   "metadata": {},
   "outputs": [
    {
     "data": {
      "text/html": [
       "<div>\n",
       "<style scoped>\n",
       "    .dataframe tbody tr th:only-of-type {\n",
       "        vertical-align: middle;\n",
       "    }\n",
       "\n",
       "    .dataframe tbody tr th {\n",
       "        vertical-align: top;\n",
       "    }\n",
       "\n",
       "    .dataframe thead th {\n",
       "        text-align: right;\n",
       "    }\n",
       "</style>\n",
       "<table border=\"1\" class=\"dataframe\">\n",
       "  <thead>\n",
       "    <tr style=\"text-align: right;\">\n",
       "      <th></th>\n",
       "      <th>wsid</th>\n",
       "      <th>elvt</th>\n",
       "      <th>lat</th>\n",
       "      <th>lon</th>\n",
       "      <th>mdct</th>\n",
       "      <th>prcp</th>\n",
       "      <th>stp</th>\n",
       "      <th>smax</th>\n",
       "      <th>smin</th>\n",
       "      <th>temp</th>\n",
       "      <th>...</th>\n",
       "      <th>dmax_3</th>\n",
       "      <th>dmax_4</th>\n",
       "      <th>dmax_5</th>\n",
       "      <th>dmax_6</th>\n",
       "      <th>prcp_1</th>\n",
       "      <th>prcp_2</th>\n",
       "      <th>prcp_3</th>\n",
       "      <th>prcp_4</th>\n",
       "      <th>prcp_5</th>\n",
       "      <th>prcp_6</th>\n",
       "    </tr>\n",
       "  </thead>\n",
       "  <tbody>\n",
       "    <tr>\n",
       "      <th>0</th>\n",
       "      <td>329</td>\n",
       "      <td>854.0</td>\n",
       "      <td>-19.883945</td>\n",
       "      <td>-43.969397</td>\n",
       "      <td>2006-12-01 06:00:00</td>\n",
       "      <td>0.0</td>\n",
       "      <td>913.5</td>\n",
       "      <td>913.8</td>\n",
       "      <td>913.4</td>\n",
       "      <td>20.8</td>\n",
       "      <td>...</td>\n",
       "      <td>20.5</td>\n",
       "      <td>20.6</td>\n",
       "      <td>20.6</td>\n",
       "      <td>20.5</td>\n",
       "      <td>0.6</td>\n",
       "      <td>12.4</td>\n",
       "      <td>1.8</td>\n",
       "      <td>0.4</td>\n",
       "      <td>0.0</td>\n",
       "      <td>0.0</td>\n",
       "    </tr>\n",
       "    <tr>\n",
       "      <th>1</th>\n",
       "      <td>329</td>\n",
       "      <td>854.0</td>\n",
       "      <td>-19.883945</td>\n",
       "      <td>-43.969397</td>\n",
       "      <td>2006-12-01 07:00:00</td>\n",
       "      <td>0.0</td>\n",
       "      <td>913.4</td>\n",
       "      <td>913.6</td>\n",
       "      <td>913.4</td>\n",
       "      <td>20.2</td>\n",
       "      <td>...</td>\n",
       "      <td>20.4</td>\n",
       "      <td>20.5</td>\n",
       "      <td>20.6</td>\n",
       "      <td>20.6</td>\n",
       "      <td>0.0</td>\n",
       "      <td>0.6</td>\n",
       "      <td>12.4</td>\n",
       "      <td>1.8</td>\n",
       "      <td>0.4</td>\n",
       "      <td>0.0</td>\n",
       "    </tr>\n",
       "    <tr>\n",
       "      <th>2</th>\n",
       "      <td>329</td>\n",
       "      <td>854.0</td>\n",
       "      <td>-19.883945</td>\n",
       "      <td>-43.969397</td>\n",
       "      <td>2006-12-01 08:00:00</td>\n",
       "      <td>0.0</td>\n",
       "      <td>914.2</td>\n",
       "      <td>914.2</td>\n",
       "      <td>913.4</td>\n",
       "      <td>20.1</td>\n",
       "      <td>...</td>\n",
       "      <td>20.1</td>\n",
       "      <td>20.4</td>\n",
       "      <td>20.5</td>\n",
       "      <td>20.6</td>\n",
       "      <td>0.0</td>\n",
       "      <td>0.0</td>\n",
       "      <td>0.6</td>\n",
       "      <td>12.4</td>\n",
       "      <td>1.8</td>\n",
       "      <td>0.4</td>\n",
       "    </tr>\n",
       "    <tr>\n",
       "      <th>3</th>\n",
       "      <td>329</td>\n",
       "      <td>854.0</td>\n",
       "      <td>-19.883945</td>\n",
       "      <td>-43.969397</td>\n",
       "      <td>2006-12-01 09:00:00</td>\n",
       "      <td>0.0</td>\n",
       "      <td>915.0</td>\n",
       "      <td>915.0</td>\n",
       "      <td>914.2</td>\n",
       "      <td>20.7</td>\n",
       "      <td>...</td>\n",
       "      <td>19.6</td>\n",
       "      <td>20.1</td>\n",
       "      <td>20.4</td>\n",
       "      <td>20.5</td>\n",
       "      <td>0.0</td>\n",
       "      <td>0.0</td>\n",
       "      <td>0.0</td>\n",
       "      <td>0.6</td>\n",
       "      <td>12.4</td>\n",
       "      <td>1.8</td>\n",
       "    </tr>\n",
       "    <tr>\n",
       "      <th>4</th>\n",
       "      <td>329</td>\n",
       "      <td>854.0</td>\n",
       "      <td>-19.883945</td>\n",
       "      <td>-43.969397</td>\n",
       "      <td>2006-12-01 10:00:00</td>\n",
       "      <td>0.0</td>\n",
       "      <td>915.7</td>\n",
       "      <td>915.7</td>\n",
       "      <td>915.0</td>\n",
       "      <td>21.3</td>\n",
       "      <td>...</td>\n",
       "      <td>19.7</td>\n",
       "      <td>19.6</td>\n",
       "      <td>20.1</td>\n",
       "      <td>20.4</td>\n",
       "      <td>0.0</td>\n",
       "      <td>0.0</td>\n",
       "      <td>0.0</td>\n",
       "      <td>0.0</td>\n",
       "      <td>0.6</td>\n",
       "      <td>12.4</td>\n",
       "    </tr>\n",
       "  </tbody>\n",
       "</table>\n",
       "<p>5 rows × 123 columns</p>\n",
       "</div>"
      ],
      "text/plain": [
       "   wsid   elvt        lat        lon                 mdct  prcp    stp   smax  \\\n",
       "0   329  854.0 -19.883945 -43.969397  2006-12-01 06:00:00   0.0  913.5  913.8   \n",
       "1   329  854.0 -19.883945 -43.969397  2006-12-01 07:00:00   0.0  913.4  913.6   \n",
       "2   329  854.0 -19.883945 -43.969397  2006-12-01 08:00:00   0.0  914.2  914.2   \n",
       "3   329  854.0 -19.883945 -43.969397  2006-12-01 09:00:00   0.0  915.0  915.0   \n",
       "4   329  854.0 -19.883945 -43.969397  2006-12-01 10:00:00   0.0  915.7  915.7   \n",
       "\n",
       "    smin  temp   ...    dmax_3  dmax_4  dmax_5  dmax_6  prcp_1  prcp_2  \\\n",
       "0  913.4  20.8   ...      20.5    20.6    20.6    20.5     0.6    12.4   \n",
       "1  913.4  20.2   ...      20.4    20.5    20.6    20.6     0.0     0.6   \n",
       "2  913.4  20.1   ...      20.1    20.4    20.5    20.6     0.0     0.0   \n",
       "3  914.2  20.7   ...      19.6    20.1    20.4    20.5     0.0     0.0   \n",
       "4  915.0  21.3   ...      19.7    19.6    20.1    20.4     0.0     0.0   \n",
       "\n",
       "   prcp_3  prcp_4  prcp_5  prcp_6  \n",
       "0     1.8     0.4     0.0     0.0  \n",
       "1    12.4     1.8     0.4     0.0  \n",
       "2     0.6    12.4     1.8     0.4  \n",
       "3     0.0     0.6    12.4     1.8  \n",
       "4     0.0     0.0     0.6    12.4  \n",
       "\n",
       "[5 rows x 123 columns]"
      ]
     },
     "execution_count": 93,
     "metadata": {},
     "output_type": "execute_result"
    }
   ],
   "source": [
    "dfm.head(5)"
   ]
  },
  {
   "cell_type": "code",
   "execution_count": 94,
   "metadata": {},
   "outputs": [
    {
     "name": "stdout",
     "output_type": "stream",
     "text": [
      "<class 'pandas.core.frame.DataFrame'>\n",
      "RangeIndex: 80142 entries, 0 to 80141\n",
      "Columns: 123 entries, wsid to prcp_6\n",
      "dtypes: float64(115), int64(1), object(7)\n",
      "memory usage: 75.2+ MB\n"
     ]
    }
   ],
   "source": [
    "dfm.info()"
   ]
  },
  {
   "cell_type": "code",
   "execution_count": 95,
   "metadata": {},
   "outputs": [],
   "source": [
    "dfm = dfm.drop('wsid',1)\n",
    "dfm = dfm.drop('mdct',1)"
   ]
  },
  {
   "cell_type": "code",
   "execution_count": 96,
   "metadata": {},
   "outputs": [
    {
     "data": {
      "text/plain": [
       "['elvt',\n",
       " 'lat',\n",
       " 'lon',\n",
       " 'prcp',\n",
       " 'stp',\n",
       " 'smax',\n",
       " 'smin',\n",
       " 'temp',\n",
       " 'dewp',\n",
       " 'tmax',\n",
       " 'dmax',\n",
       " 'tmin',\n",
       " 'dmin',\n",
       " 'hmdy',\n",
       " 'hmax',\n",
       " 'hmin',\n",
       " 'wdsp',\n",
       " 'wdct',\n",
       " 'gust',\n",
       " 'wdct_1',\n",
       " 'wdct_2',\n",
       " 'wdct_3',\n",
       " 'wdct_4',\n",
       " 'wdct_5',\n",
       " 'wdct_6',\n",
       " 'tmin_1',\n",
       " 'tmin_2',\n",
       " 'tmin_3',\n",
       " 'tmin_4',\n",
       " 'tmin_5',\n",
       " 'tmin_6',\n",
       " 'hmax_1',\n",
       " 'hmax_2',\n",
       " 'hmax_3',\n",
       " 'hmax_4',\n",
       " 'hmax_5',\n",
       " 'hmax_6',\n",
       " 'temp_1',\n",
       " 'temp_2',\n",
       " 'temp_3',\n",
       " 'temp_4',\n",
       " 'temp_5',\n",
       " 'temp_6',\n",
       " 'hmin_1',\n",
       " 'hmin_2',\n",
       " 'hmin_3',\n",
       " 'hmin_4',\n",
       " 'hmin_5',\n",
       " 'hmin_6',\n",
       " 'gust_1',\n",
       " 'gust_2',\n",
       " 'gust_3',\n",
       " 'gust_4',\n",
       " 'gust_5',\n",
       " 'gust_6',\n",
       " 'tmax_1',\n",
       " 'tmax_2',\n",
       " 'tmax_3',\n",
       " 'tmax_4',\n",
       " 'tmax_5',\n",
       " 'tmax_6',\n",
       " 'smax_1',\n",
       " 'smax_2',\n",
       " 'smax_3',\n",
       " 'smax_4',\n",
       " 'smax_5',\n",
       " 'smax_6',\n",
       " 'hmdy_1',\n",
       " 'hmdy_2',\n",
       " 'hmdy_3',\n",
       " 'hmdy_4',\n",
       " 'hmdy_5',\n",
       " 'hmdy_6',\n",
       " 'mdct_1',\n",
       " 'mdct_2',\n",
       " 'mdct_3',\n",
       " 'mdct_4',\n",
       " 'mdct_5',\n",
       " 'mdct_6',\n",
       " 'dewp_1',\n",
       " 'dewp_2',\n",
       " 'dewp_3',\n",
       " 'dewp_4',\n",
       " 'dewp_5',\n",
       " 'dewp_6',\n",
       " 'wdsp_1',\n",
       " 'wdsp_2',\n",
       " 'wdsp_3',\n",
       " 'wdsp_4',\n",
       " 'wdsp_5',\n",
       " 'wdsp_6',\n",
       " 'stp_1',\n",
       " 'stp_2',\n",
       " 'stp_3',\n",
       " 'stp_4',\n",
       " 'stp_5',\n",
       " 'stp_6',\n",
       " 'smin_1',\n",
       " 'smin_2',\n",
       " 'smin_3',\n",
       " 'smin_4',\n",
       " 'smin_5',\n",
       " 'smin_6',\n",
       " 'dmin_1',\n",
       " 'dmin_2',\n",
       " 'dmin_3',\n",
       " 'dmin_4',\n",
       " 'dmin_5',\n",
       " 'dmin_6',\n",
       " 'dmax_1',\n",
       " 'dmax_2',\n",
       " 'dmax_3',\n",
       " 'dmax_4',\n",
       " 'dmax_5',\n",
       " 'dmax_6',\n",
       " 'prcp_1',\n",
       " 'prcp_2',\n",
       " 'prcp_3',\n",
       " 'prcp_4',\n",
       " 'prcp_5',\n",
       " 'prcp_6']"
      ]
     },
     "execution_count": 96,
     "metadata": {},
     "output_type": "execute_result"
    }
   ],
   "source": [
    "list(dfm.columns)"
   ]
  },
  {
   "cell_type": "code",
   "execution_count": 97,
   "metadata": {},
   "outputs": [],
   "source": [
    "REMOVE = [u'mdct',u'mdct_1', u'mdct_2', u'mdct_3', u'mdct_4', u'mdct_5', u'mdct_6']\n",
    "for v in REMOVE:\n",
    "    if v in list(dfm.columns):\n",
    "        dfm = dfm.drop(v,1)"
   ]
  },
  {
   "cell_type": "code",
   "execution_count": 98,
   "metadata": {},
   "outputs": [
    {
     "data": {
      "text/plain": [
       "['elvt',\n",
       " 'lat',\n",
       " 'lon',\n",
       " 'prcp',\n",
       " 'stp',\n",
       " 'smax',\n",
       " 'smin',\n",
       " 'temp',\n",
       " 'dewp',\n",
       " 'tmax',\n",
       " 'dmax',\n",
       " 'tmin',\n",
       " 'dmin',\n",
       " 'hmdy',\n",
       " 'hmax',\n",
       " 'hmin',\n",
       " 'wdsp',\n",
       " 'wdct',\n",
       " 'gust',\n",
       " 'wdct_1',\n",
       " 'wdct_2',\n",
       " 'wdct_3',\n",
       " 'wdct_4',\n",
       " 'wdct_5',\n",
       " 'wdct_6',\n",
       " 'tmin_1',\n",
       " 'tmin_2',\n",
       " 'tmin_3',\n",
       " 'tmin_4',\n",
       " 'tmin_5',\n",
       " 'tmin_6',\n",
       " 'hmax_1',\n",
       " 'hmax_2',\n",
       " 'hmax_3',\n",
       " 'hmax_4',\n",
       " 'hmax_5',\n",
       " 'hmax_6',\n",
       " 'temp_1',\n",
       " 'temp_2',\n",
       " 'temp_3',\n",
       " 'temp_4',\n",
       " 'temp_5',\n",
       " 'temp_6',\n",
       " 'hmin_1',\n",
       " 'hmin_2',\n",
       " 'hmin_3',\n",
       " 'hmin_4',\n",
       " 'hmin_5',\n",
       " 'hmin_6',\n",
       " 'gust_1',\n",
       " 'gust_2',\n",
       " 'gust_3',\n",
       " 'gust_4',\n",
       " 'gust_5',\n",
       " 'gust_6',\n",
       " 'tmax_1',\n",
       " 'tmax_2',\n",
       " 'tmax_3',\n",
       " 'tmax_4',\n",
       " 'tmax_5',\n",
       " 'tmax_6',\n",
       " 'smax_1',\n",
       " 'smax_2',\n",
       " 'smax_3',\n",
       " 'smax_4',\n",
       " 'smax_5',\n",
       " 'smax_6',\n",
       " 'hmdy_1',\n",
       " 'hmdy_2',\n",
       " 'hmdy_3',\n",
       " 'hmdy_4',\n",
       " 'hmdy_5',\n",
       " 'hmdy_6',\n",
       " 'dewp_1',\n",
       " 'dewp_2',\n",
       " 'dewp_3',\n",
       " 'dewp_4',\n",
       " 'dewp_5',\n",
       " 'dewp_6',\n",
       " 'wdsp_1',\n",
       " 'wdsp_2',\n",
       " 'wdsp_3',\n",
       " 'wdsp_4',\n",
       " 'wdsp_5',\n",
       " 'wdsp_6',\n",
       " 'stp_1',\n",
       " 'stp_2',\n",
       " 'stp_3',\n",
       " 'stp_4',\n",
       " 'stp_5',\n",
       " 'stp_6',\n",
       " 'smin_1',\n",
       " 'smin_2',\n",
       " 'smin_3',\n",
       " 'smin_4',\n",
       " 'smin_5',\n",
       " 'smin_6',\n",
       " 'dmin_1',\n",
       " 'dmin_2',\n",
       " 'dmin_3',\n",
       " 'dmin_4',\n",
       " 'dmin_5',\n",
       " 'dmin_6',\n",
       " 'dmax_1',\n",
       " 'dmax_2',\n",
       " 'dmax_3',\n",
       " 'dmax_4',\n",
       " 'dmax_5',\n",
       " 'dmax_6',\n",
       " 'prcp_1',\n",
       " 'prcp_2',\n",
       " 'prcp_3',\n",
       " 'prcp_4',\n",
       " 'prcp_5',\n",
       " 'prcp_6']"
      ]
     },
     "execution_count": 98,
     "metadata": {},
     "output_type": "execute_result"
    }
   ],
   "source": [
    "list(dfm.columns)"
   ]
  },
  {
   "cell_type": "markdown",
   "metadata": {},
   "source": [
    "<h2>Mineiração dos dados</h2>"
   ]
  },
  {
   "cell_type": "markdown",
   "metadata": {},
   "source": [
    "<h3>Rede neural</h3>"
   ]
  },
  {
   "cell_type": "code",
   "execution_count": 99,
   "metadata": {},
   "outputs": [],
   "source": [
    "import tensorflow as tf  \n",
    "from sklearn.metrics import explained_variance_score, mean_absolute_error,  median_absolute_error\n",
    "from sklearn.model_selection import train_test_split "
   ]
  },
  {
   "cell_type": "code",
   "execution_count": 100,
   "metadata": {},
   "outputs": [],
   "source": [
    "target = 'temp'"
   ]
  },
  {
   "cell_type": "code",
   "execution_count": 101,
   "metadata": {},
   "outputs": [],
   "source": [
    "X =  dfm[[col for col in dfm.columns]]\n",
    "y = dfm[target]"
   ]
  },
  {
   "cell_type": "markdown",
   "metadata": {},
   "source": [
    "<p>Separando o conjunto de treinamento e validação (metade dos 10% separados para validação)</p>"
   ]
  },
  {
   "cell_type": "code",
   "execution_count": 104,
   "metadata": {},
   "outputs": [
    {
     "data": {
      "text/plain": [
       "['elvt',\n",
       " 'lat',\n",
       " 'lon',\n",
       " 'prcp',\n",
       " 'stp',\n",
       " 'smax',\n",
       " 'smin',\n",
       " 'temp',\n",
       " 'dewp',\n",
       " 'tmax',\n",
       " 'dmax',\n",
       " 'tmin',\n",
       " 'dmin',\n",
       " 'hmdy',\n",
       " 'hmax',\n",
       " 'hmin',\n",
       " 'wdsp',\n",
       " 'wdct',\n",
       " 'gust',\n",
       " 'wdct_1',\n",
       " 'wdct_2',\n",
       " 'wdct_3',\n",
       " 'wdct_4',\n",
       " 'wdct_5',\n",
       " 'wdct_6',\n",
       " 'tmin_1',\n",
       " 'tmin_2',\n",
       " 'tmin_3',\n",
       " 'tmin_4',\n",
       " 'tmin_5',\n",
       " 'tmin_6',\n",
       " 'hmax_1',\n",
       " 'hmax_2',\n",
       " 'hmax_3',\n",
       " 'hmax_4',\n",
       " 'hmax_5',\n",
       " 'hmax_6',\n",
       " 'temp_1',\n",
       " 'temp_2',\n",
       " 'temp_3',\n",
       " 'temp_4',\n",
       " 'temp_5',\n",
       " 'temp_6',\n",
       " 'hmin_1',\n",
       " 'hmin_2',\n",
       " 'hmin_3',\n",
       " 'hmin_4',\n",
       " 'hmin_5',\n",
       " 'hmin_6',\n",
       " 'gust_1',\n",
       " 'gust_2',\n",
       " 'gust_3',\n",
       " 'gust_4',\n",
       " 'gust_5',\n",
       " 'gust_6',\n",
       " 'tmax_1',\n",
       " 'tmax_2',\n",
       " 'tmax_3',\n",
       " 'tmax_4',\n",
       " 'tmax_5',\n",
       " 'tmax_6',\n",
       " 'smax_1',\n",
       " 'smax_2',\n",
       " 'smax_3',\n",
       " 'smax_4',\n",
       " 'smax_5',\n",
       " 'smax_6',\n",
       " 'hmdy_1',\n",
       " 'hmdy_2',\n",
       " 'hmdy_3',\n",
       " 'hmdy_4',\n",
       " 'hmdy_5',\n",
       " 'hmdy_6',\n",
       " 'dewp_1',\n",
       " 'dewp_2',\n",
       " 'dewp_3',\n",
       " 'dewp_4',\n",
       " 'dewp_5',\n",
       " 'dewp_6',\n",
       " 'wdsp_1',\n",
       " 'wdsp_2',\n",
       " 'wdsp_3',\n",
       " 'wdsp_4',\n",
       " 'wdsp_5',\n",
       " 'wdsp_6',\n",
       " 'stp_1',\n",
       " 'stp_2',\n",
       " 'stp_3',\n",
       " 'stp_4',\n",
       " 'stp_5',\n",
       " 'stp_6',\n",
       " 'smin_1',\n",
       " 'smin_2',\n",
       " 'smin_3',\n",
       " 'smin_4',\n",
       " 'smin_5',\n",
       " 'smin_6',\n",
       " 'dmin_1',\n",
       " 'dmin_2',\n",
       " 'dmin_3',\n",
       " 'dmin_4',\n",
       " 'dmin_5',\n",
       " 'dmin_6',\n",
       " 'dmax_1',\n",
       " 'dmax_2',\n",
       " 'dmax_3',\n",
       " 'dmax_4',\n",
       " 'dmax_5',\n",
       " 'dmax_6',\n",
       " 'prcp_1',\n",
       " 'prcp_2',\n",
       " 'prcp_3',\n",
       " 'prcp_4',\n",
       " 'prcp_5',\n",
       " 'prcp_6']"
      ]
     },
     "execution_count": 104,
     "metadata": {},
     "output_type": "execute_result"
    }
   ],
   "source": [
    "list(X.columns)"
   ]
  },
  {
   "cell_type": "code",
   "execution_count": 105,
   "metadata": {},
   "outputs": [
    {
     "name": "stdout",
     "output_type": "stream",
     "text": [
      "72127\n",
      "8015\n"
     ]
    }
   ],
   "source": [
    "X_train, X_tmp, y_train, y_tmp = train_test_split(X, y, test_size=0.1, random_state=12) \n",
    "print len(X_train)\n",
    "print len(X_tmp)"
   ]
  },
  {
   "cell_type": "markdown",
   "metadata": {},
   "source": [
    "<p>Separando o conjunto de testes</p>"
   ]
  },
  {
   "cell_type": "code",
   "execution_count": 106,
   "metadata": {},
   "outputs": [],
   "source": [
    "X_test, X_val, y_test, y_val = train_test_split(X_tmp, y_tmp, test_size=0.2)"
   ]
  },
  {
   "cell_type": "code",
   "execution_count": 107,
   "metadata": {},
   "outputs": [
    {
     "name": "stdout",
     "output_type": "stream",
     "text": [
      "Training instances   72127, Training features   115\n",
      "Validation instances 1603, Validation features 115\n",
      "Testing instances    6412, Testing features    115\n"
     ]
    }
   ],
   "source": [
    "X_train.shape, X_test.shape, X_val.shape  \n",
    "print(\"Training instances   {}, Training features   {}\".format(X_train.shape[0], X_train.shape[1]))  \n",
    "print(\"Validation instances {}, Validation features {}\".format(X_val.shape[0], X_val.shape[1]))  \n",
    "print(\"Testing instances    {}, Testing features    {}\".format(X_test.shape[0], X_test.shape[1]))  "
   ]
  },
  {
   "cell_type": "code",
   "execution_count": 108,
   "metadata": {},
   "outputs": [],
   "source": [
    "# Zarate instructions\n",
    "st_units = (X_train.shape[1] * 2) + 1\n",
    "sd_units = X_train.shape[1] \n",
    "#activation_fn = tf.sigmoid\n",
    "batch_size = 1000\n",
    "up = int(len(X_train)/batch_size)"
   ]
  },
  {
   "cell_type": "code",
   "execution_count": 109,
   "metadata": {},
   "outputs": [],
   "source": [
    "Z = X.copy()\n",
    "Z.pop(target)\n",
    "feature_cols = [tf.feature_column.numeric_column(col) for col in Z.columns] "
   ]
  },
  {
   "cell_type": "code",
   "execution_count": 111,
   "metadata": {},
   "outputs": [
    {
     "name": "stdout",
     "output_type": "stream",
     "text": [
      "INFO:tensorflow:Using default config.\n",
      "INFO:tensorflow:Using config: {'_save_checkpoints_secs': 600, '_session_config': None, '_keep_checkpoint_max': 5, '_task_type': 'worker', '_is_chief': True, '_cluster_spec': <tensorflow.python.training.server_lib.ClusterSpec object at 0x1152b40d0>, '_save_checkpoints_steps': None, '_keep_checkpoint_every_n_hours': 10000, '_service': None, '_num_ps_replicas': 0, '_tf_random_seed': None, '_master': '', '_num_worker_replicas': 1, '_task_id': 0, '_log_step_count_steps': 100, '_model_dir': '/tmp/tf_model_04', '_save_summary_steps': 100}\n"
     ]
    }
   ],
   "source": [
    "regressor = tf.estimator.DNNRegressor(feature_columns=feature_cols\n",
    "                                      ,hidden_units=[st_units,sd_units]\n",
    "                                      #,activation_fn=activation_fn\n",
    "                                      ,model_dir='/tmp/tf_model_04')"
   ]
  },
  {
   "cell_type": "code",
   "execution_count": 112,
   "metadata": {},
   "outputs": [],
   "source": [
    "def wx_input_fn(X, y=None, num_epochs=None, shuffle=True, batch_size=batch_size):      \n",
    "    return tf.estimator.inputs.pandas_input_fn(x=X,\n",
    "                                               y=y,\n",
    "                                               num_epochs=num_epochs,\n",
    "                                               shuffle=shuffle,\n",
    "                                               batch_size=batch_size)"
   ]
  },
  {
   "cell_type": "code",
   "execution_count": 113,
   "metadata": {},
   "outputs": [
    {
     "name": "stdout",
     "output_type": "stream",
     "text": [
      "INFO:tensorflow:Create CheckpointSaverHook.\n",
      "INFO:tensorflow:Saving checkpoints for 1 into /tmp/tf_model_04/model.ckpt.\n",
      "INFO:tensorflow:loss = 1657894.6, step = 1\n",
      "INFO:tensorflow:global_step/sec: 4.54442\n",
      "INFO:tensorflow:loss = 57150.664, step = 101 (22.006 sec)\n",
      "INFO:tensorflow:global_step/sec: 3.66999\n",
      "INFO:tensorflow:loss = 47606.113, step = 201 (27.248 sec)\n",
      "INFO:tensorflow:global_step/sec: 4.38326\n",
      "INFO:tensorflow:loss = 42603.77, step = 301 (22.814 sec)\n",
      "INFO:tensorflow:global_step/sec: 4.43261\n",
      "INFO:tensorflow:loss = 36812.6, step = 401 (22.559 sec)\n",
      "INFO:tensorflow:Saving checkpoints for 500 into /tmp/tf_model_04/model.ckpt.\n",
      "INFO:tensorflow:Loss for final step: 32062.465.\n",
      "INFO:tensorflow:Starting evaluation at 2018-04-06-12:29:04\n",
      "INFO:tensorflow:Restoring parameters from /tmp/tf_model_04/model.ckpt-500\n",
      "INFO:tensorflow:Finished evaluation at 2018-04-06-12:29:06\n",
      "INFO:tensorflow:Saving dict for global step 500: average_loss = 31.5535, global_step = 500, loss = 25290.129\n",
      "INFO:tensorflow:Create CheckpointSaverHook.\n",
      "INFO:tensorflow:Restoring parameters from /tmp/tf_model_04/model.ckpt-500\n",
      "INFO:tensorflow:Saving checkpoints for 501 into /tmp/tf_model_04/model.ckpt.\n",
      "INFO:tensorflow:loss = 32529.488, step = 501\n",
      "INFO:tensorflow:global_step/sec: 4.93967\n",
      "INFO:tensorflow:loss = 30695.848, step = 601 (20.245 sec)\n",
      "INFO:tensorflow:global_step/sec: 7.50636\n",
      "INFO:tensorflow:loss = 27836.457, step = 701 (13.323 sec)\n",
      "INFO:tensorflow:global_step/sec: 7.95582\n",
      "INFO:tensorflow:loss = 26384.299, step = 801 (12.569 sec)\n",
      "INFO:tensorflow:global_step/sec: 7.82044\n",
      "INFO:tensorflow:loss = 25145.354, step = 901 (12.787 sec)\n",
      "INFO:tensorflow:Saving checkpoints for 1000 into /tmp/tf_model_04/model.ckpt.\n",
      "INFO:tensorflow:Loss for final step: 23496.625.\n",
      "INFO:tensorflow:Starting evaluation at 2018-04-06-12:30:36\n",
      "INFO:tensorflow:Restoring parameters from /tmp/tf_model_04/model.ckpt-1000\n",
      "INFO:tensorflow:Finished evaluation at 2018-04-06-12:30:38\n",
      "INFO:tensorflow:Saving dict for global step 1000: average_loss = 21.93656, global_step = 1000, loss = 17582.152\n",
      "INFO:tensorflow:Create CheckpointSaverHook.\n",
      "INFO:tensorflow:Restoring parameters from /tmp/tf_model_04/model.ckpt-1000\n",
      "INFO:tensorflow:Saving checkpoints for 1001 into /tmp/tf_model_04/model.ckpt.\n",
      "INFO:tensorflow:loss = 24449.846, step = 1001\n",
      "INFO:tensorflow:global_step/sec: 6.22683\n",
      "INFO:tensorflow:loss = 21833.797, step = 1101 (16.061 sec)\n",
      "INFO:tensorflow:global_step/sec: 7.49621\n",
      "INFO:tensorflow:loss = 21124.453, step = 1201 (13.339 sec)\n",
      "INFO:tensorflow:global_step/sec: 7.05097\n",
      "INFO:tensorflow:loss = 19081.637, step = 1301 (14.182 sec)\n",
      "INFO:tensorflow:global_step/sec: 8.05663\n",
      "INFO:tensorflow:loss = 22004.52, step = 1401 (12.412 sec)\n",
      "INFO:tensorflow:Saving checkpoints for 1500 into /tmp/tf_model_04/model.ckpt.\n",
      "INFO:tensorflow:Loss for final step: 20794.602.\n",
      "INFO:tensorflow:Starting evaluation at 2018-04-06-12:32:02\n",
      "INFO:tensorflow:Restoring parameters from /tmp/tf_model_04/model.ckpt-1500\n",
      "INFO:tensorflow:Finished evaluation at 2018-04-06-12:32:04\n",
      "INFO:tensorflow:Saving dict for global step 1500: average_loss = 17.993826, global_step = 1500, loss = 14422.052\n",
      "INFO:tensorflow:Create CheckpointSaverHook.\n",
      "INFO:tensorflow:Restoring parameters from /tmp/tf_model_04/model.ckpt-1500\n",
      "INFO:tensorflow:Saving checkpoints for 1501 into /tmp/tf_model_04/model.ckpt.\n",
      "INFO:tensorflow:loss = 18931.633, step = 1501\n",
      "INFO:tensorflow:global_step/sec: 7.40467\n",
      "INFO:tensorflow:loss = 18838.82, step = 1601 (13.506 sec)\n",
      "INFO:tensorflow:global_step/sec: 8.09816\n",
      "INFO:tensorflow:loss = 17035.418, step = 1701 (12.349 sec)\n",
      "INFO:tensorflow:global_step/sec: 8.08233\n",
      "INFO:tensorflow:loss = 16722.957, step = 1801 (12.379 sec)\n",
      "INFO:tensorflow:global_step/sec: 8.21881\n",
      "INFO:tensorflow:loss = 13050.935, step = 1901 (12.161 sec)\n",
      "INFO:tensorflow:Saving checkpoints for 2000 into /tmp/tf_model_04/model.ckpt.\n",
      "INFO:tensorflow:Loss for final step: 9632.548.\n",
      "INFO:tensorflow:Starting evaluation at 2018-04-06-12:33:23\n",
      "INFO:tensorflow:Restoring parameters from /tmp/tf_model_04/model.ckpt-2000\n",
      "INFO:tensorflow:Finished evaluation at 2018-04-06-12:33:25\n",
      "INFO:tensorflow:Saving dict for global step 2000: average_loss = 10.518756, global_step = 2000, loss = 8430.783\n",
      "INFO:tensorflow:Create CheckpointSaverHook.\n",
      "INFO:tensorflow:Restoring parameters from /tmp/tf_model_04/model.ckpt-2000\n",
      "INFO:tensorflow:Saving checkpoints for 2001 into /tmp/tf_model_04/model.ckpt.\n",
      "INFO:tensorflow:loss = 11018.32, step = 2001\n",
      "INFO:tensorflow:global_step/sec: 7.29891\n",
      "INFO:tensorflow:loss = 10546.404, step = 2101 (13.701 sec)\n",
      "INFO:tensorflow:global_step/sec: 6.56218\n",
      "INFO:tensorflow:loss = 9220.979, step = 2201 (15.239 sec)\n",
      "INFO:tensorflow:global_step/sec: 8.05766\n",
      "INFO:tensorflow:loss = 7975.8247, step = 2301 (12.413 sec)\n",
      "INFO:tensorflow:global_step/sec: 7.13762\n",
      "INFO:tensorflow:loss = 8095.5947, step = 2401 (14.009 sec)\n",
      "INFO:tensorflow:Saving checkpoints for 2500 into /tmp/tf_model_04/model.ckpt.\n",
      "INFO:tensorflow:Loss for final step: 6430.832.\n",
      "INFO:tensorflow:Starting evaluation at 2018-04-06-12:34:52\n",
      "INFO:tensorflow:Restoring parameters from /tmp/tf_model_04/model.ckpt-2500\n",
      "INFO:tensorflow:Finished evaluation at 2018-04-06-12:34:53\n",
      "INFO:tensorflow:Saving dict for global step 2500: average_loss = 6.8901424, global_step = 2500, loss = 5522.449\n",
      "INFO:tensorflow:Create CheckpointSaverHook.\n",
      "INFO:tensorflow:Restoring parameters from /tmp/tf_model_04/model.ckpt-2500\n",
      "INFO:tensorflow:Saving checkpoints for 2501 into /tmp/tf_model_04/model.ckpt.\n",
      "INFO:tensorflow:loss = 7185.901, step = 2501\n",
      "INFO:tensorflow:global_step/sec: 5.90629\n",
      "INFO:tensorflow:loss = 6518.801, step = 2601 (16.932 sec)\n",
      "INFO:tensorflow:global_step/sec: 6.69571\n",
      "INFO:tensorflow:loss = 6352.8647, step = 2701 (14.935 sec)\n",
      "INFO:tensorflow:global_step/sec: 6.82071\n",
      "INFO:tensorflow:loss = 4692.202, step = 2801 (14.661 sec)\n",
      "INFO:tensorflow:global_step/sec: 7.88413\n",
      "INFO:tensorflow:loss = 4298.5986, step = 2901 (12.684 sec)\n",
      "INFO:tensorflow:Saving checkpoints for 3000 into /tmp/tf_model_04/model.ckpt.\n",
      "INFO:tensorflow:Loss for final step: 6092.7676.\n",
      "INFO:tensorflow:Starting evaluation at 2018-04-06-12:36:22\n",
      "INFO:tensorflow:Restoring parameters from /tmp/tf_model_04/model.ckpt-3000\n",
      "INFO:tensorflow:Finished evaluation at 2018-04-06-12:36:24\n",
      "INFO:tensorflow:Saving dict for global step 3000: average_loss = 6.3972764, global_step = 3000, loss = 5127.417\n",
      "INFO:tensorflow:Create CheckpointSaverHook.\n",
      "INFO:tensorflow:Restoring parameters from /tmp/tf_model_04/model.ckpt-3000\n",
      "INFO:tensorflow:Saving checkpoints for 3001 into /tmp/tf_model_04/model.ckpt.\n",
      "INFO:tensorflow:loss = 6363.347, step = 3001\n",
      "INFO:tensorflow:global_step/sec: 8.24301\n",
      "INFO:tensorflow:loss = 4913.448, step = 3101 (12.134 sec)\n",
      "INFO:tensorflow:global_step/sec: 8.38696\n",
      "INFO:tensorflow:loss = 4435.3774, step = 3201 (11.923 sec)\n",
      "INFO:tensorflow:global_step/sec: 8.42213\n",
      "INFO:tensorflow:loss = 4142.457, step = 3301 (11.882 sec)\n",
      "INFO:tensorflow:global_step/sec: 8.29163\n",
      "INFO:tensorflow:loss = 4056.7578, step = 3401 (12.052 sec)\n",
      "INFO:tensorflow:Saving checkpoints for 3500 into /tmp/tf_model_04/model.ckpt.\n",
      "INFO:tensorflow:Loss for final step: 2896.4355.\n",
      "INFO:tensorflow:Starting evaluation at 2018-04-06-12:37:39\n",
      "INFO:tensorflow:Restoring parameters from /tmp/tf_model_04/model.ckpt-3500\n",
      "INFO:tensorflow:Finished evaluation at 2018-04-06-12:37:41\n",
      "INFO:tensorflow:Saving dict for global step 3500: average_loss = 3.0203373, global_step = 3500, loss = 2420.8003\n",
      "INFO:tensorflow:Create CheckpointSaverHook.\n",
      "INFO:tensorflow:Restoring parameters from /tmp/tf_model_04/model.ckpt-3500\n",
      "INFO:tensorflow:Saving checkpoints for 3501 into /tmp/tf_model_04/model.ckpt.\n",
      "INFO:tensorflow:loss = 3385.3337, step = 3501\n",
      "INFO:tensorflow:global_step/sec: 6.84871\n",
      "INFO:tensorflow:loss = 3143.1128, step = 3601 (14.602 sec)\n",
      "INFO:tensorflow:global_step/sec: 7.56623\n",
      "INFO:tensorflow:loss = 3906.575, step = 3701 (13.217 sec)\n",
      "INFO:tensorflow:global_step/sec: 5.27233\n",
      "INFO:tensorflow:loss = 2845.4114, step = 3801 (18.966 sec)\n",
      "INFO:tensorflow:global_step/sec: 7.18805\n",
      "INFO:tensorflow:loss = 2633.2651, step = 3901 (13.912 sec)\n",
      "INFO:tensorflow:Saving checkpoints for 4000 into /tmp/tf_model_04/model.ckpt.\n",
      "INFO:tensorflow:Loss for final step: 3782.623.\n",
      "INFO:tensorflow:Starting evaluation at 2018-04-06-12:39:11\n"
     ]
    },
    {
     "name": "stdout",
     "output_type": "stream",
     "text": [
      "INFO:tensorflow:Restoring parameters from /tmp/tf_model_04/model.ckpt-4000\n",
      "INFO:tensorflow:Finished evaluation at 2018-04-06-12:39:12\n",
      "INFO:tensorflow:Saving dict for global step 4000: average_loss = 3.935141, global_step = 4000, loss = 3154.0156\n",
      "INFO:tensorflow:Create CheckpointSaverHook.\n",
      "INFO:tensorflow:Restoring parameters from /tmp/tf_model_04/model.ckpt-4000\n",
      "INFO:tensorflow:Saving checkpoints for 4001 into /tmp/tf_model_04/model.ckpt.\n",
      "INFO:tensorflow:loss = 3963.0132, step = 4001\n",
      "INFO:tensorflow:global_step/sec: 7.67528\n",
      "INFO:tensorflow:loss = 3020.9463, step = 4101 (13.030 sec)\n",
      "INFO:tensorflow:global_step/sec: 6.34425\n",
      "INFO:tensorflow:loss = 2525.3962, step = 4201 (15.762 sec)\n",
      "INFO:tensorflow:global_step/sec: 5.18207\n",
      "INFO:tensorflow:loss = 4301.025, step = 4301 (19.297 sec)\n",
      "INFO:tensorflow:global_step/sec: 4.43728\n",
      "INFO:tensorflow:loss = 2531.898, step = 4401 (22.536 sec)\n",
      "INFO:tensorflow:Saving checkpoints for 4500 into /tmp/tf_model_04/model.ckpt.\n",
      "INFO:tensorflow:Loss for final step: 2731.7231.\n",
      "INFO:tensorflow:Starting evaluation at 2018-04-06-12:41:01\n",
      "INFO:tensorflow:Restoring parameters from /tmp/tf_model_04/model.ckpt-4500\n",
      "INFO:tensorflow:Finished evaluation at 2018-04-06-12:41:04\n",
      "INFO:tensorflow:Saving dict for global step 4500: average_loss = 2.7855015, global_step = 4500, loss = 2232.5793\n",
      "INFO:tensorflow:Create CheckpointSaverHook.\n",
      "INFO:tensorflow:Restoring parameters from /tmp/tf_model_04/model.ckpt-4500\n",
      "INFO:tensorflow:Saving checkpoints for 4501 into /tmp/tf_model_04/model.ckpt.\n",
      "INFO:tensorflow:loss = 2892.3298, step = 4501\n",
      "INFO:tensorflow:global_step/sec: 3.35822\n",
      "INFO:tensorflow:loss = 3199.0767, step = 4601 (29.779 sec)\n",
      "INFO:tensorflow:global_step/sec: 2.62898\n",
      "INFO:tensorflow:loss = 2995.1223, step = 4701 (38.038 sec)\n",
      "INFO:tensorflow:global_step/sec: 3.76135\n",
      "INFO:tensorflow:loss = 2286.519, step = 4801 (26.587 sec)\n",
      "INFO:tensorflow:global_step/sec: 2.75436\n",
      "INFO:tensorflow:loss = 2485.1724, step = 4901 (36.306 sec)\n",
      "INFO:tensorflow:Saving checkpoints for 5000 into /tmp/tf_model_04/model.ckpt.\n",
      "INFO:tensorflow:Loss for final step: 3073.2988.\n",
      "INFO:tensorflow:Starting evaluation at 2018-04-06-12:44:04\n",
      "INFO:tensorflow:Restoring parameters from /tmp/tf_model_04/model.ckpt-5000\n",
      "INFO:tensorflow:Finished evaluation at 2018-04-06-12:44:06\n",
      "INFO:tensorflow:Saving dict for global step 5000: average_loss = 2.8637154, global_step = 5000, loss = 2295.2678\n",
      "INFO:tensorflow:Create CheckpointSaverHook.\n",
      "INFO:tensorflow:Restoring parameters from /tmp/tf_model_04/model.ckpt-5000\n",
      "INFO:tensorflow:Saving checkpoints for 5001 into /tmp/tf_model_04/model.ckpt.\n",
      "INFO:tensorflow:loss = 2740.5356, step = 5001\n",
      "INFO:tensorflow:global_step/sec: 4.13297\n",
      "INFO:tensorflow:loss = 2297.0151, step = 5101 (24.197 sec)\n",
      "INFO:tensorflow:global_step/sec: 3.21624\n",
      "INFO:tensorflow:loss = 2768.0247, step = 5201 (31.093 sec)\n",
      "INFO:tensorflow:global_step/sec: 4.6437\n",
      "INFO:tensorflow:loss = 2271.3584, step = 5301 (21.534 sec)\n",
      "INFO:tensorflow:global_step/sec: 4.1415\n",
      "INFO:tensorflow:loss = 2305.8154, step = 5401 (24.146 sec)\n",
      "INFO:tensorflow:Saving checkpoints for 5500 into /tmp/tf_model_04/model.ckpt.\n",
      "INFO:tensorflow:Loss for final step: 3124.483.\n",
      "INFO:tensorflow:Starting evaluation at 2018-04-06-12:46:30\n",
      "INFO:tensorflow:Restoring parameters from /tmp/tf_model_04/model.ckpt-5500\n",
      "INFO:tensorflow:Finished evaluation at 2018-04-06-12:46:32\n",
      "INFO:tensorflow:Saving dict for global step 5500: average_loss = 2.9894705, global_step = 5500, loss = 2396.0605\n",
      "INFO:tensorflow:Create CheckpointSaverHook.\n",
      "INFO:tensorflow:Restoring parameters from /tmp/tf_model_04/model.ckpt-5500\n",
      "INFO:tensorflow:Saving checkpoints for 5501 into /tmp/tf_model_04/model.ckpt.\n",
      "INFO:tensorflow:loss = 2898.7107, step = 5501\n",
      "INFO:tensorflow:global_step/sec: 2.5668\n",
      "INFO:tensorflow:loss = 2069.3433, step = 5601 (38.961 sec)\n",
      "INFO:tensorflow:global_step/sec: 5.2766\n",
      "INFO:tensorflow:loss = 2272.3674, step = 5701 (18.952 sec)\n",
      "INFO:tensorflow:global_step/sec: 3.33876\n",
      "INFO:tensorflow:loss = 2231.9707, step = 5801 (29.951 sec)\n",
      "INFO:tensorflow:global_step/sec: 3.16422\n",
      "INFO:tensorflow:loss = 2137.1013, step = 5901 (31.604 sec)\n",
      "INFO:tensorflow:Saving checkpoints for 6000 into /tmp/tf_model_04/model.ckpt.\n",
      "INFO:tensorflow:Loss for final step: 2720.7683.\n",
      "INFO:tensorflow:Starting evaluation at 2018-04-06-12:49:19\n",
      "INFO:tensorflow:Restoring parameters from /tmp/tf_model_04/model.ckpt-6000\n",
      "INFO:tensorflow:Finished evaluation at 2018-04-06-12:49:21\n",
      "INFO:tensorflow:Saving dict for global step 6000: average_loss = 2.5379653, global_step = 6000, loss = 2034.1792\n",
      "INFO:tensorflow:Create CheckpointSaverHook.\n",
      "INFO:tensorflow:Restoring parameters from /tmp/tf_model_04/model.ckpt-6000\n",
      "INFO:tensorflow:Saving checkpoints for 6001 into /tmp/tf_model_04/model.ckpt.\n",
      "INFO:tensorflow:loss = 2525.734, step = 6001\n",
      "INFO:tensorflow:global_step/sec: 3.37375\n",
      "INFO:tensorflow:loss = 4498.1245, step = 6101 (29.642 sec)\n",
      "INFO:tensorflow:global_step/sec: 4.23832\n",
      "INFO:tensorflow:loss = 2110.5647, step = 6201 (23.594 sec)\n",
      "INFO:tensorflow:global_step/sec: 6.62706\n",
      "INFO:tensorflow:loss = 2146.97, step = 6301 (15.093 sec)\n",
      "INFO:tensorflow:global_step/sec: 7.35733\n",
      "INFO:tensorflow:loss = 2418.4653, step = 6401 (13.588 sec)\n",
      "INFO:tensorflow:Saving checkpoints for 6500 into /tmp/tf_model_04/model.ckpt.\n",
      "INFO:tensorflow:Loss for final step: 2424.1157.\n",
      "INFO:tensorflow:Starting evaluation at 2018-04-06-12:51:18\n",
      "INFO:tensorflow:Restoring parameters from /tmp/tf_model_04/model.ckpt-6500\n",
      "INFO:tensorflow:Finished evaluation at 2018-04-06-12:51:20\n",
      "INFO:tensorflow:Saving dict for global step 6500: average_loss = 2.3470633, global_step = 6500, loss = 1881.1711\n",
      "INFO:tensorflow:Create CheckpointSaverHook.\n",
      "INFO:tensorflow:Restoring parameters from /tmp/tf_model_04/model.ckpt-6500\n",
      "INFO:tensorflow:Saving checkpoints for 6501 into /tmp/tf_model_04/model.ckpt.\n",
      "INFO:tensorflow:loss = 2455.6685, step = 6501\n",
      "INFO:tensorflow:global_step/sec: 7.90679\n",
      "INFO:tensorflow:loss = 2808.6187, step = 6601 (12.649 sec)\n",
      "INFO:tensorflow:global_step/sec: 7.22884\n",
      "INFO:tensorflow:loss = 2047.8276, step = 6701 (13.834 sec)\n",
      "INFO:tensorflow:global_step/sec: 7.82766\n",
      "INFO:tensorflow:loss = 2305.8384, step = 6801 (12.775 sec)\n",
      "INFO:tensorflow:global_step/sec: 8.23985\n",
      "INFO:tensorflow:loss = 2582.3096, step = 6901 (12.136 sec)\n",
      "INFO:tensorflow:Saving checkpoints for 7000 into /tmp/tf_model_04/model.ckpt.\n",
      "INFO:tensorflow:Loss for final step: 1969.1406.\n",
      "INFO:tensorflow:Starting evaluation at 2018-04-06-12:52:40\n",
      "INFO:tensorflow:Restoring parameters from /tmp/tf_model_04/model.ckpt-7000\n",
      "INFO:tensorflow:Finished evaluation at 2018-04-06-12:52:42\n",
      "INFO:tensorflow:Saving dict for global step 7000: average_loss = 1.9689552, global_step = 7000, loss = 1578.1176\n",
      "INFO:tensorflow:Create CheckpointSaverHook.\n",
      "INFO:tensorflow:Restoring parameters from /tmp/tf_model_04/model.ckpt-7000\n",
      "INFO:tensorflow:Saving checkpoints for 7001 into /tmp/tf_model_04/model.ckpt.\n",
      "INFO:tensorflow:loss = 1962.8413, step = 7001\n",
      "INFO:tensorflow:global_step/sec: 6.01753\n",
      "INFO:tensorflow:loss = 2090.1816, step = 7101 (16.619 sec)\n",
      "INFO:tensorflow:global_step/sec: 5.56737\n",
      "INFO:tensorflow:loss = 2072.5737, step = 7201 (17.962 sec)\n",
      "INFO:tensorflow:global_step/sec: 5.53159\n",
      "INFO:tensorflow:loss = 2132.0571, step = 7301 (18.078 sec)\n",
      "INFO:tensorflow:global_step/sec: 6.00876\n",
      "INFO:tensorflow:loss = 3162.62, step = 7401 (16.642 sec)\n",
      "INFO:tensorflow:Saving checkpoints for 7500 into /tmp/tf_model_04/model.ckpt.\n",
      "INFO:tensorflow:Loss for final step: 2018.8854.\n",
      "INFO:tensorflow:Starting evaluation at 2018-04-06-12:54:24\n",
      "INFO:tensorflow:Restoring parameters from /tmp/tf_model_04/model.ckpt-7500\n",
      "INFO:tensorflow:Finished evaluation at 2018-04-06-12:54:25\n",
      "INFO:tensorflow:Saving dict for global step 7500: average_loss = 2.0782897, global_step = 7500, loss = 1665.7493\n",
      "INFO:tensorflow:Create CheckpointSaverHook.\n",
      "INFO:tensorflow:Restoring parameters from /tmp/tf_model_04/model.ckpt-7500\n",
      "INFO:tensorflow:Saving checkpoints for 7501 into /tmp/tf_model_04/model.ckpt.\n",
      "INFO:tensorflow:loss = 2088.0447, step = 7501\n",
      "INFO:tensorflow:global_step/sec: 5.92403\n",
      "INFO:tensorflow:loss = 2875.1333, step = 7601 (16.881 sec)\n",
      "INFO:tensorflow:global_step/sec: 5.09493\n",
      "INFO:tensorflow:loss = 1955.7444, step = 7701 (19.627 sec)\n"
     ]
    },
    {
     "name": "stdout",
     "output_type": "stream",
     "text": [
      "INFO:tensorflow:global_step/sec: 5.00178\n",
      "INFO:tensorflow:loss = 2591.3345, step = 7801 (19.993 sec)\n",
      "INFO:tensorflow:global_step/sec: 4.27142\n",
      "INFO:tensorflow:loss = 1713.8436, step = 7901 (23.411 sec)\n",
      "INFO:tensorflow:Saving checkpoints for 8000 into /tmp/tf_model_04/model.ckpt.\n",
      "INFO:tensorflow:Loss for final step: 1965.5525.\n",
      "INFO:tensorflow:Starting evaluation at 2018-04-06-12:56:16\n",
      "INFO:tensorflow:Restoring parameters from /tmp/tf_model_04/model.ckpt-8000\n",
      "INFO:tensorflow:Finished evaluation at 2018-04-06-12:56:17\n",
      "INFO:tensorflow:Saving dict for global step 8000: average_loss = 2.0036416, global_step = 8000, loss = 1605.9188\n",
      "INFO:tensorflow:Create CheckpointSaverHook.\n",
      "INFO:tensorflow:Restoring parameters from /tmp/tf_model_04/model.ckpt-8000\n",
      "INFO:tensorflow:Saving checkpoints for 8001 into /tmp/tf_model_04/model.ckpt.\n",
      "INFO:tensorflow:loss = 1973.3385, step = 8001\n",
      "INFO:tensorflow:global_step/sec: 7.17479\n",
      "INFO:tensorflow:loss = 1692.9674, step = 8101 (13.939 sec)\n",
      "INFO:tensorflow:global_step/sec: 6.92822\n",
      "INFO:tensorflow:loss = 1851.4392, step = 8201 (14.434 sec)\n",
      "INFO:tensorflow:global_step/sec: 6.76741\n",
      "INFO:tensorflow:loss = 2234.8977, step = 8301 (14.777 sec)\n",
      "INFO:tensorflow:global_step/sec: 5.90428\n",
      "INFO:tensorflow:loss = 2022.9114, step = 8401 (16.937 sec)\n",
      "INFO:tensorflow:Saving checkpoints for 8500 into /tmp/tf_model_04/model.ckpt.\n",
      "INFO:tensorflow:Loss for final step: 1447.4741.\n",
      "INFO:tensorflow:Starting evaluation at 2018-04-06-12:57:49\n",
      "INFO:tensorflow:Restoring parameters from /tmp/tf_model_04/model.ckpt-8500\n",
      "INFO:tensorflow:Finished evaluation at 2018-04-06-12:57:51\n",
      "INFO:tensorflow:Saving dict for global step 8500: average_loss = 1.5668516, global_step = 8500, loss = 1255.8315\n",
      "INFO:tensorflow:Create CheckpointSaverHook.\n",
      "INFO:tensorflow:Restoring parameters from /tmp/tf_model_04/model.ckpt-8500\n",
      "INFO:tensorflow:Saving checkpoints for 8501 into /tmp/tf_model_04/model.ckpt.\n",
      "INFO:tensorflow:loss = 1624.9631, step = 8501\n",
      "INFO:tensorflow:global_step/sec: 7.85023\n",
      "INFO:tensorflow:loss = 4164.6104, step = 8601 (12.740 sec)\n",
      "INFO:tensorflow:global_step/sec: 7.91149\n",
      "INFO:tensorflow:loss = 1986.3022, step = 8701 (12.640 sec)\n",
      "INFO:tensorflow:global_step/sec: 7.83052\n",
      "INFO:tensorflow:loss = 1608.1462, step = 8801 (12.771 sec)\n",
      "INFO:tensorflow:global_step/sec: 7.89987\n",
      "INFO:tensorflow:loss = 1759.3164, step = 8901 (12.658 sec)\n",
      "INFO:tensorflow:Saving checkpoints for 9000 into /tmp/tf_model_04/model.ckpt.\n",
      "INFO:tensorflow:Loss for final step: 2341.6072.\n",
      "INFO:tensorflow:Starting evaluation at 2018-04-06-12:59:11\n",
      "INFO:tensorflow:Restoring parameters from /tmp/tf_model_04/model.ckpt-9000\n",
      "INFO:tensorflow:Finished evaluation at 2018-04-06-12:59:13\n",
      "INFO:tensorflow:Saving dict for global step 9000: average_loss = 2.4831018, global_step = 9000, loss = 1990.206\n",
      "INFO:tensorflow:Create CheckpointSaverHook.\n",
      "INFO:tensorflow:Restoring parameters from /tmp/tf_model_04/model.ckpt-9000\n",
      "INFO:tensorflow:Saving checkpoints for 9001 into /tmp/tf_model_04/model.ckpt.\n",
      "INFO:tensorflow:loss = 2474.0356, step = 9001\n",
      "INFO:tensorflow:global_step/sec: 6.92205\n",
      "INFO:tensorflow:loss = 1406.7405, step = 9101 (14.448 sec)\n",
      "INFO:tensorflow:global_step/sec: 6.58068\n",
      "INFO:tensorflow:loss = 2175.3271, step = 9201 (15.196 sec)\n",
      "INFO:tensorflow:global_step/sec: 7.61869\n",
      "INFO:tensorflow:loss = 2082.7393, step = 9301 (13.131 sec)\n",
      "INFO:tensorflow:global_step/sec: 7.83936\n",
      "INFO:tensorflow:loss = 2238.1855, step = 9401 (12.751 sec)\n",
      "INFO:tensorflow:Saving checkpoints for 9500 into /tmp/tf_model_04/model.ckpt.\n",
      "INFO:tensorflow:Loss for final step: 1508.3313.\n",
      "INFO:tensorflow:Starting evaluation at 2018-04-06-13:00:37\n",
      "INFO:tensorflow:Restoring parameters from /tmp/tf_model_04/model.ckpt-9500\n",
      "INFO:tensorflow:Finished evaluation at 2018-04-06-13:00:38\n",
      "INFO:tensorflow:Saving dict for global step 9500: average_loss = 1.4956188, global_step = 9500, loss = 1198.7385\n",
      "INFO:tensorflow:Create CheckpointSaverHook.\n",
      "INFO:tensorflow:Restoring parameters from /tmp/tf_model_04/model.ckpt-9500\n",
      "INFO:tensorflow:Saving checkpoints for 9501 into /tmp/tf_model_04/model.ckpt.\n",
      "INFO:tensorflow:loss = 1691.5171, step = 9501\n",
      "INFO:tensorflow:global_step/sec: 8.08526\n",
      "INFO:tensorflow:loss = 2029.734, step = 9601 (12.377 sec)\n",
      "INFO:tensorflow:global_step/sec: 7.98745\n",
      "INFO:tensorflow:loss = 1800.3472, step = 9701 (12.512 sec)\n",
      "INFO:tensorflow:global_step/sec: 7.639\n",
      "INFO:tensorflow:loss = 1439.8379, step = 9801 (13.090 sec)\n",
      "INFO:tensorflow:global_step/sec: 7.58655\n",
      "INFO:tensorflow:loss = 2198.103, step = 9901 (13.182 sec)\n",
      "INFO:tensorflow:Saving checkpoints for 10000 into /tmp/tf_model_04/model.ckpt.\n",
      "INFO:tensorflow:Loss for final step: 1651.1077.\n",
      "INFO:tensorflow:Starting evaluation at 2018-04-06-13:01:58\n",
      "INFO:tensorflow:Restoring parameters from /tmp/tf_model_04/model.ckpt-10000\n",
      "INFO:tensorflow:Finished evaluation at 2018-04-06-13:02:00\n",
      "INFO:tensorflow:Saving dict for global step 10000: average_loss = 1.5448649, global_step = 10000, loss = 1238.2092\n",
      "INFO:tensorflow:Create CheckpointSaverHook.\n",
      "INFO:tensorflow:Restoring parameters from /tmp/tf_model_04/model.ckpt-10000\n",
      "INFO:tensorflow:Saving checkpoints for 10001 into /tmp/tf_model_04/model.ckpt.\n",
      "INFO:tensorflow:loss = 1700.5668, step = 10001\n",
      "INFO:tensorflow:global_step/sec: 8.11925\n",
      "INFO:tensorflow:loss = 1352.7872, step = 10101 (12.317 sec)\n",
      "INFO:tensorflow:global_step/sec: 8.35238\n",
      "INFO:tensorflow:loss = 1841.8704, step = 10201 (11.973 sec)\n",
      "INFO:tensorflow:global_step/sec: 8.02019\n",
      "INFO:tensorflow:loss = 1961.8435, step = 10301 (12.469 sec)\n",
      "INFO:tensorflow:global_step/sec: 8.19591\n",
      "INFO:tensorflow:loss = 2272.2366, step = 10401 (12.200 sec)\n",
      "INFO:tensorflow:Saving checkpoints for 10500 into /tmp/tf_model_04/model.ckpt.\n",
      "INFO:tensorflow:Loss for final step: 1344.6836.\n",
      "INFO:tensorflow:Starting evaluation at 2018-04-06-13:03:17\n",
      "INFO:tensorflow:Restoring parameters from /tmp/tf_model_04/model.ckpt-10500\n",
      "INFO:tensorflow:Finished evaluation at 2018-04-06-13:03:19\n",
      "INFO:tensorflow:Saving dict for global step 10500: average_loss = 1.3622346, global_step = 10500, loss = 1091.831\n",
      "INFO:tensorflow:Create CheckpointSaverHook.\n",
      "INFO:tensorflow:Restoring parameters from /tmp/tf_model_04/model.ckpt-10500\n",
      "INFO:tensorflow:Saving checkpoints for 10501 into /tmp/tf_model_04/model.ckpt.\n",
      "INFO:tensorflow:loss = 1323.8026, step = 10501\n",
      "INFO:tensorflow:global_step/sec: 8.05042\n",
      "INFO:tensorflow:loss = 1328.862, step = 10601 (12.424 sec)\n",
      "INFO:tensorflow:global_step/sec: 8.1041\n",
      "INFO:tensorflow:loss = 2073.3547, step = 10701 (12.340 sec)\n",
      "INFO:tensorflow:global_step/sec: 8.15922\n",
      "INFO:tensorflow:loss = 1392.447, step = 10801 (12.255 sec)\n",
      "INFO:tensorflow:global_step/sec: 8.35162\n",
      "INFO:tensorflow:loss = 1996.6926, step = 10901 (11.974 sec)\n",
      "INFO:tensorflow:Saving checkpoints for 11000 into /tmp/tf_model_04/model.ckpt.\n",
      "INFO:tensorflow:Loss for final step: 2376.7021.\n",
      "INFO:tensorflow:Starting evaluation at 2018-04-06-13:04:37\n",
      "INFO:tensorflow:Restoring parameters from /tmp/tf_model_04/model.ckpt-11000\n",
      "INFO:tensorflow:Finished evaluation at 2018-04-06-13:04:39\n",
      "INFO:tensorflow:Saving dict for global step 11000: average_loss = 2.1432548, global_step = 11000, loss = 1717.8186\n",
      "INFO:tensorflow:Create CheckpointSaverHook.\n",
      "INFO:tensorflow:Restoring parameters from /tmp/tf_model_04/model.ckpt-11000\n",
      "INFO:tensorflow:Saving checkpoints for 11001 into /tmp/tf_model_04/model.ckpt.\n",
      "INFO:tensorflow:loss = 2344.6475, step = 11001\n",
      "INFO:tensorflow:global_step/sec: 8.23651\n",
      "INFO:tensorflow:loss = 1417.6967, step = 11101 (12.142 sec)\n",
      "INFO:tensorflow:global_step/sec: 8.41371\n",
      "INFO:tensorflow:loss = 1811.8378, step = 11201 (11.885 sec)\n",
      "INFO:tensorflow:global_step/sec: 8.49423\n",
      "INFO:tensorflow:loss = 1369.0914, step = 11301 (11.773 sec)\n",
      "INFO:tensorflow:global_step/sec: 8.49034\n",
      "INFO:tensorflow:loss = 1798.2532, step = 11401 (11.778 sec)\n",
      "INFO:tensorflow:Saving checkpoints for 11500 into /tmp/tf_model_04/model.ckpt.\n",
      "INFO:tensorflow:Loss for final step: 1296.729.\n",
      "INFO:tensorflow:Starting evaluation at 2018-04-06-13:05:54\n",
      "INFO:tensorflow:Restoring parameters from /tmp/tf_model_04/model.ckpt-11500\n",
      "INFO:tensorflow:Finished evaluation at 2018-04-06-13:05:56\n",
      "INFO:tensorflow:Saving dict for global step 11500: average_loss = 1.290425, global_step = 11500, loss = 1034.2756\n",
      "INFO:tensorflow:Create CheckpointSaverHook.\n"
     ]
    },
    {
     "name": "stdout",
     "output_type": "stream",
     "text": [
      "INFO:tensorflow:Restoring parameters from /tmp/tf_model_04/model.ckpt-11500\n",
      "INFO:tensorflow:Saving checkpoints for 11501 into /tmp/tf_model_04/model.ckpt.\n",
      "INFO:tensorflow:loss = 1275.2789, step = 11501\n",
      "INFO:tensorflow:global_step/sec: 8.28963\n",
      "INFO:tensorflow:loss = 1369.0142, step = 11601 (12.065 sec)\n",
      "INFO:tensorflow:global_step/sec: 8.34655\n",
      "INFO:tensorflow:loss = 1421.2289, step = 11701 (11.981 sec)\n",
      "INFO:tensorflow:global_step/sec: 8.50093\n",
      "INFO:tensorflow:loss = 1434.7035, step = 11801 (11.763 sec)\n",
      "INFO:tensorflow:global_step/sec: 8.40452\n",
      "INFO:tensorflow:loss = 1882.6561, step = 11901 (11.899 sec)\n",
      "INFO:tensorflow:Saving checkpoints for 12000 into /tmp/tf_model_04/model.ckpt.\n",
      "INFO:tensorflow:Loss for final step: 1343.0526.\n",
      "INFO:tensorflow:Starting evaluation at 2018-04-06-13:07:11\n",
      "INFO:tensorflow:Restoring parameters from /tmp/tf_model_04/model.ckpt-12000\n",
      "INFO:tensorflow:Finished evaluation at 2018-04-06-13:07:13\n",
      "INFO:tensorflow:Saving dict for global step 12000: average_loss = 1.3139489, global_step = 12000, loss = 1053.13\n",
      "INFO:tensorflow:Create CheckpointSaverHook.\n",
      "INFO:tensorflow:Restoring parameters from /tmp/tf_model_04/model.ckpt-12000\n",
      "INFO:tensorflow:Saving checkpoints for 12001 into /tmp/tf_model_04/model.ckpt.\n",
      "INFO:tensorflow:loss = 1379.0342, step = 12001\n",
      "INFO:tensorflow:global_step/sec: 8.40062\n",
      "INFO:tensorflow:loss = 1324.8505, step = 12101 (11.905 sec)\n",
      "INFO:tensorflow:global_step/sec: 8.41644\n",
      "INFO:tensorflow:loss = 1792.3784, step = 12201 (11.881 sec)\n",
      "INFO:tensorflow:global_step/sec: 8.5242\n",
      "INFO:tensorflow:loss = 1818.0409, step = 12301 (11.732 sec)\n",
      "INFO:tensorflow:global_step/sec: 8.4875\n",
      "INFO:tensorflow:loss = 1305.0308, step = 12401 (11.782 sec)\n",
      "INFO:tensorflow:Saving checkpoints for 12500 into /tmp/tf_model_04/model.ckpt.\n",
      "INFO:tensorflow:Loss for final step: 1323.188.\n",
      "INFO:tensorflow:Starting evaluation at 2018-04-06-13:08:27\n",
      "INFO:tensorflow:Restoring parameters from /tmp/tf_model_04/model.ckpt-12500\n",
      "INFO:tensorflow:Finished evaluation at 2018-04-06-13:08:29\n",
      "INFO:tensorflow:Saving dict for global step 12500: average_loss = 1.3046396, global_step = 12500, loss = 1045.6686\n",
      "INFO:tensorflow:Create CheckpointSaverHook.\n",
      "INFO:tensorflow:Restoring parameters from /tmp/tf_model_04/model.ckpt-12500\n",
      "INFO:tensorflow:Saving checkpoints for 12501 into /tmp/tf_model_04/model.ckpt.\n",
      "INFO:tensorflow:loss = 1246.5354, step = 12501\n",
      "INFO:tensorflow:global_step/sec: 8.36354\n",
      "INFO:tensorflow:loss = 2875.2256, step = 12601 (11.958 sec)\n",
      "INFO:tensorflow:global_step/sec: 8.49902\n",
      "INFO:tensorflow:loss = 1201.3813, step = 12701 (11.766 sec)\n",
      "INFO:tensorflow:global_step/sec: 8.52786\n",
      "INFO:tensorflow:loss = 1145.9755, step = 12801 (11.726 sec)\n",
      "INFO:tensorflow:global_step/sec: 8.49543\n",
      "INFO:tensorflow:loss = 1889.5216, step = 12901 (11.771 sec)\n",
      "INFO:tensorflow:Saving checkpoints for 13000 into /tmp/tf_model_04/model.ckpt.\n",
      "INFO:tensorflow:Loss for final step: 1247.8245.\n",
      "INFO:tensorflow:Starting evaluation at 2018-04-06-13:09:43\n",
      "INFO:tensorflow:Restoring parameters from /tmp/tf_model_04/model.ckpt-13000\n",
      "INFO:tensorflow:Finished evaluation at 2018-04-06-13:09:45\n",
      "INFO:tensorflow:Saving dict for global step 13000: average_loss = 1.2043769, global_step = 13000, loss = 965.3081\n",
      "INFO:tensorflow:Create CheckpointSaverHook.\n",
      "INFO:tensorflow:Restoring parameters from /tmp/tf_model_04/model.ckpt-13000\n",
      "INFO:tensorflow:Saving checkpoints for 13001 into /tmp/tf_model_04/model.ckpt.\n",
      "INFO:tensorflow:loss = 1380.7722, step = 13001\n",
      "INFO:tensorflow:global_step/sec: 8.29542\n",
      "INFO:tensorflow:loss = 1480.5128, step = 13101 (12.057 sec)\n",
      "INFO:tensorflow:global_step/sec: 8.4495\n",
      "INFO:tensorflow:loss = 1155.0789, step = 13201 (11.834 sec)\n",
      "INFO:tensorflow:global_step/sec: 8.41359\n",
      "INFO:tensorflow:loss = 1515.1465, step = 13301 (11.886 sec)\n",
      "INFO:tensorflow:global_step/sec: 8.48091\n",
      "INFO:tensorflow:loss = 1997.9666, step = 13401 (11.791 sec)\n",
      "INFO:tensorflow:Saving checkpoints for 13500 into /tmp/tf_model_04/model.ckpt.\n",
      "INFO:tensorflow:Loss for final step: 1275.9241.\n",
      "INFO:tensorflow:Starting evaluation at 2018-04-06-13:11:00\n",
      "INFO:tensorflow:Restoring parameters from /tmp/tf_model_04/model.ckpt-13500\n",
      "INFO:tensorflow:Finished evaluation at 2018-04-06-13:11:02\n",
      "INFO:tensorflow:Saving dict for global step 13500: average_loss = 1.179154, global_step = 13500, loss = 945.0919\n",
      "INFO:tensorflow:Create CheckpointSaverHook.\n",
      "INFO:tensorflow:Restoring parameters from /tmp/tf_model_04/model.ckpt-13500\n",
      "INFO:tensorflow:Saving checkpoints for 13501 into /tmp/tf_model_04/model.ckpt.\n",
      "INFO:tensorflow:loss = 1299.7979, step = 13501\n",
      "INFO:tensorflow:global_step/sec: 8.41167\n",
      "INFO:tensorflow:loss = 1521.7283, step = 13601 (11.890 sec)\n",
      "INFO:tensorflow:global_step/sec: 8.52458\n",
      "INFO:tensorflow:loss = 1576.9601, step = 13701 (11.731 sec)\n",
      "INFO:tensorflow:global_step/sec: 8.4271\n",
      "INFO:tensorflow:loss = 1139.4569, step = 13801 (11.866 sec)\n",
      "INFO:tensorflow:global_step/sec: 8.47796\n",
      "INFO:tensorflow:loss = 1154.7673, step = 13901 (11.795 sec)\n",
      "INFO:tensorflow:Saving checkpoints for 14000 into /tmp/tf_model_04/model.ckpt.\n",
      "INFO:tensorflow:Loss for final step: 2107.6233.\n",
      "INFO:tensorflow:Starting evaluation at 2018-04-06-13:12:16\n",
      "INFO:tensorflow:Restoring parameters from /tmp/tf_model_04/model.ckpt-14000\n",
      "INFO:tensorflow:Finished evaluation at 2018-04-06-13:12:18\n",
      "INFO:tensorflow:Saving dict for global step 14000: average_loss = 2.0927856, global_step = 14000, loss = 1677.3677\n",
      "INFO:tensorflow:Create CheckpointSaverHook.\n",
      "INFO:tensorflow:Restoring parameters from /tmp/tf_model_04/model.ckpt-14000\n",
      "INFO:tensorflow:Saving checkpoints for 14001 into /tmp/tf_model_04/model.ckpt.\n",
      "INFO:tensorflow:loss = 2072.9563, step = 14001\n",
      "INFO:tensorflow:global_step/sec: 8.2218\n",
      "INFO:tensorflow:loss = 1055.9656, step = 14101 (12.166 sec)\n",
      "INFO:tensorflow:global_step/sec: 8.26675\n",
      "INFO:tensorflow:loss = 1693.8958, step = 14201 (12.095 sec)\n",
      "INFO:tensorflow:global_step/sec: 8.22255\n",
      "INFO:tensorflow:loss = 1501.5903, step = 14301 (12.165 sec)\n",
      "INFO:tensorflow:global_step/sec: 8.26035\n",
      "INFO:tensorflow:loss = 1120.012, step = 14401 (12.103 sec)\n",
      "INFO:tensorflow:Saving checkpoints for 14500 into /tmp/tf_model_04/model.ckpt.\n",
      "INFO:tensorflow:Loss for final step: 1919.829.\n",
      "INFO:tensorflow:Starting evaluation at 2018-04-06-13:13:34\n",
      "INFO:tensorflow:Restoring parameters from /tmp/tf_model_04/model.ckpt-14500\n",
      "INFO:tensorflow:Finished evaluation at 2018-04-06-13:13:36\n",
      "INFO:tensorflow:Saving dict for global step 14500: average_loss = 1.8177913, global_step = 14500, loss = 1456.9597\n",
      "INFO:tensorflow:Create CheckpointSaverHook.\n",
      "INFO:tensorflow:Restoring parameters from /tmp/tf_model_04/model.ckpt-14500\n",
      "INFO:tensorflow:Saving checkpoints for 14501 into /tmp/tf_model_04/model.ckpt.\n",
      "INFO:tensorflow:loss = 1928.8685, step = 14501\n",
      "INFO:tensorflow:global_step/sec: 8.19035\n",
      "INFO:tensorflow:loss = 1341.825, step = 14601 (12.211 sec)\n",
      "INFO:tensorflow:global_step/sec: 8.15786\n",
      "INFO:tensorflow:loss = 1431.3647, step = 14701 (12.258 sec)\n",
      "INFO:tensorflow:global_step/sec: 8.36997\n",
      "INFO:tensorflow:loss = 1833.8376, step = 14801 (11.948 sec)\n",
      "INFO:tensorflow:global_step/sec: 8.21716\n",
      "INFO:tensorflow:loss = 1620.5579, step = 14901 (12.172 sec)\n",
      "INFO:tensorflow:Saving checkpoints for 15000 into /tmp/tf_model_04/model.ckpt.\n",
      "INFO:tensorflow:Loss for final step: 1271.429.\n",
      "INFO:tensorflow:Starting evaluation at 2018-04-06-13:14:52\n",
      "INFO:tensorflow:Restoring parameters from /tmp/tf_model_04/model.ckpt-15000\n",
      "INFO:tensorflow:Finished evaluation at 2018-04-06-13:14:54\n",
      "INFO:tensorflow:Saving dict for global step 15000: average_loss = 1.2836825, global_step = 15000, loss = 1028.8715\n",
      "INFO:tensorflow:Create CheckpointSaverHook.\n",
      "INFO:tensorflow:Restoring parameters from /tmp/tf_model_04/model.ckpt-15000\n",
      "INFO:tensorflow:Saving checkpoints for 15001 into /tmp/tf_model_04/model.ckpt.\n",
      "INFO:tensorflow:loss = 1252.0076, step = 15001\n",
      "INFO:tensorflow:global_step/sec: 8.15768\n",
      "INFO:tensorflow:loss = 1431.6963, step = 15101 (12.260 sec)\n",
      "INFO:tensorflow:global_step/sec: 8.27608\n",
      "INFO:tensorflow:loss = 1084.1584, step = 15201 (12.083 sec)\n",
      "INFO:tensorflow:global_step/sec: 8.2357\n",
      "INFO:tensorflow:loss = 1210.192, step = 15301 (12.142 sec)\n",
      "INFO:tensorflow:global_step/sec: 7.98867\n",
      "INFO:tensorflow:loss = 1164.8801, step = 15401 (12.518 sec)\n",
      "INFO:tensorflow:Saving checkpoints for 15500 into /tmp/tf_model_04/model.ckpt.\n"
     ]
    },
    {
     "name": "stdout",
     "output_type": "stream",
     "text": [
      "INFO:tensorflow:Loss for final step: 1322.277.\n",
      "INFO:tensorflow:Starting evaluation at 2018-04-06-13:16:10\n",
      "INFO:tensorflow:Restoring parameters from /tmp/tf_model_04/model.ckpt-15500\n",
      "INFO:tensorflow:Finished evaluation at 2018-04-06-13:16:12\n",
      "INFO:tensorflow:Saving dict for global step 15500: average_loss = 1.3268193, global_step = 15500, loss = 1063.4457\n",
      "INFO:tensorflow:Create CheckpointSaverHook.\n",
      "INFO:tensorflow:Restoring parameters from /tmp/tf_model_04/model.ckpt-15500\n",
      "INFO:tensorflow:Saving checkpoints for 15501 into /tmp/tf_model_04/model.ckpt.\n",
      "INFO:tensorflow:loss = 1436.1771, step = 15501\n",
      "INFO:tensorflow:global_step/sec: 8.42985\n",
      "INFO:tensorflow:loss = 1069.6669, step = 15601 (11.866 sec)\n",
      "INFO:tensorflow:global_step/sec: 8.5231\n",
      "INFO:tensorflow:loss = 1468.1907, step = 15701 (11.733 sec)\n",
      "INFO:tensorflow:global_step/sec: 8.52863\n",
      "INFO:tensorflow:loss = 2131.5718, step = 15801 (11.725 sec)\n",
      "INFO:tensorflow:global_step/sec: 8.51087\n",
      "INFO:tensorflow:loss = 1080.8833, step = 15901 (11.750 sec)\n",
      "INFO:tensorflow:Saving checkpoints for 16000 into /tmp/tf_model_04/model.ckpt.\n",
      "INFO:tensorflow:Loss for final step: 1455.1727.\n",
      "INFO:tensorflow:Starting evaluation at 2018-04-06-13:17:27\n",
      "INFO:tensorflow:Restoring parameters from /tmp/tf_model_04/model.ckpt-16000\n",
      "INFO:tensorflow:Finished evaluation at 2018-04-06-13:17:28\n",
      "INFO:tensorflow:Saving dict for global step 16000: average_loss = 1.3971627, global_step = 16000, loss = 1119.8259\n",
      "INFO:tensorflow:Create CheckpointSaverHook.\n",
      "INFO:tensorflow:Restoring parameters from /tmp/tf_model_04/model.ckpt-16000\n",
      "INFO:tensorflow:Saving checkpoints for 16001 into /tmp/tf_model_04/model.ckpt.\n",
      "INFO:tensorflow:loss = 1407.2847, step = 16001\n",
      "INFO:tensorflow:global_step/sec: 8.10099\n",
      "INFO:tensorflow:loss = 1023.98413, step = 16101 (12.346 sec)\n",
      "INFO:tensorflow:global_step/sec: 8.29644\n",
      "INFO:tensorflow:loss = 2021.8312, step = 16201 (12.053 sec)\n",
      "INFO:tensorflow:global_step/sec: 8.21332\n",
      "INFO:tensorflow:loss = 1218.4796, step = 16301 (12.175 sec)\n",
      "INFO:tensorflow:global_step/sec: 8.14304\n",
      "INFO:tensorflow:loss = 1049.5469, step = 16401 (12.280 sec)\n",
      "INFO:tensorflow:Saving checkpoints for 16500 into /tmp/tf_model_04/model.ckpt.\n",
      "INFO:tensorflow:Loss for final step: 1148.3579.\n",
      "INFO:tensorflow:Starting evaluation at 2018-04-06-13:18:44\n",
      "INFO:tensorflow:Restoring parameters from /tmp/tf_model_04/model.ckpt-16500\n",
      "INFO:tensorflow:Finished evaluation at 2018-04-06-13:18:46\n",
      "INFO:tensorflow:Saving dict for global step 16500: average_loss = 1.0774616, global_step = 16500, loss = 863.5855\n",
      "INFO:tensorflow:Create CheckpointSaverHook.\n",
      "INFO:tensorflow:Restoring parameters from /tmp/tf_model_04/model.ckpt-16500\n",
      "INFO:tensorflow:Saving checkpoints for 16501 into /tmp/tf_model_04/model.ckpt.\n",
      "INFO:tensorflow:loss = 1096.2644, step = 16501\n",
      "INFO:tensorflow:global_step/sec: 8.39297\n",
      "INFO:tensorflow:loss = 1363.1587, step = 16601 (11.917 sec)\n",
      "INFO:tensorflow:global_step/sec: 8.52578\n",
      "INFO:tensorflow:loss = 1117.494, step = 16701 (11.729 sec)\n",
      "INFO:tensorflow:global_step/sec: 8.52321\n",
      "INFO:tensorflow:loss = 1300.3684, step = 16801 (11.732 sec)\n",
      "INFO:tensorflow:global_step/sec: 8.556\n",
      "INFO:tensorflow:loss = 1113.7817, step = 16901 (11.689 sec)\n",
      "INFO:tensorflow:Saving checkpoints for 17000 into /tmp/tf_model_04/model.ckpt.\n",
      "INFO:tensorflow:Loss for final step: 1357.3275.\n",
      "INFO:tensorflow:Starting evaluation at 2018-04-06-13:20:00\n",
      "INFO:tensorflow:Restoring parameters from /tmp/tf_model_04/model.ckpt-17000\n",
      "INFO:tensorflow:Finished evaluation at 2018-04-06-13:20:02\n",
      "INFO:tensorflow:Saving dict for global step 17000: average_loss = 1.2240651, global_step = 17000, loss = 981.0882\n",
      "INFO:tensorflow:Create CheckpointSaverHook.\n",
      "INFO:tensorflow:Restoring parameters from /tmp/tf_model_04/model.ckpt-17000\n",
      "INFO:tensorflow:Saving checkpoints for 17001 into /tmp/tf_model_04/model.ckpt.\n",
      "INFO:tensorflow:loss = 1269.1646, step = 17001\n",
      "INFO:tensorflow:global_step/sec: 8.16873\n",
      "INFO:tensorflow:loss = 2238.3325, step = 17101 (12.243 sec)\n",
      "INFO:tensorflow:global_step/sec: 8.2848\n",
      "INFO:tensorflow:loss = 1046.7246, step = 17201 (12.072 sec)\n",
      "INFO:tensorflow:global_step/sec: 8.23922\n",
      "INFO:tensorflow:loss = 1506.2432, step = 17301 (12.136 sec)\n",
      "INFO:tensorflow:global_step/sec: 8.46215\n",
      "INFO:tensorflow:loss = 1144.5258, step = 17401 (11.818 sec)\n",
      "INFO:tensorflow:Saving checkpoints for 17500 into /tmp/tf_model_04/model.ckpt.\n",
      "INFO:tensorflow:Loss for final step: 1033.1829.\n",
      "INFO:tensorflow:Starting evaluation at 2018-04-06-13:21:18\n",
      "INFO:tensorflow:Restoring parameters from /tmp/tf_model_04/model.ckpt-17500\n",
      "INFO:tensorflow:Finished evaluation at 2018-04-06-13:21:19\n",
      "INFO:tensorflow:Saving dict for global step 17500: average_loss = 1.0444776, global_step = 17500, loss = 837.1488\n",
      "INFO:tensorflow:Create CheckpointSaverHook.\n",
      "INFO:tensorflow:Restoring parameters from /tmp/tf_model_04/model.ckpt-17500\n",
      "INFO:tensorflow:Saving checkpoints for 17501 into /tmp/tf_model_04/model.ckpt.\n",
      "INFO:tensorflow:loss = 999.98535, step = 17501\n",
      "INFO:tensorflow:global_step/sec: 8.27562\n",
      "INFO:tensorflow:loss = 1350.3401, step = 17601 (12.084 sec)\n",
      "INFO:tensorflow:global_step/sec: 8.38556\n",
      "INFO:tensorflow:loss = 977.7607, step = 17701 (11.926 sec)\n",
      "INFO:tensorflow:global_step/sec: 7.91237\n",
      "INFO:tensorflow:loss = 1033.5835, step = 17801 (12.638 sec)\n",
      "INFO:tensorflow:global_step/sec: 8.19047\n",
      "INFO:tensorflow:loss = 1218.7863, step = 17901 (12.209 sec)\n",
      "INFO:tensorflow:Saving checkpoints for 18000 into /tmp/tf_model_04/model.ckpt.\n",
      "INFO:tensorflow:Loss for final step: 1007.64734.\n",
      "INFO:tensorflow:Starting evaluation at 2018-04-06-13:22:36\n",
      "INFO:tensorflow:Restoring parameters from /tmp/tf_model_04/model.ckpt-18000\n",
      "INFO:tensorflow:Finished evaluation at 2018-04-06-13:22:38\n",
      "INFO:tensorflow:Saving dict for global step 18000: average_loss = 0.9655779, global_step = 18000, loss = 773.9107\n",
      "INFO:tensorflow:Create CheckpointSaverHook.\n",
      "INFO:tensorflow:Restoring parameters from /tmp/tf_model_04/model.ckpt-18000\n",
      "INFO:tensorflow:Saving checkpoints for 18001 into /tmp/tf_model_04/model.ckpt.\n",
      "INFO:tensorflow:loss = 990.07666, step = 18001\n",
      "INFO:tensorflow:global_step/sec: 8.24188\n",
      "INFO:tensorflow:loss = 1600.8577, step = 18101 (12.137 sec)\n",
      "INFO:tensorflow:global_step/sec: 8.22665\n",
      "INFO:tensorflow:loss = 1185.687, step = 18201 (12.154 sec)\n",
      "INFO:tensorflow:global_step/sec: 8.29335\n",
      "INFO:tensorflow:loss = 1077.4458, step = 18301 (12.057 sec)\n",
      "INFO:tensorflow:global_step/sec: 8.18813\n",
      "INFO:tensorflow:loss = 1194.114, step = 18401 (12.214 sec)\n",
      "INFO:tensorflow:Saving checkpoints for 18500 into /tmp/tf_model_04/model.ckpt.\n",
      "INFO:tensorflow:Loss for final step: 1030.9845.\n",
      "INFO:tensorflow:Starting evaluation at 2018-04-06-13:23:54\n",
      "INFO:tensorflow:Restoring parameters from /tmp/tf_model_04/model.ckpt-18500\n",
      "INFO:tensorflow:Finished evaluation at 2018-04-06-13:23:56\n",
      "INFO:tensorflow:Saving dict for global step 18500: average_loss = 0.9904758, global_step = 18500, loss = 793.86633\n",
      "INFO:tensorflow:Create CheckpointSaverHook.\n",
      "INFO:tensorflow:Restoring parameters from /tmp/tf_model_04/model.ckpt-18500\n",
      "INFO:tensorflow:Saving checkpoints for 18501 into /tmp/tf_model_04/model.ckpt.\n",
      "INFO:tensorflow:loss = 899.66473, step = 18501\n",
      "INFO:tensorflow:global_step/sec: 7.85753\n",
      "INFO:tensorflow:loss = 929.7615, step = 18601 (12.729 sec)\n",
      "INFO:tensorflow:global_step/sec: 7.99835\n",
      "INFO:tensorflow:loss = 1038.8276, step = 18701 (12.501 sec)\n",
      "INFO:tensorflow:global_step/sec: 8.16754\n",
      "INFO:tensorflow:loss = 1823.3472, step = 18801 (12.246 sec)\n",
      "INFO:tensorflow:global_step/sec: 8.09729\n",
      "INFO:tensorflow:loss = 990.50635, step = 18901 (12.348 sec)\n",
      "INFO:tensorflow:Saving checkpoints for 19000 into /tmp/tf_model_04/model.ckpt.\n",
      "INFO:tensorflow:Loss for final step: 1301.349.\n",
      "INFO:tensorflow:Starting evaluation at 2018-04-06-13:25:15\n",
      "INFO:tensorflow:Restoring parameters from /tmp/tf_model_04/model.ckpt-19000\n",
      "INFO:tensorflow:Finished evaluation at 2018-04-06-13:25:17\n",
      "INFO:tensorflow:Saving dict for global step 19000: average_loss = 1.2853307, global_step = 19000, loss = 1030.1925\n",
      "INFO:tensorflow:Create CheckpointSaverHook.\n",
      "INFO:tensorflow:Restoring parameters from /tmp/tf_model_04/model.ckpt-19000\n",
      "INFO:tensorflow:Saving checkpoints for 19001 into /tmp/tf_model_04/model.ckpt.\n",
      "INFO:tensorflow:loss = 1285.6079, step = 19001\n",
      "INFO:tensorflow:global_step/sec: 7.63199\n"
     ]
    },
    {
     "name": "stdout",
     "output_type": "stream",
     "text": [
      "INFO:tensorflow:loss = 1514.251, step = 19101 (13.105 sec)\n"
     ]
    },
    {
     "ename": "KeyboardInterrupt",
     "evalue": "",
     "output_type": "error",
     "traceback": [
      "\u001b[0;31m---------------------------------------------------------------------------\u001b[0m",
      "\u001b[0;31mKeyboardInterrupt\u001b[0m                         Traceback (most recent call last)",
      "\u001b[0;32m<ipython-input-113-f46d61e6e3ee>\u001b[0m in \u001b[0;36m<module>\u001b[0;34m()\u001b[0m\n\u001b[1;32m      7\u001b[0m         input_fn=wx_input_fn(X_train\n\u001b[1;32m      8\u001b[0m                             ,y_train)\n\u001b[0;32m----> 9\u001b[0;31m         , steps=STEPS)\n\u001b[0m\u001b[1;32m     10\u001b[0m \u001b[0;34m\u001b[0m\u001b[0m\n\u001b[1;32m     11\u001b[0m     evaluations.append(\n",
      "\u001b[0;32m/Users/dedeco/Envs/tensorflow/lib/python2.7/site-packages/tensorflow/python/estimator/estimator.pyc\u001b[0m in \u001b[0;36mtrain\u001b[0;34m(self, input_fn, hooks, steps, max_steps, saving_listeners)\u001b[0m\n\u001b[1;32m    300\u001b[0m \u001b[0;34m\u001b[0m\u001b[0m\n\u001b[1;32m    301\u001b[0m     \u001b[0msaving_listeners\u001b[0m \u001b[0;34m=\u001b[0m \u001b[0m_check_listeners_type\u001b[0m\u001b[0;34m(\u001b[0m\u001b[0msaving_listeners\u001b[0m\u001b[0;34m)\u001b[0m\u001b[0;34m\u001b[0m\u001b[0m\n\u001b[0;32m--> 302\u001b[0;31m     \u001b[0mloss\u001b[0m \u001b[0;34m=\u001b[0m \u001b[0mself\u001b[0m\u001b[0;34m.\u001b[0m\u001b[0m_train_model\u001b[0m\u001b[0;34m(\u001b[0m\u001b[0minput_fn\u001b[0m\u001b[0;34m,\u001b[0m \u001b[0mhooks\u001b[0m\u001b[0;34m,\u001b[0m \u001b[0msaving_listeners\u001b[0m\u001b[0;34m)\u001b[0m\u001b[0;34m\u001b[0m\u001b[0m\n\u001b[0m\u001b[1;32m    303\u001b[0m     \u001b[0mlogging\u001b[0m\u001b[0;34m.\u001b[0m\u001b[0minfo\u001b[0m\u001b[0;34m(\u001b[0m\u001b[0;34m'Loss for final step: %s.'\u001b[0m\u001b[0;34m,\u001b[0m \u001b[0mloss\u001b[0m\u001b[0;34m)\u001b[0m\u001b[0;34m\u001b[0m\u001b[0m\n\u001b[1;32m    304\u001b[0m     \u001b[0;32mreturn\u001b[0m \u001b[0mself\u001b[0m\u001b[0;34m\u001b[0m\u001b[0m\n",
      "\u001b[0;32m/Users/dedeco/Envs/tensorflow/lib/python2.7/site-packages/tensorflow/python/estimator/estimator.pyc\u001b[0m in \u001b[0;36m_train_model\u001b[0;34m(self, input_fn, hooks, saving_listeners)\u001b[0m\n\u001b[1;32m    781\u001b[0m         \u001b[0mloss\u001b[0m \u001b[0;34m=\u001b[0m \u001b[0mNone\u001b[0m\u001b[0;34m\u001b[0m\u001b[0m\n\u001b[1;32m    782\u001b[0m         \u001b[0;32mwhile\u001b[0m \u001b[0;32mnot\u001b[0m \u001b[0mmon_sess\u001b[0m\u001b[0;34m.\u001b[0m\u001b[0mshould_stop\u001b[0m\u001b[0;34m(\u001b[0m\u001b[0;34m)\u001b[0m\u001b[0;34m:\u001b[0m\u001b[0;34m\u001b[0m\u001b[0m\n\u001b[0;32m--> 783\u001b[0;31m           \u001b[0m_\u001b[0m\u001b[0;34m,\u001b[0m \u001b[0mloss\u001b[0m \u001b[0;34m=\u001b[0m \u001b[0mmon_sess\u001b[0m\u001b[0;34m.\u001b[0m\u001b[0mrun\u001b[0m\u001b[0;34m(\u001b[0m\u001b[0;34m[\u001b[0m\u001b[0mestimator_spec\u001b[0m\u001b[0;34m.\u001b[0m\u001b[0mtrain_op\u001b[0m\u001b[0;34m,\u001b[0m \u001b[0mestimator_spec\u001b[0m\u001b[0;34m.\u001b[0m\u001b[0mloss\u001b[0m\u001b[0;34m]\u001b[0m\u001b[0;34m)\u001b[0m\u001b[0;34m\u001b[0m\u001b[0m\n\u001b[0m\u001b[1;32m    784\u001b[0m       \u001b[0;32mreturn\u001b[0m \u001b[0mloss\u001b[0m\u001b[0;34m\u001b[0m\u001b[0m\n\u001b[1;32m    785\u001b[0m \u001b[0;34m\u001b[0m\u001b[0m\n",
      "\u001b[0;32m/Users/dedeco/Envs/tensorflow/lib/python2.7/site-packages/tensorflow/python/training/monitored_session.pyc\u001b[0m in \u001b[0;36mrun\u001b[0;34m(self, fetches, feed_dict, options, run_metadata)\u001b[0m\n\u001b[1;32m    519\u001b[0m                           \u001b[0mfeed_dict\u001b[0m\u001b[0;34m=\u001b[0m\u001b[0mfeed_dict\u001b[0m\u001b[0;34m,\u001b[0m\u001b[0;34m\u001b[0m\u001b[0m\n\u001b[1;32m    520\u001b[0m                           \u001b[0moptions\u001b[0m\u001b[0;34m=\u001b[0m\u001b[0moptions\u001b[0m\u001b[0;34m,\u001b[0m\u001b[0;34m\u001b[0m\u001b[0m\n\u001b[0;32m--> 521\u001b[0;31m                           run_metadata=run_metadata)\n\u001b[0m\u001b[1;32m    522\u001b[0m \u001b[0;34m\u001b[0m\u001b[0m\n\u001b[1;32m    523\u001b[0m   \u001b[0;32mdef\u001b[0m \u001b[0mshould_stop\u001b[0m\u001b[0;34m(\u001b[0m\u001b[0mself\u001b[0m\u001b[0;34m)\u001b[0m\u001b[0;34m:\u001b[0m\u001b[0;34m\u001b[0m\u001b[0m\n",
      "\u001b[0;32m/Users/dedeco/Envs/tensorflow/lib/python2.7/site-packages/tensorflow/python/training/monitored_session.pyc\u001b[0m in \u001b[0;36mrun\u001b[0;34m(self, fetches, feed_dict, options, run_metadata)\u001b[0m\n\u001b[1;32m    890\u001b[0m                               \u001b[0mfeed_dict\u001b[0m\u001b[0;34m=\u001b[0m\u001b[0mfeed_dict\u001b[0m\u001b[0;34m,\u001b[0m\u001b[0;34m\u001b[0m\u001b[0m\n\u001b[1;32m    891\u001b[0m                               \u001b[0moptions\u001b[0m\u001b[0;34m=\u001b[0m\u001b[0moptions\u001b[0m\u001b[0;34m,\u001b[0m\u001b[0;34m\u001b[0m\u001b[0m\n\u001b[0;32m--> 892\u001b[0;31m                               run_metadata=run_metadata)\n\u001b[0m\u001b[1;32m    893\u001b[0m       \u001b[0;32mexcept\u001b[0m \u001b[0m_PREEMPTION_ERRORS\u001b[0m \u001b[0;32mas\u001b[0m \u001b[0me\u001b[0m\u001b[0;34m:\u001b[0m\u001b[0;34m\u001b[0m\u001b[0m\n\u001b[1;32m    894\u001b[0m         logging.info('An error was raised. This may be due to a preemption in '\n",
      "\u001b[0;32m/Users/dedeco/Envs/tensorflow/lib/python2.7/site-packages/tensorflow/python/training/monitored_session.pyc\u001b[0m in \u001b[0;36mrun\u001b[0;34m(self, *args, **kwargs)\u001b[0m\n\u001b[1;32m    950\u001b[0m   \u001b[0;32mdef\u001b[0m \u001b[0mrun\u001b[0m\u001b[0;34m(\u001b[0m\u001b[0mself\u001b[0m\u001b[0;34m,\u001b[0m \u001b[0;34m*\u001b[0m\u001b[0margs\u001b[0m\u001b[0;34m,\u001b[0m \u001b[0;34m**\u001b[0m\u001b[0mkwargs\u001b[0m\u001b[0;34m)\u001b[0m\u001b[0;34m:\u001b[0m\u001b[0;34m\u001b[0m\u001b[0m\n\u001b[1;32m    951\u001b[0m     \u001b[0;32mtry\u001b[0m\u001b[0;34m:\u001b[0m\u001b[0;34m\u001b[0m\u001b[0m\n\u001b[0;32m--> 952\u001b[0;31m       \u001b[0;32mreturn\u001b[0m \u001b[0mself\u001b[0m\u001b[0;34m.\u001b[0m\u001b[0m_sess\u001b[0m\u001b[0;34m.\u001b[0m\u001b[0mrun\u001b[0m\u001b[0;34m(\u001b[0m\u001b[0;34m*\u001b[0m\u001b[0margs\u001b[0m\u001b[0;34m,\u001b[0m \u001b[0;34m**\u001b[0m\u001b[0mkwargs\u001b[0m\u001b[0;34m)\u001b[0m\u001b[0;34m\u001b[0m\u001b[0m\n\u001b[0m\u001b[1;32m    953\u001b[0m     \u001b[0;32mexcept\u001b[0m \u001b[0m_PREEMPTION_ERRORS\u001b[0m\u001b[0;34m:\u001b[0m\u001b[0;34m\u001b[0m\u001b[0m\n\u001b[1;32m    954\u001b[0m       \u001b[0;32mraise\u001b[0m\u001b[0;34m\u001b[0m\u001b[0m\n",
      "\u001b[0;32m/Users/dedeco/Envs/tensorflow/lib/python2.7/site-packages/tensorflow/python/training/monitored_session.pyc\u001b[0m in \u001b[0;36mrun\u001b[0;34m(self, fetches, feed_dict, options, run_metadata)\u001b[0m\n\u001b[1;32m   1022\u001b[0m                                   \u001b[0mfeed_dict\u001b[0m\u001b[0;34m=\u001b[0m\u001b[0mfeed_dict\u001b[0m\u001b[0;34m,\u001b[0m\u001b[0;34m\u001b[0m\u001b[0m\n\u001b[1;32m   1023\u001b[0m                                   \u001b[0moptions\u001b[0m\u001b[0;34m=\u001b[0m\u001b[0moptions\u001b[0m\u001b[0;34m,\u001b[0m\u001b[0;34m\u001b[0m\u001b[0m\n\u001b[0;32m-> 1024\u001b[0;31m                                   run_metadata=run_metadata)\n\u001b[0m\u001b[1;32m   1025\u001b[0m \u001b[0;34m\u001b[0m\u001b[0m\n\u001b[1;32m   1026\u001b[0m     \u001b[0;32mfor\u001b[0m \u001b[0mhook\u001b[0m \u001b[0;32min\u001b[0m \u001b[0mself\u001b[0m\u001b[0;34m.\u001b[0m\u001b[0m_hooks\u001b[0m\u001b[0;34m:\u001b[0m\u001b[0;34m\u001b[0m\u001b[0m\n",
      "\u001b[0;32m/Users/dedeco/Envs/tensorflow/lib/python2.7/site-packages/tensorflow/python/training/monitored_session.pyc\u001b[0m in \u001b[0;36mrun\u001b[0;34m(self, *args, **kwargs)\u001b[0m\n\u001b[1;32m    825\u001b[0m \u001b[0;34m\u001b[0m\u001b[0m\n\u001b[1;32m    826\u001b[0m   \u001b[0;32mdef\u001b[0m \u001b[0mrun\u001b[0m\u001b[0;34m(\u001b[0m\u001b[0mself\u001b[0m\u001b[0;34m,\u001b[0m \u001b[0;34m*\u001b[0m\u001b[0margs\u001b[0m\u001b[0;34m,\u001b[0m \u001b[0;34m**\u001b[0m\u001b[0mkwargs\u001b[0m\u001b[0;34m)\u001b[0m\u001b[0;34m:\u001b[0m\u001b[0;34m\u001b[0m\u001b[0m\n\u001b[0;32m--> 827\u001b[0;31m     \u001b[0;32mreturn\u001b[0m \u001b[0mself\u001b[0m\u001b[0;34m.\u001b[0m\u001b[0m_sess\u001b[0m\u001b[0;34m.\u001b[0m\u001b[0mrun\u001b[0m\u001b[0;34m(\u001b[0m\u001b[0;34m*\u001b[0m\u001b[0margs\u001b[0m\u001b[0;34m,\u001b[0m \u001b[0;34m**\u001b[0m\u001b[0mkwargs\u001b[0m\u001b[0;34m)\u001b[0m\u001b[0;34m\u001b[0m\u001b[0m\n\u001b[0m\u001b[1;32m    828\u001b[0m \u001b[0;34m\u001b[0m\u001b[0m\n\u001b[1;32m    829\u001b[0m \u001b[0;34m\u001b[0m\u001b[0m\n",
      "\u001b[0;32m/Users/dedeco/Envs/tensorflow/lib/python2.7/site-packages/tensorflow/python/client/session.pyc\u001b[0m in \u001b[0;36mrun\u001b[0;34m(self, fetches, feed_dict, options, run_metadata)\u001b[0m\n\u001b[1;32m    887\u001b[0m     \u001b[0;32mtry\u001b[0m\u001b[0;34m:\u001b[0m\u001b[0;34m\u001b[0m\u001b[0m\n\u001b[1;32m    888\u001b[0m       result = self._run(None, fetches, feed_dict, options_ptr,\n\u001b[0;32m--> 889\u001b[0;31m                          run_metadata_ptr)\n\u001b[0m\u001b[1;32m    890\u001b[0m       \u001b[0;32mif\u001b[0m \u001b[0mrun_metadata\u001b[0m\u001b[0;34m:\u001b[0m\u001b[0;34m\u001b[0m\u001b[0m\n\u001b[1;32m    891\u001b[0m         \u001b[0mproto_data\u001b[0m \u001b[0;34m=\u001b[0m \u001b[0mtf_session\u001b[0m\u001b[0;34m.\u001b[0m\u001b[0mTF_GetBuffer\u001b[0m\u001b[0;34m(\u001b[0m\u001b[0mrun_metadata_ptr\u001b[0m\u001b[0;34m)\u001b[0m\u001b[0;34m\u001b[0m\u001b[0m\n",
      "\u001b[0;32m/Users/dedeco/Envs/tensorflow/lib/python2.7/site-packages/tensorflow/python/client/session.pyc\u001b[0m in \u001b[0;36m_run\u001b[0;34m(self, handle, fetches, feed_dict, options, run_metadata)\u001b[0m\n\u001b[1;32m   1118\u001b[0m     \u001b[0;32mif\u001b[0m \u001b[0mfinal_fetches\u001b[0m \u001b[0;32mor\u001b[0m \u001b[0mfinal_targets\u001b[0m \u001b[0;32mor\u001b[0m \u001b[0;34m(\u001b[0m\u001b[0mhandle\u001b[0m \u001b[0;32mand\u001b[0m \u001b[0mfeed_dict_tensor\u001b[0m\u001b[0;34m)\u001b[0m\u001b[0;34m:\u001b[0m\u001b[0;34m\u001b[0m\u001b[0m\n\u001b[1;32m   1119\u001b[0m       results = self._do_run(handle, final_targets, final_fetches,\n\u001b[0;32m-> 1120\u001b[0;31m                              feed_dict_tensor, options, run_metadata)\n\u001b[0m\u001b[1;32m   1121\u001b[0m     \u001b[0;32melse\u001b[0m\u001b[0;34m:\u001b[0m\u001b[0;34m\u001b[0m\u001b[0m\n\u001b[1;32m   1122\u001b[0m       \u001b[0mresults\u001b[0m \u001b[0;34m=\u001b[0m \u001b[0;34m[\u001b[0m\u001b[0;34m]\u001b[0m\u001b[0;34m\u001b[0m\u001b[0m\n",
      "\u001b[0;32m/Users/dedeco/Envs/tensorflow/lib/python2.7/site-packages/tensorflow/python/client/session.pyc\u001b[0m in \u001b[0;36m_do_run\u001b[0;34m(self, handle, target_list, fetch_list, feed_dict, options, run_metadata)\u001b[0m\n\u001b[1;32m   1315\u001b[0m     \u001b[0;32mif\u001b[0m \u001b[0mhandle\u001b[0m \u001b[0;32mis\u001b[0m \u001b[0mNone\u001b[0m\u001b[0;34m:\u001b[0m\u001b[0;34m\u001b[0m\u001b[0m\n\u001b[1;32m   1316\u001b[0m       return self._do_call(_run_fn, self._session, feeds, fetches, targets,\n\u001b[0;32m-> 1317\u001b[0;31m                            options, run_metadata)\n\u001b[0m\u001b[1;32m   1318\u001b[0m     \u001b[0;32melse\u001b[0m\u001b[0;34m:\u001b[0m\u001b[0;34m\u001b[0m\u001b[0m\n\u001b[1;32m   1319\u001b[0m       \u001b[0;32mreturn\u001b[0m \u001b[0mself\u001b[0m\u001b[0;34m.\u001b[0m\u001b[0m_do_call\u001b[0m\u001b[0;34m(\u001b[0m\u001b[0m_prun_fn\u001b[0m\u001b[0;34m,\u001b[0m \u001b[0mself\u001b[0m\u001b[0;34m.\u001b[0m\u001b[0m_session\u001b[0m\u001b[0;34m,\u001b[0m \u001b[0mhandle\u001b[0m\u001b[0;34m,\u001b[0m \u001b[0mfeeds\u001b[0m\u001b[0;34m,\u001b[0m \u001b[0mfetches\u001b[0m\u001b[0;34m)\u001b[0m\u001b[0;34m\u001b[0m\u001b[0m\n",
      "\u001b[0;32m/Users/dedeco/Envs/tensorflow/lib/python2.7/site-packages/tensorflow/python/client/session.pyc\u001b[0m in \u001b[0;36m_do_call\u001b[0;34m(self, fn, *args)\u001b[0m\n\u001b[1;32m   1321\u001b[0m   \u001b[0;32mdef\u001b[0m \u001b[0m_do_call\u001b[0m\u001b[0;34m(\u001b[0m\u001b[0mself\u001b[0m\u001b[0;34m,\u001b[0m \u001b[0mfn\u001b[0m\u001b[0;34m,\u001b[0m \u001b[0;34m*\u001b[0m\u001b[0margs\u001b[0m\u001b[0;34m)\u001b[0m\u001b[0;34m:\u001b[0m\u001b[0;34m\u001b[0m\u001b[0m\n\u001b[1;32m   1322\u001b[0m     \u001b[0;32mtry\u001b[0m\u001b[0;34m:\u001b[0m\u001b[0;34m\u001b[0m\u001b[0m\n\u001b[0;32m-> 1323\u001b[0;31m       \u001b[0;32mreturn\u001b[0m \u001b[0mfn\u001b[0m\u001b[0;34m(\u001b[0m\u001b[0;34m*\u001b[0m\u001b[0margs\u001b[0m\u001b[0;34m)\u001b[0m\u001b[0;34m\u001b[0m\u001b[0m\n\u001b[0m\u001b[1;32m   1324\u001b[0m     \u001b[0;32mexcept\u001b[0m \u001b[0merrors\u001b[0m\u001b[0;34m.\u001b[0m\u001b[0mOpError\u001b[0m \u001b[0;32mas\u001b[0m \u001b[0me\u001b[0m\u001b[0;34m:\u001b[0m\u001b[0;34m\u001b[0m\u001b[0m\n\u001b[1;32m   1325\u001b[0m       \u001b[0mmessage\u001b[0m \u001b[0;34m=\u001b[0m \u001b[0mcompat\u001b[0m\u001b[0;34m.\u001b[0m\u001b[0mas_text\u001b[0m\u001b[0;34m(\u001b[0m\u001b[0me\u001b[0m\u001b[0;34m.\u001b[0m\u001b[0mmessage\u001b[0m\u001b[0;34m)\u001b[0m\u001b[0;34m\u001b[0m\u001b[0m\n",
      "\u001b[0;32m/Users/dedeco/Envs/tensorflow/lib/python2.7/site-packages/tensorflow/python/client/session.pyc\u001b[0m in \u001b[0;36m_run_fn\u001b[0;34m(session, feed_dict, fetch_list, target_list, options, run_metadata)\u001b[0m\n\u001b[1;32m   1300\u001b[0m           return tf_session.TF_Run(session, options,\n\u001b[1;32m   1301\u001b[0m                                    \u001b[0mfeed_dict\u001b[0m\u001b[0;34m,\u001b[0m \u001b[0mfetch_list\u001b[0m\u001b[0;34m,\u001b[0m \u001b[0mtarget_list\u001b[0m\u001b[0;34m,\u001b[0m\u001b[0;34m\u001b[0m\u001b[0m\n\u001b[0;32m-> 1302\u001b[0;31m                                    status, run_metadata)\n\u001b[0m\u001b[1;32m   1303\u001b[0m \u001b[0;34m\u001b[0m\u001b[0m\n\u001b[1;32m   1304\u001b[0m     \u001b[0;32mdef\u001b[0m \u001b[0m_prun_fn\u001b[0m\u001b[0;34m(\u001b[0m\u001b[0msession\u001b[0m\u001b[0;34m,\u001b[0m \u001b[0mhandle\u001b[0m\u001b[0;34m,\u001b[0m \u001b[0mfeed_dict\u001b[0m\u001b[0;34m,\u001b[0m \u001b[0mfetch_list\u001b[0m\u001b[0;34m)\u001b[0m\u001b[0;34m:\u001b[0m\u001b[0;34m\u001b[0m\u001b[0m\n",
      "\u001b[0;31mKeyboardInterrupt\u001b[0m: "
     ]
    }
   ],
   "source": [
    "evaluations = []  \n",
    "STEPS = 500  \n",
    "\n",
    "for i in range(1, up):\n",
    "    \n",
    "    regressor.train(\n",
    "        input_fn=wx_input_fn(X_train\n",
    "                            ,y_train)\n",
    "        , steps=STEPS)\n",
    "    \n",
    "    evaluations.append(\n",
    "        regressor.evaluate(input_fn=wx_input_fn(X_val\n",
    "                                                ,y_val\n",
    "                                                ,num_epochs=1\n",
    "                                                ,shuffle=False)))"
   ]
  },
  {
   "cell_type": "code",
   "execution_count": 114,
   "metadata": {},
   "outputs": [
    {
     "data": {
      "image/png": "[encoded data removed]",
      "text/plain": [
       "<matplotlib.figure.Figure at 0x11f113b50>"
      ]
     },
     "metadata": {},
     "output_type": "display_data"
    }
   ],
   "source": [
    "import matplotlib.pyplot as plt  \n",
    "%matplotlib inline\n",
    "\n",
    "plt.rcParams['figure.figsize'] = [15, 10]\n",
    "\n",
    "loss_values = [ev['loss'] for ev in evaluations]  \n",
    "training_steps = [ev['global_step'] for ev in evaluations]\n",
    "\n",
    "plt.scatter(x=training_steps, y=loss_values)  \n",
    "plt.xlabel('Training steps')  \n",
    "plt.ylabel('Loss (SSE)')  \n",
    "plt.show()  "
   ]
  },
  {
   "cell_type": "code",
   "execution_count": 115,
   "metadata": {},
   "outputs": [
    {
     "name": "stdout",
     "output_type": "stream",
     "text": [
      "INFO:tensorflow:Restoring parameters from /tmp/tf_model_04/model.ckpt-19001\n"
     ]
    }
   ],
   "source": [
    "pred = regressor.predict(input_fn=wx_input_fn(X_test,  \n",
    "                                              num_epochs=1,\n",
    "                                              shuffle=False))\n",
    "\n",
    "predictions = np.array([p['predictions'][0] for p in pred])"
   ]
  },
  {
   "cell_type": "code",
   "execution_count": 116,
   "metadata": {},
   "outputs": [
    {
     "name": "stdout",
     "output_type": "stream",
     "text": [
      "The Explained Variance: 0.93\n",
      "The Mean Absolute Error: 0.87 \n",
      "The Median Absolute Error: 0.73 \n"
     ]
    }
   ],
   "source": [
    "\n",
    "print(\"The Explained Variance: %.2f\" % explained_variance_score(  \n",
    "                                            y_test, predictions))  \n",
    "print(\"The Mean Absolute Error: %.2f \" % mean_absolute_error(  \n",
    "                                            y_test, predictions))  \n",
    "print(\"The Median Absolute Error: %.2f \" % median_absolute_error(  \n",
    "                                            y_test, predictions))"
   ]
  },
  {
   "cell_type": "code",
   "execution_count": 117,
   "metadata": {},
   "outputs": [
    {
     "data": {
      "text/plain": [
       "array([26.373394, 22.605726, 29.555151, ..., 19.514414, 23.440613,\n",
       "       22.681004], dtype=float32)"
      ]
     },
     "execution_count": 117,
     "metadata": {},
     "output_type": "execute_result"
    }
   ],
   "source": [
    "predictions"
   ]
  },
  {
   "cell_type": "code",
   "execution_count": 118,
   "metadata": {},
   "outputs": [
    {
     "data": {
      "text/plain": [
       "6412"
      ]
     },
     "execution_count": 118,
     "metadata": {},
     "output_type": "execute_result"
    }
   ],
   "source": [
    "predictions.size"
   ]
  },
  {
   "cell_type": "code",
   "execution_count": 119,
   "metadata": {},
   "outputs": [
    {
     "data": {
      "image/png": "[encoded data removed]",
      "text/plain": [
       "<matplotlib.figure.Figure at 0x11f01f250>"
      ]
     },
     "metadata": {},
     "output_type": "display_data"
    }
   ],
   "source": [
    "fig, ax = plt.subplots()\n",
    "ax.scatter(y_test, predictions, edgecolors=(0, 0, 0))\n",
    "ax.plot([y_test.min(), y_test.max()], [y_test.min(), y_test.max()], 'k--', lw=1)\n",
    "ax.set_xlabel('Measured')\n",
    "ax.set_ylabel('Predicted')\n",
    "plt.show()"
   ]
  }
 ],
 "metadata": {
  "kernelspec": {
   "display_name": "Python 2",
   "language": "python",
   "name": "python2"
  },
  "language_info": {
   "codemirror_mode": {
    "name": "ipython",
    "version": 2
   },
   "file_extension": ".py",
   "mimetype": "text/x-python",
   "name": "python",
   "nbconvert_exporter": "python",
   "pygments_lexer": "ipython2",
   "version": "2.7.13"
  }
 },
 "nbformat": 4,
 "nbformat_minor": 2
}
